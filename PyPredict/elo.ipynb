{
 "cells": [
  {
   "cell_type": "code",
   "execution_count": 2,
   "id": "initial_id",
   "metadata": {
    "collapsed": true,
    "ExecuteTime": {
     "end_time": "2024-02-26T09:24:56.738236443Z",
     "start_time": "2024-02-26T09:24:56.717525581Z"
    }
   },
   "outputs": [],
   "source": [
    "import torch\n",
    "\n",
    "from data_management.data_acquisition import DataAcquisition\n",
    "from data_management.data_transformation import DataTransformation\n",
    "from data_management import FROM_CSV\n",
    "import pandas as pd\n",
    "from datetime import timedelta\n",
    "from datetime import datetime\n",
    "from models.ratings import EloGrad, EloManual, EloAutoGrad\n",
    "import numpy as np"
   ]
  },
  {
   "cell_type": "code",
   "outputs": [
    {
     "name": "stderr",
     "output_type": "stream",
     "text": [
      "2024-02-26 10:24:58.444 | INFO     | data_management._data_saving_loading:load_data_csv:70 - 21100 rows loaded from ../resources/other_leagues.csv\n"
     ]
    }
   ],
   "source": [
    "da = DataAcquisition()\n",
    "df = da.get_data(FROM_CSV, fname=\"../resources/other_leagues.csv\")\n",
    "df['DT'] = pd.to_datetime(df['DT'], format=\"%Y-%m-%d %H:%M:%S\")\n",
    "data_transform = DataTransformation(df, timedelta(365))\n",
    "df = df[(df['League'] != 'EuroLeague') & (df['League'] != 'EuroCup')] \n",
    "df = df.reset_index()\n",
    "\n",
    "transform = DataTransformation(df, timedelta(365))\n",
    "dataset = transform.get_dataset(node_f_extract=False, edge_f_one_hot=True)\n",
    "\n",
    "team_count = transform.num_teams"
   ],
   "metadata": {
    "collapsed": false,
    "ExecuteTime": {
     "end_time": "2024-02-26T09:24:59.096806060Z",
     "start_time": "2024-02-26T09:24:58.387401973Z"
    }
   },
   "id": "3f2344072c85b02a",
   "execution_count": 3
  },
  {
   "cell_type": "markdown",
   "source": [
    "### Manual Elo with NN pass"
   ],
   "metadata": {
    "collapsed": false
   },
   "id": "276b160d472eee9e"
  },
  {
   "cell_type": "code",
   "outputs": [
    {
     "name": "stdout",
     "output_type": "stream",
     "text": [
      "Computed elo Dummy:  (array([1450.41466185,  783.32864878,  766.25668937]), [0.5, 0.4597135195287363, 0.47177715569548395, 0.5421467296792649, 0.39493208333191193, 0.5532294506957484, 0.5379443202146263, 0.5865272540941598, 0.36183188188500987, 0.6768094454034466, 0.3183888246975012, 0.31720839917433186], [((1000.0, 1000.0), (1073.5, 926.5)), ((926.5, 1000.0), (904.4337510626207, 1022.0662489373793)), ((1022.0662489373793, 1073.5), (1009.3282657336013, 1086.237983203778)), ((1086.237983203778, 1009.3282657336013), (1098.6000215024378, 996.9662274349414)), ((904.4337510626207, 1098.6000215024378), (899.6945660626377, 1103.3392065024207)), ((996.9662274349414, 899.6945660626377), (862.5314709158746, 1034.1293225817046)), ((1103.3392065024207, 1034.1293225817046), (1115.8147098566258, 1021.6538192274995)), ((1021.6538192274995, 862.5314709158746), (1026.6154921783695, 857.5697979650045)), ((857.5697979650045, 1115.8147098566258), (818.4919547214234, 1154.892553100207)), ((1154.892553100207, 818.4919547214234), (1373.0461774528806, 600.3383303687499)), ((1026.6154921783695, 1373.0461774528806), (949.2470077768768, 1450.4146618543734)), ((600.3383303687499, 949.2470077768768), (766.2566893693872, 783.3286487762394))])\n",
      "[TRN]  Epoch: 0, training loss: 2.543, training accuracy: 16.67% \n",
      "ratings (first 5): [1450.41466185  783.32864878  766.25668937]\n",
      "\n",
      "----------------------------------------\n",
      "[TRN]  Epoch: 0, training loss: 6166.810, training accuracy: 47.83% \n",
      "ratings (first 5): [1379.68811002 2976.96673204  384.48140654  571.4696702  1309.88250176]\n",
      "0:: computed:   1379.688 || net:   1379.688\n",
      "1:: computed:   2976.967 || net:   2976.967\n",
      "2:: computed:    384.481 || net:    384.481\n",
      "3:: computed:    571.470 || net:    571.470\n",
      "4:: computed:   1309.883 || net:   1309.883\n",
      "...\n",
      "SUCCESS: Computed elo is the same as Elo from NN\n"
     ]
    }
   ],
   "source": [
    "# dummy dataset\n",
    "\n",
    "delta = timedelta(days=365)\n",
    "delta2 = timedelta(days=366)\n",
    "now = datetime.now()\n",
    "data = pd.DataFrame({'DT': [*(3 * [now]), *(3 * [now - delta2]), *(3 * [now - 2 * delta2]), *(3 * [now - 3 * delta2])], \n",
    "                     'Home': ['A', 'B', 'C', 'A', 'B', 'C', 'A', 'B', 'C', 'A', 'B', 'C'],\n",
    "                     'Away': ['B', 'C', 'A', 'C', 'A', 'B', 'B', 'C', 'A', 'C', 'A', 'B'],\n",
    "                     'Winner': ['home', 'away', 'away', 'home', 'away', 'away', 'home', 'home', 'away', 'home', 'away', 'home'],\n",
    "                     'Home_points': [10, 5, 15, 12, 15, 6, 20, 10, 10, 14, 3, 12],\n",
    "                     'Away_points': [4, 8, 17, 10, 16, 14, 18, 9, 15, 0, 11, 4],\n",
    "                     'League': [*(12 * ['liga'])],\n",
    "                     })\n",
    "\n",
    "transform2 = DataTransformation(data, timedelta(days=365))\n",
    "dts = transform2.get_dataset(edge_f_one_hot=True)\n",
    "\n",
    "def train_elo_manual(train_dataset, model, epochs: int = 100, verbose: bool = False):\n",
    "    torch.set_printoptions(precision=8) \n",
    "    training_accuracy = []\n",
    "    loss_fn = torch.nn.MSELoss\n",
    "    \n",
    "    E_HS = []\n",
    "    elos = []\n",
    "    pts = []\n",
    "    \n",
    "    for epoch in range(epochs):\n",
    "        model.train()\n",
    "        accuracy, loss, count = 0, 0, 0\n",
    "        iter = 0\n",
    "        for time, snapshot in enumerate(train_dataset):\n",
    "            # pass through network has to be only one by one in order to compute elo correctly\n",
    "            matches = snapshot.edge_index\n",
    "            match_points = snapshot.match_points\n",
    "            for m in range(matches.shape[1]):\n",
    "                match = matches[:, m]\n",
    "                \n",
    "                y_hat = model(match)\n",
    "                y = snapshot.edge_attr[m, :]  # edge weight encodes the match outcome\n",
    "                \n",
    "                E_HS.append(y_hat)\n",
    "                \n",
    "                elos_b4 = (model.rating[model.home], model.rating[model.away])\n",
    "                  \n",
    "                target = torch.argmax(y) / 2.\n",
    "                target = target.detach()\n",
    "                prediction = y_hat\n",
    "                accuracy += 1 if abs(target - prediction) < 0.33 else 0\n",
    "    \n",
    "                loss += torch.mean((prediction-target)**2)\n",
    "                \n",
    "                point_diff = torch.abs(match_points[m, 0] - match_points[m, 1]).detach()\n",
    "                result = [target, point_diff]\n",
    "                \n",
    "                model.backward(result)\n",
    "                \n",
    "                elos.append((elos_b4, (model.rating[model.home], model.rating[model.away])))\n",
    "                pts.append(((match_points[m, 0], match_points[m, 1]), (model.home, model.away)))\n",
    "                \n",
    "                # if verbose:\n",
    "                #    rating = model.rating[:5] if len(model.rating) >= 5 else model.rating\n",
    "                #    print(f\"Neuralnet {iter}, rating: {rating}, E_H = {y_hat}; {target}\")\n",
    "                iter += 1\n",
    "                \n",
    "            count += matches.shape[1]\n",
    "\n",
    "        if verbose:\n",
    "            rating = model.rating[:5] if len(model.rating) >= 5 else model.rating\n",
    "            print(f'[TRN] '\n",
    "                  f' Epoch: {epoch}, training loss: {loss:.3f}, '\n",
    "                        f'training accuracy: {accuracy/count * 100:.2f}% \\n'\n",
    "                        f'ratings (first 5): {rating}')\n",
    "        training_accuracy.append(accuracy/count * 100)\n",
    "    \n",
    "    return np.array(training_accuracy), E_HS, elos, pts\n",
    "\n",
    "\n",
    "def compute_elo(matches: pd.DataFrame, mapping, elo_base: int = 1000, gamma: float = 2, c: float = 3, d: float = 500, k: float = 3, verbose: bool = False):\n",
    "    elo = np.zeros((len(mapping), )) + elo_base\n",
    "    E_HS = []\n",
    "    elos = []\n",
    "    for i in range(len(matches.index)):\n",
    "        match_i = matches.iloc[i]\n",
    "        h_i = mapping[match_i['Home']]\n",
    "        a_i = mapping[match_i['Away']]\n",
    "        \n",
    "        E_h = 1 / (1 + np.power(c, ((elo[a_i] - elo[h_i]) / d)))\n",
    "        S_h = 1. if match_i['Winner'] == 'home' else 0. if match_i['Winner'] == 'away' else 1/2\n",
    "        \n",
    "        E_HS.append(E_h)\n",
    "        \n",
    "        elos_b4 = (elo[h_i], elo[a_i])\n",
    "        \n",
    "        h_points = match_i['Home_points']\n",
    "        a_points = match_i['Away_points']\n",
    "        \n",
    "        delta = abs(h_points - a_points)\n",
    "        update = k * ((1 + delta)**gamma) * (S_h - E_h)\n",
    "        \n",
    "        elo[h_i] += update\n",
    "        elo[a_i] -= update\n",
    "        \n",
    "        elos.append((elos_b4, (elo[h_i], elo[a_i])))\n",
    "        \n",
    "        if verbose:\n",
    "            print(f\"iteration {i}, rating: {elo}, E_H = {E_h}; {S_h}\")\n",
    "    return np.array(elo), E_HS, elos\n",
    "    \n",
    "    \n",
    "print('Computed elo Dummy: ', compute_elo(data, transform2.team_mapping, verbose=False))\n",
    "eloDummy = EloManual(team_count=transform2.num_teams)\n",
    "acc_dummy = train_elo_manual(dts, eloDummy, 1, True)\n",
    "\n",
    "print()\n",
    "print('----------------------------------------')\n",
    "print()\n",
    "computed, E_HS_comp, elos_comp = compute_elo(df, transform.team_mapping, 1000, 2., 3., 500., 3.)\n",
    "\n",
    "print()\n",
    "elo = EloManual(team_count=transform.num_teams)\n",
    "acc_late, E_HS_net, elos_net, pts = train_elo_manual(dataset, elo, 1, True)\n",
    "\n",
    "err = False\n",
    "for i in range(len(computed)):\n",
    "    cmp = computed[transform.team_mapping[transform.inv_team_mapping[i]]]\n",
    "    net = elo.rating[transform.team_mapping[transform.inv_team_mapping[i]]]\n",
    "    if cmp - net > 0.1:\n",
    "        print(rf'ERROR on index {i}:: {cmp} / {net}')\n",
    "        err = True\n",
    "    if i < 5:\n",
    "        print(f'{i}:: computed: {cmp:10.3f} || net: {net:10.3f}')\n",
    "if not err:\n",
    "    print(\"...\")\n",
    "    print(\"SUCCESS: Computed elo is the same as Elo from NN\")\n",
    "\n",
    "print_diff = False\n",
    "if print_diff: \n",
    "    inv_map = {v: k for k, v in transform.team_mapping.items()}\n",
    "    for i in range(len(E_HS_net)):\n",
    "        eq = E_HS_net[i] == E_HS_comp[i]\n",
    "        \n",
    "        str_i = f'{i}:: net: {E_HS_net[i]:2.2f}, comp: {E_HS_comp[i]:2.2f};;; elo net / comp: {elos_net[i][1][0]:10.2f} / {elos_comp[i][1][0]:10.2f} :: {elos_net[i][1][1]:10.2f} / {elos_comp[i][1][1]:10.2f}'\n",
    "        \n",
    "        print(str_i if eq else '----------> ' + str_i + f''' {df.iloc[i][\"Home\"]}  home_pts: {df.iloc[i][\"Home_points\"]}, {df.iloc[i][\"Away\"]}  away_pts: {df.iloc[i][\"Away_points\"]};;;;;;;;; pts net: {pts[i][0][0]}, {pts[i][0][1]}''')\n",
    "        if not eq:\n",
    "            print(f'elo before: {elos_net[i][0][0]:10.2f} / {elos_comp[i][0][0]:10.2f} :: {elos_net[i][0][1]:10.2f} / {elos_comp[i][0][1]:10.2f}')\n",
    "            print(f'Teams: home {inv_map[int(pts[i][1][0])]} away {inv_map[int(pts[i][1][1])]}')\n",
    "            break \n"
   ],
   "metadata": {
    "collapsed": false,
    "ExecuteTime": {
     "end_time": "2024-02-26T09:25:07.613539646Z",
     "start_time": "2024-02-26T09:25:00.998467981Z"
    }
   },
   "id": "cb9e0fcfcaff27c1",
   "execution_count": 4
  },
  {
   "cell_type": "markdown",
   "source": [
    "### Elo with gradient\n",
    "\n",
    "first lets check our analytical backward pass"
   ],
   "metadata": {
    "collapsed": false
   },
   "id": "6abcdc6410c9c184"
  },
  {
   "cell_type": "code",
   "outputs": [
    {
     "name": "stdout",
     "output_type": "stream",
     "text": [
      "True\n"
     ]
    }
   ],
   "source": [
    "from torch.autograd import gradcheck\n",
    "from models.ratings._elo._grad import elo_function\n",
    "# gradcheck takes a tuple of tensors as input, check if your gradient\n",
    "# evaluated with these tensors are close enough to numerical\n",
    "# approximations and returns True if they all verify this condition.\n",
    "input = (torch.randn(1,dtype=torch.double,requires_grad=True), torch.randn(1,dtype=torch.double,requires_grad=True), torch.randn(1,dtype=torch.double,requires_grad=True), torch.randn(1,dtype=torch.double,requires_grad=True))\n",
    "test = gradcheck(elo_function, input, eps=1e-6, atol=1e-4)\n",
    "print(test)"
   ],
   "metadata": {
    "collapsed": false,
    "ExecuteTime": {
     "end_time": "2024-02-26T09:25:11.253704339Z",
     "start_time": "2024-02-26T09:25:11.146270707Z"
    }
   },
   "id": "e529d2fd8f249cab",
   "execution_count": 6
  },
  {
   "cell_type": "markdown",
   "source": [],
   "metadata": {
    "collapsed": false
   },
   "id": "f3b0055d77e99df4"
  },
  {
   "cell_type": "code",
   "outputs": [
    {
     "ename": "RuntimeError",
     "evalue": "element 0 of tensors does not require grad and does not have a grad_fn",
     "output_type": "error",
     "traceback": [
      "\u001B[0;31m---------------------------------------------------------------------------\u001B[0m",
      "\u001B[0;31mRuntimeError\u001B[0m                              Traceback (most recent call last)",
      "Cell \u001B[0;32mIn[10], line 62\u001B[0m\n\u001B[1;32m     59\u001B[0m     \u001B[38;5;28;01mreturn\u001B[39;00m np\u001B[38;5;241m.\u001B[39marray(training_accuracy), E_HS, elos, pts\n\u001B[1;32m     61\u001B[0m elo_grad \u001B[38;5;241m=\u001B[39m EloGrad(team_count, cd_grad\u001B[38;5;241m=\u001B[39m\u001B[38;5;28;01mFalse\u001B[39;00m)\n\u001B[0;32m---> 62\u001B[0m acc_grad, ehs_grad, elos_grad, pts_grad \u001B[38;5;241m=\u001B[39m \u001B[43mtrain_elo_grad\u001B[49m\u001B[43m(\u001B[49m\u001B[43mdataset\u001B[49m\u001B[43m,\u001B[49m\u001B[43m \u001B[49m\u001B[43melo_grad\u001B[49m\u001B[43m)\u001B[49m\n",
      "Cell \u001B[0;32mIn[10], line 39\u001B[0m, in \u001B[0;36mtrain_elo_grad\u001B[0;34m(train_dataset, model, epochs, verbose)\u001B[0m\n\u001B[1;32m     36\u001B[0m point_diff \u001B[38;5;241m=\u001B[39m torch\u001B[38;5;241m.\u001B[39mabs(match_points[m, \u001B[38;5;241m0\u001B[39m] \u001B[38;5;241m-\u001B[39m match_points[m, \u001B[38;5;241m1\u001B[39m])\u001B[38;5;241m.\u001B[39mdetach()\n\u001B[1;32m     37\u001B[0m loss \u001B[38;5;241m=\u001B[39m loss_fn(y, y_hat, point_diff)\n\u001B[0;32m---> 39\u001B[0m \u001B[43mloss\u001B[49m\u001B[38;5;241;43m.\u001B[39;49m\u001B[43mbackward\u001B[49m\u001B[43m(\u001B[49m\u001B[43m)\u001B[49m\n\u001B[1;32m     41\u001B[0m elos\u001B[38;5;241m.\u001B[39mappend((elos_b4, (model\u001B[38;5;241m.\u001B[39mrating[model\u001B[38;5;241m.\u001B[39mhome], model\u001B[38;5;241m.\u001B[39mrating[model\u001B[38;5;241m.\u001B[39maway])))\n\u001B[1;32m     42\u001B[0m pts\u001B[38;5;241m.\u001B[39mappend(((match_points[m, \u001B[38;5;241m0\u001B[39m], match_points[m, \u001B[38;5;241m1\u001B[39m]), (model\u001B[38;5;241m.\u001B[39mhome, model\u001B[38;5;241m.\u001B[39maway)))\n",
      "File \u001B[0;32m~/anaconda3/envs/bp/lib/python3.11/site-packages/torch/_tensor.py:492\u001B[0m, in \u001B[0;36mTensor.backward\u001B[0;34m(self, gradient, retain_graph, create_graph, inputs)\u001B[0m\n\u001B[1;32m    482\u001B[0m \u001B[38;5;28;01mif\u001B[39;00m has_torch_function_unary(\u001B[38;5;28mself\u001B[39m):\n\u001B[1;32m    483\u001B[0m     \u001B[38;5;28;01mreturn\u001B[39;00m handle_torch_function(\n\u001B[1;32m    484\u001B[0m         Tensor\u001B[38;5;241m.\u001B[39mbackward,\n\u001B[1;32m    485\u001B[0m         (\u001B[38;5;28mself\u001B[39m,),\n\u001B[0;32m   (...)\u001B[0m\n\u001B[1;32m    490\u001B[0m         inputs\u001B[38;5;241m=\u001B[39minputs,\n\u001B[1;32m    491\u001B[0m     )\n\u001B[0;32m--> 492\u001B[0m \u001B[43mtorch\u001B[49m\u001B[38;5;241;43m.\u001B[39;49m\u001B[43mautograd\u001B[49m\u001B[38;5;241;43m.\u001B[39;49m\u001B[43mbackward\u001B[49m\u001B[43m(\u001B[49m\n\u001B[1;32m    493\u001B[0m \u001B[43m    \u001B[49m\u001B[38;5;28;43mself\u001B[39;49m\u001B[43m,\u001B[49m\u001B[43m \u001B[49m\u001B[43mgradient\u001B[49m\u001B[43m,\u001B[49m\u001B[43m \u001B[49m\u001B[43mretain_graph\u001B[49m\u001B[43m,\u001B[49m\u001B[43m \u001B[49m\u001B[43mcreate_graph\u001B[49m\u001B[43m,\u001B[49m\u001B[43m \u001B[49m\u001B[43minputs\u001B[49m\u001B[38;5;241;43m=\u001B[39;49m\u001B[43minputs\u001B[49m\n\u001B[1;32m    494\u001B[0m \u001B[43m\u001B[49m\u001B[43m)\u001B[49m\n",
      "File \u001B[0;32m~/anaconda3/envs/bp/lib/python3.11/site-packages/torch/autograd/__init__.py:251\u001B[0m, in \u001B[0;36mbackward\u001B[0;34m(tensors, grad_tensors, retain_graph, create_graph, grad_variables, inputs)\u001B[0m\n\u001B[1;32m    246\u001B[0m     retain_graph \u001B[38;5;241m=\u001B[39m create_graph\n\u001B[1;32m    248\u001B[0m \u001B[38;5;66;03m# The reason we repeat the same comment below is that\u001B[39;00m\n\u001B[1;32m    249\u001B[0m \u001B[38;5;66;03m# some Python versions print out the first line of a multi-line function\u001B[39;00m\n\u001B[1;32m    250\u001B[0m \u001B[38;5;66;03m# calls in the traceback and some print out the last line\u001B[39;00m\n\u001B[0;32m--> 251\u001B[0m \u001B[43mVariable\u001B[49m\u001B[38;5;241;43m.\u001B[39;49m\u001B[43m_execution_engine\u001B[49m\u001B[38;5;241;43m.\u001B[39;49m\u001B[43mrun_backward\u001B[49m\u001B[43m(\u001B[49m\u001B[43m  \u001B[49m\u001B[38;5;66;43;03m# Calls into the C++ engine to run the backward pass\u001B[39;49;00m\n\u001B[1;32m    252\u001B[0m \u001B[43m    \u001B[49m\u001B[43mtensors\u001B[49m\u001B[43m,\u001B[49m\n\u001B[1;32m    253\u001B[0m \u001B[43m    \u001B[49m\u001B[43mgrad_tensors_\u001B[49m\u001B[43m,\u001B[49m\n\u001B[1;32m    254\u001B[0m \u001B[43m    \u001B[49m\u001B[43mretain_graph\u001B[49m\u001B[43m,\u001B[49m\n\u001B[1;32m    255\u001B[0m \u001B[43m    \u001B[49m\u001B[43mcreate_graph\u001B[49m\u001B[43m,\u001B[49m\n\u001B[1;32m    256\u001B[0m \u001B[43m    \u001B[49m\u001B[43minputs\u001B[49m\u001B[43m,\u001B[49m\n\u001B[1;32m    257\u001B[0m \u001B[43m    \u001B[49m\u001B[43mallow_unreachable\u001B[49m\u001B[38;5;241;43m=\u001B[39;49m\u001B[38;5;28;43;01mTrue\u001B[39;49;00m\u001B[43m,\u001B[49m\n\u001B[1;32m    258\u001B[0m \u001B[43m    \u001B[49m\u001B[43maccumulate_grad\u001B[49m\u001B[38;5;241;43m=\u001B[39;49m\u001B[38;5;28;43;01mTrue\u001B[39;49;00m\u001B[43m,\u001B[49m\n\u001B[1;32m    259\u001B[0m \u001B[43m\u001B[49m\u001B[43m)\u001B[49m\n",
      "\u001B[0;31mRuntimeError\u001B[0m: element 0 of tensors does not require grad and does not have a grad_fn"
     ]
    }
   ],
   "source": [
    "def weighted_MSE_loss(gamma, delta, y, y_hat):\n",
    "    return torch.pow(1 + delta, gamma) * torch.pow(y - y_hat, 2)\n",
    "\n",
    "def train_elo_grad(train_dataset, model, epochs: int = 1, verbose: bool = False):\n",
    "    torch.set_printoptions(precision=8) \n",
    "    training_accuracy = []\n",
    "    loss_fn = lambda y, y_hat, delta: weighted_MSE_loss(2., delta, y, y_hat)\n",
    "    \n",
    "    E_HS = []\n",
    "    elos = []\n",
    "    pts = []\n",
    "    \n",
    "    for epoch in range(epochs):\n",
    "        model.train()\n",
    "        accuracy, loss, count = 0, 0, 0\n",
    "        iter = 0\n",
    "        for time, snapshot in enumerate(train_dataset):\n",
    "            # pass through network has to be only one by one in order to compute elo correctly\n",
    "            matches = snapshot.edge_index\n",
    "            match_points = snapshot.match_points\n",
    "            for m in range(matches.shape[1]):\n",
    "                match = matches[:, m]\n",
    "                \n",
    "                y_hat = model(match)\n",
    "                y = snapshot.edge_attr[m, :]  # edge weight encodes the match outcome\n",
    "                \n",
    "                E_HS.append(y_hat)\n",
    "                \n",
    "                elos_b4 = (model.rating[model.home], model.rating[model.away])\n",
    "                  \n",
    "                target = torch.argmax(y) / 2.\n",
    "                target = target.detach()\n",
    "                prediction = y_hat\n",
    "                accuracy += 1 if abs(target - prediction) < 0.33 else 0\n",
    "                \n",
    "                point_diff = torch.abs(match_points[m, 0] - match_points[m, 1]).detach()\n",
    "                loss = loss_fn(y, y_hat, point_diff)\n",
    "                \n",
    "                loss.backward()\n",
    "                \n",
    "                elos.append((elos_b4, (model.rating[model.home], model.rating[model.away])))\n",
    "                pts.append(((match_points[m, 0], match_points[m, 1]), (model.home, model.away)))\n",
    "                \n",
    "                # if verbose:\n",
    "                #    rating = model.rating[:5] if len(model.rating) >= 5 else model.rating\n",
    "                #    print(f\"Neuralnet {iter}, rating: {rating}, E_H = {y_hat}; {target}\")\n",
    "                iter += 1\n",
    "                \n",
    "            count += matches.shape[1]\n",
    "\n",
    "        if verbose:\n",
    "            rating = model.rating[:5] if len(model.rating) >= 5 else model.rating\n",
    "            print(f'[TRN] '\n",
    "                  f' Epoch: {epoch}, training loss: {loss:.3f}, '\n",
    "                        f'training accuracy: {accuracy/count * 100:.2f}% \\n'\n",
    "                        f'ratings (first 5): {rating}')\n",
    "        training_accuracy.append(accuracy/count * 100)\n",
    "    \n",
    "    return np.array(training_accuracy), E_HS, elos, pts\n",
    "\n",
    "elo_grad = EloGrad(team_count, cd_grad=False)\n",
    "acc_grad, ehs_grad, elos_grad, pts_grad = train_elo_grad(dataset, elo_grad)"
   ],
   "metadata": {
    "collapsed": false,
    "ExecuteTime": {
     "end_time": "2024-02-26T09:06:46.542891943Z",
     "start_time": "2024-02-26T09:06:45.294533900Z"
    }
   },
   "id": "cb700480d20d1fb7",
   "execution_count": 10
  },
  {
   "cell_type": "code",
   "outputs": [],
   "source": [],
   "metadata": {
    "collapsed": false,
    "ExecuteTime": {
     "start_time": "2024-02-25T20:28:29.564407318Z"
    }
   },
   "id": "c52934dfacec4a01",
   "execution_count": null
  }
 ],
 "metadata": {
  "kernelspec": {
   "display_name": "Python 3",
   "language": "python",
   "name": "python3"
  },
  "language_info": {
   "codemirror_mode": {
    "name": "ipython",
    "version": 2
   },
   "file_extension": ".py",
   "mimetype": "text/x-python",
   "name": "python",
   "nbconvert_exporter": "python",
   "pygments_lexer": "ipython2",
   "version": "2.7.6"
  }
 },
 "nbformat": 4,
 "nbformat_minor": 5
}
