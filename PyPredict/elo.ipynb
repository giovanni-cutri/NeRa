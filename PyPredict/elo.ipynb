{
 "cells": [
  {
   "cell_type": "code",
   "execution_count": 1,
   "id": "initial_id",
   "metadata": {
    "collapsed": true,
    "ExecuteTime": {
     "end_time": "2024-02-24T12:28:01.244613906Z",
     "start_time": "2024-02-24T12:27:58.765352314Z"
    }
   },
   "outputs": [
    {
     "name": "stderr",
     "output_type": "stream",
     "text": [
      "/home/kubos/anaconda3/envs/bp/lib/python3.11/site-packages/paramiko/transport.py:219: CryptographyDeprecationWarning: Blowfish has been deprecated\n",
      "  \"class\": algorithms.Blowfish,\n"
     ]
    }
   ],
   "source": [
    "from data_management.data_acquisition import DataAcquisition\n",
    "from data_management.data_transformation import DataTransformation\n",
    "from data_management import FROM_CSV\n",
    "import pandas as pd\n",
    "from datetime import timedelta\n",
    "import seaborn as sns\n",
    "from models.GCONVCheb import *\n",
    "from trainer import Trainer\n",
    "import matplotlib.pyplot as plt"
   ]
  },
  {
   "cell_type": "code",
   "outputs": [
    {
     "name": "stderr",
     "output_type": "stream",
     "text": [
      "2024-02-24 13:28:03.712 | INFO     | data_management._data_saving_loading:load_data_csv:70 - 21100 rows loaded from ../resources/other_leagues.csv\n"
     ]
    }
   ],
   "source": [
    "da = DataAcquisition()\n",
    "df = da.get_data(FROM_CSV, fname=\"../resources/other_leagues.csv\")\n",
    "df['DT'] = pd.to_datetime(df['DT'], format=\"%Y-%m-%d %H:%M:%S\")\n",
    "data_transform = DataTransformation(df, timedelta(365))\n",
    "df = df[(df['League'] != 'EuroLeague') & (df['League'] != 'EuroCup')] \n",
    "df = df.reset_index()\n",
    "\n",
    "transform = DataTransformation(df, timedelta(365))\n",
    "dataset = transform.get_dataset(node_f_extract=False, edge_f_one_hot=True)\n",
    "\n",
    "team_count = transform.num_teams"
   ],
   "metadata": {
    "collapsed": false,
    "ExecuteTime": {
     "end_time": "2024-02-24T12:28:04.271100021Z",
     "start_time": "2024-02-24T12:28:03.654386416Z"
    }
   },
   "id": "3f2344072c85b02a",
   "execution_count": 2
  },
  {
   "cell_type": "markdown",
   "source": [
    "### Manual Elo with NN pass"
   ],
   "metadata": {
    "collapsed": false
   },
   "id": "276b160d472eee9e"
  },
  {
   "cell_type": "code",
   "outputs": [
    {
     "name": "stdout",
     "output_type": "stream",
     "text": [
      "Computed elo Dummy:  (array([1450.41466185,  783.32864878,  766.25668937]), [0.5, 0.4597135195287363, 0.47177715569548395, 0.5421467296792649, 0.39493208333191193, 0.5532294506957484, 0.5379443202146263, 0.5865272540941598, 0.36183188188500987, 0.6768094454034466, 0.3183888246975012, 0.31720839917433186], [((1000.0, 1000.0), (1073.5, 926.5)), ((926.5, 1000.0), (904.4337510626207, 1022.0662489373793)), ((1022.0662489373793, 1073.5), (1009.3282657336013, 1086.237983203778)), ((1086.237983203778, 1009.3282657336013), (1098.6000215024378, 996.9662274349414)), ((904.4337510626207, 1098.6000215024378), (899.6945660626377, 1103.3392065024207)), ((996.9662274349414, 899.6945660626377), (862.5314709158746, 1034.1293225817046)), ((1103.3392065024207, 1034.1293225817046), (1115.8147098566258, 1021.6538192274995)), ((1021.6538192274995, 862.5314709158746), (1026.6154921783695, 857.5697979650045)), ((857.5697979650045, 1115.8147098566258), (818.4919547214234, 1154.892553100207)), ((1154.892553100207, 818.4919547214234), (1373.0461774528806, 600.3383303687499)), ((1026.6154921783695, 1373.0461774528806), (949.2470077768768, 1450.4146618543734)), ((600.3383303687499, 949.2470077768768), (766.2566893693872, 783.3286487762394))])\n",
      "[TRN]  Epoch: 0, training loss: 2.543, training accuracy: 16.67% \n",
      "ratings (first 5): [1450.41466185  783.32864878  766.25668937]\n",
      "\n",
      "----------------------------------------\n",
      "[TRN]  Epoch: 0, training loss: 6166.810, training accuracy: 47.83% \n",
      "ratings (first 5): [1379.68811002 2976.96673204  384.48140654  571.4696702  1309.88250176]\n",
      "SUCCESS: Computed elo is the same as Elo from NN\n"
     ]
    }
   ],
   "source": [
    "# dummy dataset\n",
    "from datetime import datetime\n",
    "import numpy as np\n",
    "import torch\n",
    "from models.ratings.elo import *\n",
    "\n",
    "delta = timedelta(days=365)\n",
    "delta2 = timedelta(days=366)\n",
    "now = datetime.now()\n",
    "data = pd.DataFrame({'DT': [*(3 * [now]), *(3 * [now - delta2]), *(3 * [now - 2 * delta2]), *(3 * [now - 3 * delta2])], \n",
    "                     'Home': ['A', 'B', 'C', 'A', 'B', 'C', 'A', 'B', 'C', 'A', 'B', 'C'],\n",
    "                     'Away': ['B', 'C', 'A', 'C', 'A', 'B', 'B', 'C', 'A', 'C', 'A', 'B'],\n",
    "                     'Winner': ['home', 'away', 'away', 'home', 'away', 'away', 'home', 'home', 'away', 'home', 'away', 'home'],\n",
    "                     'Home_points': [10, 5, 15, 12, 15, 6, 20, 10, 10, 14, 3, 12],\n",
    "                     'Away_points': [4, 8, 17, 10, 16, 14, 18, 9, 15, 0, 11, 4],\n",
    "                     'League': [*(12 * ['liga'])],\n",
    "                     })\n",
    "\n",
    "transform2 = DataTransformation(data, timedelta(days=365))\n",
    "dts = transform2.get_dataset(edge_f_one_hot=True)\n",
    "\n",
    "def train_elo(train_dataset, model, epochs: int = 100, verbose: bool = False):\n",
    "    torch.set_printoptions(precision=8) \n",
    "    training_accuracy = []\n",
    "    loss_fn = torch.nn.MSELoss\n",
    "    \n",
    "    E_HS = []\n",
    "    elos = []\n",
    "    pts = []\n",
    "    \n",
    "    for epoch in range(epochs):\n",
    "        model.train()\n",
    "        accuracy, loss, count = 0, 0, 0\n",
    "        iter = 0\n",
    "        for time, snapshot in enumerate(train_dataset):\n",
    "            # pass through network has to be only one by one in order to compute elo correctly\n",
    "            matches = snapshot.edge_index\n",
    "            match_points = snapshot.match_points\n",
    "            for m in range(matches.shape[1]):\n",
    "                match = matches[:, m]\n",
    "                y_hat = model(match)\n",
    "                y = np.array(snapshot.edge_attr[m, :])  # edge weight encodes the match outcome\n",
    "                \n",
    "                E_HS.append(y_hat)\n",
    "                \n",
    "                elos_b4 = (model.rating[model.home], model.rating[model.away])\n",
    "                  \n",
    "                target = np.argmax(y) / 2.\n",
    "                prediction = y_hat\n",
    "                accuracy += 1 if abs(target - prediction) < 0.33 else 0\n",
    "    \n",
    "                loss += np.mean((prediction-target)**2)\n",
    "                \n",
    "                point_diff = int(abs(match_points[m, 0] - match_points[m, 1]))\n",
    "                result = [target, point_diff]\n",
    "                \n",
    "                model.backward(result)\n",
    "                \n",
    "                elos.append((elos_b4, (model.rating[model.home], model.rating[model.away])))\n",
    "                pts.append(((match_points[m, 0], match_points[m, 1]), (model.home, model.away)))\n",
    "                \n",
    "                # if verbose:\n",
    "                #    rating = model.rating[:5] if len(model.rating) >= 5 else model.rating\n",
    "                #    print(f\"Neuralnet {iter}, rating: {rating}, E_H = {y_hat}; {target}\")\n",
    "                iter += 1\n",
    "                \n",
    "            count += matches.shape[1]\n",
    "\n",
    "        if verbose:\n",
    "            rating = model.rating[:5] if len(model.rating) >= 5 else model.rating\n",
    "            print(f'[TRN] '\n",
    "                  f' Epoch: {epoch}, training loss: {loss:.3f}, '\n",
    "                        f'training accuracy: {accuracy/count * 100:.2f}% \\n'\n",
    "                        f'ratings (first 5): {rating}')\n",
    "        training_accuracy.append(accuracy/count * 100)\n",
    "    \n",
    "    return np.array(training_accuracy), E_HS, elos, pts\n",
    "\n",
    "\n",
    "def compute_elo(matches: pd.DataFrame, mapping, elo_base: int = 1000, gamma: float = 2, c: float = 3, d: float = 500, k: float = 3, verbose: bool = False):\n",
    "    elo = np.zeros((len(mapping), )) + elo_base\n",
    "    E_HS = []\n",
    "    elos = []\n",
    "    for i in range(len(matches.index)):\n",
    "        match_i = matches.iloc[i]\n",
    "        h_i = mapping[match_i['Home']]\n",
    "        a_i = mapping[match_i['Away']]\n",
    "        \n",
    "        E_h = 1 / (1 + np.power(c, ((elo[a_i] - elo[h_i]) / d)))\n",
    "        S_h = 1. if match_i['Winner'] == 'home' else 0. if match_i['Winner'] == 'away' else 1/2\n",
    "        \n",
    "        E_HS.append(E_h)\n",
    "        \n",
    "        elos_b4 = (elo[h_i], elo[a_i])\n",
    "        \n",
    "        h_points = match_i['Home_points']\n",
    "        a_points = match_i['Away_points']\n",
    "        \n",
    "        delta = abs(h_points - a_points)\n",
    "        update = k * ((1 + delta)**gamma) * (S_h - E_h)\n",
    "        \n",
    "        elo[h_i] += update\n",
    "        elo[a_i] -= update\n",
    "        \n",
    "        elos.append((elos_b4, (elo[h_i], elo[a_i])))\n",
    "        \n",
    "        if verbose:\n",
    "            print(f\"iteration {i}, rating: {elo}, E_H = {E_h}; {S_h}\")\n",
    "    return np.array(elo), E_HS, elos\n",
    "    \n",
    "    \n",
    "print('Computed elo Dummy: ', compute_elo(data, transform2.team_mapping, verbose=False))\n",
    "eloDummy = EloManual(team_count=transform2.num_teams, gamma=2., c=3., d=500., k=3.)\n",
    "acc_dummy = train_elo(dts, eloDummy, 1, True)\n",
    "\n",
    "print()\n",
    "print('----------------------------------------')\n",
    "print()\n",
    "computed, E_HS_comp, elos_comp = compute_elo(df, transform.team_mapping, 1000, 2., 3., 500., 3.)\n",
    "\n",
    "print()\n",
    "elo = EloManual(team_count=transform.num_teams, gamma=2., c=3., d=500., k=3.)\n",
    "acc_late, E_HS_net, elos_net, pts = train_elo(dataset, elo, 1, True)\n",
    "\n",
    "err = False\n",
    "for i in range(len(computed)):\n",
    "    cmp = computed[transform.team_mapping[transform.inv_team_mapping[i]]]\n",
    "    net = elo.rating[transform.team_mapping[transform.inv_team_mapping[i]]]\n",
    "    if cmp != net:\n",
    "        print(rf'ERROR on index {i}:: {cmp} / {net}')\n",
    "        err = True\n",
    "if not err:\n",
    "    print(\"SUCCESS: Computed elo is the same as Elo from NN\")\n"
   ],
   "metadata": {
    "collapsed": false,
    "ExecuteTime": {
     "end_time": "2024-02-24T12:28:12.842065176Z",
     "start_time": "2024-02-24T12:28:08.209824724Z"
    }
   },
   "id": "cb9e0fcfcaff27c1",
   "execution_count": 3
  },
  {
   "cell_type": "markdown",
   "source": [
    "### Elo with gradient"
   ],
   "metadata": {
    "collapsed": false
   },
   "id": "6abcdc6410c9c184"
  },
  {
   "cell_type": "code",
   "outputs": [],
   "source": [],
   "metadata": {
    "collapsed": false
   },
   "id": "cb700480d20d1fb7"
  }
 ],
 "metadata": {
  "kernelspec": {
   "display_name": "Python 3",
   "language": "python",
   "name": "python3"
  },
  "language_info": {
   "codemirror_mode": {
    "name": "ipython",
    "version": 2
   },
   "file_extension": ".py",
   "mimetype": "text/x-python",
   "name": "python",
   "nbconvert_exporter": "python",
   "pygments_lexer": "ipython2",
   "version": "2.7.6"
  }
 },
 "nbformat": 4,
 "nbformat_minor": 5
}
