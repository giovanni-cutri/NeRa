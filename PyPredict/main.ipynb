{
 "cells": [
  {
   "cell_type": "markdown",
   "source": [
    "# Data\n",
    "------------"
   ],
   "metadata": {
    "collapsed": false
   },
   "id": "4a1e0d14156b8536"
  },
  {
   "cell_type": "code",
   "outputs": [],
   "source": [
    "from data_management.data_acquisition import DataAcquisition\n",
    "from data_management.data_transformation import DataTransformation\n",
    "from data_management import FROM_CSV\n",
    "import pandas as pd\n",
    "from datetime import datetime, timedelta\n",
    "import seaborn as sns"
   ],
   "metadata": {
    "collapsed": false,
    "ExecuteTime": {
     "end_time": "2024-02-23T18:09:00.724384712Z",
     "start_time": "2024-02-23T18:09:00.625191599Z"
    }
   },
   "id": "6d199e2aaad16bac",
   "execution_count": 31
  },
  {
   "cell_type": "markdown",
   "source": [
    "## 1 Data transformation\n",
    "\n",
    "| Element of graph |                                                                   Usage in our case                                                                   | \n",
    "|:-----------------|:-----------------------------------------------------------------------------------------------------------------------------------------------------:| \n",
    "| Nodes            |                                                                         Teams                                                                         | \n",
    "| Nodes Features   | altogether home wins, home losses, away win and away losses, all points scored by team, all points lost to another team until the end of the snapshot | \n",
    "| Edges            |                                                           Matches between individual teams                                                            | \n",
    "| Edge features    |                                           0 - home win, 1 - draw, 2 - away win => match outcome prediction                                            |\n",
    "| Node labels      |                                                               individual teams ranking                                                                |\n",
    "\n",
    "\n",
    "What type of graph do we have? - Number of vertices in our graphs is static - it is the number of all teams that we want to train on. Number of edges changes over time. Edges represent matches. So the graph is dynamic. Some vertices may not be connected in each graph snapshot, because there may be season, in which a team may not have played any match within selected league. Although this will create a redundancy in our feature matrix, it is more straightforward to implement, than reindexing teams in each snapshot in order to incorporate only those vertices with edges. So we are dealing with so called 'Dynamic graph temporal signal'."
   ],
   "metadata": {
    "collapsed": false
   },
   "id": "af279bd521d5cb6f"
  },
  {
   "cell_type": "code",
   "outputs": [
    {
     "name": "stderr",
     "output_type": "stream",
     "text": [
      "2024-02-23 19:09:00.646 | INFO     | data_management._data_saving_loading:load_data_csv:70 - 21100 rows loaded from ../resources/other_leagues.csv\n"
     ]
    },
    {
     "name": "stdout",
     "output_type": "stream",
     "text": [
      "2012-09-25 18:00:00 2024-11-14 20:45:00\n"
     ]
    },
    {
     "data": {
      "text/plain": "<Axes: xlabel='index', ylabel='matches_in_snapshot'>"
     },
     "execution_count": 32,
     "metadata": {},
     "output_type": "execute_result"
    },
    {
     "data": {
      "text/plain": "<Figure size 640x480 with 1 Axes>",
      "image/png": "[encoded data removed]"
     },
     "metadata": {},
     "output_type": "display_data"
    }
   ],
   "source": [
    "da = DataAcquisition()\n",
    "df = da.get_data(FROM_CSV, fname=\"../resources/other_leagues.csv\")\n",
    "\n",
    "# see how many matches occupy each graph snapshot\n",
    "df['DT'] = pd.to_datetime(df['DT'], format=\"%Y-%m-%d %H:%M:%S\")\n",
    "\n",
    "start_date = min(df['DT'])\n",
    "end_date = max(df['DT'])\n",
    "print(start_date, end_date)\n",
    "delta = timedelta(days=365) # 1 season duration is about 6 months, then there are 6 months when no league tournaments are played\n",
    "snapshots = []\n",
    "\n",
    "while start_date <= end_date:\n",
    "    snapshots.append(df[((start_date + delta >= df['DT']) & (start_date <= df['DT']))].shape[0])\n",
    "    start_date += delta\n",
    "    \n",
    "sns.scatterplot(x=\"index\", y=\"matches_in_snapshot\", data=pd.DataFrame(snapshots, columns=[\"matches_in_snapshot\"]).reset_index())\n",
    "\n",
    "    "
   ],
   "metadata": {
    "collapsed": false,
    "ExecuteTime": {
     "end_time": "2024-02-23T18:09:00.989370397Z",
     "start_time": "2024-02-23T18:09:00.625399351Z"
    }
   },
   "id": "dacf4964d7300cb9",
   "execution_count": 32
  },
  {
   "cell_type": "markdown",
   "source": [
    "We can see that in each snapshot (representing 1 year), there are about 1800 matches in selected leagues altogether. That should be enough information for the graph neural network to learn from. But we need to try that first. We can also see some weird behaviour in the last two snapshots. Let's just ignore them for now and get better dataset later."
   ],
   "metadata": {
    "collapsed": false
   },
   "id": "da74a0c0b6a8b0ca"
  },
  {
   "cell_type": "code",
   "outputs": [
    {
     "data": {
      "text/plain": "<Axes: xlabel='index', ylabel='matches_in_snapshot'>"
     },
     "execution_count": 33,
     "metadata": {},
     "output_type": "execute_result"
    },
    {
     "data": {
      "text/plain": "<Figure size 640x480 with 1 Axes>",
      "image/png": "[encoded data removed]"
     },
     "metadata": {},
     "output_type": "display_data"
    }
   ],
   "source": [
    "start_date = min(df['DT'])\n",
    "df = df[(df['DT'] < start_date + 10 * delta)]\n",
    "end_date = max(df['DT'])\n",
    "\n",
    "snapshots = []\n",
    "\n",
    "while start_date <= end_date:\n",
    "    snapshots.append(df[((start_date + delta >= df['DT']) & (start_date <= df['DT']))].shape[0])\n",
    "    start_date += delta\n",
    "    \n",
    "sns.scatterplot(x=\"index\", y=\"matches_in_snapshot\", data=pd.DataFrame(snapshots, columns=[\"matches_in_snapshot\"]).reset_index())"
   ],
   "metadata": {
    "collapsed": false,
    "ExecuteTime": {
     "end_time": "2024-02-23T18:09:01.274376819Z",
     "start_time": "2024-02-23T18:09:01.008216169Z"
    }
   },
   "id": "ea29ec8ad568d2e4",
   "execution_count": 33
  },
  {
   "cell_type": "markdown",
   "source": [
    "\n",
    "Normally methods showcased bellow are called from data_transform.transform() method, but in our case we want to see how they work\n"
   ],
   "metadata": {
    "collapsed": false
   },
   "id": "ff6836df9a470838"
  },
  {
   "cell_type": "code",
   "outputs": [
    {
     "data": {
      "text/plain": "    League                  DT           Home           Away Winner  \\\n329    NBL 2022-05-26 18:00:00          Opava        Nymburk   away   \n330    NBL 2022-05-24 17:00:00        Nymburk          Opava   away   \n331    NBL 2022-05-23 18:00:00           Brno  Usti n. Labem   home   \n332    NBL 2022-05-22 17:00:00          Opava        Nymburk   home   \n333    NBL 2022-05-21 18:00:00  Usti n. Labem           Brno   away   \n334    NBL 2022-05-20 17:00:00        Nymburk          Opava   home   \n335    NBL 2022-05-19 18:00:00           Brno  Usti n. Labem   away   \n336    NBL 2022-05-10 18:00:00          Opava           Brno   home   \n337    NBL 2022-05-09 18:00:00  Usti n. Labem        Nymburk   home   \n338    NBL 2022-05-08 18:00:00  Usti n. Labem        Nymburk   home   \n\n     Home_points  Away_points  \n329           65           87  \n330          110           65  \n331           71           67  \n332           78           76  \n333           77           82  \n334           99           72  \n335           80           84  \n336           83           66  \n337           64          102  \n338           75          100  ",
      "text/html": "<div>\n<style scoped>\n    .dataframe tbody tr th:only-of-type {\n        vertical-align: middle;\n    }\n\n    .dataframe tbody tr th {\n        vertical-align: top;\n    }\n\n    .dataframe thead th {\n        text-align: right;\n    }\n</style>\n<table border=\"1\" class=\"dataframe\">\n  <thead>\n    <tr style=\"text-align: right;\">\n      <th></th>\n      <th>League</th>\n      <th>DT</th>\n      <th>Home</th>\n      <th>Away</th>\n      <th>Winner</th>\n      <th>Home_points</th>\n      <th>Away_points</th>\n    </tr>\n  </thead>\n  <tbody>\n    <tr>\n      <th>329</th>\n      <td>NBL</td>\n      <td>2022-05-26 18:00:00</td>\n      <td>Opava</td>\n      <td>Nymburk</td>\n      <td>away</td>\n      <td>65</td>\n      <td>87</td>\n    </tr>\n    <tr>\n      <th>330</th>\n      <td>NBL</td>\n      <td>2022-05-24 17:00:00</td>\n      <td>Nymburk</td>\n      <td>Opava</td>\n      <td>away</td>\n      <td>110</td>\n      <td>65</td>\n    </tr>\n    <tr>\n      <th>331</th>\n      <td>NBL</td>\n      <td>2022-05-23 18:00:00</td>\n      <td>Brno</td>\n      <td>Usti n. Labem</td>\n      <td>home</td>\n      <td>71</td>\n      <td>67</td>\n    </tr>\n    <tr>\n      <th>332</th>\n      <td>NBL</td>\n      <td>2022-05-22 17:00:00</td>\n      <td>Opava</td>\n      <td>Nymburk</td>\n      <td>home</td>\n      <td>78</td>\n      <td>76</td>\n    </tr>\n    <tr>\n      <th>333</th>\n      <td>NBL</td>\n      <td>2022-05-21 18:00:00</td>\n      <td>Usti n. Labem</td>\n      <td>Brno</td>\n      <td>away</td>\n      <td>77</td>\n      <td>82</td>\n    </tr>\n    <tr>\n      <th>334</th>\n      <td>NBL</td>\n      <td>2022-05-20 17:00:00</td>\n      <td>Nymburk</td>\n      <td>Opava</td>\n      <td>home</td>\n      <td>99</td>\n      <td>72</td>\n    </tr>\n    <tr>\n      <th>335</th>\n      <td>NBL</td>\n      <td>2022-05-19 18:00:00</td>\n      <td>Brno</td>\n      <td>Usti n. Labem</td>\n      <td>away</td>\n      <td>80</td>\n      <td>84</td>\n    </tr>\n    <tr>\n      <th>336</th>\n      <td>NBL</td>\n      <td>2022-05-10 18:00:00</td>\n      <td>Opava</td>\n      <td>Brno</td>\n      <td>home</td>\n      <td>83</td>\n      <td>66</td>\n    </tr>\n    <tr>\n      <th>337</th>\n      <td>NBL</td>\n      <td>2022-05-09 18:00:00</td>\n      <td>Usti n. Labem</td>\n      <td>Nymburk</td>\n      <td>home</td>\n      <td>64</td>\n      <td>102</td>\n    </tr>\n    <tr>\n      <th>338</th>\n      <td>NBL</td>\n      <td>2022-05-08 18:00:00</td>\n      <td>Usti n. Labem</td>\n      <td>Nymburk</td>\n      <td>home</td>\n      <td>75</td>\n      <td>100</td>\n    </tr>\n  </tbody>\n</table>\n</div>"
     },
     "execution_count": 34,
     "metadata": {},
     "output_type": "execute_result"
    }
   ],
   "source": [
    "# constructor of DataTransformation class drops columns that are not used by our models\n",
    "data_transform = DataTransformation(df, timedelta(365))\n",
    "\n",
    "data_transform.df.head(10)"
   ],
   "metadata": {
    "collapsed": false,
    "ExecuteTime": {
     "end_time": "2024-02-23T18:09:01.342254050Z",
     "start_time": "2024-02-23T18:09:01.284553544Z"
    }
   },
   "id": "cf05c0bea69c1cb9",
   "execution_count": 34
  },
  {
   "cell_type": "markdown",
   "source": [
    "### 1.1 map teams to unique ids and match outcomes to integer values\n",
    "\n",
    "| Winner | Integer value in table | \n",
    "|:-------|:----------------------:|\n",
    "| Home   |           2            | \n",
    "| Away   |           0            | \n",
    "| Draw   |           1            | "
   ],
   "metadata": {
    "collapsed": false
   },
   "id": "a70ad762bfef82c3"
  },
  {
   "cell_type": "code",
   "outputs": [
    {
     "name": "stderr",
     "output_type": "stream",
     "text": [
      "2024-02-23 19:09:01.332 | INFO     | data_management.data_transformation:_map_match_outcomes:60 - There are 10987 home wins, 6 draws and 7655 away wins in the dataset\n"
     ]
    },
    {
     "data": {
      "text/plain": "    League                  DT  Home  Away Winner  Home_points  Away_points\n329    NBL 2022-05-26 18:00:00     0     1      0           65           87\n330    NBL 2022-05-24 17:00:00     1     0      0          110           65\n331    NBL 2022-05-23 18:00:00     2     3      2           71           67\n332    NBL 2022-05-22 17:00:00     0     1      2           78           76\n333    NBL 2022-05-21 18:00:00     3     2      0           77           82\n334    NBL 2022-05-20 17:00:00     1     0      2           99           72\n335    NBL 2022-05-19 18:00:00     2     3      0           80           84\n336    NBL 2022-05-10 18:00:00     0     2      2           83           66\n337    NBL 2022-05-09 18:00:00     3     1      2           64          102\n338    NBL 2022-05-08 18:00:00     3     1      2           75          100",
      "text/html": "<div>\n<style scoped>\n    .dataframe tbody tr th:only-of-type {\n        vertical-align: middle;\n    }\n\n    .dataframe tbody tr th {\n        vertical-align: top;\n    }\n\n    .dataframe thead th {\n        text-align: right;\n    }\n</style>\n<table border=\"1\" class=\"dataframe\">\n  <thead>\n    <tr style=\"text-align: right;\">\n      <th></th>\n      <th>League</th>\n      <th>DT</th>\n      <th>Home</th>\n      <th>Away</th>\n      <th>Winner</th>\n      <th>Home_points</th>\n      <th>Away_points</th>\n    </tr>\n  </thead>\n  <tbody>\n    <tr>\n      <th>329</th>\n      <td>NBL</td>\n      <td>2022-05-26 18:00:00</td>\n      <td>0</td>\n      <td>1</td>\n      <td>0</td>\n      <td>65</td>\n      <td>87</td>\n    </tr>\n    <tr>\n      <th>330</th>\n      <td>NBL</td>\n      <td>2022-05-24 17:00:00</td>\n      <td>1</td>\n      <td>0</td>\n      <td>0</td>\n      <td>110</td>\n      <td>65</td>\n    </tr>\n    <tr>\n      <th>331</th>\n      <td>NBL</td>\n      <td>2022-05-23 18:00:00</td>\n      <td>2</td>\n      <td>3</td>\n      <td>2</td>\n      <td>71</td>\n      <td>67</td>\n    </tr>\n    <tr>\n      <th>332</th>\n      <td>NBL</td>\n      <td>2022-05-22 17:00:00</td>\n      <td>0</td>\n      <td>1</td>\n      <td>2</td>\n      <td>78</td>\n      <td>76</td>\n    </tr>\n    <tr>\n      <th>333</th>\n      <td>NBL</td>\n      <td>2022-05-21 18:00:00</td>\n      <td>3</td>\n      <td>2</td>\n      <td>0</td>\n      <td>77</td>\n      <td>82</td>\n    </tr>\n    <tr>\n      <th>334</th>\n      <td>NBL</td>\n      <td>2022-05-20 17:00:00</td>\n      <td>1</td>\n      <td>0</td>\n      <td>2</td>\n      <td>99</td>\n      <td>72</td>\n    </tr>\n    <tr>\n      <th>335</th>\n      <td>NBL</td>\n      <td>2022-05-19 18:00:00</td>\n      <td>2</td>\n      <td>3</td>\n      <td>0</td>\n      <td>80</td>\n      <td>84</td>\n    </tr>\n    <tr>\n      <th>336</th>\n      <td>NBL</td>\n      <td>2022-05-10 18:00:00</td>\n      <td>0</td>\n      <td>2</td>\n      <td>2</td>\n      <td>83</td>\n      <td>66</td>\n    </tr>\n    <tr>\n      <th>337</th>\n      <td>NBL</td>\n      <td>2022-05-09 18:00:00</td>\n      <td>3</td>\n      <td>1</td>\n      <td>2</td>\n      <td>64</td>\n      <td>102</td>\n    </tr>\n    <tr>\n      <th>338</th>\n      <td>NBL</td>\n      <td>2022-05-08 18:00:00</td>\n      <td>3</td>\n      <td>1</td>\n      <td>2</td>\n      <td>75</td>\n      <td>100</td>\n    </tr>\n  </tbody>\n</table>\n</div>"
     },
     "execution_count": 35,
     "metadata": {},
     "output_type": "execute_result"
    }
   ],
   "source": [
    "data_transform._create_teams_mapping()\n",
    "data_transform._map_match_outcomes(verbose=True)\n",
    "data_transform.df.head(10)"
   ],
   "metadata": {
    "collapsed": false,
    "ExecuteTime": {
     "end_time": "2024-02-23T18:09:01.358284460Z",
     "start_time": "2024-02-23T18:09:01.329277647Z"
    }
   },
   "id": "d1cd3c1f27b7626f",
   "execution_count": 35
  },
  {
   "cell_type": "markdown",
   "source": [],
   "metadata": {
    "collapsed": false
   },
   "id": "52a343d8e2353b4d"
  },
  {
   "cell_type": "markdown",
   "source": [
    "### 1.2 Extract node features (Optional, may not be needed)\n",
    "\n",
    "recall that these are:\n",
    "\n",
    "| Feature id     |     0     |     1      |      2      |    3     |     4      |      5      | \n",
    "|:---------------|:---------:|:----------:|:-----------:|:--------:|:----------:|:-----------:|\n",
    "| Nodes Features | home wins | home draws | home losses | away win | away draws | away losses | \n",
    "\n",
    "All of these features are dynamic - they accumulate over time during snapshots. In our models we want to try to predict with and without those features\n",
    "\n",
    "NOTE: The features are normalized between 0 and 1."
   ],
   "metadata": {
    "collapsed": false
   },
   "id": "91d55c67c3791472"
  },
  {
   "cell_type": "code",
   "outputs": [
    {
     "name": "stdout",
     "output_type": "stream",
     "text": [
      "Number of snapshots (league years): 10\n",
      "In each snapshot there are 203 nodes (teams) with 6 features\n"
     ]
    },
    {
     "data": {
      "text/plain": "array([[0.52235105, 0.        , 0.51112335, 0.54582008, 0.31640625,\n        0.42195352],\n       [0.7139069 , 0.        , 0.38525953, 0.44175845, 0.        ,\n        0.47133948],\n       [0.59814493, 0.        , 0.41463418, 0.66773865, 0.        ,\n        0.27241926],\n       [0.56004713, 1.        , 0.40784751, 0.55640596, 0.        ,\n        0.37526511],\n       [0.4117578 , 0.        , 0.16875874, 0.31721538, 0.        ,\n        0.16104285]])"
     },
     "execution_count": 36,
     "metadata": {},
     "output_type": "execute_result"
    }
   ],
   "source": [
    "node_features = data_transform._extract_node_features(discount_factor=0.75, use_draws=True, verbose=False)\n",
    "\n",
    "print(\"Number of snapshots (league years):\", len(node_features))\n",
    "print(f\"In each snapshot there are {node_features[0].shape[0]} nodes (teams) with {node_features[0].shape[1]} features\")\n",
    "node_features[-1][:5]"
   ],
   "metadata": {
    "collapsed": false,
    "ExecuteTime": {
     "end_time": "2024-02-23T18:09:01.550640810Z",
     "start_time": "2024-02-23T18:09:01.347361838Z"
    }
   },
   "id": "a50bb10b0b76806",
   "execution_count": 36
  },
  {
   "cell_type": "markdown",
   "source": [
    "### 1.3 Create Edges and extract their features; Extract labels\n",
    "\n",
    "There is just one edge feature: winner of the mathc (0 - home, 1 - draw, 2 - away). In order to predict outcomes, later, we can encode this in a one-hot representation or normalize it.\n",
    "\n",
    "meaning: \n",
    "\n",
    "|      Edge feature      | home win  |   draw    | away win  | \n",
    "|:----------------------:|:---------:|:---------:|:---------:|\n",
    "|     dataset value      |     2     |     1     |     0     |\n",
    "|    normalized value    |     2     |    0.5    |     0     |\n",
    "| one-hot representation | (0, 0, 1) | (0, 1, 0) | (1, 0, 0) |\n",
    "\n",
    "node labels = ranking of the teams. \n",
    "We will simply compute labels for each time step. For simplicity, team with the most wins has rank 1 in each league in dataset.\n",
    "NOTE labels from step n+1 are targets for step n.\n",
    "We will also normalize those labels "
   ],
   "metadata": {
    "collapsed": false
   },
   "id": "27fdffaae623eaeb"
  },
  {
   "cell_type": "code",
   "outputs": [
    {
     "data": {
      "text/plain": "(array([[  0,   1,   2, ...,  61, 160, 102],\n        [  1,   0,   3, ...,  75, 152,  25]]),\n array([[1., 0., 0.],\n        [1., 0., 0.],\n        [0., 0., 1.],\n        ...,\n        [1., 0., 0.],\n        [0., 0., 1.],\n        [0., 0., 1.]]),\n array([0.        , 0.8168468 , 0.05263158, 0.21052632, 0.10526316,\n        0.15789474, 0.31578947, 0.73684211, 0.42105263, 0.47368421,\n        0.63157895, 0.89473684, 0.36842105, 0.57894737, 0.84210526,\n        0.78947368, 0.94736842, 1.        , 0.68421053, 0.14492985,\n        0.40530563, 0.11538462, 0.91208791, 0.73966714, 0.28777473,\n        0.33276099, 0.10735135, 0.03846154, 0.04464286, 0.12913928,\n        0.76923077, 0.56833791, 0.92307692, 0.73076923, 0.46153846,\n        0.41414835, 0.51614011, 0.84615385, 0.0161953 , 0.5       ,\n        0.34615385, 0.88289835, 0.53846154, 0.42307692, 0.69230769,\n        0.65384615, 0.72608418, 0.50063776, 0.85460892, 0.14285714,\n        0.44802296, 0.21428571, 0.20758929, 0.02933673, 0.32142857,\n        0.82461735, 0.39285714, 0.92736425, 0.03571429, 1.        ,\n        0.96428571, 0.37149235, 0.74356551, 0.72098214, 0.85714286,\n        0.53571429, 0.20376276, 0.89285714, 0.46428571, 0.89360309,\n        0.71428571, 0.5       , 0.78571429, 0.5       , 0.51964286,\n        0.33973214, 0.12321429, 0.28280453, 0.31533801, 0.55      ,\n        0.95      , 0.125     , 0.30089286, 0.71071429, 0.65      ,\n        0.35      , 0.5       , 0.24662787, 0.67321429, 0.66339286,\n        0.59151786, 0.45      , 0.2       , 0.15      , 0.36631274,\n        0.29343629, 0.09556846, 0.05841492, 0.35135135, 0.42253861,\n        0.02051158, 0.64943722, 0.37717181, 0.21621622, 0.18918919,\n        0.16216216, 0.13513514, 0.10810811, 0.53493002, 0.06298263,\n        0.45945946, 0.48648649, 0.        , 0.63178261, 0.56756757,\n        0.02702703, 0.97297297, 0.6402027 , 0.81081081, 0.59459459,\n        0.69305019, 0.94594595, 0.89189189, 0.86486486, 0.91891892,\n        0.64864865, 0.78378378, 1.        , 0.83783784, 0.75675676,\n        0.41071429, 0.21763393, 0.95838648, 0.16581633, 0.13584184,\n        0.14285714, 0.08928571, 0.54512117, 0.03571429, 0.18973214,\n        0.        , 0.4609375 , 0.88998724, 0.52662628, 0.15290179,\n        0.70424107, 0.79464286, 0.39668367, 0.98373724, 0.58179209,\n        0.95376276, 0.35315689, 0.32987883, 0.08896684, 0.47735969,\n        0.07940051, 0.31186224, 0.23899872, 0.25892857, 0.38392857,\n        0.42857143, 0.46428571, 0.48389668, 0.22321429, 0.04464286,\n        0.09821429, 0.16964286, 0.75892857, 0.83035714, 0.9375    ,\n        0.85714286, 0.96428571, 0.99107143, 1.        , 0.97321429,\n        0.83928571, 0.59821429, 0.49107143, 0.90178571, 0.76785714,\n        0.86607143, 0.75      , 0.92857143, 0.57142857, 0.53571429,\n        0.35714286, 0.65880102, 0.80357143, 0.60714286, 0.25      ,\n        0.77678571, 0.67857143, 0.61607143, 0.4375    , 0.79464286,\n        0.27311862, 0.55357143, 0.17857143, 0.52631579, 0.92857143,\n        0.57142857, 0.72972973, 0.67567568]),\n array([[ 65,  87],\n        [110,  65],\n        [ 71,  67],\n        ...,\n        [ 56,  86],\n        [ 97, 106],\n        [ 73,  65]]),\n (1910, 3),\n (2, 1910),\n (203,),\n (1910, 2))"
     },
     "execution_count": 37,
     "metadata": {},
     "output_type": "execute_result"
    }
   ],
   "source": [
    "edges, edge_features, labels, points = data_transform._extract_dynamic_edges_and_labels(one_hot=True)\n",
    "\n",
    "edges[0], edge_features[0], labels[0], points[0],edge_features[0].shape, edges[0].shape, labels[0].shape, points[0].shape"
   ],
   "metadata": {
    "collapsed": false,
    "ExecuteTime": {
     "end_time": "2024-02-23T18:09:01.777650980Z",
     "start_time": "2024-02-23T18:09:01.501150731Z"
    }
   },
   "id": "9c3c8be2307a11ae",
   "execution_count": 37
  },
  {
   "cell_type": "markdown",
   "source": [
    "### 1.5 Creating graph representation for Pytorch geometric temporal\n",
    "\n",
    "now we have everything we need to create our dynamic graph"
   ],
   "metadata": {
    "collapsed": false
   },
   "id": "a08ed03f9481cab9"
  },
  {
   "cell_type": "code",
   "outputs": [
    {
     "name": "stdout",
     "output_type": "stream",
     "text": [
      "Example of graph snapshot 5: \n",
      "      Node feature shape: (203, 6) \n",
      "      Edge index shape: (2, 1805) \n",
      "      Edge feature shape: (1805, 3) \n",
      "      Labels shape: (203,),\n",
      "      Match_points: (1805, 2)\n",
      "      \n"
     ]
    }
   ],
   "source": [
    "i = 5\n",
    "print(f\"\"\"Example of graph snapshot {i}: \n",
    "      Node feature shape: {node_features[i].shape} \n",
    "      Edge index shape: {edges[i].shape} \n",
    "      Edge feature shape: {edge_features[i].shape} \n",
    "      Labels shape: {labels[i].shape},\n",
    "      Match_points: {points[i].shape}\n",
    "      \"\"\")"
   ],
   "metadata": {
    "collapsed": false,
    "ExecuteTime": {
     "end_time": "2024-02-23T18:09:01.781409117Z",
     "start_time": "2024-02-23T18:09:01.778464647Z"
    }
   },
   "id": "4727c8ce01ce2afa",
   "execution_count": 38
  },
  {
   "cell_type": "code",
   "outputs": [
    {
     "name": "stdout",
     "output_type": "stream",
     "text": [
      "10\n"
     ]
    }
   ],
   "source": [
    "# finally we can create our dataset iterator\n",
    "from torch_geometric_temporal import DynamicGraphTemporalSignal\n",
    "\n",
    "dataset = DynamicGraphTemporalSignal(\n",
    "    edges, edge_features, node_features, labels\n",
    ")\n",
    "print(dataset.snapshot_count)"
   ],
   "metadata": {
    "collapsed": false,
    "ExecuteTime": {
     "end_time": "2024-02-23T18:09:01.841998334Z",
     "start_time": "2024-02-23T18:09:01.785577675Z"
    }
   },
   "id": "dce551a173634744",
   "execution_count": 39
  },
  {
   "cell_type": "markdown",
   "source": [
    "### 1.6 All of this is done by get_dataset() method of DataTransformation"
   ],
   "metadata": {
    "collapsed": false
   },
   "id": "c6b42ffb412e7ab"
  },
  {
   "cell_type": "code",
   "outputs": [
    {
     "name": "stdout",
     "output_type": "stream",
     "text": [
      "10\n"
     ]
    }
   ],
   "source": [
    "df = df[(df['League'] != 'EuroLeague') & (df['League'] != 'EuroCup')] \n",
    "df = df.reset_index()\n",
    "\n",
    "transform = DataTransformation(df, timedelta(365))\n",
    "dataset = transform.get_dataset(node_f_extract=False, edge_f_one_hot=True)\n",
    "\n",
    "print(dataset.snapshot_count)"
   ],
   "metadata": {
    "collapsed": false,
    "ExecuteTime": {
     "end_time": "2024-02-23T18:09:02.052155446Z",
     "start_time": "2024-02-23T18:09:01.833272876Z"
    }
   },
   "id": "1ce7fd5337107655",
   "execution_count": 40
  },
  {
   "cell_type": "markdown",
   "source": [
    "# Models\n",
    "---------------------"
   ],
   "metadata": {
    "collapsed": false
   },
   "id": "47344785ddf2f809"
  },
  {
   "cell_type": "markdown",
   "source": [
    "## 2 GCONVCheb\n",
    "\n",
    "Graph Chebychev convolution model\n",
    "\n",
    "First model we plan to test"
   ],
   "metadata": {
    "collapsed": false
   },
   "id": "49550b18775769a"
  },
  {
   "cell_type": "code",
   "outputs": [
    {
     "data": {
      "text/plain": "GCONVCheb(\n  (act_fn): ReLU()\n  (embedding): Embedding(135, 20)\n  (dense_sequence): Sequential(\n    (lin0): Linear(in_features=32, out_features=8, bias=True)\n    (act0): ReLU()\n    (dropout0): Dropout(p=0.1, inplace=False)\n    (lin1): Linear(in_features=8, out_features=8, bias=True)\n    (act1): ReLU()\n    (dropout1): Dropout(p=0.1, inplace=False)\n    (lin2): Linear(in_features=8, out_features=8, bias=True)\n    (act2): ReLU()\n    (dropout2): Dropout(p=0.1, inplace=False)\n    (lin3): Linear(in_features=8, out_features=8, bias=True)\n    (act3): ReLU()\n    (dropout3): Dropout(p=0.1, inplace=False)\n    (lin4): Linear(in_features=8, out_features=8, bias=True)\n    (act4): ReLU()\n    (dropout4): Dropout(p=0.1, inplace=False)\n    (lin5): Linear(in_features=8, out_features=3, bias=True)\n    (act5): ReLU()\n    (dropout5): Dropout(p=0.1, inplace=False)\n  )\n  (out_layer): Softmax(dim=1)\n)"
     },
     "execution_count": 41,
     "metadata": {},
     "output_type": "execute_result"
    }
   ],
   "source": [
    "from models.GCONVCheb import *\n",
    "from trainer import Trainer\n",
    "\n",
    "team_count = transform.num_teams\n",
    "\n",
    "# We will use the default implemented setting: \n",
    "#\n",
    "# GCONVLSTM(self, team_count: int,\n",
    "#                 embed_dim: int = 10,\n",
    "#                 dense_dims: tuple[int] = (8, 8, 8, 8, 8),\n",
    "#                 conv_out_dim: int = 16,\n",
    "#                 dropout_rate: float = 0.1,\n",
    "#                 activation: str = 'relu',\n",
    "#                 K: int = 5):\n",
    "model = GCONVCheb(team_count)\n",
    "model"
   ],
   "metadata": {
    "collapsed": false,
    "ExecuteTime": {
     "end_time": "2024-02-23T18:09:02.061473340Z",
     "start_time": "2024-02-23T18:09:02.046225354Z"
    }
   },
   "id": "4b2073546ee4448",
   "execution_count": 41
  },
  {
   "cell_type": "markdown",
   "source": [
    "### 2.1 Training"
   ],
   "metadata": {
    "collapsed": false
   },
   "id": "b499f59c1dcc87d8"
  },
  {
   "cell_type": "code",
   "outputs": [
    {
     "name": "stderr",
     "output_type": "stream",
     "text": [
      "2024-02-23 19:09:02.162 | INFO     | trainer:train:56 - [TRN] Epoch: 0, training loss: 2.173, training accuracy: 54.90% \n",
      "2024-02-23 19:09:02.255 | INFO     | trainer:train:56 - [TRN] Epoch: 1, training loss: 2.171, training accuracy: 54.68% \n",
      "2024-02-23 19:09:02.353 | INFO     | trainer:train:56 - [TRN] Epoch: 2, training loss: 2.170, training accuracy: 54.44% \n",
      "2024-02-23 19:09:02.453 | INFO     | trainer:train:56 - [TRN] Epoch: 3, training loss: 2.168, training accuracy: 54.97% \n",
      "2024-02-23 19:09:02.545 | INFO     | trainer:train:56 - [TRN] Epoch: 4, training loss: 2.167, training accuracy: 54.36% \n",
      "2024-02-23 19:09:02.635 | INFO     | trainer:train:56 - [TRN] Epoch: 5, training loss: 2.165, training accuracy: 54.72% \n",
      "2024-02-23 19:09:02.733 | INFO     | trainer:train:56 - [TRN] Epoch: 6, training loss: 2.163, training accuracy: 54.68% \n",
      "2024-02-23 19:09:02.832 | INFO     | trainer:train:56 - [TRN] Epoch: 7, training loss: 2.161, training accuracy: 54.68% \n",
      "2024-02-23 19:09:02.928 | INFO     | trainer:train:56 - [TRN] Epoch: 8, training loss: 2.159, training accuracy: 55.47% \n",
      "2024-02-23 19:09:03.020 | INFO     | trainer:train:56 - [TRN] Epoch: 9, training loss: 2.158, training accuracy: 54.40% \n",
      "2024-02-23 19:09:03.106 | INFO     | trainer:train:56 - [TRN] Epoch: 10, training loss: 2.155, training accuracy: 55.18% \n",
      "2024-02-23 19:09:03.200 | INFO     | trainer:train:56 - [TRN] Epoch: 11, training loss: 2.153, training accuracy: 55.33% \n",
      "2024-02-23 19:09:03.296 | INFO     | trainer:train:56 - [TRN] Epoch: 12, training loss: 2.154, training accuracy: 53.83% \n",
      "2024-02-23 19:09:03.391 | INFO     | trainer:train:56 - [TRN] Epoch: 13, training loss: 2.151, training accuracy: 54.44% \n",
      "2024-02-23 19:09:03.479 | INFO     | trainer:train:56 - [TRN] Epoch: 14, training loss: 2.149, training accuracy: 54.26% \n",
      "2024-02-23 19:09:03.565 | INFO     | trainer:train:56 - [TRN] Epoch: 15, training loss: 2.146, training accuracy: 55.72% \n",
      "2024-02-23 19:09:03.649 | INFO     | trainer:train:56 - [TRN] Epoch: 16, training loss: 2.146, training accuracy: 54.08% \n",
      "2024-02-23 19:09:03.741 | INFO     | trainer:train:56 - [TRN] Epoch: 17, training loss: 2.142, training accuracy: 55.36% \n",
      "2024-02-23 19:09:03.827 | INFO     | trainer:train:56 - [TRN] Epoch: 18, training loss: 2.141, training accuracy: 54.61% \n",
      "2024-02-23 19:09:03.919 | INFO     | trainer:train:56 - [TRN] Epoch: 19, training loss: 2.139, training accuracy: 53.62% \n",
      "2024-02-23 19:09:04.005 | INFO     | trainer:train:56 - [TRN] Epoch: 20, training loss: 2.137, training accuracy: 53.05% \n",
      "2024-02-23 19:09:04.091 | INFO     | trainer:train:56 - [TRN] Epoch: 21, training loss: 2.133, training accuracy: 55.36% \n",
      "2024-02-23 19:09:04.177 | INFO     | trainer:train:56 - [TRN] Epoch: 22, training loss: 2.133, training accuracy: 53.65% \n",
      "2024-02-23 19:09:04.272 | INFO     | trainer:train:56 - [TRN] Epoch: 23, training loss: 2.130, training accuracy: 54.11% \n",
      "2024-02-23 19:09:04.365 | INFO     | trainer:train:56 - [TRN] Epoch: 24, training loss: 2.126, training accuracy: 54.26% \n",
      "2024-02-23 19:09:04.453 | INFO     | trainer:train:56 - [TRN] Epoch: 25, training loss: 2.123, training accuracy: 54.15% \n",
      "2024-02-23 19:09:04.537 | INFO     | trainer:train:56 - [TRN] Epoch: 26, training loss: 2.118, training accuracy: 55.61% \n",
      "2024-02-23 19:09:04.622 | INFO     | trainer:train:56 - [TRN] Epoch: 27, training loss: 2.116, training accuracy: 55.01% \n",
      "2024-02-23 19:09:04.709 | INFO     | trainer:train:56 - [TRN] Epoch: 28, training loss: 2.114, training accuracy: 54.72% \n",
      "2024-02-23 19:09:04.804 | INFO     | trainer:train:56 - [TRN] Epoch: 29, training loss: 2.114, training accuracy: 54.22% \n",
      "2024-02-23 19:09:04.890 | INFO     | trainer:train:56 - [TRN] Epoch: 30, training loss: 2.109, training accuracy: 53.69% \n",
      "2024-02-23 19:09:04.974 | INFO     | trainer:train:56 - [TRN] Epoch: 31, training loss: 2.106, training accuracy: 54.15% \n",
      "2024-02-23 19:09:05.056 | INFO     | trainer:train:56 - [TRN] Epoch: 32, training loss: 2.105, training accuracy: 51.98% \n",
      "2024-02-23 19:09:05.142 | INFO     | trainer:train:56 - [TRN] Epoch: 33, training loss: 2.100, training accuracy: 52.26% \n",
      "2024-02-23 19:09:05.224 | INFO     | trainer:train:56 - [TRN] Epoch: 34, training loss: 2.095, training accuracy: 52.01% \n",
      "2024-02-23 19:09:05.320 | INFO     | trainer:train:56 - [TRN] Epoch: 35, training loss: 2.095, training accuracy: 51.12% \n",
      "2024-02-23 19:09:05.402 | INFO     | trainer:train:56 - [TRN] Epoch: 36, training loss: 2.092, training accuracy: 50.09% \n",
      "2024-02-23 19:09:05.486 | INFO     | trainer:train:56 - [TRN] Epoch: 37, training loss: 2.087, training accuracy: 49.31% \n",
      "2024-02-23 19:09:05.572 | INFO     | trainer:train:56 - [TRN] Epoch: 38, training loss: 2.077, training accuracy: 51.66% \n",
      "2024-02-23 19:09:05.653 | INFO     | trainer:train:56 - [TRN] Epoch: 39, training loss: 2.081, training accuracy: 50.12% \n",
      "2024-02-23 19:09:05.743 | INFO     | trainer:train:56 - [TRN] Epoch: 40, training loss: 2.074, training accuracy: 50.34% \n",
      "2024-02-23 19:09:05.837 | INFO     | trainer:train:56 - [TRN] Epoch: 41, training loss: 2.069, training accuracy: 50.02% \n",
      "2024-02-23 19:09:05.926 | INFO     | trainer:train:56 - [TRN] Epoch: 42, training loss: 2.065, training accuracy: 50.73% \n",
      "2024-02-23 19:09:06.010 | INFO     | trainer:train:56 - [TRN] Epoch: 43, training loss: 2.065, training accuracy: 47.45% \n",
      "2024-02-23 19:09:06.093 | INFO     | trainer:train:56 - [TRN] Epoch: 44, training loss: 2.056, training accuracy: 49.31% \n",
      "2024-02-23 19:09:06.175 | INFO     | trainer:train:56 - [TRN] Epoch: 45, training loss: 2.052, training accuracy: 49.31% \n",
      "2024-02-23 19:09:06.260 | INFO     | trainer:train:56 - [TRN] Epoch: 46, training loss: 2.044, training accuracy: 50.87% \n",
      "2024-02-23 19:09:06.352 | INFO     | trainer:train:56 - [TRN] Epoch: 47, training loss: 2.051, training accuracy: 47.92% \n",
      "2024-02-23 19:09:06.435 | INFO     | trainer:train:56 - [TRN] Epoch: 48, training loss: 2.041, training accuracy: 46.92% \n",
      "2024-02-23 19:09:06.522 | INFO     | trainer:train:56 - [TRN] Epoch: 49, training loss: 2.031, training accuracy: 48.13% \n",
      "2024-02-23 19:09:06.604 | INFO     | trainer:train:56 - [TRN] Epoch: 50, training loss: 2.025, training accuracy: 48.17% \n",
      "2024-02-23 19:09:06.685 | INFO     | trainer:train:56 - [TRN] Epoch: 51, training loss: 2.029, training accuracy: 48.09% \n",
      "2024-02-23 19:09:06.774 | INFO     | trainer:train:56 - [TRN] Epoch: 52, training loss: 2.017, training accuracy: 47.84% \n",
      "2024-02-23 19:09:06.861 | INFO     | trainer:train:56 - [TRN] Epoch: 53, training loss: 2.012, training accuracy: 50.20% \n",
      "2024-02-23 19:09:06.951 | INFO     | trainer:train:56 - [TRN] Epoch: 54, training loss: 2.011, training accuracy: 49.45% \n",
      "2024-02-23 19:09:07.033 | INFO     | trainer:train:56 - [TRN] Epoch: 55, training loss: 2.009, training accuracy: 49.09% \n",
      "2024-02-23 19:09:07.114 | INFO     | trainer:train:56 - [TRN] Epoch: 56, training loss: 1.995, training accuracy: 50.55% \n",
      "2024-02-23 19:09:07.200 | INFO     | trainer:train:56 - [TRN] Epoch: 57, training loss: 2.000, training accuracy: 50.55% \n",
      "2024-02-23 19:09:07.284 | INFO     | trainer:train:56 - [TRN] Epoch: 58, training loss: 1.993, training accuracy: 52.94% \n",
      "2024-02-23 19:09:07.376 | INFO     | trainer:train:56 - [TRN] Epoch: 59, training loss: 1.997, training accuracy: 52.58% \n",
      "2024-02-23 19:09:07.469 | INFO     | trainer:train:56 - [TRN] Epoch: 60, training loss: 1.991, training accuracy: 51.76% \n",
      "2024-02-23 19:09:07.554 | INFO     | trainer:train:56 - [TRN] Epoch: 61, training loss: 1.978, training accuracy: 53.22% \n",
      "2024-02-23 19:09:07.638 | INFO     | trainer:train:56 - [TRN] Epoch: 62, training loss: 1.978, training accuracy: 52.48% \n",
      "2024-02-23 19:09:07.727 | INFO     | trainer:train:56 - [TRN] Epoch: 63, training loss: 1.974, training accuracy: 53.08% \n",
      "2024-02-23 19:09:07.820 | INFO     | trainer:train:56 - [TRN] Epoch: 64, training loss: 1.979, training accuracy: 52.94% \n",
      "2024-02-23 19:09:07.907 | INFO     | trainer:train:56 - [TRN] Epoch: 65, training loss: 1.970, training accuracy: 53.87% \n",
      "2024-02-23 19:09:07.994 | INFO     | trainer:train:56 - [TRN] Epoch: 66, training loss: 1.960, training accuracy: 54.40% \n",
      "2024-02-23 19:09:08.080 | INFO     | trainer:train:56 - [TRN] Epoch: 67, training loss: 1.957, training accuracy: 54.26% \n",
      "2024-02-23 19:09:08.166 | INFO     | trainer:train:56 - [TRN] Epoch: 68, training loss: 1.953, training accuracy: 54.58% \n",
      "2024-02-23 19:09:08.251 | INFO     | trainer:train:56 - [TRN] Epoch: 69, training loss: 1.960, training accuracy: 54.26% \n",
      "2024-02-23 19:09:08.343 | INFO     | trainer:train:56 - [TRN] Epoch: 70, training loss: 1.946, training accuracy: 55.25% \n",
      "2024-02-23 19:09:08.431 | INFO     | trainer:train:56 - [TRN] Epoch: 71, training loss: 1.966, training accuracy: 53.83% \n",
      "2024-02-23 19:09:08.520 | INFO     | trainer:train:56 - [TRN] Epoch: 72, training loss: 1.947, training accuracy: 55.36% \n",
      "2024-02-23 19:09:08.608 | INFO     | trainer:train:56 - [TRN] Epoch: 73, training loss: 1.951, training accuracy: 54.86% \n",
      "2024-02-23 19:09:08.692 | INFO     | trainer:train:56 - [TRN] Epoch: 74, training loss: 1.941, training accuracy: 54.76% \n",
      "2024-02-23 19:09:08.778 | INFO     | trainer:train:56 - [TRN] Epoch: 75, training loss: 1.956, training accuracy: 53.90% \n",
      "2024-02-23 19:09:08.872 | INFO     | trainer:train:56 - [TRN] Epoch: 76, training loss: 1.955, training accuracy: 54.15% \n",
      "2024-02-23 19:09:08.960 | INFO     | trainer:train:56 - [TRN] Epoch: 77, training loss: 1.953, training accuracy: 53.62% \n",
      "2024-02-23 19:09:09.048 | INFO     | trainer:train:56 - [TRN] Epoch: 78, training loss: 1.964, training accuracy: 53.58% \n",
      "2024-02-23 19:09:09.134 | INFO     | trainer:train:56 - [TRN] Epoch: 79, training loss: 1.952, training accuracy: 53.94% \n",
      "2024-02-23 19:09:09.223 | INFO     | trainer:train:56 - [TRN] Epoch: 80, training loss: 1.967, training accuracy: 51.48% \n",
      "2024-02-23 19:09:09.310 | INFO     | trainer:train:56 - [TRN] Epoch: 81, training loss: 1.931, training accuracy: 55.40% \n",
      "2024-02-23 19:09:09.410 | INFO     | trainer:train:56 - [TRN] Epoch: 82, training loss: 1.951, training accuracy: 53.62% \n",
      "2024-02-23 19:09:09.509 | INFO     | trainer:train:56 - [TRN] Epoch: 83, training loss: 1.948, training accuracy: 53.90% \n",
      "2024-02-23 19:09:09.625 | INFO     | trainer:train:56 - [TRN] Epoch: 84, training loss: 1.963, training accuracy: 52.40% \n",
      "2024-02-23 19:09:09.738 | INFO     | trainer:train:56 - [TRN] Epoch: 85, training loss: 1.949, training accuracy: 53.54% \n",
      "2024-02-23 19:09:09.854 | INFO     | trainer:train:56 - [TRN] Epoch: 86, training loss: 1.945, training accuracy: 53.26% \n",
      "2024-02-23 19:09:09.966 | INFO     | trainer:train:56 - [TRN] Epoch: 87, training loss: 1.958, training accuracy: 53.97% \n",
      "2024-02-23 19:09:10.079 | INFO     | trainer:train:56 - [TRN] Epoch: 88, training loss: 1.948, training accuracy: 54.01% \n",
      "2024-02-23 19:09:10.196 | INFO     | trainer:train:56 - [TRN] Epoch: 89, training loss: 1.937, training accuracy: 54.29% \n",
      "2024-02-23 19:09:10.311 | INFO     | trainer:train:56 - [TRN] Epoch: 90, training loss: 1.950, training accuracy: 53.79% \n",
      "2024-02-23 19:09:10.427 | INFO     | trainer:train:56 - [TRN] Epoch: 91, training loss: 1.943, training accuracy: 53.62% \n",
      "2024-02-23 19:09:10.542 | INFO     | trainer:train:56 - [TRN] Epoch: 92, training loss: 1.948, training accuracy: 53.76% \n",
      "2024-02-23 19:09:10.658 | INFO     | trainer:train:56 - [TRN] Epoch: 93, training loss: 1.969, training accuracy: 52.05% \n",
      "2024-02-23 19:09:10.781 | INFO     | trainer:train:56 - [TRN] Epoch: 94, training loss: 1.943, training accuracy: 54.11% \n",
      "2024-02-23 19:09:10.905 | INFO     | trainer:train:56 - [TRN] Epoch: 95, training loss: 1.934, training accuracy: 54.33% \n",
      "2024-02-23 19:09:11.036 | INFO     | trainer:train:56 - [TRN] Epoch: 96, training loss: 1.943, training accuracy: 53.30% \n",
      "2024-02-23 19:09:11.157 | INFO     | trainer:train:56 - [TRN] Epoch: 97, training loss: 1.935, training accuracy: 54.68% \n",
      "2024-02-23 19:09:11.282 | INFO     | trainer:train:56 - [TRN] Epoch: 98, training loss: 1.937, training accuracy: 54.04% \n",
      "2024-02-23 19:09:11.408 | INFO     | trainer:train:56 - [TRN] Epoch: 99, training loss: 1.946, training accuracy: 54.01% \n"
     ]
    }
   ],
   "source": [
    "trainer = Trainer(dataset, model)\n",
    "training_accuracy = trainer.train(epochs=100, verbose=True)"
   ],
   "metadata": {
    "collapsed": false,
    "ExecuteTime": {
     "end_time": "2024-02-23T18:09:11.460528072Z",
     "start_time": "2024-02-23T18:09:02.064528253Z"
    }
   },
   "id": "d86fc1ad086011d4",
   "execution_count": 42
  },
  {
   "cell_type": "markdown",
   "source": [
    "Let's visualize trainning accuracy over time"
   ],
   "metadata": {
    "collapsed": false
   },
   "id": "be9e7cdda66ec3dc"
  },
  {
   "cell_type": "code",
   "outputs": [
    {
     "data": {
      "text/plain": "<Figure size 640x480 with 1 Axes>",
      "image/png": "[encoded data removed]"
     },
     "metadata": {},
     "output_type": "display_data"
    }
   ],
   "source": [
    "import matplotlib.pyplot as plt\n",
    "ax = sns.lineplot(x=\"index\", y=\"training_accuracy\", data=pd.DataFrame(training_accuracy, columns=[\"training_accuracy\"]).reset_index())\n",
    "ax.set(xlabel=\"Epoch\")\n",
    "plt.show()"
   ],
   "metadata": {
    "collapsed": false,
    "ExecuteTime": {
     "end_time": "2024-02-23T18:09:11.691603960Z",
     "start_time": "2024-02-23T18:09:11.415892755Z"
    }
   },
   "id": "83beef0bc77755e9",
   "execution_count": 43
  },
  {
   "cell_type": "markdown",
   "source": [
    "### 2.2 Testing"
   ],
   "metadata": {
    "collapsed": false
   },
   "id": "6b982d401f47cf95"
  },
  {
   "cell_type": "code",
   "outputs": [
    {
     "name": "stderr",
     "output_type": "stream",
     "text": [
      "2024-02-23 19:09:11.931 | INFO     | trainer:test:75 - [TST] Testing accuracy: 59.48%\n"
     ]
    },
    {
     "data": {
      "text/plain": "0.5947819740923189"
     },
     "execution_count": 44,
     "metadata": {},
     "output_type": "execute_result"
    }
   ],
   "source": [
    "trainer.test(verbose=True)"
   ],
   "metadata": {
    "collapsed": false,
    "ExecuteTime": {
     "end_time": "2024-02-23T18:09:11.937183789Z",
     "start_time": "2024-02-23T18:09:11.670843501Z"
    }
   },
   "id": "687d2eaba703a4a7",
   "execution_count": 44
  },
  {
   "cell_type": "markdown",
   "source": [
    "# Ratings\n",
    "------------------------------"
   ],
   "metadata": {
    "collapsed": false
   },
   "id": "2a2e656a52cdf011"
  },
  {
   "cell_type": "markdown",
   "source": [
    "# 3 Elo\n"
   ],
   "metadata": {
    "collapsed": false
   },
   "id": "3d0837d773c4c783"
  },
  {
   "cell_type": "code",
   "outputs": [
    {
     "name": "stdout",
     "output_type": "stream",
     "text": [
      "Computed elo Dummy:  (array([1450.41466185,  783.32864878,  766.25668937]), [0.5, 0.4597135195287363, 0.47177715569548395, 0.5421467296792649, 0.39493208333191193, 0.5532294506957484, 0.5379443202146263, 0.5865272540941598, 0.36183188188500987, 0.6768094454034466, 0.3183888246975012, 0.31720839917433186], [((1000.0, 1000.0), (1073.5, 926.5)), ((926.5, 1000.0), (904.4337510626207, 1022.0662489373793)), ((1022.0662489373793, 1073.5), (1009.3282657336013, 1086.237983203778)), ((1086.237983203778, 1009.3282657336013), (1098.6000215024378, 996.9662274349414)), ((904.4337510626207, 1098.6000215024378), (899.6945660626377, 1103.3392065024207)), ((996.9662274349414, 899.6945660626377), (862.5314709158746, 1034.1293225817046)), ((1103.3392065024207, 1034.1293225817046), (1115.8147098566258, 1021.6538192274995)), ((1021.6538192274995, 862.5314709158746), (1026.6154921783695, 857.5697979650045)), ((857.5697979650045, 1115.8147098566258), (818.4919547214234, 1154.892553100207)), ((1154.892553100207, 818.4919547214234), (1373.0461774528806, 600.3383303687499)), ((1026.6154921783695, 1373.0461774528806), (949.2470077768768, 1450.4146618543734)), ((600.3383303687499, 949.2470077768768), (766.2566893693872, 783.3286487762394))])\n",
      "[TRN]  Epoch: 0, training loss: 2.543, training accuracy: 16.67% \n",
      "ratings (first 5): [1450.41466185  783.32864878  766.25668937]\n",
      "\n",
      "----------------------------------------\n",
      "[TRN]  Epoch: 0, training loss: 5420.181, training accuracy: 48.21% \n",
      "ratings (first 5): [  616.59204123 -4406.27329203  1358.24877783 -1628.47511645\n",
      "  2948.84122508]\n",
      "SUCCESS\n"
     ]
    }
   ],
   "source": [
    "# dummy dataset\n",
    "from datetime import datetime\n",
    "import numpy as np\n",
    "import torch\n",
    "from models.ratings.manual.elo import *\n",
    "\n",
    "delta = timedelta(days=365)\n",
    "delta2 = timedelta(days=366)\n",
    "now = datetime.now()\n",
    "data = pd.DataFrame({'DT': [*(3 * [now]), *(3 * [now - delta2]), *(3 * [now - 2 * delta2]), *(3 * [now - 3 * delta2])], \n",
    "                     'Home': ['A', 'B', 'C', 'A', 'B', 'C', 'A', 'B', 'C', 'A', 'B', 'C'],\n",
    "                     'Away': ['B', 'C', 'A', 'C', 'A', 'B', 'B', 'C', 'A', 'C', 'A', 'B'],\n",
    "                     'Winner': ['home', 'away', 'away', 'home', 'away', 'away', 'home', 'home', 'away', 'home', 'away', 'home'],\n",
    "                     'Home_points': [10, 5, 15, 12, 15, 6, 20, 10, 10, 14, 3, 12],\n",
    "                     'Away_points': [4, 8, 17, 10, 16, 14, 18, 9, 15, 0, 11, 4],\n",
    "                     'League': [*(12 * ['liga'])],\n",
    "                     })\n",
    "\n",
    "transform2 = DataTransformation(data, timedelta(days=365))\n",
    "dts = transform2.get_dataset(edge_f_one_hot=True)\n",
    "\n",
    "def train_elo(train_dataset, model, epochs: int = 100, verbose: bool = False):\n",
    "    torch.set_printoptions(precision=8) \n",
    "    training_accuracy = []\n",
    "    loss_fn = torch.nn.MSELoss\n",
    "    \n",
    "    E_HS = []\n",
    "    elos = []\n",
    "    pts = []\n",
    "    \n",
    "    for epoch in range(epochs):\n",
    "        model.train()\n",
    "        accuracy, loss, count = 0, 0, 0\n",
    "        iter = 0\n",
    "        for time, snapshot in enumerate(train_dataset):\n",
    "            # pass through network has to be only one by one in order to compute elo correctly\n",
    "            matches = snapshot.edge_index\n",
    "            match_points = snapshot.match_points\n",
    "            for m in range(matches.shape[1]):\n",
    "                match = matches[:, m]\n",
    "                y_hat = model(match)\n",
    "                y = np.array(snapshot.edge_attr[m, :])  # edge weight encodes the match outcome\n",
    "                \n",
    "                E_HS.append(y_hat)\n",
    "                \n",
    "                elos_b4 = (model.rating[model.home], model.rating[model.away])\n",
    "                  \n",
    "                target = np.argmax(y) / 2.\n",
    "                prediction = y_hat\n",
    "                accuracy += 1 if abs(target - prediction) < 0.33 else 0\n",
    "    \n",
    "                loss += np.mean((prediction-target)**2)\n",
    "                \n",
    "                point_diff = int(abs(match_points[m, 0] - match_points[m, 1]))\n",
    "                result = [target, point_diff]\n",
    "                \n",
    "                model.backward(result)\n",
    "                \n",
    "                elos.append((elos_b4, (model.rating[model.home], model.rating[model.away])))\n",
    "                pts.append(((match_points[m, 0], match_points[m, 1]), (model.home, model.away)))\n",
    "                \n",
    "                # if verbose:\n",
    "                #    rating = model.rating[:5] if len(model.rating) >= 5 else model.rating\n",
    "                #    print(f\"Neuralnet {iter}, rating: {rating}, E_H = {y_hat}; {target}\")\n",
    "                iter += 1\n",
    "                \n",
    "            count += matches.shape[1]\n",
    "\n",
    "        if verbose:\n",
    "            rating = model.rating[:5] if len(model.rating) >= 5 else model.rating\n",
    "            print(f'[TRN] '\n",
    "                  f' Epoch: {epoch}, training loss: {loss:.3f}, '\n",
    "                        f'training accuracy: {accuracy/count * 100:.2f}% \\n'\n",
    "                        f'ratings (first 5): {rating}')\n",
    "        training_accuracy.append(accuracy/count * 100)\n",
    "    \n",
    "    return np.array(training_accuracy), E_HS, elos, pts\n",
    "\n",
    "\n",
    "def compute_elo(matches: pd.DataFrame, mapping, elo_base: int = 1000, gamma: float = 2, c: float = 3, d: float = 500, k: float = 3, verbose: bool = False):\n",
    "    elo = np.zeros((len(mapping), )) + elo_base\n",
    "    E_HS = []\n",
    "    elos = []\n",
    "    for i in range(len(matches.index)):\n",
    "        match_i = matches.iloc[i]\n",
    "        h_i = mapping[match_i['Home']]\n",
    "        a_i = mapping[match_i['Away']]\n",
    "        \n",
    "        E_h = 1 / (1 + np.power(c, ((elo[a_i] - elo[h_i]) / d)))\n",
    "        S_h = 1. if match_i['Winner'] == 'home' else 0. if match_i['Winner'] == 'away' else 1/2\n",
    "        \n",
    "        E_HS.append(E_h)\n",
    "        \n",
    "        elos_b4 = (elo[h_i], elo[a_i])\n",
    "        \n",
    "        h_points = match_i['Home_points']\n",
    "        a_points = match_i['Away_points']\n",
    "        \n",
    "        delta = abs(h_points - a_points)\n",
    "        update = k * ((1 + delta)**gamma) * (S_h - E_h)\n",
    "        \n",
    "        elo[h_i] += update\n",
    "        elo[a_i] -= update\n",
    "        \n",
    "        elos.append((elos_b4, (elo[h_i], elo[a_i])))\n",
    "        \n",
    "        if verbose:\n",
    "            print(f\"iteration {i}, rating: {elo}, E_H = {E_h}; {S_h}\")\n",
    "    return np.array(elo), E_HS, elos\n",
    "    \n",
    "    \n",
    "print('Computed elo Dummy: ', compute_elo(data, transform2.team_mapping, verbose=False))\n",
    "eloDummy = EloLate(team_count=transform2.num_teams, gamma=2., c=3., d=500., k=3.)\n",
    "acc_dummy = train_elo(dts, eloDummy, 1, True)\n",
    "\n",
    "print()\n",
    "print('----------------------------------------')\n",
    "print()\n",
    "computed, E_HS_comp, elos_comp = compute_elo(df, transform.team_mapping, 1000, 2., 3., 500., 3.)\n",
    "\n",
    "print()\n",
    "elo = EloLate(team_count=transform.num_teams, gamma=2., c=3., d=500., k=3.)\n",
    "acc_late, E_HS_net, elos_net, pts = train_elo(dataset, elo, 1, True)\n",
    "\n",
    "err = False\n",
    "for i in range(len(computed)):\n",
    "    cmp = computed[transform.team_mapping[transform.inv_team_mapping[i]]]\n",
    "    net = elo.rating[transform.team_mapping[transform.inv_team_mapping[i]]]\n",
    "    if cmp != net:\n",
    "        print(rf'ERROR on index {i}:: {cmp} / {net}')\n",
    "        err = True\n",
    "if not err:\n",
    "    print(\"SUCCESS: Computed elo is the same as Elo from NN\")\n",
    "\n",
    "\n",
    "#inv_map = {v: k for k, v in transform.team_mapping.items()}\n",
    "#for i in range(len(E_HS_net)):\n",
    "#    eq = E_HS_net[i] == E_HS_comp[i]\n",
    "#    \n",
    "#    str_i = f'{i}:: net: {E_HS_net[i]:2.2f}, comp: {E_HS_comp[i]:2.2f};;; elo net / comp: {elos_net[i][1][0]:10.2f} / {elos_comp[i][1][0]:10.2f} :: {elos_net[i][1][1]:10.2f} / {elos_comp[i][1][1]:10.2f}'\n",
    "    \n",
    "#    print(str_i if eq else '----------> ' + str_i + f''' {df.iloc[i][\"Home\"]}  home_pts: {df.iloc[i][\"Home_points\"]}, {df.iloc[i][\"Away\"]}  away_pts: {df.iloc[i][\"Away_points\"]};;;;;;;;; pts net: {pts[i][0][0]}, {pts[i][0][1]}''')\n",
    "#    if not eq:\n",
    "#        print(f'elo before: {elos_net[i][0][0]:10.2f} / {elos_comp[i][0][0]:10.2f} :: {elos_net[i][0][1]:10.2f} / {elos_comp[i][0][1]:10.2f}')\n",
    "#        print(f'Teams: home {inv_map[int(pts[i][1][0])]} away {inv_map[int(pts[i][1][1])]}')\n",
    "#        break \n"
   ],
   "metadata": {
    "collapsed": false,
    "ExecuteTime": {
     "end_time": "2024-02-23T18:13:12.701212449Z",
     "start_time": "2024-02-23T18:13:08.699740202Z"
    }
   },
   "id": "a40bf4d604c96a2",
   "execution_count": 47
  },
  {
   "cell_type": "code",
   "outputs": [],
   "source": [],
   "metadata": {
    "collapsed": false
   },
   "id": "f30c4623873b321b"
  }
 ],
 "metadata": {
  "kernelspec": {
   "display_name": "Python 3",
   "language": "python",
   "name": "python3"
  },
  "language_info": {
   "codemirror_mode": {
    "name": "ipython",
    "version": 2
   },
   "file_extension": ".py",
   "mimetype": "text/x-python",
   "name": "python",
   "nbconvert_exporter": "python",
   "pygments_lexer": "ipython2",
   "version": "2.7.6"
  }
 },
 "nbformat": 4,
 "nbformat_minor": 5
}
