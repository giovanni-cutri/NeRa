{
 "cells": [
  {
   "cell_type": "markdown",
   "source": [
    "# Data\n",
    "------------"
   ],
   "metadata": {
    "collapsed": false
   },
   "id": "4a1e0d14156b8536"
  },
  {
   "cell_type": "code",
   "outputs": [
    {
     "name": "stderr",
     "output_type": "stream",
     "text": [
      "/home/kubos/anaconda3/envs/bp/lib/python3.11/site-packages/paramiko/transport.py:219: CryptographyDeprecationWarning: Blowfish has been deprecated\n",
      "  \"class\": algorithms.Blowfish,\n"
     ]
    }
   ],
   "source": [
    "from data_management.data_acquisition import DataAcquisition\n",
    "from data_management.data_transformation import DataTransformation\n",
    "from data_management import FROM_CSV\n",
    "import pandas as pd\n",
    "from datetime import datetime, timedelta\n",
    "import seaborn as sns"
   ],
   "metadata": {
    "collapsed": false,
    "ExecuteTime": {
     "end_time": "2024-02-07T22:16:32.096598997Z",
     "start_time": "2024-02-07T22:16:29.594816459Z"
    }
   },
   "id": "6d199e2aaad16bac",
   "execution_count": 1
  },
  {
   "cell_type": "markdown",
   "source": [
    "## 1 Data transformation\n",
    "\n",
    "| Element of graph |                                                                   Usage in our case                                                                   | \n",
    "|:-----------------|:-----------------------------------------------------------------------------------------------------------------------------------------------------:| \n",
    "| Nodes            |                                                                         Teams                                                                         | \n",
    "| Nodes Features   | altogether home wins, home losses, away win and away losses, all points scored by team, all points lost to another team until the end of the snapshot | \n",
    "| Edges            |                                                           Matches between individual teams                                                            | \n",
    "| Edge features    |                                           0 - home win, 1 - draw, 2 - away win => match outcome prediction                                            |\n",
    "| Node labels      |                                                               individual teams ranking                                                                |\n",
    "\n",
    "\n",
    "What type of graph do we have? - Number of vertices in our graphs is static - it is the number of all teams that we want to train on. Number of edges changes over time. Edges represent matches. So the graph is dynamic. Some vertices may not be connected in each graph snapshot, because there may be season, in which a team may not have played any match within selected league. Although this will create a redundancy in our feature matrix, it is more straightforward to implement, than reindexing teams in each snapshot in order to incorporate only those vertices with edges. So we are dealing with so called 'Dynamic graph temporal signal'."
   ],
   "metadata": {
    "collapsed": false
   },
   "id": "af279bd521d5cb6f"
  },
  {
   "cell_type": "code",
   "outputs": [
    {
     "name": "stderr",
     "output_type": "stream",
     "text": [
      "2024-02-07 23:16:32.149 | INFO     | data_management._data_saving_loading:load_data_csv:70 - 21100 rows loaded from ../resources/other_leagues.csv\n"
     ]
    },
    {
     "name": "stdout",
     "output_type": "stream",
     "text": [
      "2012-09-25 18:00:00 2024-11-14 20:45:00\n"
     ]
    },
    {
     "data": {
      "text/plain": "<Axes: xlabel='index', ylabel='matches_in_snapshot'>"
     },
     "execution_count": 2,
     "metadata": {},
     "output_type": "execute_result"
    },
    {
     "data": {
      "text/plain": "<Figure size 640x480 with 1 Axes>",
      "image/png": "[encoded data removed]"
     },
     "metadata": {},
     "output_type": "display_data"
    }
   ],
   "source": [
    "da = DataAcquisition()\n",
    "df = da.get_data(FROM_CSV, fname=\"../resources/other_leagues.csv\")\n",
    "\n",
    "# see how many matches occupy each graph snapshot\n",
    "df['DT'] = pd.to_datetime(df['DT'], format=\"%Y-%m-%d %H:%M:%S\")\n",
    "\n",
    "start_date = min(df['DT'])\n",
    "end_date = max(df['DT'])\n",
    "print(start_date, end_date)\n",
    "delta = timedelta(days=365) # 1 season duration is about 6 months, then there are 6 months when no league tournaments are played\n",
    "snapshots = []\n",
    "\n",
    "while start_date <= end_date:\n",
    "    snapshots.append(df[((start_date + delta >= df['DT']) & (start_date <= df['DT']))].shape[0])\n",
    "    start_date += delta\n",
    "    \n",
    "sns.scatterplot(x=\"index\", y=\"matches_in_snapshot\", data=pd.DataFrame(snapshots, columns=[\"matches_in_snapshot\"]).reset_index())\n",
    "\n",
    "    "
   ],
   "metadata": {
    "collapsed": false,
    "ExecuteTime": {
     "end_time": "2024-02-07T22:16:32.561015372Z",
     "start_time": "2024-02-07T22:16:32.101505086Z"
    }
   },
   "id": "dacf4964d7300cb9",
   "execution_count": 2
  },
  {
   "cell_type": "markdown",
   "source": [
    "We can see that in each snapshot (representing 1 year), there are about 1800 matches in selected leagues altogether. That should be enough information for the graph neural network to learn from. But we need to try that first. We can also see some weird behaviour in the last two snapshots. Let's just ignore them for now and get better dataset later."
   ],
   "metadata": {
    "collapsed": false
   },
   "id": "da74a0c0b6a8b0ca"
  },
  {
   "cell_type": "code",
   "outputs": [
    {
     "data": {
      "text/plain": "<Axes: xlabel='index', ylabel='matches_in_snapshot'>"
     },
     "execution_count": 3,
     "metadata": {},
     "output_type": "execute_result"
    },
    {
     "data": {
      "text/plain": "<Figure size 640x480 with 1 Axes>",
      "image/png": "[encoded data removed]"
     },
     "metadata": {},
     "output_type": "display_data"
    }
   ],
   "source": [
    "start_date = min(df['DT'])\n",
    "df = df[(df['DT'] < start_date + 10 * delta)]\n",
    "end_date = max(df['DT'])\n",
    "\n",
    "snapshots = []\n",
    "\n",
    "while start_date <= end_date:\n",
    "    snapshots.append(df[((start_date + delta >= df['DT']) & (start_date <= df['DT']))].shape[0])\n",
    "    start_date += delta\n",
    "    \n",
    "sns.scatterplot(x=\"index\", y=\"matches_in_snapshot\", data=pd.DataFrame(snapshots, columns=[\"matches_in_snapshot\"]).reset_index())"
   ],
   "metadata": {
    "collapsed": false,
    "ExecuteTime": {
     "end_time": "2024-02-07T22:16:32.828906933Z",
     "start_time": "2024-02-07T22:16:32.579428081Z"
    }
   },
   "id": "ea29ec8ad568d2e4",
   "execution_count": 3
  },
  {
   "cell_type": "markdown",
   "source": [
    "\n",
    "Normally methods showcased bellow are called from data_transform.transform() method, but in our case we want to see how they work\n"
   ],
   "metadata": {
    "collapsed": false
   },
   "id": "ff6836df9a470838"
  },
  {
   "cell_type": "code",
   "outputs": [
    {
     "data": {
      "text/plain": "    League                  DT           Home           Away Winner  \\\n329    NBL 2022-05-26 18:00:00          Opava        Nymburk   away   \n330    NBL 2022-05-24 17:00:00        Nymburk          Opava   away   \n331    NBL 2022-05-23 18:00:00           Brno  Usti n. Labem   home   \n332    NBL 2022-05-22 17:00:00          Opava        Nymburk   home   \n333    NBL 2022-05-21 18:00:00  Usti n. Labem           Brno   away   \n334    NBL 2022-05-20 17:00:00        Nymburk          Opava   home   \n335    NBL 2022-05-19 18:00:00           Brno  Usti n. Labem   away   \n336    NBL 2022-05-10 18:00:00          Opava           Brno   home   \n337    NBL 2022-05-09 18:00:00  Usti n. Labem        Nymburk   home   \n338    NBL 2022-05-08 18:00:00  Usti n. Labem        Nymburk   home   \n\n     Home_points  Away_points  \n329           65           87  \n330          110           65  \n331           71           67  \n332           78           76  \n333           77           82  \n334           99           72  \n335           80           84  \n336           83           66  \n337           64          102  \n338           75          100  ",
      "text/html": "<div>\n<style scoped>\n    .dataframe tbody tr th:only-of-type {\n        vertical-align: middle;\n    }\n\n    .dataframe tbody tr th {\n        vertical-align: top;\n    }\n\n    .dataframe thead th {\n        text-align: right;\n    }\n</style>\n<table border=\"1\" class=\"dataframe\">\n  <thead>\n    <tr style=\"text-align: right;\">\n      <th></th>\n      <th>League</th>\n      <th>DT</th>\n      <th>Home</th>\n      <th>Away</th>\n      <th>Winner</th>\n      <th>Home_points</th>\n      <th>Away_points</th>\n    </tr>\n  </thead>\n  <tbody>\n    <tr>\n      <th>329</th>\n      <td>NBL</td>\n      <td>2022-05-26 18:00:00</td>\n      <td>Opava</td>\n      <td>Nymburk</td>\n      <td>away</td>\n      <td>65</td>\n      <td>87</td>\n    </tr>\n    <tr>\n      <th>330</th>\n      <td>NBL</td>\n      <td>2022-05-24 17:00:00</td>\n      <td>Nymburk</td>\n      <td>Opava</td>\n      <td>away</td>\n      <td>110</td>\n      <td>65</td>\n    </tr>\n    <tr>\n      <th>331</th>\n      <td>NBL</td>\n      <td>2022-05-23 18:00:00</td>\n      <td>Brno</td>\n      <td>Usti n. Labem</td>\n      <td>home</td>\n      <td>71</td>\n      <td>67</td>\n    </tr>\n    <tr>\n      <th>332</th>\n      <td>NBL</td>\n      <td>2022-05-22 17:00:00</td>\n      <td>Opava</td>\n      <td>Nymburk</td>\n      <td>home</td>\n      <td>78</td>\n      <td>76</td>\n    </tr>\n    <tr>\n      <th>333</th>\n      <td>NBL</td>\n      <td>2022-05-21 18:00:00</td>\n      <td>Usti n. Labem</td>\n      <td>Brno</td>\n      <td>away</td>\n      <td>77</td>\n      <td>82</td>\n    </tr>\n    <tr>\n      <th>334</th>\n      <td>NBL</td>\n      <td>2022-05-20 17:00:00</td>\n      <td>Nymburk</td>\n      <td>Opava</td>\n      <td>home</td>\n      <td>99</td>\n      <td>72</td>\n    </tr>\n    <tr>\n      <th>335</th>\n      <td>NBL</td>\n      <td>2022-05-19 18:00:00</td>\n      <td>Brno</td>\n      <td>Usti n. Labem</td>\n      <td>away</td>\n      <td>80</td>\n      <td>84</td>\n    </tr>\n    <tr>\n      <th>336</th>\n      <td>NBL</td>\n      <td>2022-05-10 18:00:00</td>\n      <td>Opava</td>\n      <td>Brno</td>\n      <td>home</td>\n      <td>83</td>\n      <td>66</td>\n    </tr>\n    <tr>\n      <th>337</th>\n      <td>NBL</td>\n      <td>2022-05-09 18:00:00</td>\n      <td>Usti n. Labem</td>\n      <td>Nymburk</td>\n      <td>home</td>\n      <td>64</td>\n      <td>102</td>\n    </tr>\n    <tr>\n      <th>338</th>\n      <td>NBL</td>\n      <td>2022-05-08 18:00:00</td>\n      <td>Usti n. Labem</td>\n      <td>Nymburk</td>\n      <td>home</td>\n      <td>75</td>\n      <td>100</td>\n    </tr>\n  </tbody>\n</table>\n</div>"
     },
     "execution_count": 4,
     "metadata": {},
     "output_type": "execute_result"
    }
   ],
   "source": [
    "# constructor of DataTransformation class drops columns that are not used by our models\n",
    "data_transform = DataTransformation(df, timedelta(365))\n",
    "\n",
    "data_transform.df.head(10)"
   ],
   "metadata": {
    "collapsed": false,
    "ExecuteTime": {
     "end_time": "2024-02-07T22:16:32.889757301Z",
     "start_time": "2024-02-07T22:16:32.816554064Z"
    }
   },
   "id": "cf05c0bea69c1cb9",
   "execution_count": 4
  },
  {
   "cell_type": "markdown",
   "source": [
    "### 1.1 map teams to unique ids and match outcomes to integer values\n",
    "\n",
    "| Winner | Integer value in table | \n",
    "|:-------|:----------------------:|\n",
    "| Home   |           0            | \n",
    "| Away   |           2            | \n",
    "| Draw   |           1            | "
   ],
   "metadata": {
    "collapsed": false
   },
   "id": "a70ad762bfef82c3"
  },
  {
   "cell_type": "code",
   "outputs": [
    {
     "name": "stderr",
     "output_type": "stream",
     "text": [
      "2024-02-07 23:16:32.883 | INFO     | data_management.data_transformation:_map_match_outcomes:57 - There are 10987 home wins, 6 draws and 7655 away wins in the dataset\n"
     ]
    },
    {
     "data": {
      "text/plain": "    League                  DT  Home  Away Winner  Home_points  Away_points\n329    NBL 2022-05-26 18:00:00     0     1      2           65           87\n330    NBL 2022-05-24 17:00:00     1     0      2          110           65\n331    NBL 2022-05-23 18:00:00     2     3      0           71           67\n332    NBL 2022-05-22 17:00:00     0     1      0           78           76\n333    NBL 2022-05-21 18:00:00     3     2      2           77           82\n334    NBL 2022-05-20 17:00:00     1     0      0           99           72\n335    NBL 2022-05-19 18:00:00     2     3      2           80           84\n336    NBL 2022-05-10 18:00:00     0     2      0           83           66\n337    NBL 2022-05-09 18:00:00     3     1      0           64          102\n338    NBL 2022-05-08 18:00:00     3     1      0           75          100",
      "text/html": "<div>\n<style scoped>\n    .dataframe tbody tr th:only-of-type {\n        vertical-align: middle;\n    }\n\n    .dataframe tbody tr th {\n        vertical-align: top;\n    }\n\n    .dataframe thead th {\n        text-align: right;\n    }\n</style>\n<table border=\"1\" class=\"dataframe\">\n  <thead>\n    <tr style=\"text-align: right;\">\n      <th></th>\n      <th>League</th>\n      <th>DT</th>\n      <th>Home</th>\n      <th>Away</th>\n      <th>Winner</th>\n      <th>Home_points</th>\n      <th>Away_points</th>\n    </tr>\n  </thead>\n  <tbody>\n    <tr>\n      <th>329</th>\n      <td>NBL</td>\n      <td>2022-05-26 18:00:00</td>\n      <td>0</td>\n      <td>1</td>\n      <td>2</td>\n      <td>65</td>\n      <td>87</td>\n    </tr>\n    <tr>\n      <th>330</th>\n      <td>NBL</td>\n      <td>2022-05-24 17:00:00</td>\n      <td>1</td>\n      <td>0</td>\n      <td>2</td>\n      <td>110</td>\n      <td>65</td>\n    </tr>\n    <tr>\n      <th>331</th>\n      <td>NBL</td>\n      <td>2022-05-23 18:00:00</td>\n      <td>2</td>\n      <td>3</td>\n      <td>0</td>\n      <td>71</td>\n      <td>67</td>\n    </tr>\n    <tr>\n      <th>332</th>\n      <td>NBL</td>\n      <td>2022-05-22 17:00:00</td>\n      <td>0</td>\n      <td>1</td>\n      <td>0</td>\n      <td>78</td>\n      <td>76</td>\n    </tr>\n    <tr>\n      <th>333</th>\n      <td>NBL</td>\n      <td>2022-05-21 18:00:00</td>\n      <td>3</td>\n      <td>2</td>\n      <td>2</td>\n      <td>77</td>\n      <td>82</td>\n    </tr>\n    <tr>\n      <th>334</th>\n      <td>NBL</td>\n      <td>2022-05-20 17:00:00</td>\n      <td>1</td>\n      <td>0</td>\n      <td>0</td>\n      <td>99</td>\n      <td>72</td>\n    </tr>\n    <tr>\n      <th>335</th>\n      <td>NBL</td>\n      <td>2022-05-19 18:00:00</td>\n      <td>2</td>\n      <td>3</td>\n      <td>2</td>\n      <td>80</td>\n      <td>84</td>\n    </tr>\n    <tr>\n      <th>336</th>\n      <td>NBL</td>\n      <td>2022-05-10 18:00:00</td>\n      <td>0</td>\n      <td>2</td>\n      <td>0</td>\n      <td>83</td>\n      <td>66</td>\n    </tr>\n    <tr>\n      <th>337</th>\n      <td>NBL</td>\n      <td>2022-05-09 18:00:00</td>\n      <td>3</td>\n      <td>1</td>\n      <td>0</td>\n      <td>64</td>\n      <td>102</td>\n    </tr>\n    <tr>\n      <th>338</th>\n      <td>NBL</td>\n      <td>2022-05-08 18:00:00</td>\n      <td>3</td>\n      <td>1</td>\n      <td>0</td>\n      <td>75</td>\n      <td>100</td>\n    </tr>\n  </tbody>\n</table>\n</div>"
     },
     "execution_count": 5,
     "metadata": {},
     "output_type": "execute_result"
    }
   ],
   "source": [
    "data_transform._create_teams_mapping()\n",
    "data_transform._map_match_outcomes(verbose=True)\n",
    "data_transform.df.head(10)"
   ],
   "metadata": {
    "collapsed": false,
    "ExecuteTime": {
     "end_time": "2024-02-07T22:16:32.919202695Z",
     "start_time": "2024-02-07T22:16:32.859347033Z"
    }
   },
   "id": "d1cd3c1f27b7626f",
   "execution_count": 5
  },
  {
   "cell_type": "markdown",
   "source": [],
   "metadata": {
    "collapsed": false
   },
   "id": "52a343d8e2353b4d"
  },
  {
   "cell_type": "markdown",
   "source": [
    "### 1.2 Extract node features (Optional, may not be needed)\n",
    "\n",
    "recall that these are:\n",
    "\n",
    "| Feature id     |     0     |     1      |      2      |    3     |     4      |      5      | \n",
    "|:---------------|:---------:|:----------:|:-----------:|:--------:|:----------:|:-----------:|\n",
    "| Nodes Features | home wins | home draws | home losses | away win | away draws | away losses | \n",
    "\n",
    "All of these features are dynamic - they accumulate over time during snapshots. In our models we want to try to predict with and without those features\n",
    "\n",
    "NOTE: The features are normalized between 0 and 1."
   ],
   "metadata": {
    "collapsed": false
   },
   "id": "91d55c67c3791472"
  },
  {
   "cell_type": "code",
   "outputs": [
    {
     "name": "stdout",
     "output_type": "stream",
     "text": [
      "Number of snapshots (league years): 10\n",
      "In each snapshot there are 203 nodes (teams) with 6 features\n"
     ]
    },
    {
     "data": {
      "text/plain": "array([[0.51112335, 0.        , 0.52235105, 0.42195352, 0.31640625,\n        0.54582008],\n       [0.38525953, 0.        , 0.7139069 , 0.47133948, 0.        ,\n        0.44175845],\n       [0.41463418, 0.        , 0.59814493, 0.27241926, 0.        ,\n        0.66773865],\n       [0.40784751, 1.        , 0.56004713, 0.37526511, 0.        ,\n        0.55640596],\n       [0.16875874, 0.        , 0.4117578 , 0.16104285, 0.        ,\n        0.31721538]])"
     },
     "execution_count": 6,
     "metadata": {},
     "output_type": "execute_result"
    }
   ],
   "source": [
    "node_features = data_transform._extract_node_features(discount_factor=0.75, use_draws=True, verbose=False)\n",
    "\n",
    "print(\"Number of snapshots (league years):\", len(node_features))\n",
    "print(f\"In each snapshot there are {node_features[0].shape[0]} nodes (teams) with {node_features[0].shape[1]} features\")\n",
    "node_features[-1][:5]"
   ],
   "metadata": {
    "collapsed": false,
    "ExecuteTime": {
     "end_time": "2024-02-07T22:16:33.063096028Z",
     "start_time": "2024-02-07T22:16:32.907317442Z"
    }
   },
   "id": "a50bb10b0b76806",
   "execution_count": 6
  },
  {
   "cell_type": "markdown",
   "source": [
    "### 1.3 Create Edges and extract their features; Extract labels\n",
    "\n",
    "There is just one edge feature: winner of the mathc (0 - home, 1 - draw, 2 - away). In order to predict outcomes, later, we can encode this in a one-hot representation or normalize it.\n",
    "\n",
    "meaning: \n",
    "\n",
    "|      Edge feature      | home win  |   draw    | away win  | \n",
    "|:----------------------:|:---------:|:---------:|:---------:|\n",
    "|     dataset value      |     0     |     1     |     2     |\n",
    "|    normalized value    |     0     |    0.5    |     1     |\n",
    "| one-hot representation | (1, 0, 0) | (0, 1, 0) | (0, 0, 1) |\n",
    "\n",
    "node labels = ranking of the teams. \n",
    "We will simply compute labels for each time step. For simplicity, team with the most wins has rank 1 in each league in dataset.\n",
    "NOTE labels from step n+1 are targets for step n.\n",
    "We will also normalize those labels "
   ],
   "metadata": {
    "collapsed": false
   },
   "id": "27fdffaae623eaeb"
  },
  {
   "cell_type": "code",
   "outputs": [
    {
     "data": {
      "text/plain": "(array([[ 12,   1,   1, ..., 186,  77, 194],\n        [  1,  12,  12, ..., 177, 113, 197]]),\n array([[0., 0., 1.],\n        [1., 0., 0.],\n        [0., 0., 1.],\n        ...,\n        [1., 0., 0.],\n        [1., 0., 0.],\n        [1., 0., 0.]]),\n array([0.        , 0.55396728, 0.73684211, 0.21052632, 0.31578947,\n        0.47368421, 0.05263158, 0.26315789, 0.84210526, 0.78947368,\n        0.10526316, 1.        , 0.57894737, 0.52631579, 0.15789474,\n        0.63157895, 0.42105263, 0.68421053, 0.36842105, 0.85042298,\n        0.42666919, 0.92307692, 0.57391155, 0.16293339, 0.50266736,\n        0.62829117, 0.898438  , 0.69230769, 0.87093443, 0.35746059,\n        0.        , 0.41790816, 0.30769231, 0.73076923, 0.76923077,\n        0.1956634 , 0.32713819, 0.88461538, 0.30835416, 0.61538462,\n        0.5       , 0.20839787, 1.        , 0.65384615, 0.84615385,\n        0.26923077, 0.72723011, 0.        , 0.82798937, 0.35714286,\n        0.48513902, 0.03571429, 0.98689677, 0.31671461, 0.        ,\n        0.08628955, 0.75      , 0.66995547, 0.07142857, 0.10714286,\n        0.82142857, 0.61233621, 0.60123716, 0.3697667 , 0.21428571,\n        0.32142857, 0.76861617, 0.85714286, 0.78571429, 0.3557047 ,\n        1.        , 0.42857143, 0.60714286, 0.63834775, 0.41076166,\n        0.1458613 , 0.12693808, 0.11279204, 0.33432759, 0.05      ,\n        0.6       , 0.87472036, 0.70604027, 0.02326622, 0.5       ,\n        0.3       , 0.1       , 0.40766158, 0.69082774, 0.59463087,\n        0.13870246, 1.        , 0.2       , 0.95      , 0.2194402 ,\n        0.        , 0.88390692, 0.09911262, 0.37837838, 0.73468771,\n        0.37940625, 0.30103007, 0.15617631, 0.43243243, 0.72972973,\n        0.32432432, 0.27027027, 0.83783784, 0.64063277, 0.33998428,\n        0.91891892, 0.21621622, 0.13513514, 0.97484176, 0.45945946,\n        0.        , 0.10810811, 0.22196022, 0.40540541, 0.16216216,\n        0.25533587, 0.08108108, 0.18918919, 0.59459459, 0.89189189,\n        0.62162162, 0.2972973 , 0.97297297, 0.81081081, 1.        ,\n        0.93095844, 0.93186718, 0.02790679, 0.09023208, 0.90423523,\n        0.35100933, 0.0873961 , 0.42760334, 0.56189992, 0.78068549,\n        0.96170083, 0.28129682, 0.8359494 , 0.44723033, 0.9152282 ,\n        0.05821223, 0.26245614, 0.74709299, 0.65163152, 0.23183618,\n        0.58712001, 0.04078693, 0.64598551, 0.75179542, 0.01221139,\n        0.76263113, 0.12273921, 0.82009673, 0.16778523, 0.56152125,\n        0.54362416, 0.46308725, 0.45633614, 0.38255034, 0.2393736 ,\n        0.06935123, 0.7852349 , 0.65995526, 0.69574944, 0.28411633,\n        0.04250559, 0.51677852, 0.85682327, 0.67785235, 0.83892617,\n        0.99105145, 0.91946309, 1.        , 0.94630872, 0.79418345,\n        0.47203579, 0.93736018, 0.39149888, 0.21252796, 0.80313199,\n        0.52572707, 0.62008345, 0.43624161, 0.96420582, 0.17673378,\n        0.53467562, 0.06040268, 0.50782998, 0.48993289, 0.26621924,\n        0.12351005, 0.18568233, 0.71364653, 0.94736842, 0.39285714,\n        0.17857143, 0.48648649, 0.94594595]),\n (1813, 3),\n (2, 1813),\n (203,))"
     },
     "execution_count": 7,
     "metadata": {},
     "output_type": "execute_result"
    }
   ],
   "source": [
    "edges, edge_features, labels = data_transform._extract_dynamic_edges_and_labels(one_hot=True)\n",
    "\n",
    "edges[0], edge_features[0], labels[0], edge_features[0].shape, edges[0].shape, labels[0].shape"
   ],
   "metadata": {
    "collapsed": false,
    "ExecuteTime": {
     "end_time": "2024-02-07T22:16:33.280578023Z",
     "start_time": "2024-02-07T22:16:33.013637539Z"
    }
   },
   "id": "9c3c8be2307a11ae",
   "execution_count": 7
  },
  {
   "cell_type": "markdown",
   "source": [
    "### 1.5 Creating graph representation for Pytorch geometric temporal\n",
    "\n",
    "now we have everything we need to create our dynamic graph"
   ],
   "metadata": {
    "collapsed": false
   },
   "id": "a08ed03f9481cab9"
  },
  {
   "cell_type": "code",
   "outputs": [
    {
     "name": "stdout",
     "output_type": "stream",
     "text": [
      "Example of graph snapshot 5: \n",
      "      Node feature shape: (203, 6) \n",
      "      Edge index shape: (2, 1869) \n",
      "      Edge feature shape: (1869, 3) \n",
      "      Labels shape: (203,)\n",
      "      \n"
     ]
    }
   ],
   "source": [
    "i = 5\n",
    "print(f\"\"\"Example of graph snapshot {i}: \n",
    "      Node feature shape: {node_features[i].shape} \n",
    "      Edge index shape: {edges[i].shape} \n",
    "      Edge feature shape: {edge_features[i].shape} \n",
    "      Labels shape: {labels[i].shape}\n",
    "      \"\"\")"
   ],
   "metadata": {
    "collapsed": false,
    "ExecuteTime": {
     "end_time": "2024-02-07T22:16:33.288546762Z",
     "start_time": "2024-02-07T22:16:33.280856659Z"
    }
   },
   "id": "4727c8ce01ce2afa",
   "execution_count": 8
  },
  {
   "cell_type": "code",
   "outputs": [
    {
     "name": "stdout",
     "output_type": "stream",
     "text": [
      "10\n"
     ]
    }
   ],
   "source": [
    "# finally we can create our dataset iterator\n",
    "from torch_geometric_temporal import DynamicGraphTemporalSignal\n",
    "\n",
    "dataset = DynamicGraphTemporalSignal(\n",
    "    edges, edge_features, node_features, labels\n",
    ")\n",
    "print(dataset.snapshot_count)"
   ],
   "metadata": {
    "collapsed": false,
    "ExecuteTime": {
     "end_time": "2024-02-07T22:16:33.291240159Z",
     "start_time": "2024-02-07T22:16:33.286619916Z"
    }
   },
   "id": "dce551a173634744",
   "execution_count": 9
  },
  {
   "cell_type": "markdown",
   "source": [
    "### 1.6 All of this is done by get_dataset() method of DataTransformation"
   ],
   "metadata": {
    "collapsed": false
   },
   "id": "c6b42ffb412e7ab"
  },
  {
   "cell_type": "code",
   "outputs": [
    {
     "name": "stdout",
     "output_type": "stream",
     "text": [
      "10\n"
     ]
    }
   ],
   "source": [
    "transform = DataTransformation(df, timedelta(365))\n",
    "dataset = transform.get_dataset(node_f_extract=False, edge_f_one_hot=True)\n",
    "\n",
    "print(dataset.snapshot_count)"
   ],
   "metadata": {
    "collapsed": false,
    "ExecuteTime": {
     "end_time": "2024-02-07T22:16:33.766888952Z",
     "start_time": "2024-02-07T22:16:33.293796845Z"
    }
   },
   "id": "1ce7fd5337107655",
   "execution_count": 10
  },
  {
   "cell_type": "markdown",
   "source": [
    "# Models\n",
    "---------------------"
   ],
   "metadata": {
    "collapsed": false
   },
   "id": "47344785ddf2f809"
  },
  {
   "cell_type": "markdown",
   "source": [
    "## 2 GCONVCheb\n",
    "\n",
    "Graph Chebychev convolution model\n",
    "\n",
    "First model we plan to test"
   ],
   "metadata": {
    "collapsed": false
   },
   "id": "49550b18775769a"
  },
  {
   "cell_type": "code",
   "outputs": [
    {
     "data": {
      "text/plain": "GCONVCheb(\n  (act_fn): ReLU()\n  (embedding): Embedding(203, 20)\n  (dense_sequence): Sequential(\n    (lin0): Linear(in_features=32, out_features=8, bias=True)\n    (act0): ReLU()\n    (dropout0): Dropout(p=0.1, inplace=False)\n    (lin1): Linear(in_features=8, out_features=8, bias=True)\n    (act1): ReLU()\n    (dropout1): Dropout(p=0.1, inplace=False)\n    (lin2): Linear(in_features=8, out_features=8, bias=True)\n    (act2): ReLU()\n    (dropout2): Dropout(p=0.1, inplace=False)\n    (lin3): Linear(in_features=8, out_features=8, bias=True)\n    (act3): ReLU()\n    (dropout3): Dropout(p=0.1, inplace=False)\n    (lin4): Linear(in_features=8, out_features=8, bias=True)\n    (act4): ReLU()\n    (dropout4): Dropout(p=0.1, inplace=False)\n    (lin5): Linear(in_features=8, out_features=3, bias=True)\n    (act5): ReLU()\n    (dropout5): Dropout(p=0.1, inplace=False)\n  )\n  (out_layer): Softmax(dim=1)\n)"
     },
     "execution_count": 11,
     "metadata": {},
     "output_type": "execute_result"
    }
   ],
   "source": [
    "from models.models import *\n",
    "from trainer import Trainer\n",
    "\n",
    "team_count = transform.num_teams\n",
    "\n",
    "# We will use the default implemented setting: \n",
    "#\n",
    "# GCONVLSTM(self, team_count: int,\n",
    "#                 embed_dim: int = 10,\n",
    "#                 dense_dims: tuple[int] = (8, 8, 8, 8, 8),\n",
    "#                 conv_out_dim: int = 16,\n",
    "#                 dropout_rate: float = 0.1,\n",
    "#                 activation: str = 'relu',\n",
    "#                 K: int = 5):\n",
    "model = GCONVCheb(team_count)\n",
    "model"
   ],
   "metadata": {
    "collapsed": false,
    "ExecuteTime": {
     "end_time": "2024-02-07T22:16:33.783837218Z",
     "start_time": "2024-02-07T22:16:33.759947414Z"
    }
   },
   "id": "4b2073546ee4448",
   "execution_count": 11
  },
  {
   "cell_type": "markdown",
   "source": [
    "### 2.1 Training"
   ],
   "metadata": {
    "collapsed": false
   },
   "id": "b499f59c1dcc87d8"
  },
  {
   "cell_type": "code",
   "outputs": [
    {
     "name": "stderr",
     "output_type": "stream",
     "text": [
      "2024-02-07 23:16:33.877 | INFO     | trainer:train:56 - [TRN] Epoch: 0, training loss: 2.219, training accuracy: 36.58% \n",
      "2024-02-07 23:16:33.967 | INFO     | trainer:train:56 - [TRN] Epoch: 1, training loss: 2.217, training accuracy: 36.58% \n",
      "2024-02-07 23:16:34.059 | INFO     | trainer:train:56 - [TRN] Epoch: 2, training loss: 2.214, training accuracy: 36.53% \n",
      "2024-02-07 23:16:34.146 | INFO     | trainer:train:56 - [TRN] Epoch: 3, training loss: 2.214, training accuracy: 36.35% \n",
      "2024-02-07 23:16:34.239 | INFO     | trainer:train:56 - [TRN] Epoch: 4, training loss: 2.212, training accuracy: 36.61% \n",
      "2024-02-07 23:16:34.333 | INFO     | trainer:train:56 - [TRN] Epoch: 5, training loss: 2.210, training accuracy: 36.82% \n",
      "2024-02-07 23:16:34.434 | INFO     | trainer:train:56 - [TRN] Epoch: 6, training loss: 2.209, training accuracy: 36.19% \n",
      "2024-02-07 23:16:34.527 | INFO     | trainer:train:56 - [TRN] Epoch: 7, training loss: 2.206, training accuracy: 37.34% \n",
      "2024-02-07 23:16:34.608 | INFO     | trainer:train:56 - [TRN] Epoch: 8, training loss: 2.205, training accuracy: 37.31% \n",
      "2024-02-07 23:16:34.692 | INFO     | trainer:train:56 - [TRN] Epoch: 9, training loss: 2.203, training accuracy: 37.05% \n",
      "2024-02-07 23:16:34.777 | INFO     | trainer:train:56 - [TRN] Epoch: 10, training loss: 2.203, training accuracy: 37.13% \n",
      "2024-02-07 23:16:34.862 | INFO     | trainer:train:56 - [TRN] Epoch: 11, training loss: 2.201, training accuracy: 36.69% \n",
      "2024-02-07 23:16:34.952 | INFO     | trainer:train:56 - [TRN] Epoch: 12, training loss: 2.199, training accuracy: 37.05% \n",
      "2024-02-07 23:16:35.034 | INFO     | trainer:train:56 - [TRN] Epoch: 13, training loss: 2.198, training accuracy: 36.90% \n",
      "2024-02-07 23:16:35.119 | INFO     | trainer:train:56 - [TRN] Epoch: 14, training loss: 2.195, training accuracy: 37.00% \n",
      "2024-02-07 23:16:35.205 | INFO     | trainer:train:56 - [TRN] Epoch: 15, training loss: 2.193, training accuracy: 37.31% \n",
      "2024-02-07 23:16:35.288 | INFO     | trainer:train:56 - [TRN] Epoch: 16, training loss: 2.192, training accuracy: 39.63% \n",
      "2024-02-07 23:16:35.402 | INFO     | trainer:train:56 - [TRN] Epoch: 17, training loss: 2.189, training accuracy: 41.50% \n",
      "2024-02-07 23:16:35.512 | INFO     | trainer:train:56 - [TRN] Epoch: 18, training loss: 2.190, training accuracy: 39.52% \n",
      "2024-02-07 23:16:35.592 | INFO     | trainer:train:56 - [TRN] Epoch: 19, training loss: 2.186, training accuracy: 40.59% \n",
      "2024-02-07 23:16:35.680 | INFO     | trainer:train:56 - [TRN] Epoch: 20, training loss: 2.186, training accuracy: 40.46% \n",
      "2024-02-07 23:16:35.765 | INFO     | trainer:train:56 - [TRN] Epoch: 21, training loss: 2.185, training accuracy: 40.54% \n",
      "2024-02-07 23:16:35.849 | INFO     | trainer:train:56 - [TRN] Epoch: 22, training loss: 2.182, training accuracy: 40.95% \n",
      "2024-02-07 23:16:35.934 | INFO     | trainer:train:56 - [TRN] Epoch: 23, training loss: 2.180, training accuracy: 41.50% \n",
      "2024-02-07 23:16:36.023 | INFO     | trainer:train:56 - [TRN] Epoch: 24, training loss: 2.180, training accuracy: 40.80% \n",
      "2024-02-07 23:16:36.105 | INFO     | trainer:train:56 - [TRN] Epoch: 25, training loss: 2.177, training accuracy: 41.45% \n",
      "2024-02-07 23:16:36.185 | INFO     | trainer:train:56 - [TRN] Epoch: 26, training loss: 2.175, training accuracy: 41.55% \n",
      "2024-02-07 23:16:36.268 | INFO     | trainer:train:56 - [TRN] Epoch: 27, training loss: 2.172, training accuracy: 41.21% \n",
      "2024-02-07 23:16:36.350 | INFO     | trainer:train:56 - [TRN] Epoch: 28, training loss: 2.172, training accuracy: 41.32% \n",
      "2024-02-07 23:16:36.442 | INFO     | trainer:train:56 - [TRN] Epoch: 29, training loss: 2.169, training accuracy: 41.65% \n",
      "2024-02-07 23:16:36.532 | INFO     | trainer:train:56 - [TRN] Epoch: 30, training loss: 2.168, training accuracy: 40.90% \n",
      "2024-02-07 23:16:36.613 | INFO     | trainer:train:56 - [TRN] Epoch: 31, training loss: 2.166, training accuracy: 41.16% \n",
      "2024-02-07 23:16:36.696 | INFO     | trainer:train:56 - [TRN] Epoch: 32, training loss: 2.162, training accuracy: 41.76% \n",
      "2024-02-07 23:16:36.780 | INFO     | trainer:train:56 - [TRN] Epoch: 33, training loss: 2.160, training accuracy: 41.71% \n",
      "2024-02-07 23:16:36.864 | INFO     | trainer:train:56 - [TRN] Epoch: 34, training loss: 2.159, training accuracy: 40.64% \n",
      "2024-02-07 23:16:36.967 | INFO     | trainer:train:56 - [TRN] Epoch: 35, training loss: 2.157, training accuracy: 41.63% \n",
      "2024-02-07 23:16:37.047 | INFO     | trainer:train:56 - [TRN] Epoch: 36, training loss: 2.156, training accuracy: 41.37% \n",
      "2024-02-07 23:16:37.128 | INFO     | trainer:train:56 - [TRN] Epoch: 37, training loss: 2.153, training accuracy: 41.24% \n",
      "2024-02-07 23:16:37.211 | INFO     | trainer:train:56 - [TRN] Epoch: 38, training loss: 2.150, training accuracy: 41.58% \n",
      "2024-02-07 23:16:37.295 | INFO     | trainer:train:56 - [TRN] Epoch: 39, training loss: 2.148, training accuracy: 41.58% \n",
      "2024-02-07 23:16:37.378 | INFO     | trainer:train:56 - [TRN] Epoch: 40, training loss: 2.146, training accuracy: 41.37% \n",
      "2024-02-07 23:16:37.482 | INFO     | trainer:train:56 - [TRN] Epoch: 41, training loss: 2.142, training accuracy: 41.68% \n",
      "2024-02-07 23:16:37.567 | INFO     | trainer:train:56 - [TRN] Epoch: 42, training loss: 2.140, training accuracy: 41.58% \n",
      "2024-02-07 23:16:37.649 | INFO     | trainer:train:56 - [TRN] Epoch: 43, training loss: 2.141, training accuracy: 40.72% \n",
      "2024-02-07 23:16:37.732 | INFO     | trainer:train:56 - [TRN] Epoch: 44, training loss: 2.135, training accuracy: 42.02% \n",
      "2024-02-07 23:16:37.809 | INFO     | trainer:train:56 - [TRN] Epoch: 45, training loss: 2.132, training accuracy: 42.64% \n",
      "2024-02-07 23:16:37.891 | INFO     | trainer:train:56 - [TRN] Epoch: 46, training loss: 2.132, training accuracy: 43.14% \n",
      "2024-02-07 23:16:37.995 | INFO     | trainer:train:56 - [TRN] Epoch: 47, training loss: 2.131, training accuracy: 42.17% \n",
      "2024-02-07 23:16:38.081 | INFO     | trainer:train:56 - [TRN] Epoch: 48, training loss: 2.127, training accuracy: 42.43% \n",
      "2024-02-07 23:16:38.161 | INFO     | trainer:train:56 - [TRN] Epoch: 49, training loss: 2.123, training accuracy: 42.28% \n",
      "2024-02-07 23:16:38.240 | INFO     | trainer:train:56 - [TRN] Epoch: 50, training loss: 2.120, training accuracy: 43.29% \n",
      "2024-02-07 23:16:38.320 | INFO     | trainer:train:56 - [TRN] Epoch: 51, training loss: 2.117, training accuracy: 43.19% \n",
      "2024-02-07 23:16:38.401 | INFO     | trainer:train:56 - [TRN] Epoch: 52, training loss: 2.114, training accuracy: 49.43% \n",
      "2024-02-07 23:16:38.490 | INFO     | trainer:train:56 - [TRN] Epoch: 53, training loss: 2.112, training accuracy: 50.60% \n",
      "2024-02-07 23:16:38.571 | INFO     | trainer:train:56 - [TRN] Epoch: 54, training loss: 2.108, training accuracy: 52.21% \n",
      "2024-02-07 23:16:38.652 | INFO     | trainer:train:56 - [TRN] Epoch: 55, training loss: 2.104, training accuracy: 52.37% \n",
      "2024-02-07 23:16:38.731 | INFO     | trainer:train:56 - [TRN] Epoch: 56, training loss: 2.099, training accuracy: 52.94% \n",
      "2024-02-07 23:16:38.813 | INFO     | trainer:train:56 - [TRN] Epoch: 57, training loss: 2.098, training accuracy: 52.73% \n",
      "2024-02-07 23:16:38.898 | INFO     | trainer:train:56 - [TRN] Epoch: 58, training loss: 2.095, training accuracy: 54.97% \n",
      "2024-02-07 23:16:38.987 | INFO     | trainer:train:56 - [TRN] Epoch: 59, training loss: 2.089, training accuracy: 55.67% \n",
      "2024-02-07 23:16:39.072 | INFO     | trainer:train:56 - [TRN] Epoch: 60, training loss: 2.089, training accuracy: 55.12% \n",
      "2024-02-07 23:16:39.150 | INFO     | trainer:train:56 - [TRN] Epoch: 61, training loss: 2.086, training accuracy: 55.64% \n",
      "2024-02-07 23:16:39.235 | INFO     | trainer:train:56 - [TRN] Epoch: 62, training loss: 2.086, training accuracy: 56.03% \n",
      "2024-02-07 23:16:39.316 | INFO     | trainer:train:56 - [TRN] Epoch: 63, training loss: 2.079, training accuracy: 56.58% \n",
      "2024-02-07 23:16:39.393 | INFO     | trainer:train:56 - [TRN] Epoch: 64, training loss: 2.076, training accuracy: 56.53% \n",
      "2024-02-07 23:16:39.479 | INFO     | trainer:train:56 - [TRN] Epoch: 65, training loss: 2.076, training accuracy: 56.34% \n",
      "2024-02-07 23:16:39.571 | INFO     | trainer:train:56 - [TRN] Epoch: 66, training loss: 2.071, training accuracy: 56.89% \n",
      "2024-02-07 23:16:39.655 | INFO     | trainer:train:56 - [TRN] Epoch: 67, training loss: 2.071, training accuracy: 56.63% \n",
      "2024-02-07 23:16:39.734 | INFO     | trainer:train:56 - [TRN] Epoch: 68, training loss: 2.065, training accuracy: 56.63% \n",
      "2024-02-07 23:16:39.814 | INFO     | trainer:train:56 - [TRN] Epoch: 69, training loss: 2.063, training accuracy: 56.79% \n",
      "2024-02-07 23:16:39.892 | INFO     | trainer:train:56 - [TRN] Epoch: 70, training loss: 2.056, training accuracy: 57.59% \n",
      "2024-02-07 23:16:39.973 | INFO     | trainer:train:56 - [TRN] Epoch: 71, training loss: 2.055, training accuracy: 56.73% \n",
      "2024-02-07 23:16:40.059 | INFO     | trainer:train:56 - [TRN] Epoch: 72, training loss: 2.054, training accuracy: 55.49% \n",
      "2024-02-07 23:16:40.144 | INFO     | trainer:train:56 - [TRN] Epoch: 73, training loss: 2.044, training accuracy: 56.50% \n",
      "2024-02-07 23:16:40.224 | INFO     | trainer:train:56 - [TRN] Epoch: 74, training loss: 2.043, training accuracy: 55.95% \n",
      "2024-02-07 23:16:40.305 | INFO     | trainer:train:56 - [TRN] Epoch: 75, training loss: 2.033, training accuracy: 57.33% \n",
      "2024-02-07 23:16:40.386 | INFO     | trainer:train:56 - [TRN] Epoch: 76, training loss: 2.036, training accuracy: 55.15% \n",
      "2024-02-07 23:16:40.467 | INFO     | trainer:train:56 - [TRN] Epoch: 77, training loss: 2.026, training accuracy: 56.63% \n",
      "2024-02-07 23:16:40.559 | INFO     | trainer:train:56 - [TRN] Epoch: 78, training loss: 2.020, training accuracy: 56.68% \n",
      "2024-02-07 23:16:40.646 | INFO     | trainer:train:56 - [TRN] Epoch: 79, training loss: 2.011, training accuracy: 57.57% \n",
      "2024-02-07 23:16:40.729 | INFO     | trainer:train:56 - [TRN] Epoch: 80, training loss: 2.004, training accuracy: 57.75% \n",
      "2024-02-07 23:16:40.810 | INFO     | trainer:train:56 - [TRN] Epoch: 81, training loss: 1.997, training accuracy: 57.72% \n",
      "2024-02-07 23:16:40.890 | INFO     | trainer:train:56 - [TRN] Epoch: 82, training loss: 1.998, training accuracy: 57.62% \n",
      "2024-02-07 23:16:40.970 | INFO     | trainer:train:56 - [TRN] Epoch: 83, training loss: 1.987, training accuracy: 57.23% \n",
      "2024-02-07 23:16:41.054 | INFO     | trainer:train:56 - [TRN] Epoch: 84, training loss: 1.973, training accuracy: 58.84% \n",
      "2024-02-07 23:16:41.138 | INFO     | trainer:train:56 - [TRN] Epoch: 85, training loss: 1.976, training accuracy: 57.49% \n",
      "2024-02-07 23:16:41.219 | INFO     | trainer:train:56 - [TRN] Epoch: 86, training loss: 1.966, training accuracy: 58.48% \n",
      "2024-02-07 23:16:41.306 | INFO     | trainer:train:56 - [TRN] Epoch: 87, training loss: 1.962, training accuracy: 58.35% \n",
      "2024-02-07 23:16:41.390 | INFO     | trainer:train:56 - [TRN] Epoch: 88, training loss: 1.955, training accuracy: 58.14% \n",
      "2024-02-07 23:16:41.471 | INFO     | trainer:train:56 - [TRN] Epoch: 89, training loss: 1.951, training accuracy: 58.37% \n",
      "2024-02-07 23:16:41.558 | INFO     | trainer:train:56 - [TRN] Epoch: 90, training loss: 1.941, training accuracy: 58.42% \n",
      "2024-02-07 23:16:41.637 | INFO     | trainer:train:56 - [TRN] Epoch: 91, training loss: 1.948, training accuracy: 58.55% \n",
      "2024-02-07 23:16:41.724 | INFO     | trainer:train:56 - [TRN] Epoch: 92, training loss: 1.947, training accuracy: 57.96% \n",
      "2024-02-07 23:16:41.807 | INFO     | trainer:train:56 - [TRN] Epoch: 93, training loss: 1.939, training accuracy: 58.16% \n",
      "2024-02-07 23:16:41.888 | INFO     | trainer:train:56 - [TRN] Epoch: 94, training loss: 1.941, training accuracy: 58.01% \n",
      "2024-02-07 23:16:41.969 | INFO     | trainer:train:56 - [TRN] Epoch: 95, training loss: 1.930, training accuracy: 58.63% \n",
      "2024-02-07 23:16:42.056 | INFO     | trainer:train:56 - [TRN] Epoch: 96, training loss: 1.934, training accuracy: 59.02% \n",
      "2024-02-07 23:16:42.138 | INFO     | trainer:train:56 - [TRN] Epoch: 97, training loss: 1.919, training accuracy: 59.13% \n",
      "2024-02-07 23:16:42.218 | INFO     | trainer:train:56 - [TRN] Epoch: 98, training loss: 1.934, training accuracy: 58.22% \n",
      "2024-02-07 23:16:42.298 | INFO     | trainer:train:56 - [TRN] Epoch: 99, training loss: 1.947, training accuracy: 57.49% \n"
     ]
    },
    {
     "data": {
      "text/plain": "<Axes: xlabel='index', ylabel='training_accuracy'>"
     },
     "execution_count": 12,
     "metadata": {},
     "output_type": "execute_result"
    },
    {
     "data": {
      "text/plain": "<Figure size 640x480 with 1 Axes>",
      "image/png": "[encoded data removed]"
     },
     "metadata": {},
     "output_type": "display_data"
    }
   ],
   "source": [
    "trainer = Trainer(dataset, model)\n",
    "\n",
    "training_accuracy = trainer.train(epochs=100, verbose=True)\n",
    "sns.lineplot(x=\"index\", y=\"training_accuracy\", data=pd.DataFrame(training_accuracy, columns=[\"training_accuracy\"]).reset_index())"
   ],
   "metadata": {
    "collapsed": false,
    "ExecuteTime": {
     "end_time": "2024-02-07T22:16:42.548045560Z",
     "start_time": "2024-02-07T22:16:33.780526104Z"
    }
   },
   "id": "83beef0bc77755e9",
   "execution_count": 12
  },
  {
   "cell_type": "markdown",
   "source": [
    "### 2.2 Testing"
   ],
   "metadata": {
    "collapsed": false
   },
   "id": "6b982d401f47cf95"
  },
  {
   "cell_type": "code",
   "outputs": [
    {
     "name": "stderr",
     "output_type": "stream",
     "text": [
      "2024-02-07 23:16:46.584 | INFO     | trainer:test:75 - [TST] Testing accuracy: 58.66%\n"
     ]
    },
    {
     "data": {
      "text/plain": "0.5865748244192328"
     },
     "execution_count": 13,
     "metadata": {},
     "output_type": "execute_result"
    }
   ],
   "source": [
    "trainer.test(verbose=True)"
   ],
   "metadata": {
    "collapsed": false,
    "ExecuteTime": {
     "end_time": "2024-02-07T22:16:46.592517081Z",
     "start_time": "2024-02-07T22:16:46.369778682Z"
    }
   },
   "id": "687d2eaba703a4a7",
   "execution_count": 13
  }
 ],
 "metadata": {
  "kernelspec": {
   "display_name": "Python 3",
   "language": "python",
   "name": "python3"
  },
  "language_info": {
   "codemirror_mode": {
    "name": "ipython",
    "version": 2
   },
   "file_extension": ".py",
   "mimetype": "text/x-python",
   "name": "python",
   "nbconvert_exporter": "python",
   "pygments_lexer": "ipython2",
   "version": "2.7.6"
  }
 },
 "nbformat": 4,
 "nbformat_minor": 5
}
