{
 "cells": [
  {
   "cell_type": "markdown",
   "source": [
    "### imports"
   ],
   "metadata": {
    "collapsed": false
   },
   "id": "d96876e92d728cfa"
  },
  {
   "cell_type": "code",
   "execution_count": null,
   "id": "initial_id",
   "metadata": {
    "collapsed": true,
    "is_executing": true
   },
   "outputs": [],
   "source": [
    "import torch\n",
    "from gnn_temporal import RecurrentGCN\n",
    "from torch_geometric_temporal import ChickenpoxDatasetLoader\n",
    "from torch_geometric_temporal import temporal_signal_split\n"
   ]
  },
  {
   "cell_type": "markdown",
   "source": [
    "### Get data"
   ],
   "metadata": {
    "collapsed": false
   },
   "id": "f03107cec631a691"
  },
  {
   "cell_type": "code",
   "outputs": [],
   "source": [
    "loader = ChickenpoxDatasetLoader()\n",
    "dataset = loader.get_dataset()\n",
    "\n",
    "train, test = temporal_signal_split(dataset, train_ratio=0.9)"
   ],
   "metadata": {
    "collapsed": false,
    "is_executing": true
   },
   "id": "5392d52e3af0d6f0"
  },
  {
   "cell_type": "markdown",
   "source": [
    "### tarining"
   ],
   "metadata": {
    "collapsed": false
   },
   "id": "90747bbc1135008b"
  },
  {
   "cell_type": "code",
   "outputs": [],
   "source": [
    "model = RecurrentGCN(node_features=8, filters=32)\n",
    "\n",
    "optimizer = torch.optim.Adam(model.parameters(), lr=0.01)\n",
    "\n",
    "model.train()\n",
    "\n",
    "for epoch in range(200):\n",
    "    cost = 0\n",
    "    for time, snapshot in enumerate(train):\n",
    "        y_hat = model(snapshot.x, snapshot.edge_index, snapshot.edge_attr)\n",
    "        cost = cost + torch.mean((y_hat-snapshot.y)**2)\n",
    "    cost = cost / (time+1)\n",
    "    cost.backward()\n",
    "    optimizer.step()\n",
    "    optimizer.zero_grad()"
   ],
   "metadata": {
    "collapsed": false
   },
   "id": "6109cde7792188fa"
  },
  {
   "cell_type": "markdown",
   "source": [
    "### eval"
   ],
   "metadata": {
    "collapsed": false
   },
   "id": "1382b0836bb2bc31"
  },
  {
   "cell_type": "code",
   "outputs": [],
   "source": [
    "model.eval()\n",
    "cost = 0\n",
    "for time, snapshot in enumerate(test):\n",
    "    y_hat = model(snapshot.x, snapshot.edge_index, snapshot.edge_attr)\n",
    "    cost = cost + torch.mean((y_hat-snapshot.y)**2)\n",
    "cost = cost / (time+1)\n",
    "cost = cost.item()\n",
    "print(\"MSE: {:.4f}\".format(cost))"
   ],
   "metadata": {
    "collapsed": false
   },
   "id": "30f3e98403f8c219"
  }
 ],
 "metadata": {
  "kernelspec": {
   "display_name": "Python 3",
   "language": "python",
   "name": "python3"
  },
  "language_info": {
   "codemirror_mode": {
    "name": "ipython",
    "version": 2
   },
   "file_extension": ".py",
   "mimetype": "text/x-python",
   "name": "python",
   "nbconvert_exporter": "python",
   "pygments_lexer": "ipython2",
   "version": "2.7.6"
  }
 },
 "nbformat": 4,
 "nbformat_minor": 5
}
