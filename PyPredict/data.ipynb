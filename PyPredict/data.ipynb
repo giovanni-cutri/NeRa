{
 "cells": [
  {
   "cell_type": "code",
   "outputs": [
    {
     "name": "stderr",
     "output_type": "stream",
     "text": [
      "/home/kubos/anaconda3/envs/bp/lib/python3.11/site-packages/paramiko/transport.py:219: CryptographyDeprecationWarning: Blowfish has been deprecated\n",
      "  \"class\": algorithms.Blowfish,\n"
     ]
    }
   ],
   "source": [
    "from data_management.data_acquisition import DataAcquisition\n",
    "from data_management.data_transformation import DataTransformation\n",
    "from data_management import FROM_CSV\n",
    "import pandas as pd\n",
    "from datetime import datetime, timedelta\n",
    "import seaborn as sns"
   ],
   "metadata": {
    "collapsed": false,
    "ExecuteTime": {
     "end_time": "2024-02-03T17:55:18.700581726Z",
     "start_time": "2024-02-03T17:55:15.637833281Z"
    }
   },
   "id": "6d199e2aaad16bac",
   "execution_count": 1
  },
  {
   "cell_type": "markdown",
   "source": [
    "# 1 Data transformation\n",
    "\n",
    "| Element of graph |                                                                   Usage in our case                                                                   | \n",
    "|:-----------------|:-----------------------------------------------------------------------------------------------------------------------------------------------------:| \n",
    "| Nodes            |                                                                         Teams                                                                         | \n",
    "| Nodes Features   | altogether home wins, home losses, away win and away losses, all points scored by team, all points lost to another team until the end of the snapshot | \n",
    "| Edges            |                                                           Matches between individual teams                                                            | \n",
    "| Edge features    |                                           0 - home win, 1 - draw, 2 - away win => match outcome prediction                                            |\n",
    "| Node labels      |                                                               individual teams ranking                                                                |\n",
    "\n",
    "\n",
    "What type of graph do we have? - Number of vertices in our graphs is static - it is the number of all teams that we want to train on. Number of edges changes over time. Edges represent matches. So the graph is dynamic. Some vertices may not be connected in each graph snapshot, because there may be season, in which a team may not have played any match within selected league. Although this will create a redundancy in our feature matrix, it is more straightforward to implement, than reindexing teams in each snapshot in order to incorporate only those vertices with edges. So we are dealing with so called 'Dynamic graph temporal signal'."
   ],
   "metadata": {
    "collapsed": false
   },
   "id": "af279bd521d5cb6f"
  },
  {
   "cell_type": "code",
   "outputs": [
    {
     "name": "stderr",
     "output_type": "stream",
     "text": [
      "2024-02-03 18:55:18.758 | INFO     | data_management._data_saving_loading:load_data_csv:70 - 21100 rows loaded from ../resources/other_leagues.csv\n"
     ]
    },
    {
     "name": "stdout",
     "output_type": "stream",
     "text": [
      "2012-09-25 18:00:00 2024-11-14 20:45:00\n"
     ]
    },
    {
     "data": {
      "text/plain": "<Axes: xlabel='index', ylabel='matches_in_snapshot'>"
     },
     "execution_count": 2,
     "metadata": {},
     "output_type": "execute_result"
    },
    {
     "data": {
      "text/plain": "<Figure size 640x480 with 1 Axes>",
      "image/png": "[encoded data removed]"
     },
     "metadata": {},
     "output_type": "display_data"
    }
   ],
   "source": [
    "da = DataAcquisition()\n",
    "df = da.get_data(FROM_CSV, fname=\"../resources/other_leagues.csv\")\n",
    "\n",
    "# see how many matches occupy each graph snapshot\n",
    "df['DT'] = pd.to_datetime(df['DT'], format=\"%Y-%m-%d %H:%M:%S\")\n",
    "\n",
    "start_date = min(df['DT'])\n",
    "end_date = max(df['DT'])\n",
    "print(start_date, end_date)\n",
    "delta = timedelta(days=365) # 1 season duration is about 6 months, then there are 6 months when no league tournaments are played\n",
    "snapshots = []\n",
    "\n",
    "while start_date <= end_date:\n",
    "    snapshots.append(df[((start_date + delta >= df['DT']) & (start_date <= df['DT']))].shape[0])\n",
    "    start_date += delta\n",
    "    \n",
    "sns.scatterplot(x=\"index\", y=\"matches_in_snapshot\", data=pd.DataFrame(snapshots, columns=[\"matches_in_snapshot\"]).reset_index())\n",
    "\n",
    "    "
   ],
   "metadata": {
    "collapsed": false,
    "ExecuteTime": {
     "end_time": "2024-02-03T17:55:19.212751550Z",
     "start_time": "2024-02-03T17:55:18.705855129Z"
    }
   },
   "id": "dacf4964d7300cb9",
   "execution_count": 2
  },
  {
   "cell_type": "markdown",
   "source": [
    "We can see that in each snapshot (representing 1 year), there are about 1800 matches in selected leagues altogether. That should be enough information for the graph neural network to learn from. But we need to try that first \n",
    "\n",
    "Normally methods showcased bellow are called from data_transform.transform() method, but in our case we want to see how they work\n"
   ],
   "metadata": {
    "collapsed": false
   },
   "id": "ff6836df9a470838"
  },
  {
   "cell_type": "code",
   "outputs": [
    {
     "data": {
      "text/plain": "  League                  DT           Home           Away Winner  \\\n0    NBL 2024-11-12 17:00:00    Srsni Pisek  Slavia Prague   away   \n1    NBL 2024-11-11 17:45:00          Kolin  Usti n. Labem   home   \n2    NBL 2024-11-11 17:30:00      Pardubice          Decin   away   \n3    NBL 2024-11-11 17:00:00          Opava     NH Ostrava   home   \n4    NBL 2024-11-11 15:30:00           Brno     USK Prague   home   \n5    NBL 2024-11-11 15:00:00        Nymburk      Olomoucko   home   \n6    NBL 2024-11-08 17:30:00      Pardubice          Opava   home   \n7    NBL 2024-11-04 20:00:00          Opava          Decin   away   \n8    NBL 2024-11-04 20:00:00  Slavia Prague           Brno   away   \n9    NBL 2024-11-04 18:00:00      Olomoucko    Srsni Pisek   away   \n\n   Home_points  Away_points  \n0          104           69  \n1          112          108  \n2           64           99  \n3           80           75  \n4           75           63  \n5           95           71  \n6           91          103  \n7          116           91  \n8           76           80  \n9           81           98  ",
      "text/html": "<div>\n<style scoped>\n    .dataframe tbody tr th:only-of-type {\n        vertical-align: middle;\n    }\n\n    .dataframe tbody tr th {\n        vertical-align: top;\n    }\n\n    .dataframe thead th {\n        text-align: right;\n    }\n</style>\n<table border=\"1\" class=\"dataframe\">\n  <thead>\n    <tr style=\"text-align: right;\">\n      <th></th>\n      <th>League</th>\n      <th>DT</th>\n      <th>Home</th>\n      <th>Away</th>\n      <th>Winner</th>\n      <th>Home_points</th>\n      <th>Away_points</th>\n    </tr>\n  </thead>\n  <tbody>\n    <tr>\n      <th>0</th>\n      <td>NBL</td>\n      <td>2024-11-12 17:00:00</td>\n      <td>Srsni Pisek</td>\n      <td>Slavia Prague</td>\n      <td>away</td>\n      <td>104</td>\n      <td>69</td>\n    </tr>\n    <tr>\n      <th>1</th>\n      <td>NBL</td>\n      <td>2024-11-11 17:45:00</td>\n      <td>Kolin</td>\n      <td>Usti n. Labem</td>\n      <td>home</td>\n      <td>112</td>\n      <td>108</td>\n    </tr>\n    <tr>\n      <th>2</th>\n      <td>NBL</td>\n      <td>2024-11-11 17:30:00</td>\n      <td>Pardubice</td>\n      <td>Decin</td>\n      <td>away</td>\n      <td>64</td>\n      <td>99</td>\n    </tr>\n    <tr>\n      <th>3</th>\n      <td>NBL</td>\n      <td>2024-11-11 17:00:00</td>\n      <td>Opava</td>\n      <td>NH Ostrava</td>\n      <td>home</td>\n      <td>80</td>\n      <td>75</td>\n    </tr>\n    <tr>\n      <th>4</th>\n      <td>NBL</td>\n      <td>2024-11-11 15:30:00</td>\n      <td>Brno</td>\n      <td>USK Prague</td>\n      <td>home</td>\n      <td>75</td>\n      <td>63</td>\n    </tr>\n    <tr>\n      <th>5</th>\n      <td>NBL</td>\n      <td>2024-11-11 15:00:00</td>\n      <td>Nymburk</td>\n      <td>Olomoucko</td>\n      <td>home</td>\n      <td>95</td>\n      <td>71</td>\n    </tr>\n    <tr>\n      <th>6</th>\n      <td>NBL</td>\n      <td>2024-11-08 17:30:00</td>\n      <td>Pardubice</td>\n      <td>Opava</td>\n      <td>home</td>\n      <td>91</td>\n      <td>103</td>\n    </tr>\n    <tr>\n      <th>7</th>\n      <td>NBL</td>\n      <td>2024-11-04 20:00:00</td>\n      <td>Opava</td>\n      <td>Decin</td>\n      <td>away</td>\n      <td>116</td>\n      <td>91</td>\n    </tr>\n    <tr>\n      <th>8</th>\n      <td>NBL</td>\n      <td>2024-11-04 20:00:00</td>\n      <td>Slavia Prague</td>\n      <td>Brno</td>\n      <td>away</td>\n      <td>76</td>\n      <td>80</td>\n    </tr>\n    <tr>\n      <th>9</th>\n      <td>NBL</td>\n      <td>2024-11-04 18:00:00</td>\n      <td>Olomoucko</td>\n      <td>Srsni Pisek</td>\n      <td>away</td>\n      <td>81</td>\n      <td>98</td>\n    </tr>\n  </tbody>\n</table>\n</div>"
     },
     "execution_count": 3,
     "metadata": {},
     "output_type": "execute_result"
    }
   ],
   "source": [
    "# constructor of DataTransformation class drops columns that are not used by our models\n",
    "data_transform = DataTransformation(df, timedelta(365))\n",
    "\n",
    "data_transform.df.head(10)"
   ],
   "metadata": {
    "collapsed": false,
    "ExecuteTime": {
     "end_time": "2024-02-03T17:55:19.310110060Z",
     "start_time": "2024-02-03T17:55:19.226978999Z"
    }
   },
   "id": "cf05c0bea69c1cb9",
   "execution_count": 3
  },
  {
   "cell_type": "markdown",
   "source": [
    "### 1.1 map teams to unique ids and match outcomes to integer values\n",
    "\n",
    "| Winner | Integer value in table | \n",
    "|:-------|:----------------------:|\n",
    "| Home   |           0            | \n",
    "| Away   |           2            | \n",
    "| Draw   |           1            | "
   ],
   "metadata": {
    "collapsed": false
   },
   "id": "a70ad762bfef82c3"
  },
  {
   "cell_type": "code",
   "outputs": [
    {
     "name": "stderr",
     "output_type": "stream",
     "text": [
      "2024-02-03 18:55:19.310 | INFO     | data_management.data_transformation:_map_match_outcomes:56 - There are 12393 home wins, 6 draws and 8701 away wins in the dataset\n"
     ]
    },
    {
     "data": {
      "text/plain": "  League                  DT  Home  Away Winner  Home_points  Away_points\n0    NBL 2024-11-12 17:00:00     0     6      2          104           69\n1    NBL 2024-11-11 17:45:00     1    10      0          112          108\n2    NBL 2024-11-11 17:30:00     2     9      2           64           99\n3    NBL 2024-11-11 17:00:00     3    11      0           80           75\n4    NBL 2024-11-11 15:30:00     4     8      0           75           63\n5    NBL 2024-11-11 15:00:00     5     7      0           95           71\n6    NBL 2024-11-08 17:30:00     2     3      0           91          103\n7    NBL 2024-11-04 20:00:00     3     9      2          116           91\n8    NBL 2024-11-04 20:00:00     6     4      2           76           80\n9    NBL 2024-11-04 18:00:00     7     0      2           81           98",
      "text/html": "<div>\n<style scoped>\n    .dataframe tbody tr th:only-of-type {\n        vertical-align: middle;\n    }\n\n    .dataframe tbody tr th {\n        vertical-align: top;\n    }\n\n    .dataframe thead th {\n        text-align: right;\n    }\n</style>\n<table border=\"1\" class=\"dataframe\">\n  <thead>\n    <tr style=\"text-align: right;\">\n      <th></th>\n      <th>League</th>\n      <th>DT</th>\n      <th>Home</th>\n      <th>Away</th>\n      <th>Winner</th>\n      <th>Home_points</th>\n      <th>Away_points</th>\n    </tr>\n  </thead>\n  <tbody>\n    <tr>\n      <th>0</th>\n      <td>NBL</td>\n      <td>2024-11-12 17:00:00</td>\n      <td>0</td>\n      <td>6</td>\n      <td>2</td>\n      <td>104</td>\n      <td>69</td>\n    </tr>\n    <tr>\n      <th>1</th>\n      <td>NBL</td>\n      <td>2024-11-11 17:45:00</td>\n      <td>1</td>\n      <td>10</td>\n      <td>0</td>\n      <td>112</td>\n      <td>108</td>\n    </tr>\n    <tr>\n      <th>2</th>\n      <td>NBL</td>\n      <td>2024-11-11 17:30:00</td>\n      <td>2</td>\n      <td>9</td>\n      <td>2</td>\n      <td>64</td>\n      <td>99</td>\n    </tr>\n    <tr>\n      <th>3</th>\n      <td>NBL</td>\n      <td>2024-11-11 17:00:00</td>\n      <td>3</td>\n      <td>11</td>\n      <td>0</td>\n      <td>80</td>\n      <td>75</td>\n    </tr>\n    <tr>\n      <th>4</th>\n      <td>NBL</td>\n      <td>2024-11-11 15:30:00</td>\n      <td>4</td>\n      <td>8</td>\n      <td>0</td>\n      <td>75</td>\n      <td>63</td>\n    </tr>\n    <tr>\n      <th>5</th>\n      <td>NBL</td>\n      <td>2024-11-11 15:00:00</td>\n      <td>5</td>\n      <td>7</td>\n      <td>0</td>\n      <td>95</td>\n      <td>71</td>\n    </tr>\n    <tr>\n      <th>6</th>\n      <td>NBL</td>\n      <td>2024-11-08 17:30:00</td>\n      <td>2</td>\n      <td>3</td>\n      <td>0</td>\n      <td>91</td>\n      <td>103</td>\n    </tr>\n    <tr>\n      <th>7</th>\n      <td>NBL</td>\n      <td>2024-11-04 20:00:00</td>\n      <td>3</td>\n      <td>9</td>\n      <td>2</td>\n      <td>116</td>\n      <td>91</td>\n    </tr>\n    <tr>\n      <th>8</th>\n      <td>NBL</td>\n      <td>2024-11-04 20:00:00</td>\n      <td>6</td>\n      <td>4</td>\n      <td>2</td>\n      <td>76</td>\n      <td>80</td>\n    </tr>\n    <tr>\n      <th>9</th>\n      <td>NBL</td>\n      <td>2024-11-04 18:00:00</td>\n      <td>7</td>\n      <td>0</td>\n      <td>2</td>\n      <td>81</td>\n      <td>98</td>\n    </tr>\n  </tbody>\n</table>\n</div>"
     },
     "execution_count": 4,
     "metadata": {},
     "output_type": "execute_result"
    }
   ],
   "source": [
    "data_transform._create_teams_mapping()\n",
    "data_transform._map_match_outcomes(verbose=True)\n",
    "data_transform.df.head(10)"
   ],
   "metadata": {
    "collapsed": false,
    "ExecuteTime": {
     "end_time": "2024-02-03T17:55:19.358153414Z",
     "start_time": "2024-02-03T17:55:19.276601723Z"
    }
   },
   "id": "d1cd3c1f27b7626f",
   "execution_count": 4
  },
  {
   "cell_type": "markdown",
   "source": [],
   "metadata": {
    "collapsed": false
   },
   "id": "52a343d8e2353b4d"
  },
  {
   "cell_type": "markdown",
   "source": [
    "### 1.2 Extract node features\n",
    "\n",
    "recall that these are:\n",
    "\n",
    "| Feature id     |     0     |     1      |      2      |    3     |     4      |      5      | \n",
    "|:---------------|:---------:|:----------:|:-----------:|:--------:|:----------:|:-----------:|\n",
    "| Nodes Features | home wins | home draws | home losses | away win | away draws | away losses | \n",
    "\n",
    "All of these features are dynamic - they accumulate over time during snapshots. In our models we want to try to predict with and without those features\n",
    "\n",
    "NOTE: The features are normalized between 0 and 1."
   ],
   "metadata": {
    "collapsed": false
   },
   "id": "91d55c67c3791472"
  },
  {
   "cell_type": "code",
   "outputs": [
    {
     "name": "stdout",
     "output_type": "stream",
     "text": [
      "Number of snapshots (league years): 13\n",
      "In each snapshot there are 219 nodes (teams) with 6 features\n"
     ]
    },
    {
     "data": {
      "text/plain": "array([[0.04136749, 0.        , 0.07177662, 0.07204765, 0.        ,\n        0.02192868],\n       [0.39331743, 0.        , 0.58075201, 0.30010699, 0.        ,\n        0.56432197],\n       [0.44820544, 0.31640625, 0.57539361, 0.33452669, 0.        ,\n        0.66273578],\n       [0.48334903, 0.        , 0.57485891, 0.38643913, 0.31640625,\n        0.7040703 ],\n       [0.38514302, 0.        , 0.52989681, 0.32816644, 0.        ,\n        0.65645255]])"
     },
     "execution_count": 5,
     "metadata": {},
     "output_type": "execute_result"
    }
   ],
   "source": [
    "node_features = data_transform._extract_node_features(discount_factor=0.75, use_draws=True, verbose=False)\n",
    "\n",
    "print(\"Number of snapshots (league years):\", len(node_features))\n",
    "print(f\"In each snapshot there are {node_features[0].shape[0]} nodes (teams) with {node_features[0].shape[1]} features\")\n",
    "node_features[-1][:5]"
   ],
   "metadata": {
    "collapsed": false,
    "ExecuteTime": {
     "end_time": "2024-02-03T17:55:19.619444028Z",
     "start_time": "2024-02-03T17:55:19.327018944Z"
    }
   },
   "id": "a50bb10b0b76806",
   "execution_count": 5
  },
  {
   "cell_type": "markdown",
   "source": [
    "### 1.3 Create Edges and extract their features; Extract labels\n",
    "\n",
    "There is just one edge feature: winner of the mathc (0 - home, 1 - draw, 2 - away). In order to predict outcomes, later, we will encode this in a one-hot representation.\n",
    "\n",
    "meaning: \n",
    "\n",
    "|      Edge feature      | home win  |   draw    | away win  | \n",
    "|:----------------------:|:---------:|:---------:|:---------:|\n",
    "|     dataset value      |     0     |     1     |     2     |\n",
    "| one-hot representation | (1, 0, 0) | (0, 1, 0) | (0, 0, 1) |\n",
    "\n",
    "node labels = ranking of the teams. \n",
    "We will simpli compute labels for each time step. For simplicity, team with the most wins has rank 1 in each league in dataset.\n",
    "NOTE labels from step n+1 are targets for step n. "
   ],
   "metadata": {
    "collapsed": false
   },
   "id": "27fdffaae623eaeb"
  },
  {
   "cell_type": "code",
   "outputs": [
    {
     "data": {
      "text/plain": "(array([[  7,   5,   5, ..., 202,  80, 210],\n        [  5,   7,   7, ..., 193, 125, 213]]),\n array([[0., 0., 1.],\n        [1., 0., 0.],\n        [0., 0., 1.],\n        ...,\n        [1., 0., 0.],\n        [1., 0., 0.],\n        [1., 0., 0.]]),\n array([1.        , 0.2       , 0.3       , 0.4       , 0.7       ,\n        0.76390128, 0.8       , 0.05      , 0.25      , 0.5       ,\n        0.35      , 0.85      , 0.1       , 0.6       , 0.55      ,\n        0.15      , 0.45      , 0.95      , 0.9       , 0.65      ,\n        0.46186441, 0.96165201, 0.06971879, 0.89285714, 0.85714286,\n        0.10290557, 0.47177796, 0.28571429, 0.90846289, 0.13371352,\n        0.82744998, 0.58141646, 0.19521792, 0.89830508, 0.57142857,\n        0.36280319, 0.7003632 , 0.53238499, 0.10714286, 0.39285714,\n        0.25      , 0.18644068, 0.71428571, 0.75      , 0.46428571,\n        0.96428571, 0.53571429, 0.67857143, 0.78571429, 0.19491525,\n        0.74774011, 0.26666667, 0.39322034, 0.43333333, 0.76233522,\n        0.03333333, 0.16436713, 0.6       , 0.61963029, 0.36440678,\n        0.8       , 0.86666667, 0.34463277, 0.06666667, 0.65121915,\n        0.93333333, 0.56666667, 0.76666667, 0.55437605, 0.68813559,\n        0.3       , 0.91638418, 0.9       , 0.5       , 0.33568738,\n        0.96666667, 0.36666667, 0.7       , 0.37757437, 0.24686809,\n        0.15042858, 0.38057376, 0.69565217, 0.65217391, 0.17391304,\n        0.30434783, 0.14333088, 0.50036846, 0.1395881 , 0.2173913 ,\n        0.05084746, 0.56521739, 0.28371408, 0.7120648 , 0.08695652,\n        0.50190694, 0.78666175, 0.77487104, 0.26086957, 0.86956522,\n        0.39130435, 1.        , 0.23728814, 0.125     , 0.2       ,\n        0.03903509, 0.32061404, 0.89537615, 0.40105932, 0.375     ,\n        0.4       , 0.9529661 , 0.85570547, 0.025     , 0.03025944,\n        0.43020369, 0.87775424, 0.5       , 0.875     , 0.65      ,\n        0.975     , 0.95      , 0.725     , 0.625     , 0.825     ,\n        0.85649718, 0.        , 0.1       , 0.05      , 0.58771186,\n        0.15      , 0.85      , 0.00911017, 0.175     , 0.775     ,\n        0.6       , 0.675     , 0.25      , 0.925     , 0.7       ,\n        0.9       , 0.97977996, 0.05025275, 0.81653286, 0.11016949,\n        0.28070175, 0.0877193 , 0.22494796, 0.33333333, 0.09322034,\n        0.68421053, 0.7906631 , 0.15744871, 0.51888195, 0.64391912,\n        0.09693726, 0.97279215, 0.54668451, 0.67558727, 0.34805233,\n        0.2132025 , 0.0191793 , 0.54118347, 0.43815046, 0.86797502,\n        0.24472197, 0.72420458, 0.32976509, 0.83749628, 0.68004758,\n        0.65254237, 0.59322034, 0.55932203, 0.44067797, 0.41525424,\n        0.38135593, 0.70338983, 0.31355932, 0.29661017, 0.26271186,\n        0.        , 0.93220339, 0.83898305, 0.99152542, 0.61016949,\n        0.27118644, 0.47457627, 0.60169492, 0.94067797, 0.62711864,\n        0.98305085, 0.79661017, 0.07627119, 0.80508475, 0.50847458,\n        0.03389831, 0.72881356, 1.        , 0.92372881, 0.20338983,\n        0.56779661, 0.73728814, 0.41123996, 0.48305085, 0.16949153,\n        0.88135593, 0.05932203, 0.49152542, 0.28813559, 0.44915254,\n        0.25423729, 0.12013084, 0.30508475, 0.66101695, 0.75      ,\n        0.16666667, 0.33333333, 0.425     , 0.75      ]),\n (1813, 3),\n (2, 1813),\n (219,))"
     },
     "execution_count": 6,
     "metadata": {},
     "output_type": "execute_result"
    }
   ],
   "source": [
    "edges, edge_features, labels = data_transform._extract_dynamic_edges_and_labels()\n",
    "\n",
    "edges[0], edge_features[0], labels[0], edge_features[0].shape, edges[0].shape, labels[0].shape"
   ],
   "metadata": {
    "collapsed": false,
    "ExecuteTime": {
     "end_time": "2024-02-03T17:55:19.983370074Z",
     "start_time": "2024-02-03T17:55:19.604428660Z"
    }
   },
   "id": "9c3c8be2307a11ae",
   "execution_count": 6
  },
  {
   "cell_type": "markdown",
   "source": [
    "### 1.5 Creating graph representation for Pytorch geometric temporal\n",
    "\n",
    "now we have everything we need to create our dynamic graph"
   ],
   "metadata": {
    "collapsed": false
   },
   "id": "a08ed03f9481cab9"
  },
  {
   "cell_type": "code",
   "outputs": [
    {
     "name": "stdout",
     "output_type": "stream",
     "text": [
      "Example of graph snapshot 5: \n",
      "\n",
      "      Node feature shape: (219, 6) \n",
      "\n",
      "      Edge index shape: (2, 1869) \n",
      "\n",
      "      Edge feature shape: (1869, 3) \n",
      " \n",
      "      Labels shape: (219,) \n",
      "\n",
      "      \n"
     ]
    }
   ],
   "source": [
    "i = 5\n",
    "print(f\"\"\"Example of graph snapshot {i}: \\n\n",
    "      Node feature shape: {node_features[i].shape} \\n\n",
    "      Edge index shape: {edges[i].shape} \\n\n",
    "      Edge feature shape: {edge_features[i].shape} \\n \n",
    "      Labels shape: {labels[i].shape} \\n\n",
    "      \"\"\")"
   ],
   "metadata": {
    "collapsed": false,
    "ExecuteTime": {
     "end_time": "2024-02-03T17:55:20.001788801Z",
     "start_time": "2024-02-03T17:55:19.986077097Z"
    }
   },
   "id": "4727c8ce01ce2afa",
   "execution_count": 7
  },
  {
   "cell_type": "code",
   "outputs": [
    {
     "name": "stdout",
     "output_type": "stream",
     "text": [
      "13\n"
     ]
    }
   ],
   "source": [
    "# finally we can create our dataset iterator\n",
    "from torch_geometric_temporal import DynamicGraphTemporalSignal\n",
    "\n",
    "dataset = DynamicGraphTemporalSignal(\n",
    "    edges, edge_features, node_features, labels\n",
    ")\n",
    "print(dataset.snapshot_count)"
   ],
   "metadata": {
    "collapsed": false,
    "ExecuteTime": {
     "end_time": "2024-02-03T17:55:43.804676427Z",
     "start_time": "2024-02-03T17:55:43.754933954Z"
    }
   },
   "id": "dce551a173634744",
   "execution_count": 10
  },
  {
   "cell_type": "markdown",
   "source": [
    "### 1.6 All of this is done by get_dataset() method of DataTransformation"
   ],
   "metadata": {
    "collapsed": false
   },
   "id": "c6b42ffb412e7ab"
  },
  {
   "cell_type": "code",
   "outputs": [
    {
     "name": "stdout",
     "output_type": "stream",
     "text": [
      "13\n"
     ]
    }
   ],
   "source": [
    "transform = DataTransformation(df, timedelta(365))\n",
    "dataset2 = transform.get_dataset(node_f_extract=True)\n",
    "\n",
    "print(dataset2.snapshot_count)"
   ],
   "metadata": {
    "collapsed": false,
    "ExecuteTime": {
     "end_time": "2024-02-03T17:56:17.634157768Z",
     "start_time": "2024-02-03T17:56:17.094388174Z"
    }
   },
   "id": "1ce7fd5337107655",
   "execution_count": 12
  }
 ],
 "metadata": {
  "kernelspec": {
   "display_name": "Python 3",
   "language": "python",
   "name": "python3"
  },
  "language_info": {
   "codemirror_mode": {
    "name": "ipython",
    "version": 2
   },
   "file_extension": ".py",
   "mimetype": "text/x-python",
   "name": "python",
   "nbconvert_exporter": "python",
   "pygments_lexer": "ipython2",
   "version": "2.7.6"
  }
 },
 "nbformat": 4,
 "nbformat_minor": 5
}
