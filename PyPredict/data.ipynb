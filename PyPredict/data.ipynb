{
 "cells": [
  {
   "cell_type": "code",
   "outputs": [],
   "source": [
    "from data_management.data_acquisition import DataAcquisition\n",
    "from data_management.data_transformation import DataTransformation\n",
    "from data_management import FROM_CSV\n",
    "import pandas as pd\n",
    "from datetime import datetime, timedelta\n",
    "import seaborn as sns"
   ],
   "metadata": {
    "collapsed": false,
    "ExecuteTime": {
     "end_time": "2024-02-03T12:20:34.116808216Z",
     "start_time": "2024-02-03T12:20:34.100324477Z"
    }
   },
   "id": "6d199e2aaad16bac",
   "execution_count": 8
  },
  {
   "cell_type": "markdown",
   "source": [
    "# 1 Data transformation\n",
    "\n",
    "| Element of graph |                                                                   Usage in our case                                                                   | \n",
    "|:-----------------|:-----------------------------------------------------------------------------------------------------------------------------------------------------:| \n",
    "| Nodes            |                                                                         Teams                                                                         | \n",
    "| Nodes Features   | altogether home wins, home losses, away win and away losses, all points scored by team, all points lost to another team until the end of the snapshot | \n",
    "| Edges            |                                                           Matches between individual teams                                                            | \n",
    "| Edge features    |                                           0 - home win, 1 - draw, 2 - away win => match outcome prediction                                            |\n",
    "| Node labels      |                             individual teams strength score starting at _S_0_  (could be different for different models)                              |\n",
    "\n",
    "\n",
    "What type of graph do we have? - Number of vertices in our graphs is static - it is the number of all teams that we want to train on. Number of edges changes over time. Edges represent matches. So the graph is dynamic. Some vertices may not be connected in each graph snapshot, because there may be season, in which a team may not have played any match within selected league. Although this will create a redundancy in our feature matrix, it is more straightforward to implement, than reindexing teams in each snapshot in order to incorporate only those vertices with edges. So we are dealing with so called 'Dynamic graph temporal signal'."
   ],
   "metadata": {
    "collapsed": false
   },
   "id": "af279bd521d5cb6f"
  },
  {
   "cell_type": "code",
   "outputs": [
    {
     "name": "stderr",
     "output_type": "stream",
     "text": [
      "2024-02-03 13:20:34.185 | INFO     | data_management._data_saving_loading:load_data_csv:70 - 21100 rows loaded from ../resources/other_leagues.csv\n"
     ]
    },
    {
     "name": "stdout",
     "output_type": "stream",
     "text": [
      "2012-09-25 18:00:00 2024-11-14 20:45:00\n"
     ]
    },
    {
     "data": {
      "text/plain": "<Axes: xlabel='index', ylabel='matches_in_snapshot'>"
     },
     "execution_count": 9,
     "metadata": {},
     "output_type": "execute_result"
    },
    {
     "data": {
      "text/plain": "<Figure size 640x480 with 1 Axes>",
      "image/png": "[encoded data removed]"
     },
     "metadata": {},
     "output_type": "display_data"
    }
   ],
   "source": [
    "da = DataAcquisition()\n",
    "df = da.get_data(FROM_CSV, fname=\"../resources/other_leagues.csv\")\n",
    "\n",
    "# see how many matches occupy each graph snapshot\n",
    "df['DT'] = pd.to_datetime(df['DT'], format=\"%Y-%m-%d %H:%M:%S\")\n",
    "\n",
    "start_date = min(df['DT'])\n",
    "end_date = max(df['DT'])\n",
    "print(start_date, end_date)\n",
    "delta = timedelta(days=365) # 1 season duration is about 6 months, then there are 6 months when no league tournaments are played\n",
    "snapshots = []\n",
    "\n",
    "while start_date <= end_date:\n",
    "    snapshots.append(df[((start_date + delta >= df['DT']) & (start_date <= df['DT']))].shape[0])\n",
    "    start_date += delta\n",
    "    \n",
    "sns.scatterplot(x=\"index\", y=\"matches_in_snapshot\", data=pd.DataFrame(snapshots, columns=[\"matches_in_snapshot\"]).reset_index())\n",
    "\n",
    "    "
   ],
   "metadata": {
    "collapsed": false,
    "ExecuteTime": {
     "end_time": "2024-02-03T12:20:34.537817616Z",
     "start_time": "2024-02-03T12:20:34.123826315Z"
    }
   },
   "id": "dacf4964d7300cb9",
   "execution_count": 9
  },
  {
   "cell_type": "markdown",
   "source": [
    "We can see that in each snapshot (representing 1 year), there are about 1800 matches in selected leagues altogether. That should be enough information for the graph neural network to learn from. But we need to try that first \n",
    "\n",
    "Normally methods showcased bellow are called from data_transform.transform() method, but in our case we want to see how they work\n"
   ],
   "metadata": {
    "collapsed": false
   },
   "id": "ff6836df9a470838"
  },
  {
   "cell_type": "code",
   "outputs": [
    {
     "data": {
      "text/plain": "                   DT         Home           Away Winner  Home_points  \\\n0 2024-11-12 17:00:00  Srsni Pisek  Slavia Prague   away          104   \n1 2024-11-11 17:45:00        Kolin  Usti n. Labem   home          112   \n2 2024-11-11 17:30:00    Pardubice          Decin   away           64   \n3 2024-11-11 17:00:00        Opava     NH Ostrava   home           80   \n4 2024-11-11 15:30:00         Brno     USK Prague   home           75   \n\n   Away_points  \n0           69  \n1          108  \n2           99  \n3           75  \n4           63  ",
      "text/html": "<div>\n<style scoped>\n    .dataframe tbody tr th:only-of-type {\n        vertical-align: middle;\n    }\n\n    .dataframe tbody tr th {\n        vertical-align: top;\n    }\n\n    .dataframe thead th {\n        text-align: right;\n    }\n</style>\n<table border=\"1\" class=\"dataframe\">\n  <thead>\n    <tr style=\"text-align: right;\">\n      <th></th>\n      <th>DT</th>\n      <th>Home</th>\n      <th>Away</th>\n      <th>Winner</th>\n      <th>Home_points</th>\n      <th>Away_points</th>\n    </tr>\n  </thead>\n  <tbody>\n    <tr>\n      <th>0</th>\n      <td>2024-11-12 17:00:00</td>\n      <td>Srsni Pisek</td>\n      <td>Slavia Prague</td>\n      <td>away</td>\n      <td>104</td>\n      <td>69</td>\n    </tr>\n    <tr>\n      <th>1</th>\n      <td>2024-11-11 17:45:00</td>\n      <td>Kolin</td>\n      <td>Usti n. Labem</td>\n      <td>home</td>\n      <td>112</td>\n      <td>108</td>\n    </tr>\n    <tr>\n      <th>2</th>\n      <td>2024-11-11 17:30:00</td>\n      <td>Pardubice</td>\n      <td>Decin</td>\n      <td>away</td>\n      <td>64</td>\n      <td>99</td>\n    </tr>\n    <tr>\n      <th>3</th>\n      <td>2024-11-11 17:00:00</td>\n      <td>Opava</td>\n      <td>NH Ostrava</td>\n      <td>home</td>\n      <td>80</td>\n      <td>75</td>\n    </tr>\n    <tr>\n      <th>4</th>\n      <td>2024-11-11 15:30:00</td>\n      <td>Brno</td>\n      <td>USK Prague</td>\n      <td>home</td>\n      <td>75</td>\n      <td>63</td>\n    </tr>\n  </tbody>\n</table>\n</div>"
     },
     "execution_count": 10,
     "metadata": {},
     "output_type": "execute_result"
    }
   ],
   "source": [
    "# constructor of DataTransformation class drops columns that are not used by our models\n",
    "data_transform = DataTransformation(df, timedelta(365))\n",
    "\n",
    "data_transform.df.head(5)"
   ],
   "metadata": {
    "collapsed": false,
    "ExecuteTime": {
     "end_time": "2024-02-03T12:20:34.630269199Z",
     "start_time": "2024-02-03T12:20:34.547609787Z"
    }
   },
   "id": "cf05c0bea69c1cb9",
   "execution_count": 10
  },
  {
   "cell_type": "markdown",
   "source": [
    "### 1.1 map teams to unique ids and match outcomes to integer values\n",
    "\n",
    "| Winner | Integer value in table | \n",
    "|:-------|:----------------------:|\n",
    "| Home   |           0            | \n",
    "| Away   |           2            | \n",
    "| Draw   |           1            | "
   ],
   "metadata": {
    "collapsed": false
   },
   "id": "a70ad762bfef82c3"
  },
  {
   "cell_type": "code",
   "outputs": [
    {
     "name": "stderr",
     "output_type": "stream",
     "text": [
      "2024-02-03 13:20:34.591 | INFO     | data_management.data_transformation:_map_match_outcomes:40 - There are 12393 home wins, 6 draws and 8701 away wins in the dataset\n"
     ]
    },
    {
     "data": {
      "text/plain": "                   DT  Home  Away Winner  Home_points  Away_points\n0 2024-11-12 17:00:00     0     6      2          104           69\n1 2024-11-11 17:45:00     1    10      0          112          108\n2 2024-11-11 17:30:00     2     9      2           64           99\n3 2024-11-11 17:00:00     3    11      0           80           75\n4 2024-11-11 15:30:00     4     8      0           75           63",
      "text/html": "<div>\n<style scoped>\n    .dataframe tbody tr th:only-of-type {\n        vertical-align: middle;\n    }\n\n    .dataframe tbody tr th {\n        vertical-align: top;\n    }\n\n    .dataframe thead th {\n        text-align: right;\n    }\n</style>\n<table border=\"1\" class=\"dataframe\">\n  <thead>\n    <tr style=\"text-align: right;\">\n      <th></th>\n      <th>DT</th>\n      <th>Home</th>\n      <th>Away</th>\n      <th>Winner</th>\n      <th>Home_points</th>\n      <th>Away_points</th>\n    </tr>\n  </thead>\n  <tbody>\n    <tr>\n      <th>0</th>\n      <td>2024-11-12 17:00:00</td>\n      <td>0</td>\n      <td>6</td>\n      <td>2</td>\n      <td>104</td>\n      <td>69</td>\n    </tr>\n    <tr>\n      <th>1</th>\n      <td>2024-11-11 17:45:00</td>\n      <td>1</td>\n      <td>10</td>\n      <td>0</td>\n      <td>112</td>\n      <td>108</td>\n    </tr>\n    <tr>\n      <th>2</th>\n      <td>2024-11-11 17:30:00</td>\n      <td>2</td>\n      <td>9</td>\n      <td>2</td>\n      <td>64</td>\n      <td>99</td>\n    </tr>\n    <tr>\n      <th>3</th>\n      <td>2024-11-11 17:00:00</td>\n      <td>3</td>\n      <td>11</td>\n      <td>0</td>\n      <td>80</td>\n      <td>75</td>\n    </tr>\n    <tr>\n      <th>4</th>\n      <td>2024-11-11 15:30:00</td>\n      <td>4</td>\n      <td>8</td>\n      <td>0</td>\n      <td>75</td>\n      <td>63</td>\n    </tr>\n  </tbody>\n</table>\n</div>"
     },
     "execution_count": 11,
     "metadata": {},
     "output_type": "execute_result"
    }
   ],
   "source": [
    "data_transform._create_teams_mapping()\n",
    "data_transform._map_match_outcomes(verbose=True)\n",
    "data_transform.df.head(5)"
   ],
   "metadata": {
    "collapsed": false,
    "ExecuteTime": {
     "end_time": "2024-02-03T12:20:34.650758127Z",
     "start_time": "2024-02-03T12:20:34.588434585Z"
    }
   },
   "id": "d1cd3c1f27b7626f",
   "execution_count": 11
  },
  {
   "cell_type": "markdown",
   "source": [],
   "metadata": {
    "collapsed": false
   },
   "id": "52a343d8e2353b4d"
  },
  {
   "cell_type": "markdown",
   "source": [
    "### 1.2 Extract node features\n",
    "\n",
    "recall that these are:\n",
    "\n",
    "| Feature id     |     0     |     1      |      2      |    3     |     4      |      5      | \n",
    "|:---------------|:---------:|:----------:|:-----------:|:--------:|:----------:|:-----------:|\n",
    "| Nodes Features | home wins | home draws | home losses | away win | away draws | away losses | \n",
    "\n",
    "All of these features are dynamic - they accumulate over time during snapshots. In our models we want to try to predict with and without those features"
   ],
   "metadata": {
    "collapsed": false
   },
   "id": "91d55c67c3791472"
  },
  {
   "cell_type": "code",
   "outputs": [
    {
     "name": "stdout",
     "output_type": "stream",
     "text": [
      "len: 0\n"
     ]
    },
    {
     "ename": "IndexError",
     "evalue": "list index out of range",
     "output_type": "error",
     "traceback": [
      "\u001B[0;31m---------------------------------------------------------------------------\u001B[0m",
      "\u001B[0;31mIndexError\u001B[0m                                Traceback (most recent call last)",
      "Cell \u001B[0;32mIn[12], line 4\u001B[0m\n\u001B[1;32m      1\u001B[0m node_features \u001B[38;5;241m=\u001B[39m data_transform\u001B[38;5;241m.\u001B[39m_extract_node_features()\n\u001B[1;32m      3\u001B[0m \u001B[38;5;28mprint\u001B[39m(\u001B[38;5;124m\"\u001B[39m\u001B[38;5;124mlen:\u001B[39m\u001B[38;5;124m\"\u001B[39m, \u001B[38;5;28mlen\u001B[39m(node_features))\n\u001B[0;32m----> 4\u001B[0m \u001B[38;5;28mprint\u001B[39m(\u001B[38;5;124m\"\u001B[39m\u001B[38;5;124msnapshot 0 full shapes:\u001B[39m\u001B[38;5;124m\"\u001B[39m, \u001B[43mnode_features\u001B[49m\u001B[43m[\u001B[49m\u001B[38;5;241;43m0\u001B[39;49m\u001B[43m]\u001B[49m\u001B[38;5;241m.\u001B[39mshape)\n\u001B[1;32m      5\u001B[0m node_features[\u001B[38;5;241m0\u001B[39m][:\u001B[38;5;241m10\u001B[39m]\n",
      "\u001B[0;31mIndexError\u001B[0m: list index out of range"
     ]
    }
   ],
   "source": [
    "node_features = data_transform._extract_node_features()\n",
    "\n",
    "print(\"len:\", len(node_features))\n",
    "print(\"snapshot 0 full shapes:\", node_features[0].shape)\n",
    "node_features[0][:10]"
   ],
   "metadata": {
    "collapsed": false,
    "ExecuteTime": {
     "end_time": "2024-02-03T12:20:37.392028567Z",
     "start_time": "2024-02-03T12:20:37.331303175Z"
    }
   },
   "id": "a50bb10b0b76806",
   "execution_count": 12
  }
 ],
 "metadata": {
  "kernelspec": {
   "display_name": "Python 3",
   "language": "python",
   "name": "python3"
  },
  "language_info": {
   "codemirror_mode": {
    "name": "ipython",
    "version": 2
   },
   "file_extension": ".py",
   "mimetype": "text/x-python",
   "name": "python",
   "nbconvert_exporter": "python",
   "pygments_lexer": "ipython2",
   "version": "2.7.6"
  }
 },
 "nbformat": 4,
 "nbformat_minor": 5
}
