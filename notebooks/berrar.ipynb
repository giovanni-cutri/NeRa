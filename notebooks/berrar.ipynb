{
 "cells": [
  {
   "cell_type": "markdown",
   "source": [
    "### Imports"
   ],
   "metadata": {
    "collapsed": false
   },
   "id": "760013980b04178c"
  },
  {
   "cell_type": "code",
   "execution_count": null,
   "id": "initial_id",
   "metadata": {
    "collapsed": true
   },
   "outputs": [],
   "source": [
    "import torch\n",
    "import pandas as pd\n",
    "from datetime import timedelta\n",
    "from datetime import datetime\n",
    "\n",
    "import numpy as np\n",
    "\n",
    "from nera.data import *\n",
    "from nera.models.ratings import BerrarManual\n",
    "from nera.reference import *\n"
   ]
  },
  {
   "cell_type": "markdown",
   "source": [
    "### Data acquisition"
   ],
   "metadata": {
    "collapsed": false
   },
   "id": "4c7002a29eb2b215"
  },
  {
   "cell_type": "code",
   "outputs": [],
   "source": [
    "da = DataAcquisition()\n",
    "df = da.get_data(FROM_CSV, fname=\"../resources/other_leagues.csv\")\n",
    "df['DT'] = pd.to_datetime(df['DT'], format=\"%Y-%m-%d %H:%M:%S\")\n",
    "data_transform = DataTransformation(df, timedelta(365))\n",
    "df = df[(df['League'] != 'EuroLeague') & (df['League'] != 'EuroCup')] \n",
    "df = df.reset_index()\n",
    "\n",
    "transform = DataTransformation(df, timedelta(365))\n",
    "dataset = transform.get_dataset(node_f_extract=False, edge_f_one_hot=True)\n",
    "\n",
    "team_count = transform.num_teams"
   ],
   "metadata": {
    "collapsed": false
   },
   "id": "5f3d041cd72060c7"
  },
  {
   "cell_type": "markdown",
   "source": [
    "### Manual berrar NN vs reference"
   ],
   "metadata": {
    "collapsed": false
   },
   "id": "ca18b509ee5703fc"
  },
  {
   "cell_type": "code",
   "outputs": [],
   "source": [],
   "metadata": {
    "collapsed": false
   },
   "id": "41891001f29d313c"
  }
 ],
 "metadata": {
  "kernelspec": {
   "display_name": "Python 3",
   "language": "python",
   "name": "python3"
  },
  "language_info": {
   "codemirror_mode": {
    "name": "ipython",
    "version": 2
   },
   "file_extension": ".py",
   "mimetype": "text/x-python",
   "name": "python",
   "nbconvert_exporter": "python",
   "pygments_lexer": "ipython2",
   "version": "2.7.6"
  }
 },
 "nbformat": 4,
 "nbformat_minor": 5
}
