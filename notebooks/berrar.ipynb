{
 "cells": [
  {
   "cell_type": "markdown",
   "source": [
    "### Imports"
   ],
   "metadata": {
    "collapsed": false
   },
   "id": "760013980b04178c"
  },
  {
   "cell_type": "code",
   "execution_count": 1,
   "id": "initial_id",
   "metadata": {
    "collapsed": true,
    "ExecuteTime": {
     "end_time": "2024-03-14T13:12:59.037163Z",
     "start_time": "2024-03-14T13:12:54.983365Z"
    }
   },
   "outputs": [
    {
     "name": "stderr",
     "output_type": "stream",
     "text": [
      "/home/kubos/anaconda3/envs/bp/lib/python3.11/site-packages/paramiko/transport.py:219: CryptographyDeprecationWarning: Blowfish has been deprecated\n",
      "  \"class\": algorithms.Blowfish,\n"
     ]
    }
   ],
   "source": [
    "import torch\n",
    "import pandas as pd\n",
    "from datetime import timedelta\n",
    "from datetime import datetime\n",
    "\n",
    "import numpy as np\n",
    "\n",
    "from nera.data import *\n",
    "from nera.models.ratings import BerrarManual, BerrarNumerical, BerrarAnalytical\n",
    "from nera.reference import *\n",
    "from nera.trainer import Trainer\n",
    "from nera.utils import print_rating_diff\n"
   ]
  },
  {
   "cell_type": "markdown",
   "source": [
    "### Data acquisition"
   ],
   "metadata": {
    "collapsed": false
   },
   "id": "4c7002a29eb2b215"
  },
  {
   "cell_type": "code",
   "outputs": [
    {
     "name": "stderr",
     "output_type": "stream",
     "text": [
      "2024-03-14 14:12:59.099 | INFO     | nera.data._data_saving_loading:load_data_csv:70 - 21100 rows loaded from ../resources/other_leagues.csv\n"
     ]
    }
   ],
   "source": [
    "da = DataAcquisition()\n",
    "df = da.get_data(FROM_CSV, fname=\"../resources/other_leagues.csv\")\n",
    "df['DT'] = pd.to_datetime(df['DT'], format=\"%Y-%m-%d %H:%M:%S\")\n",
    "data_transform = DataTransformation(df, timedelta(365))\n",
    "df = df[(df['League'] != 'EuroLeague') & (df['League'] != 'EuroCup')] \n",
    "df = df.reset_index()\n",
    "\n",
    "transform = DataTransformation(df, timedelta(365))\n",
    "dataset = transform.get_dataset(node_f_extract=False, edge_f_one_hot=True)\n",
    "\n",
    "team_count = transform.num_teams\n",
    "\n",
    "trainer = Trainer(dataset, train_ratio=1, loss_fn=torch.nn.MSELoss)\n",
    "reference_maker = RatingReference(transform.num_teams)\n",
    "\n",
    "berrar_params = {\n",
    "            'alpha_h': torch.tensor(180, dtype=torch.float64),\n",
    "            'alpha_a': torch.tensor(180, dtype=torch.float64),\n",
    "            'beta_h': torch.tensor(2, dtype=torch.float64),\n",
    "            'beta_a': torch.tensor(2, dtype=torch.float64),\n",
    "            'bias_h': torch.tensor(0, dtype=torch.float64),\n",
    "            'bias_a': torch.tensor(0, dtype=torch.float64),\n",
    "            'lr_h_att': torch.tensor(0.1, dtype=torch.float64),\n",
    "            'lr_a_att': torch.tensor(0.1, dtype=torch.float64),\n",
    "            'lr_h_def': torch.tensor(0.1, dtype=torch.float64),\n",
    "            'lr_a_def': torch.tensor(0.1, dtype=torch.float64),\n",
    "            'default': 1000.\n",
    "        }"
   ],
   "metadata": {
    "collapsed": false,
    "ExecuteTime": {
     "end_time": "2024-03-14T13:12:59.415595Z",
     "start_time": "2024-03-14T13:12:59.039407Z"
    }
   },
   "id": "5f3d041cd72060c7",
   "execution_count": 2
  },
  {
   "cell_type": "markdown",
   "source": [
    "### Manual berrar NN vs reference"
   ],
   "metadata": {
    "collapsed": false
   },
   "id": "ca18b509ee5703fc"
  },
  {
   "cell_type": "code",
   "outputs": [
    {
     "name": "stdout",
     "output_type": "stream",
     "text": []
    },
    {
     "name": "stderr",
     "output_type": "stream",
     "text": [
      "2024-03-14 12:25:40.797 | INFO     | nera.trainer:train:171 - [TRN] Epoch: 0, training loss: 64783.367, training accuracy: 26.50%\n"
     ]
    },
    {
     "name": "stdout",
     "output_type": "stream",
     "text": [
      "rating 0::0:: computed:    896.000 || net:    896.000\n",
      "rating 0::1:: computed:     20.717 || net:     20.717\n",
      "rating 0::2:: computed:     -5.649 || net:     -5.649\n",
      "rating 0::3:: computed:     12.814 || net:     12.814\n",
      "rating 0::4:: computed:      2.144 || net:      2.144\n",
      "rating 1::0:: computed:    891.900 || net:    891.900\n",
      "rating 1::1:: computed:     16.318 || net:     16.318\n",
      "rating 1::2:: computed:      3.822 || net:      3.822\n",
      "rating 1::3:: computed:      4.468 || net:      4.468\n",
      "rating 1::4:: computed:    -15.918 || net:    -15.918\n",
      "...\n",
      "[SUCCESS]: Computed berrar rating is the same as berrar from NN\n"
     ]
    }
   ],
   "source": [
    "\n",
    "computed = reference_maker.compute_reference('berrar', dataset, **berrar_params)\n",
    "\n",
    "print()\n",
    "berrar_man = BerrarManual(team_count=transform.num_teams, **berrar_params)\n",
    "trainer.dataset = dataset\n",
    "trainer.model = berrar_man\n",
    "acc_late = trainer.train(epochs=1, val_ratio=0, verbose=True)\n",
    "\n",
    "err = False\n",
    "for rating in range(len(computed)):\n",
    "    for i in range(len(computed[rating])):\n",
    "        cmp = float(computed[rating][i])\n",
    "        net = float(berrar_man.ratings[rating][i])\n",
    "        if abs(cmp - net) > 0.1:\n",
    "            print(rf'rating {rating}::ERROR on index {i}:: {cmp} / {net}')\n",
    "            err = True\n",
    "        if i < 5:\n",
    "            print(f'rating {rating}::{i}:: computed: {cmp:10.3f} || net: {net:10.3f}')\n",
    "if not err:\n",
    "    print(\"...\")\n",
    "    print(\"[SUCCESS]: Computed berrar rating is the same as berrar from NN\")"
   ],
   "metadata": {
    "collapsed": false,
    "ExecuteTime": {
     "end_time": "2024-03-14T11:25:40.802718Z",
     "start_time": "2024-03-14T11:25:33.332785Z"
    }
   },
   "id": "41891001f29d313c",
   "execution_count": 10
  },
  {
   "cell_type": "markdown",
   "source": [
    "### Analytical vs numerical pass\n",
    "1) gradient check"
   ],
   "metadata": {
    "collapsed": false
   },
   "id": "8fb96e7e755be569"
  },
  {
   "cell_type": "code",
   "outputs": [
    {
     "name": "stdout",
     "output_type": "stream",
     "text": [
      "True\n"
     ]
    }
   ],
   "source": [
    "from torch.autograd import gradcheck\n",
    "from nera.models.ratings._berrar._analytical import _berrar_fn\n",
    "# gradcheck takes a tuple of tensors as input, check if your gradient\n",
    "# evaluated with these tensors are close enough to numerical\n",
    "# approximations and returns True if they all verify this condition.\n",
    "input = (torch.randn(1,dtype=torch.double,requires_grad=True), torch.randn(1,dtype=torch.double,requires_grad=True), torch.randn(1,dtype=torch.double,requires_grad=True), torch.randn(1,dtype=torch.double,requires_grad=True), torch.randn(1,dtype=torch.double,requires_grad=True), torch.randn(1,dtype=torch.double,requires_grad=True), torch.randn(1,dtype=torch.double,requires_grad=True), torch.randn(1,dtype=torch.double,requires_grad=True), torch.randn(1,dtype=torch.double,requires_grad=True), torch.randn(1,dtype=torch.double,requires_grad=True))\n",
    "test = gradcheck(_berrar_fn, input, eps=1e-6, atol=1e-4)\n",
    "print(test)"
   ],
   "metadata": {
    "collapsed": false,
    "ExecuteTime": {
     "end_time": "2024-03-14T13:07:22.568277Z",
     "start_time": "2024-03-14T13:07:22.548487Z"
    }
   },
   "id": "db1edd27bc7ed596",
   "execution_count": 4
  },
  {
   "cell_type": "markdown",
   "source": [
    "2. analytical vs numerical nn pass"
   ],
   "metadata": {
    "collapsed": false
   },
   "id": "22a4d4fe078f65a5"
  },
  {
   "cell_type": "code",
   "outputs": [],
   "source": [
    "berrar_numerical = BerrarNumerical(team_count, **berrar_params)\n",
    "berrar_analytical = BerrarAnalytical(team_count, **berrar_params)\n",
    "\n",
    "trainer.train_ratio = 0.8 "
   ],
   "metadata": {
    "collapsed": false,
    "ExecuteTime": {
     "end_time": "2024-03-14T13:13:00.042019Z",
     "start_time": "2024-03-14T13:13:00.034746Z"
    }
   },
   "id": "73880c6c3df23b24",
   "execution_count": 3
  },
  {
   "cell_type": "code",
   "outputs": [
    {
     "name": "stderr",
     "output_type": "stream",
     "text": [
      "/home/kubos/anaconda3/envs/bp/lib/python3.11/site-packages/torch/nn/modules/loss.py:535: UserWarning: Using a target size (torch.Size([])) that is different to the input size (torch.Size([3])). This will likely lead to incorrect results due to broadcasting. Please ensure they have the same size.\n",
      "  return F.mse_loss(input, target, reduction=self.reduction)\n"
     ]
    },
    {
     "ename": "KeyboardInterrupt",
     "evalue": "",
     "output_type": "error",
     "traceback": [
      "\u001B[0;31m---------------------------------------------------------------------------\u001B[0m",
      "\u001B[0;31mKeyboardInterrupt\u001B[0m                         Traceback (most recent call last)",
      "Cell \u001B[0;32mIn[5], line 2\u001B[0m\n\u001B[1;32m      1\u001B[0m trainer\u001B[38;5;241m.\u001B[39mmodel \u001B[38;5;241m=\u001B[39m berrar_numerical\n\u001B[0;32m----> 2\u001B[0m \u001B[43mtrainer\u001B[49m\u001B[38;5;241;43m.\u001B[39;49m\u001B[43mtrain\u001B[49m\u001B[43m(\u001B[49m\u001B[43mverbose\u001B[49m\u001B[38;5;241;43m=\u001B[39;49m\u001B[38;5;28;43;01mTrue\u001B[39;49;00m\u001B[43m,\u001B[49m\u001B[43m \u001B[49m\u001B[43mepochs\u001B[49m\u001B[38;5;241;43m=\u001B[39;49m\u001B[38;5;241;43m1\u001B[39;49m\u001B[43m,\u001B[49m\u001B[43m \u001B[49m\u001B[43mval_ratio\u001B[49m\u001B[38;5;241;43m=\u001B[39;49m\u001B[38;5;241;43m0.2\u001B[39;49m\u001B[43m)\u001B[49m\n\u001B[1;32m      3\u001B[0m trainer\u001B[38;5;241m.\u001B[39mtest(verbose\u001B[38;5;241m=\u001B[39m\u001B[38;5;28;01mTrue\u001B[39;00m)\n",
      "File \u001B[0;32m~/Documents/skola/bp/gnn_sport_prediction/nera/trainer.py:154\u001B[0m, in \u001B[0;36mTrainer.train\u001B[0;34m(self, epochs, verbose, val_ratio, **kwargs)\u001B[0m\n\u001B[1;32m    152\u001B[0m \u001B[38;5;66;03m# training\u001B[39;00m\n\u001B[1;32m    153\u001B[0m \u001B[38;5;28;01mif\u001B[39;00m \u001B[38;5;28mself\u001B[39m\u001B[38;5;241m.\u001B[39mmodel_is_rating:\n\u001B[0;32m--> 154\u001B[0m     trn_acc_i, trn_loss_i \u001B[38;5;241m=\u001B[39m \u001B[38;5;28;43mself\u001B[39;49m\u001B[38;5;241;43m.\u001B[39;49m\u001B[43m_train_rating\u001B[49m\u001B[43m(\u001B[49m\u001B[43mmatches_train\u001B[49m\u001B[43m,\u001B[49m\u001B[43m \u001B[49m\u001B[43my_train\u001B[49m\u001B[43m,\u001B[49m\u001B[43m \u001B[49m\u001B[43mmatch_pts_trn\u001B[49m\u001B[43m,\u001B[49m\u001B[43m \u001B[49m\u001B[38;5;241;43m*\u001B[39;49m\u001B[38;5;241;43m*\u001B[39;49m\u001B[43mkwargs\u001B[49m\u001B[43m)\u001B[49m\n\u001B[1;32m    155\u001B[0m \u001B[38;5;28;01melse\u001B[39;00m:\n\u001B[1;32m    156\u001B[0m     trn_acc_i, trn_loss_i \u001B[38;5;241m=\u001B[39m \u001B[38;5;28mself\u001B[39m\u001B[38;5;241m.\u001B[39m_train_gnn(matches_train, y_train)\n",
      "File \u001B[0;32m~/Documents/skola/bp/gnn_sport_prediction/nera/trainer.py:241\u001B[0m, in \u001B[0;36mTrainer._train_rating\u001B[0;34m(self, matches, outcomes, match_points, validation, clip_grad, **kwargs)\u001B[0m\n\u001B[1;32m    239\u001B[0m gamma \u001B[38;5;241m=\u001B[39m \u001B[38;5;28mself\u001B[39m\u001B[38;5;241m.\u001B[39mmodel\u001B[38;5;241m.\u001B[39mgamma \u001B[38;5;28;01mif\u001B[39;00m \u001B[38;5;28mhasattr\u001B[39m(\u001B[38;5;28mself\u001B[39m\u001B[38;5;241m.\u001B[39mmodel, \u001B[38;5;124m'\u001B[39m\u001B[38;5;124mgamma\u001B[39m\u001B[38;5;124m'\u001B[39m) \u001B[38;5;28;01melse\u001B[39;00m \u001B[38;5;241m1\u001B[39m\n\u001B[1;32m    240\u001B[0m loss \u001B[38;5;241m=\u001B[39m \u001B[38;5;28mself\u001B[39m\u001B[38;5;241m.\u001B[39m_loss_fn(y, y_hat, (point_diff \u001B[38;5;241m+\u001B[39m \u001B[38;5;241m1\u001B[39m) \u001B[38;5;241m*\u001B[39m\u001B[38;5;241m*\u001B[39m gamma)\n\u001B[0;32m--> 241\u001B[0m \u001B[43mloss_acc\u001B[49m \u001B[38;5;241m+\u001B[39m\u001B[38;5;241m=\u001B[39m loss\u001B[38;5;241m.\u001B[39mitem()\n\u001B[1;32m    243\u001B[0m \u001B[38;5;28;01mif\u001B[39;00m validation:\n\u001B[1;32m    244\u001B[0m     \u001B[38;5;28;01mcontinue\u001B[39;00m\n",
      "File \u001B[0;32m/snap/pycharm-professional/378/plugins/python/helpers/pydev/_pydevd_bundle/pydevd_frame.py:755\u001B[0m, in \u001B[0;36mPyDBFrame.trace_dispatch\u001B[0;34m(self, frame, event, arg)\u001B[0m\n\u001B[1;32m    753\u001B[0m \u001B[38;5;66;03m# if thread has a suspend flag, we suspend with a busy wait\u001B[39;00m\n\u001B[1;32m    754\u001B[0m \u001B[38;5;28;01mif\u001B[39;00m info\u001B[38;5;241m.\u001B[39mpydev_state \u001B[38;5;241m==\u001B[39m STATE_SUSPEND:\n\u001B[0;32m--> 755\u001B[0m     \u001B[38;5;28;43mself\u001B[39;49m\u001B[38;5;241;43m.\u001B[39;49m\u001B[43mdo_wait_suspend\u001B[49m\u001B[43m(\u001B[49m\u001B[43mthread\u001B[49m\u001B[43m,\u001B[49m\u001B[43m \u001B[49m\u001B[43mframe\u001B[49m\u001B[43m,\u001B[49m\u001B[43m \u001B[49m\u001B[43mevent\u001B[49m\u001B[43m,\u001B[49m\u001B[43m \u001B[49m\u001B[43marg\u001B[49m\u001B[43m)\u001B[49m\n\u001B[1;32m    756\u001B[0m     \u001B[38;5;66;03m# No need to reset frame.f_trace to keep the same trace function.\u001B[39;00m\n\u001B[1;32m    757\u001B[0m     \u001B[38;5;28;01mreturn\u001B[39;00m \u001B[38;5;28mself\u001B[39m\u001B[38;5;241m.\u001B[39mtrace_dispatch\n",
      "File \u001B[0;32m/snap/pycharm-professional/378/plugins/python/helpers/pydev/_pydevd_bundle/pydevd_frame.py:412\u001B[0m, in \u001B[0;36mPyDBFrame.do_wait_suspend\u001B[0;34m(self, *args, **kwargs)\u001B[0m\n\u001B[1;32m    411\u001B[0m \u001B[38;5;28;01mdef\u001B[39;00m \u001B[38;5;21mdo_wait_suspend\u001B[39m(\u001B[38;5;28mself\u001B[39m, \u001B[38;5;241m*\u001B[39margs, \u001B[38;5;241m*\u001B[39m\u001B[38;5;241m*\u001B[39mkwargs):\n\u001B[0;32m--> 412\u001B[0m     \u001B[38;5;28;43mself\u001B[39;49m\u001B[38;5;241;43m.\u001B[39;49m\u001B[43m_args\u001B[49m\u001B[43m[\u001B[49m\u001B[38;5;241;43m0\u001B[39;49m\u001B[43m]\u001B[49m\u001B[38;5;241;43m.\u001B[39;49m\u001B[43mdo_wait_suspend\u001B[49m\u001B[43m(\u001B[49m\u001B[38;5;241;43m*\u001B[39;49m\u001B[43margs\u001B[49m\u001B[43m,\u001B[49m\u001B[43m \u001B[49m\u001B[38;5;241;43m*\u001B[39;49m\u001B[38;5;241;43m*\u001B[39;49m\u001B[43mkwargs\u001B[49m\u001B[43m)\u001B[49m\n",
      "File \u001B[0;32m/snap/pycharm-professional/378/plugins/python/helpers/pydev/pydevd.py:1184\u001B[0m, in \u001B[0;36mPyDB.do_wait_suspend\u001B[0;34m(self, thread, frame, event, arg, send_suspend_message, is_unhandled_exception)\u001B[0m\n\u001B[1;32m   1181\u001B[0m         from_this_thread\u001B[38;5;241m.\u001B[39mappend(frame_id)\n\u001B[1;32m   1183\u001B[0m \u001B[38;5;28;01mwith\u001B[39;00m \u001B[38;5;28mself\u001B[39m\u001B[38;5;241m.\u001B[39m_threads_suspended_single_notification\u001B[38;5;241m.\u001B[39mnotify_thread_suspended(thread_id, stop_reason):\n\u001B[0;32m-> 1184\u001B[0m     \u001B[38;5;28;43mself\u001B[39;49m\u001B[38;5;241;43m.\u001B[39;49m\u001B[43m_do_wait_suspend\u001B[49m\u001B[43m(\u001B[49m\u001B[43mthread\u001B[49m\u001B[43m,\u001B[49m\u001B[43m \u001B[49m\u001B[43mframe\u001B[49m\u001B[43m,\u001B[49m\u001B[43m \u001B[49m\u001B[43mevent\u001B[49m\u001B[43m,\u001B[49m\u001B[43m \u001B[49m\u001B[43marg\u001B[49m\u001B[43m,\u001B[49m\u001B[43m \u001B[49m\u001B[43msuspend_type\u001B[49m\u001B[43m,\u001B[49m\u001B[43m \u001B[49m\u001B[43mfrom_this_thread\u001B[49m\u001B[43m)\u001B[49m\n",
      "File \u001B[0;32m/snap/pycharm-professional/378/plugins/python/helpers/pydev/pydevd.py:1199\u001B[0m, in \u001B[0;36mPyDB._do_wait_suspend\u001B[0;34m(self, thread, frame, event, arg, suspend_type, from_this_thread)\u001B[0m\n\u001B[1;32m   1196\u001B[0m             \u001B[38;5;28mself\u001B[39m\u001B[38;5;241m.\u001B[39m_call_mpl_hook()\n\u001B[1;32m   1198\u001B[0m         \u001B[38;5;28mself\u001B[39m\u001B[38;5;241m.\u001B[39mprocess_internal_commands()\n\u001B[0;32m-> 1199\u001B[0m         \u001B[43mtime\u001B[49m\u001B[38;5;241;43m.\u001B[39;49m\u001B[43msleep\u001B[49m\u001B[43m(\u001B[49m\u001B[38;5;241;43m0.01\u001B[39;49m\u001B[43m)\u001B[49m\n\u001B[1;32m   1201\u001B[0m \u001B[38;5;28mself\u001B[39m\u001B[38;5;241m.\u001B[39mcancel_async_evaluation(get_current_thread_id(thread), \u001B[38;5;28mstr\u001B[39m(\u001B[38;5;28mid\u001B[39m(frame)))\n\u001B[1;32m   1203\u001B[0m \u001B[38;5;66;03m# process any stepping instructions\u001B[39;00m\n",
      "\u001B[0;31mKeyboardInterrupt\u001B[0m: "
     ]
    }
   ],
   "source": [
    "trainer.model = berrar_numerical\n",
    "trainer.train(verbose=True, epochs=1, val_ratio=0.2)\n",
    "trainer.test(verbose=True)"
   ],
   "metadata": {
    "collapsed": false,
    "ExecuteTime": {
     "end_time": "2024-03-14T13:14:36.845339Z",
     "start_time": "2024-03-14T13:13:04.742087Z"
    }
   },
   "id": "e11d0090ad4479db",
   "execution_count": 5
  }
 ],
 "metadata": {
  "kernelspec": {
   "display_name": "Python 3",
   "language": "python",
   "name": "python3"
  },
  "language_info": {
   "codemirror_mode": {
    "name": "ipython",
    "version": 2
   },
   "file_extension": ".py",
   "mimetype": "text/x-python",
   "name": "python",
   "nbconvert_exporter": "python",
   "pygments_lexer": "ipython2",
   "version": "2.7.6"
  }
 },
 "nbformat": 4,
 "nbformat_minor": 5
}
