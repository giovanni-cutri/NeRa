{
 "cells": [
  {
   "cell_type": "markdown",
   "source": [
    "### Imports"
   ],
   "metadata": {
    "collapsed": false
   },
   "id": "760013980b04178c"
  },
  {
   "cell_type": "code",
   "execution_count": 7,
   "id": "initial_id",
   "metadata": {
    "collapsed": true,
    "ExecuteTime": {
     "end_time": "2024-03-14T14:56:21.812835Z",
     "start_time": "2024-03-14T14:56:21.809153Z"
    }
   },
   "outputs": [],
   "source": [
    "import torch\n",
    "import pandas as pd\n",
    "from datetime import timedelta\n",
    "from datetime import datetime\n",
    "\n",
    "import numpy as np\n",
    "\n",
    "from nera.data import *\n",
    "from nera.models.ratings import BerrarManual, BerrarNumerical, BerrarAnalytical\n",
    "from nera.reference import *\n",
    "from nera.trainer import Trainer\n",
    "from nera.utils import print_rating_diff\n"
   ]
  },
  {
   "cell_type": "markdown",
   "source": [
    "### Data acquisition"
   ],
   "metadata": {
    "collapsed": false
   },
   "id": "4c7002a29eb2b215"
  },
  {
   "cell_type": "code",
   "outputs": [
    {
     "name": "stderr",
     "output_type": "stream",
     "text": [
      "2024-03-14 15:56:21.880 | INFO     | nera.data._data_saving_loading:load_data_csv:70 - 21100 rows loaded from ../resources/other_leagues.csv\n"
     ]
    }
   ],
   "source": [
    "da = DataAcquisition()\n",
    "df = da.get_data(FROM_CSV, fname=\"../resources/other_leagues.csv\")\n",
    "df['DT'] = pd.to_datetime(df['DT'], format=\"%Y-%m-%d %H:%M:%S\")\n",
    "data_transform = DataTransformation(df, timedelta(365))\n",
    "df = df[(df['League'] != 'EuroLeague') & (df['League'] != 'EuroCup')] \n",
    "df = df.reset_index()\n",
    "\n",
    "transform = DataTransformation(df, timedelta(365))\n",
    "dataset = transform.get_dataset(node_f_extract=False, edge_f_one_hot=True)\n",
    "\n",
    "team_count = transform.num_teams\n",
    "\n",
    "trainer = Trainer(dataset, train_ratio=1, loss_fn=torch.nn.MSELoss)\n",
    "reference_maker = RatingReference(transform.num_teams)\n",
    "\n",
    "berrar_params = {\n",
    "            'alpha_h': torch.tensor(80, dtype=torch.float64),\n",
    "            'alpha_a': torch.tensor(80, dtype=torch.float64),\n",
    "            'beta_h': torch.tensor(2, dtype=torch.float64),\n",
    "            'beta_a': torch.tensor(2, dtype=torch.float64),\n",
    "            'bias_h': torch.tensor(0, dtype=torch.float64),\n",
    "            'bias_a': torch.tensor(0, dtype=torch.float64),\n",
    "            'lr_h_att': torch.tensor(0.1, dtype=torch.float64),\n",
    "            'lr_a_att': torch.tensor(0.1, dtype=torch.float64),\n",
    "            'lr_h_def': torch.tensor(0.1, dtype=torch.float64),\n",
    "            'lr_a_def': torch.tensor(0.1, dtype=torch.float64),\n",
    "            'default': 1000.\n",
    "        }"
   ],
   "metadata": {
    "collapsed": false,
    "ExecuteTime": {
     "end_time": "2024-03-14T14:56:22.422822Z",
     "start_time": "2024-03-14T14:56:21.816414Z"
    }
   },
   "id": "5f3d041cd72060c7",
   "execution_count": 8
  },
  {
   "cell_type": "markdown",
   "source": [
    "### Manual berrar NN vs reference"
   ],
   "metadata": {
    "collapsed": false
   },
   "id": "ca18b509ee5703fc"
  },
  {
   "cell_type": "code",
   "outputs": [
    {
     "name": "stdout",
     "output_type": "stream",
     "text": []
    },
    {
     "name": "stderr",
     "output_type": "stream",
     "text": [
      "/home/kubos/anaconda3/envs/bp/lib/python3.11/site-packages/torch/nn/modules/loss.py:535: UserWarning: Using a target size (torch.Size([2])) that is different to the input size (torch.Size([2, 1])). This will likely lead to incorrect results due to broadcasting. Please ensure they have the same size.\n",
      "  return F.mse_loss(input, target, reduction=self.reduction)\n",
      "2024-03-14 15:56:30.911 | INFO     | nera.trainer:train:171 - [TRN] Epoch: 0, training loss: 2196060.500, training accuracy: 0.02%\n"
     ]
    },
    {
     "name": "stdout",
     "output_type": "stream",
     "text": [
      "rating 0::0:: computed:   1016.000 || net:   1016.000\n",
      "rating 0::1:: computed:   1028.400 || net:   1028.400\n",
      "rating 0::2:: computed:   1103.100 || net:   1103.100\n",
      "rating 0::3:: computed:   1113.600 || net:   1113.600\n",
      "rating 0::4:: computed:    904.800 || net:    904.800\n",
      "rating 1::0:: computed:   1011.900 || net:   1011.900\n",
      "rating 1::1:: computed:   1191.900 || net:   1191.900\n",
      "rating 1::2:: computed:    948.600 || net:    948.600\n",
      "rating 1::3:: computed:    958.700 || net:    958.700\n",
      "rating 1::4:: computed:   1106.500 || net:   1106.500\n",
      "...\n",
      "[SUCCESS]: Computed berrar rating is the same as berrar from NN\n"
     ]
    }
   ],
   "source": [
    "\n",
    "computed = reference_maker.compute_reference('berrar', dataset, **berrar_params)\n",
    "\n",
    "print()\n",
    "berrar_man = BerrarManual(team_count=transform.num_teams, **berrar_params)\n",
    "trainer.dataset = dataset\n",
    "trainer.model = berrar_man\n",
    "acc_late = trainer.train(epochs=1, val_ratio=0, verbose=True)\n",
    "\n",
    "err = False\n",
    "for rating in range(len(computed)):\n",
    "    for i in range(len(computed[rating])):\n",
    "        cmp = float(computed[rating][i])\n",
    "        net = float(berrar_man.ratings[rating][i])\n",
    "        if abs(cmp - net) > 0.1:\n",
    "            print(rf'rating {rating}::ERROR on index {i}:: {cmp} / {net}')\n",
    "            err = True\n",
    "        if i < 5:\n",
    "            print(f'rating {rating}::{i}:: computed: {cmp:10.3f} || net: {net:10.3f}')\n",
    "if not err:\n",
    "    print(\"...\")\n",
    "    print(\"[SUCCESS]: Computed berrar rating is the same as berrar from NN\")"
   ],
   "metadata": {
    "collapsed": false,
    "ExecuteTime": {
     "end_time": "2024-03-14T14:56:30.916803Z",
     "start_time": "2024-03-14T14:56:22.425152Z"
    }
   },
   "id": "41891001f29d313c",
   "execution_count": 9
  },
  {
   "cell_type": "markdown",
   "source": [
    "### Analytical vs numerical pass\n",
    "1) gradient check"
   ],
   "metadata": {
    "collapsed": false
   },
   "id": "8fb96e7e755be569"
  },
  {
   "cell_type": "code",
   "outputs": [
    {
     "name": "stdout",
     "output_type": "stream",
     "text": [
      "True\n"
     ]
    }
   ],
   "source": [
    "from torch.autograd import gradcheck\n",
    "from nera.models.ratings._berrar._analytical import _berrar_fn\n",
    "# gradcheck takes a tuple of tensors as input, check if your gradient\n",
    "# evaluated with these tensors are close enough to numerical\n",
    "# approximations and returns True if they all verify this condition.\n",
    "input = (torch.randn(1,dtype=torch.double,requires_grad=True), torch.randn(1,dtype=torch.double,requires_grad=True), torch.randn(1,dtype=torch.double,requires_grad=True), torch.randn(1,dtype=torch.double,requires_grad=True), torch.randn(1,dtype=torch.double,requires_grad=True), torch.randn(1,dtype=torch.double,requires_grad=True), torch.randn(1,dtype=torch.double,requires_grad=True), torch.randn(1,dtype=torch.double,requires_grad=True), torch.randn(1,dtype=torch.double,requires_grad=True), torch.randn(1,dtype=torch.double,requires_grad=True))\n",
    "test = gradcheck(_berrar_fn, input, eps=1e-6, atol=1e-4)\n",
    "print(test)"
   ],
   "metadata": {
    "collapsed": false,
    "ExecuteTime": {
     "end_time": "2024-03-14T14:56:30.938102Z",
     "start_time": "2024-03-14T14:56:30.917841Z"
    }
   },
   "id": "db1edd27bc7ed596",
   "execution_count": 10
  },
  {
   "cell_type": "markdown",
   "source": [
    "2. analytical vs numerical nn pass"
   ],
   "metadata": {
    "collapsed": false
   },
   "id": "22a4d4fe078f65a5"
  },
  {
   "cell_type": "code",
   "outputs": [],
   "source": [
    "berrar_numerical = BerrarNumerical(team_count, hp_grad=True, **berrar_params)\n",
    "berrar_analytical = BerrarAnalytical(team_count, hp_grad=True, **berrar_params)\n",
    "\n",
    "trainer.train_ratio = 0.8 "
   ],
   "metadata": {
    "collapsed": false,
    "ExecuteTime": {
     "end_time": "2024-03-14T14:56:30.964808Z",
     "start_time": "2024-03-14T14:56:30.940177Z"
    }
   },
   "id": "73880c6c3df23b24",
   "execution_count": 11
  },
  {
   "cell_type": "code",
   "outputs": [
    {
     "name": "stderr",
     "output_type": "stream",
     "text": [
      "2024-03-14 15:56:43.028 | INFO     | nera.trainer:train:171 - [TRN] Epoch: 0, training loss: 1498929.005, training accuracy: 58.60%\n",
      "2024-03-14 15:56:43.031 | INFO     | nera.trainer:train:174 - [VAL] Epoch: 0, validation loss: 378540.491, validation accuracy: 58.96%\n"
     ]
    },
    {
     "name": "stdout",
     "output_type": "stream",
     "text": [
      "[Parameter containing:\n",
      "tensor([1000., 1000., 1000., 1000., 1000., 1000., 1000., 1000., 1000., 1000.,\n",
      "        1000., 1000., 1000., 1000., 1000., 1000., 1000., 1000., 1000., 1000.,\n",
      "        1000., 1000., 1000., 1000., 1000., 1000., 1000., 1000., 1000., 1000.,\n",
      "        1000., 1000., 1000., 1000., 1000., 1000., 1000., 1000., 1000., 1000.,\n",
      "        1000., 1000., 1000., 1000., 1000., 1000., 1000., 1000., 1000., 1000.,\n",
      "        1000., 1000., 1000., 1000., 1000., 1000., 1000., 1000., 1000., 1000.,\n",
      "        1000., 1000., 1000., 1000., 1000., 1000., 1000., 1000., 1000., 1000.,\n",
      "        1000., 1000., 1000., 1000., 1000., 1000., 1000., 1000., 1000., 1000.,\n",
      "        1000., 1000., 1000., 1000., 1000., 1000., 1000., 1000., 1000., 1000.,\n",
      "        1000., 1000., 1000., 1000., 1000., 1000., 1000., 1000., 1000., 1000.,\n",
      "        1000., 1000., 1000., 1000., 1000., 1000., 1000., 1000., 1000., 1000.,\n",
      "        1000., 1000., 1000., 1000., 1000., 1000., 1000., 1000., 1000., 1000.,\n",
      "        1000., 1000., 1000., 1000., 1000., 1000., 1000., 1000., 1000., 1000.,\n",
      "        1000., 1000., 1000., 1000., 1000., 1000., 1000., 1000., 1000., 1000.,\n",
      "        1000., 1000., 1000., 1000., 1000., 1000.], dtype=torch.float64,\n",
      "       requires_grad=True), Parameter containing:\n",
      "tensor([1000., 1000., 1000., 1000., 1000., 1000., 1000., 1000., 1000., 1000.,\n",
      "        1000., 1000., 1000., 1000., 1000., 1000., 1000., 1000., 1000., 1000.,\n",
      "        1000., 1000., 1000., 1000., 1000., 1000., 1000., 1000., 1000., 1000.,\n",
      "        1000., 1000., 1000., 1000., 1000., 1000., 1000., 1000., 1000., 1000.,\n",
      "        1000., 1000., 1000., 1000., 1000., 1000., 1000., 1000., 1000., 1000.,\n",
      "        1000., 1000., 1000., 1000., 1000., 1000., 1000., 1000., 1000., 1000.,\n",
      "        1000., 1000., 1000., 1000., 1000., 1000., 1000., 1000., 1000., 1000.,\n",
      "        1000., 1000., 1000., 1000., 1000., 1000., 1000., 1000., 1000., 1000.,\n",
      "        1000., 1000., 1000., 1000., 1000., 1000., 1000., 1000., 1000., 1000.,\n",
      "        1000., 1000., 1000., 1000., 1000., 1000., 1000., 1000., 1000., 1000.,\n",
      "        1000., 1000., 1000., 1000., 1000., 1000., 1000., 1000., 1000., 1000.,\n",
      "        1000., 1000., 1000., 1000., 1000., 1000., 1000., 1000., 1000., 1000.,\n",
      "        1000., 1000., 1000., 1000., 1000., 1000., 1000., 1000., 1000., 1000.,\n",
      "        1000., 1000., 1000., 1000., 1000., 1000., 1000., 1000., 1000., 1000.,\n",
      "        1000., 1000., 1000., 1000., 1000., 1000.], dtype=torch.float64,\n",
      "       requires_grad=True)]\n",
      "[Parameter containing:\n",
      "tensor(83.0037, dtype=torch.float64, requires_grad=True), Parameter containing:\n",
      "tensor(79.9041, dtype=torch.float64, requires_grad=True), Parameter containing:\n",
      "tensor(2., dtype=torch.float64, requires_grad=True), Parameter containing:\n",
      "tensor(2., dtype=torch.float64, requires_grad=True), Parameter containing:\n",
      "tensor(0., dtype=torch.float64, requires_grad=True), Parameter containing:\n",
      "tensor(0., dtype=torch.float64, requires_grad=True)]\n"
     ]
    }
   ],
   "source": [
    "trainer.model = berrar_numerical\n",
    "trainer.train(verbose=True, epochs=1, val_ratio=0.2)\n",
    "#trainer.test(verbose=True)\n",
    "print(berrar_numerical.ratings)\n",
    "print(berrar_numerical.hyperparams)"
   ],
   "metadata": {
    "collapsed": false,
    "ExecuteTime": {
     "end_time": "2024-03-14T14:56:43.040262Z",
     "start_time": "2024-03-14T14:56:30.966061Z"
    }
   },
   "id": "e11d0090ad4479db",
   "execution_count": 12
  },
  {
   "cell_type": "code",
   "outputs": [
    {
     "name": "stderr",
     "output_type": "stream",
     "text": [
      "2024-03-14 15:56:58.443 | INFO     | nera.trainer:train:171 - [TRN] Epoch: 0, training loss: 1503504.992, training accuracy: 58.61%\n",
      "2024-03-14 15:56:58.445 | INFO     | nera.trainer:train:174 - [VAL] Epoch: 0, validation loss: 378290.539, validation accuracy: 58.96%\n"
     ]
    },
    {
     "name": "stdout",
     "output_type": "stream",
     "text": [
      "[Parameter containing:\n",
      "tensor([1000., 1000., 1000., 1000., 1000., 1000., 1000., 1000., 1000., 1000.,\n",
      "        1000., 1000., 1000., 1000., 1000., 1000., 1000., 1000., 1000., 1000.,\n",
      "        1000., 1000., 1000., 1000., 1000., 1000., 1000., 1000., 1000., 1000.,\n",
      "        1000., 1000., 1000., 1000., 1000., 1000., 1000., 1000., 1000., 1000.,\n",
      "        1000., 1000., 1000., 1000., 1000., 1000., 1000., 1000., 1000., 1000.,\n",
      "        1000., 1000., 1000., 1000., 1000., 1000., 1000., 1000., 1000., 1000.,\n",
      "        1000., 1000., 1000., 1000., 1000., 1000., 1000., 1000., 1000., 1000.,\n",
      "        1000., 1000., 1000., 1000., 1000., 1000., 1000., 1000., 1000., 1000.,\n",
      "        1000., 1000., 1000., 1000., 1000., 1000., 1000., 1000., 1000., 1000.,\n",
      "        1000., 1000., 1000., 1000., 1000., 1000., 1000., 1000., 1000., 1000.,\n",
      "        1000., 1000., 1000., 1000., 1000., 1000., 1000., 1000., 1000., 1000.,\n",
      "        1000., 1000., 1000., 1000., 1000., 1000., 1000., 1000., 1000., 1000.,\n",
      "        1000., 1000., 1000., 1000., 1000., 1000., 1000., 1000., 1000., 1000.,\n",
      "        1000., 1000., 1000., 1000., 1000., 1000., 1000., 1000., 1000., 1000.,\n",
      "        1000., 1000., 1000., 1000., 1000., 1000.], dtype=torch.float64,\n",
      "       requires_grad=True), Parameter containing:\n",
      "tensor([1000., 1000., 1000., 1000., 1000., 1000., 1000., 1000., 1000., 1000.,\n",
      "        1000., 1000., 1000., 1000., 1000., 1000., 1000., 1000., 1000., 1000.,\n",
      "        1000., 1000., 1000., 1000., 1000., 1000., 1000., 1000., 1000., 1000.,\n",
      "        1000., 1000., 1000., 1000., 1000., 1000., 1000., 1000., 1000., 1000.,\n",
      "        1000., 1000., 1000., 1000., 1000., 1000., 1000., 1000., 1000., 1000.,\n",
      "        1000., 1000., 1000., 1000., 1000., 1000., 1000., 1000., 1000., 1000.,\n",
      "        1000., 1000., 1000., 1000., 1000., 1000., 1000., 1000., 1000., 1000.,\n",
      "        1000., 1000., 1000., 1000., 1000., 1000., 1000., 1000., 1000., 1000.,\n",
      "        1000., 1000., 1000., 1000., 1000., 1000., 1000., 1000., 1000., 1000.,\n",
      "        1000., 1000., 1000., 1000., 1000., 1000., 1000., 1000., 1000., 1000.,\n",
      "        1000., 1000., 1000., 1000., 1000., 1000., 1000., 1000., 1000., 1000.,\n",
      "        1000., 1000., 1000., 1000., 1000., 1000., 1000., 1000., 1000., 1000.,\n",
      "        1000., 1000., 1000., 1000., 1000., 1000., 1000., 1000., 1000., 1000.,\n",
      "        1000., 1000., 1000., 1000., 1000., 1000., 1000., 1000., 1000., 1000.,\n",
      "        1000., 1000., 1000., 1000., 1000., 1000.], dtype=torch.float64,\n",
      "       requires_grad=True)]\n",
      "[Parameter containing:\n",
      "tensor(83.0124, dtype=torch.float64, requires_grad=True), Parameter containing:\n",
      "tensor(79.9063, dtype=torch.float64, requires_grad=True), Parameter containing:\n",
      "tensor(2., dtype=torch.float64, requires_grad=True), Parameter containing:\n",
      "tensor(2., dtype=torch.float64, requires_grad=True), Parameter containing:\n",
      "tensor(0., dtype=torch.float64, requires_grad=True), Parameter containing:\n",
      "tensor(0., dtype=torch.float64, requires_grad=True)]\n"
     ]
    }
   ],
   "source": [
    "trainer.model = berrar_analytical\n",
    "trainer.train(verbose=True, epochs=1, val_ratio=0.2)\n",
    "#trainer.test(verbose=True)\n",
    "print(berrar_analytical.ratings)\n",
    "print(berrar_analytical.hyperparams)"
   ],
   "metadata": {
    "collapsed": false,
    "ExecuteTime": {
     "end_time": "2024-03-14T14:56:58.451718Z",
     "start_time": "2024-03-14T14:56:45.033968Z"
    }
   },
   "id": "ff9a18a4e7501ade",
   "execution_count": 13
  }
 ],
 "metadata": {
  "kernelspec": {
   "display_name": "Python 3",
   "language": "python",
   "name": "python3"
  },
  "language_info": {
   "codemirror_mode": {
    "name": "ipython",
    "version": 2
   },
   "file_extension": ".py",
   "mimetype": "text/x-python",
   "name": "python",
   "nbconvert_exporter": "python",
   "pygments_lexer": "ipython2",
   "version": "2.7.6"
  }
 },
 "nbformat": 4,
 "nbformat_minor": 5
}
