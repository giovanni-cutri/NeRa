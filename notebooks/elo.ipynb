{
 "cells": [
  {
   "cell_type": "code",
   "execution_count": 2,
   "id": "initial_id",
   "metadata": {
    "collapsed": true,
    "ExecuteTime": {
     "end_time": "2024-03-07T13:26:45.488271Z",
     "start_time": "2024-03-07T13:26:42.239795Z"
    }
   },
   "outputs": [
    {
     "name": "stderr",
     "output_type": "stream",
     "text": [
      "/home/kubos/anaconda3/envs/bp/lib/python3.11/site-packages/paramiko/transport.py:219: CryptographyDeprecationWarning: Blowfish has been deprecated\n",
      "  \"class\": algorithms.Blowfish,\n"
     ]
    }
   ],
   "source": [
    "import torch\n",
    "import pandas as pd\n",
    "from datetime import timedelta\n",
    "from datetime import datetime\n",
    "\n",
    "import numpy as np\n",
    "\n",
    "from nera.data import *\n",
    "from nera.models.ratings import EloAnalytical, EloManual, EloNumerical, EloSymbolical\n",
    "from nera.reference import *\n",
    "from nera.trainer import Trainer\n",
    "from nera.utils import print_rating_diff\n"
   ]
  },
  {
   "cell_type": "code",
   "outputs": [
    {
     "name": "stderr",
     "output_type": "stream",
     "text": [
      "2024-03-07 14:26:45.544 | INFO     | nera.data._data_saving_loading:load_data_csv:70 - 21100 rows loaded from ../resources/other_leagues.csv\n"
     ]
    },
    {
     "name": "stdout",
     "output_type": "stream",
     "text": [
      "21100\n"
     ]
    }
   ],
   "source": [
    "da = DataAcquisition()\n",
    "df = da.get_data(FROM_CSV, fname=\"../resources/other_leagues.csv\")\n",
    "df['DT'] = pd.to_datetime(df['DT'], format=\"%Y-%m-%d %H:%M:%S\")\n",
    "#df = df[(df['League'] != 'EuroLeague') & (df['League'] != 'EuroCup')] \n",
    "df = df.reset_index()\n",
    "df = df.sort_values(by='DT', ascending=False)\n",
    "\n",
    "transform = DataTransformation(df, timedelta(365))\n",
    "dataset = transform.get_dataset(node_f_extract=False, edge_f_one_hot=True)\n",
    "\n",
    "team_count = transform.num_teams\n",
    "\n",
    "print(len(df))\n",
    "\n",
    "# dummy dataset\n",
    "\n",
    "delta = timedelta(seconds=1)\n",
    "delta2 = timedelta(days=366)\n",
    "now = datetime.now()\n",
    "data = pd.DataFrame({'DT': [*[now - i * delta2 + j * delta for j in range(3) for i in range(4)]], \n",
    "                     'Home': ['A', 'B', 'C', 'A', 'B', 'C', 'A', 'B', 'C', 'A', 'B', 'C'],\n",
    "                     'Away': ['B', 'C', 'A', 'C', 'A', 'B', 'B', 'C', 'A', 'C', 'A', 'B'],\n",
    "                     'Winner': ['home', 'away', 'away', 'home', 'away', 'away', 'home', 'home', 'away', 'home', 'away', 'home'],\n",
    "                     'Home_points': [10, 5, 15, 12, 15, 6, 20, 10, 10, 14, 3, 12],\n",
    "                     'Away_points': [4, 8, 17, 10, 16, 14, 18, 9, 15, 0, 11, 4],\n",
    "                     'League': [*(12 * ['liga'])],\n",
    "                     })\n",
    "data = data.sort_values(by='DT', ascending=False)\n",
    "transform2 = DataTransformation(data, timedelta(days=365))\n",
    "dummy_dataset = transform2.get_dataset(edge_f_one_hot=True)\n",
    "\n",
    "elo_man = EloManual(team_count=transform2.num_teams)\n",
    "trainer = Trainer(dummy_dataset, train_ratio=1)\n",
    "trainer.model = elo_man\n",
    "reference_maker = RatingReference(transform2.num_teams)"
   ],
   "metadata": {
    "collapsed": false,
    "ExecuteTime": {
     "end_time": "2024-03-07T13:26:45.959544Z",
     "start_time": "2024-03-07T13:26:45.489562Z"
    }
   },
   "id": "3f2344072c85b02a",
   "execution_count": 3
  },
  {
   "cell_type": "markdown",
   "source": [
    "### Manual Elo with NN pass"
   ],
   "metadata": {
    "collapsed": false
   },
   "id": "276b160d472eee9e"
  },
  {
   "cell_type": "code",
   "outputs": [
    {
     "name": "stderr",
     "output_type": "stream",
     "text": [
      "2024-03-07 14:16:28.600 | INFO     | nera.trainer:train:171 - [TRN] Epoch: 0, training loss: 174.165, training accuracy: 66.67%\n"
     ]
    },
    {
     "name": "stdout",
     "output_type": "stream",
     "text": [
      "Computed elo Dummy:  [ 658.38739014  880.46270752 1461.15014648]\n",
      "Parameter containing:\n",
      "tensor([ 658.3874,  880.4627, 1461.1500], dtype=torch.float64,\n",
      "       requires_grad=True)\n",
      "\n",
      "----------------------------------------\n"
     ]
    },
    {
     "name": "stderr",
     "output_type": "stream",
     "text": [
      "2024-03-07 14:16:37.171 | INFO     | nera.trainer:train:171 - [TRN] Epoch: 0, training loss: 2293848.884, training accuracy: 58.84%\n"
     ]
    },
    {
     "name": "stdout",
     "output_type": "stream",
     "text": [
      "0:: computed:   7191.367 || net:   7191.367\n",
      "1:: computed:   2895.177 || net:   2895.178\n",
      "2:: computed:   3006.513 || net:   3006.513\n",
      "3:: computed:   4540.632 || net:   4540.633\n",
      "4:: computed:   3065.280 || net:   3065.280\n",
      "...\n",
      "[SUCCESS]: Computed elo is the same as Elo from NN\n"
     ]
    }
   ],
   "source": [
    "print('Computed elo Dummy: ', reference_maker.compute_reference('elo', dummy_dataset)[0])\n",
    "acc_dummy = trainer.train(epochs=1, val_ratio=0, verbose=True)\n",
    "print(elo_man.elo)\n",
    "print()\n",
    "print('----------------------------------------')\n",
    "print()\n",
    "\n",
    "reference_maker.num_teams = transform.num_teams\n",
    "computed = reference_maker.compute_reference('elo', dataset)[0]\n",
    "\n",
    "print()\n",
    "elo = EloManual(team_count=transform.num_teams)\n",
    "trainer.dataset = dataset\n",
    "trainer.model = elo\n",
    "acc_late = trainer.train(epochs=1, val_ratio=0, verbose=True)\n",
    "\n",
    "err = False\n",
    "for i in range(len(computed)):\n",
    "    cmp = float(computed[i])\n",
    "    net = float(elo.elo[i])\n",
    "    if abs(cmp - net) > 0.1:\n",
    "        print(rf'ERROR on index {i}:: {cmp} / {net}')\n",
    "        err = True\n",
    "    if i < 5:\n",
    "        print(f'{i}:: computed: {cmp:10.3f} || net: {net:10.3f}')\n",
    "if not err:\n",
    "    print(\"...\")\n",
    "    print(\"[SUCCESS]: Computed elo is the same as Elo from NN\")\n",
    "\n"
   ],
   "metadata": {
    "collapsed": false,
    "ExecuteTime": {
     "end_time": "2024-03-07T13:16:37.176371Z",
     "start_time": "2024-03-07T13:16:28.584683Z"
    }
   },
   "id": "cb9e0fcfcaff27c1",
   "execution_count": 4
  },
  {
   "cell_type": "markdown",
   "source": [
    "### Elo with gradient\n",
    "\n",
    "first lets check our analytical backward pass"
   ],
   "metadata": {
    "collapsed": false
   },
   "id": "6abcdc6410c9c184"
  },
  {
   "cell_type": "code",
   "outputs": [
    {
     "name": "stdout",
     "output_type": "stream",
     "text": [
      "True\n"
     ]
    }
   ],
   "source": [
    "from torch.autograd import gradcheck\n",
    "from nera.models.ratings._elo._analytical import _elo_fn\n",
    "# gradcheck takes a tuple of tensors as input, check if your gradient\n",
    "# evaluated with these tensors are close enough to numerical\n",
    "# approximations and returns True if they all verify this condition.\n",
    "input = (torch.randn(1,dtype=torch.double,requires_grad=True), torch.randn(1,dtype=torch.double,requires_grad=True), torch.randn(1,dtype=torch.double,requires_grad=True), torch.randn(1,dtype=torch.double,requires_grad=True))\n",
    "test = gradcheck(_elo_fn, input, eps=1e-6, atol=1e-4)\n",
    "print(test)"
   ],
   "metadata": {
    "collapsed": false,
    "ExecuteTime": {
     "end_time": "2024-03-07T11:59:01.766333Z",
     "start_time": "2024-03-07T11:59:01.753387Z"
    }
   },
   "id": "e529d2fd8f249cab",
   "execution_count": 12
  },
  {
   "cell_type": "markdown",
   "source": [
    "Define training function for elo"
   ],
   "metadata": {
    "collapsed": false
   },
   "id": "759625d80778a895"
  },
  {
   "cell_type": "markdown",
   "source": [],
   "metadata": {
    "collapsed": false
   },
   "id": "f3b0055d77e99df4"
  },
  {
   "cell_type": "markdown",
   "source": [
    "Now, let's train elo with analytical backward pass"
   ],
   "metadata": {
    "collapsed": false
   },
   "id": "80d72f7d6893bab"
  },
  {
   "cell_type": "code",
   "outputs": [
    {
     "name": "stderr",
     "output_type": "stream",
     "text": [
      "2024-03-07 12:59:40.430 | INFO     | nera.trainer:train:171 - [TRN] Epoch: 0, training loss: 31544.302, training accuracy: 50.11%\n",
      "2024-03-07 12:59:40.432 | INFO     | nera.trainer:train:174 - [VAL] Epoch: 0, validation loss: 8022.393, validation accuracy: 50.19%\n",
      "2024-03-07 12:59:40.435 | INFO     | nera.trainer:test:267 - [TST] Testing accuracy: 42.71%\n"
     ]
    },
    {
     "data": {
      "text/plain": "0.4270833333333333"
     },
     "execution_count": 14,
     "metadata": {},
     "output_type": "execute_result"
    }
   ],
   "source": [
    "_elo_params = {\n",
    "    'gamma': 0.6,\n",
    "    'c': 3.,\n",
    "    'd': 500.,\n",
    "}\n",
    "trainer.set_lr(7, 'rating')\n",
    "elo_grad = EloAnalytical(team_count, hp_grad=False, **_elo_params)\n",
    "trainer.model = elo_grad\n",
    "trainer.train_ratio = 0.8\n",
    "trainer.train(verbose=True, epochs=1, val_ratio=0.2)\n",
    "trainer.test(verbose=True)"
   ],
   "metadata": {
    "collapsed": false,
    "ExecuteTime": {
     "end_time": "2024-03-07T11:59:40.439783Z",
     "start_time": "2024-03-07T11:59:29.289721Z"
    }
   },
   "id": "c52934dfacec4a01",
   "execution_count": 14
  },
  {
   "cell_type": "markdown",
   "source": [
    "And Elo with autograd (numerical gradient backward pass)"
   ],
   "metadata": {
    "collapsed": false
   },
   "id": "23b728c856e67b28"
  },
  {
   "cell_type": "code",
   "outputs": [
    {
     "name": "stderr",
     "output_type": "stream",
     "text": [
      "2024-03-07 12:59:49.306 | INFO     | nera.trainer:train:171 - [TRN] Epoch: 0, training loss: 31542.678, training accuracy: 50.40%\n",
      "2024-03-07 12:59:49.308 | INFO     | nera.trainer:train:174 - [VAL] Epoch: 0, validation loss: 8032.279, validation accuracy: 50.89%\n",
      "2024-03-07 12:59:49.309 | INFO     | nera.trainer:test:267 - [TST] Testing accuracy: 46.88%\n"
     ]
    },
    {
     "data": {
      "text/plain": "0.46875"
     },
     "execution_count": 15,
     "metadata": {},
     "output_type": "execute_result"
    }
   ],
   "source": [
    "elo_auto = EloNumerical(team_count, hp_grad=False, **_elo_params)\n",
    "trainer.model = elo_auto\n",
    "trainer.train(verbose=True, epochs=1, val_ratio=0.2)\n",
    "trainer.test(verbose=True)"
   ],
   "metadata": {
    "collapsed": false,
    "ExecuteTime": {
     "end_time": "2024-03-07T11:59:49.312424Z",
     "start_time": "2024-03-07T11:59:40.441237Z"
    }
   },
   "id": "15b2e5a7e9c0a7c",
   "execution_count": 15
  },
  {
   "cell_type": "markdown",
   "source": [
    "And finally, compare wheter these two are the same\n",
    "___________________"
   ],
   "metadata": {
    "collapsed": false
   },
   "id": "de6b29122353ee52"
  },
  {
   "cell_type": "code",
   "outputs": [
    {
     "name": "stdout",
     "output_type": "stream",
     "text": [
      "Ratings diff:\n",
      "Rating 0:\n",
      "[ERROR] in rating 0 on index 0:: 18767.727127396844 / -16572.66731473815\n",
      "[ERROR] in rating 0 on index 1:: -17715.781470317506 / -10968.81145372411\n",
      "[ERROR] in rating 0 on index 2:: -6512.368626225078 / -2739.371559912648\n",
      "[ERROR] in rating 0 on index 3:: 21005.999473362 / -765.711830564877\n",
      "[ERROR] in rating 0 on index 4:: 20387.303889517465 / 10654.086947696178\n",
      "...\n",
      "\n",
      "Total number of errors: 139 out of 219 computed ratings\n",
      "Cumulative sum of errors: 1585352.142484664\n",
      "Average difference: 11405.411097011971\n",
      "Average difference percentage: 86.8208152784141%\n",
      "Maximal difference: 46178.492229172836\n",
      "-------------------------\n",
      "\n",
      "Hyperparams diff:\n"
     ]
    }
   ],
   "source": [
    "print_rating_diff(elo_auto, elo_grad, transform)"
   ],
   "metadata": {
    "collapsed": false,
    "ExecuteTime": {
     "end_time": "2024-03-07T11:59:49.318345Z",
     "start_time": "2024-03-07T11:59:49.313513Z"
    }
   },
   "id": "70eed877f706da5c",
   "execution_count": 16
  },
  {
   "cell_type": "markdown",
   "source": [
    "Now let's see what happens, when we let the model learn the c, d metaparameters as well"
   ],
   "metadata": {
    "collapsed": false
   },
   "id": "21a62caaee0df111"
  },
  {
   "cell_type": "code",
   "outputs": [
    {
     "name": "stderr",
     "output_type": "stream",
     "text": [
      "2024-03-07 12:59:59.485 | INFO     | nera.trainer:train:171 - [TRN] Epoch: 0, training loss: 1780160.303, training accuracy: 50.17%\n",
      "2024-03-07 12:59:59.486 | INFO     | nera.trainer:train:174 - [VAL] Epoch: 0, validation loss: 475771.900, validation accuracy: 50.38%\n",
      "2024-03-07 13:00:09.672 | INFO     | nera.trainer:train:171 - [TRN] Epoch: 1, training loss: 1633383.901, training accuracy: 49.95%\n",
      "2024-03-07 13:00:09.673 | INFO     | nera.trainer:train:174 - [VAL] Epoch: 1, validation loss: 424018.200, validation accuracy: 49.62%\n",
      "2024-03-07 13:00:20.141 | INFO     | nera.trainer:train:171 - [TRN] Epoch: 2, training loss: 1165865.505, training accuracy: 49.87%\n",
      "2024-03-07 13:00:20.143 | INFO     | nera.trainer:train:174 - [VAL] Epoch: 2, validation loss: 303593.915, validation accuracy: 50.08%\n",
      "2024-03-07 13:00:30.874 | INFO     | nera.trainer:train:171 - [TRN] Epoch: 3, training loss: 982259.866, training accuracy: 50.23%\n",
      "2024-03-07 13:00:30.875 | INFO     | nera.trainer:train:174 - [VAL] Epoch: 3, validation loss: 263620.236, validation accuracy: 50.51%\n",
      "2024-03-07 13:00:41.751 | INFO     | nera.trainer:train:171 - [TRN] Epoch: 4, training loss: 973048.235, training accuracy: 50.88%\n",
      "2024-03-07 13:00:41.753 | INFO     | nera.trainer:train:174 - [VAL] Epoch: 4, validation loss: 258337.333, validation accuracy: 50.89%\n",
      "2024-03-07 13:00:41.754 | INFO     | nera.trainer:test:267 - [TST] Testing accuracy: 56.46%\n"
     ]
    },
    {
     "data": {
      "text/plain": "0.5645833333333333"
     },
     "execution_count": 17,
     "metadata": {},
     "output_type": "execute_result"
    }
   ],
   "source": [
    "trainer.set_lr(0.0001, 'hyperparam')\n",
    "trainer.set_lr(25, 'rating')\n",
    "epoch_count = 5\n",
    "\n",
    "elo_auto2 = EloNumerical(team_count, hp_grad=True, c=torch.tensor(3, dtype=torch.float64), d=torch.tensor(500, dtype=torch.float64))\n",
    "trainer.model = elo_auto2\n",
    "trainer.train(verbose=True, epochs=epoch_count, val_ratio=0.2)\n",
    "trainer.test(verbose=True)"
   ],
   "metadata": {
    "collapsed": false,
    "ExecuteTime": {
     "end_time": "2024-03-07T12:00:41.757324Z",
     "start_time": "2024-03-07T11:59:49.319636Z"
    }
   },
   "id": "4a4e0f0f7015bbe7",
   "execution_count": 17
  },
  {
   "cell_type": "code",
   "outputs": [
    {
     "name": "stderr",
     "output_type": "stream",
     "text": [
      "2024-03-07 13:00:52.357 | INFO     | nera.trainer:train:171 - [TRN] Epoch: 0, training loss: 1778901.638, training accuracy: 49.77%\n",
      "2024-03-07 13:00:52.359 | INFO     | nera.trainer:train:174 - [VAL] Epoch: 0, validation loss: 472144.944, validation accuracy: 50.75%\n",
      "2024-03-07 13:01:04.622 | INFO     | nera.trainer:train:171 - [TRN] Epoch: 1, training loss: 1738533.913, training accuracy: 49.28%\n",
      "2024-03-07 13:01:04.623 | INFO     | nera.trainer:train:174 - [VAL] Epoch: 1, validation loss: 441891.658, validation accuracy: 47.99%\n",
      "2024-03-07 13:01:16.544 | INFO     | nera.trainer:train:171 - [TRN] Epoch: 2, training loss: 1587505.247, training accuracy: 50.47%\n",
      "2024-03-07 13:01:16.546 | INFO     | nera.trainer:train:174 - [VAL] Epoch: 2, validation loss: 406042.658, validation accuracy: 50.48%\n",
      "2024-03-07 13:01:27.374 | INFO     | nera.trainer:train:171 - [TRN] Epoch: 3, training loss: 998616.636, training accuracy: 51.07%\n",
      "2024-03-07 13:01:27.375 | INFO     | nera.trainer:train:174 - [VAL] Epoch: 3, validation loss: 264882.296, validation accuracy: 50.24%\n",
      "2024-03-07 13:01:38.258 | INFO     | nera.trainer:train:171 - [TRN] Epoch: 4, training loss: 991283.377, training accuracy: 50.36%\n",
      "2024-03-07 13:01:38.259 | INFO     | nera.trainer:train:174 - [VAL] Epoch: 4, validation loss: 273222.735, validation accuracy: 50.56%\n",
      "2024-03-07 13:01:38.261 | INFO     | nera.trainer:test:267 - [TST] Testing accuracy: 49.79%\n"
     ]
    },
    {
     "data": {
      "text/plain": "0.4979166666666667"
     },
     "execution_count": 18,
     "metadata": {},
     "output_type": "execute_result"
    }
   ],
   "source": [
    "elo_grad2 = EloAnalytical(team_count, hp_grad=True, c=torch.tensor(3, dtype=torch.float64), d=torch.tensor(500, dtype=torch.float64))\n",
    "trainer.model = elo_grad2\n",
    "trainer.train(verbose=True, epochs=epoch_count, val_ratio=0.2)\n",
    "trainer.test(verbose=True)"
   ],
   "metadata": {
    "collapsed": false,
    "ExecuteTime": {
     "end_time": "2024-03-07T12:01:38.264201Z",
     "start_time": "2024-03-07T12:00:41.758261Z"
    }
   },
   "id": "8fc57a7f05ebb093",
   "execution_count": 18
  },
  {
   "cell_type": "code",
   "outputs": [
    {
     "name": "stdout",
     "output_type": "stream",
     "text": [
      "Ratings diff:\n",
      "Rating 0:\n",
      "[ERROR] in rating 0 on index 0:: -8888.75005067641 / -10131.376043258608\n",
      "[ERROR] in rating 0 on index 1:: -16313.612330261521 / 17446.453963609936\n",
      "[ERROR] in rating 0 on index 2:: 9846.623066015953 / -3010.313957015063\n",
      "[ERROR] in rating 0 on index 3:: -15524.33175620385 / 14175.394007912557\n",
      "[ERROR] in rating 0 on index 4:: -5851.881058257431 / -19520.280396710572\n",
      "...\n",
      "\n",
      "Total number of errors: 201 out of 219 computed ratings\n",
      "Cumulative sum of errors: 5057301.206906568\n",
      "Average difference: 25160.702521923224\n",
      "Average difference percentage: 141.85120883074623%\n",
      "Maximal difference: 107718.35669714474\n",
      "-------------------------\n",
      "\n",
      "Hyperparams diff:\n",
      "Numerical: hyperparam[0] =    0.978 :: Numerical: hyperparam[0] =    1.024\n",
      "Numerical: hyperparam[1] =  506.215 :: Numerical: hyperparam[1] =  506.209\n"
     ]
    }
   ],
   "source": [
    "print_rating_diff(elo_auto2, elo_grad2, transform)"
   ],
   "metadata": {
    "collapsed": false,
    "ExecuteTime": {
     "end_time": "2024-03-07T12:01:38.271174Z",
     "start_time": "2024-03-07T12:01:38.265077Z"
    }
   },
   "id": "f1b45ecef893ee25",
   "execution_count": 19
  },
  {
   "cell_type": "code",
   "outputs": [
    {
     "name": "stderr",
     "output_type": "stream",
     "text": [
      "2024-03-07 13:01:42.870 | INFO     | nera.trainer:train:171 - [TRN] Epoch: 0, training loss: 1620577.841, training accuracy: 59.20%\n",
      "2024-03-07 13:01:42.871 | INFO     | nera.trainer:train:174 - [VAL] Epoch: 0, validation loss: 424847.971, validation accuracy: 57.11%\n",
      "2024-03-07 13:01:42.873 | INFO     | nera.trainer:test:267 - [TST] Testing accuracy: 56.25%\n"
     ]
    },
    {
     "data": {
      "text/plain": "0.5625"
     },
     "execution_count": 20,
     "metadata": {},
     "output_type": "execute_result"
    }
   ],
   "source": [
    "elo = EloManual(team_count=transform.num_teams)\n",
    "trainer.dataset = dataset\n",
    "trainer.model = elo\n",
    "acc_late = trainer.train(epochs=1, val_ratio=0.2, verbose=True)\n",
    "trainer.test(verbose=True)"
   ],
   "metadata": {
    "collapsed": false,
    "ExecuteTime": {
     "end_time": "2024-03-07T12:01:42.875816Z",
     "start_time": "2024-03-07T12:01:38.272294Z"
    }
   },
   "id": "2e0bb29f5d46f7a4",
   "execution_count": 20
  },
  {
   "cell_type": "markdown",
   "source": [
    "### SYMBOLICAL ELO"
   ],
   "metadata": {
    "collapsed": false
   },
   "id": "8854d745dabcc3d9"
  },
  {
   "cell_type": "code",
   "outputs": [
    {
     "name": "stderr",
     "output_type": "stream",
     "text": [
      "2024-03-07 15:57:54.174 | INFO     | nera.trainer:train:171 - [TRN] Epoch: 0, training loss: nan, training accuracy: 0.00%\n",
      "2024-03-07 15:57:54.175 | INFO     | nera.trainer:train:174 - [VAL] Epoch: 0, validation loss: nan, validation accuracy: 0.00%\n",
      "2024-03-07 15:58:05.635 | INFO     | nera.trainer:train:171 - [TRN] Epoch: 1, training loss: nan, training accuracy: 0.00%\n",
      "2024-03-07 15:58:05.636 | INFO     | nera.trainer:train:174 - [VAL] Epoch: 1, validation loss: nan, validation accuracy: 0.00%\n",
      "2024-03-07 15:58:17.044 | INFO     | nera.trainer:train:171 - [TRN] Epoch: 2, training loss: nan, training accuracy: 0.00%\n",
      "2024-03-07 15:58:17.045 | INFO     | nera.trainer:train:174 - [VAL] Epoch: 2, validation loss: nan, validation accuracy: 0.00%\n",
      "2024-03-07 15:58:29.097 | INFO     | nera.trainer:train:171 - [TRN] Epoch: 3, training loss: nan, training accuracy: 0.00%\n",
      "2024-03-07 15:58:29.098 | INFO     | nera.trainer:train:174 - [VAL] Epoch: 3, validation loss: nan, validation accuracy: 0.00%\n",
      "2024-03-07 15:58:41.660 | INFO     | nera.trainer:train:171 - [TRN] Epoch: 4, training loss: nan, training accuracy: 0.00%\n",
      "2024-03-07 15:58:41.661 | INFO     | nera.trainer:train:174 - [VAL] Epoch: 4, validation loss: nan, validation accuracy: 0.00%\n",
      "2024-03-07 15:58:41.663 | INFO     | nera.trainer:test:267 - [TST] Testing accuracy: 0.00%\n"
     ]
    },
    {
     "data": {
      "text/plain": "0.0"
     },
     "execution_count": 9,
     "metadata": {},
     "output_type": "execute_result"
    }
   ],
   "source": [
    "elo_sym = EloSymbolical(team_count=transform.num_teams, rating_dim=3, hp_grad=True)\n",
    "trainer.dataset = dataset\n",
    "trainer.model = elo_sym\n",
    "trainer.train_ratio = 0.8\n",
    "trainer.set_lr(0.02, 'rating')\n",
    "acc_sym = trainer.train(epochs=5, val_ratio=0.2, verbose=True)\n",
    "trainer.test(verbose=True)"
   ],
   "metadata": {
    "collapsed": false,
    "ExecuteTime": {
     "end_time": "2024-03-07T14:58:41.665375Z",
     "start_time": "2024-03-07T14:57:42.634698Z"
    }
   },
   "id": "6e7d138cff88d83b",
   "execution_count": 9
  },
  {
   "cell_type": "code",
   "outputs": [],
   "source": [
    "print(elo_sym.elo[:3])"
   ],
   "metadata": {
    "collapsed": false
   },
   "id": "bc793af135035a8a",
   "execution_count": null
  }
 ],
 "metadata": {
  "kernelspec": {
   "display_name": "Python 3",
   "language": "python",
   "name": "python3"
  },
  "language_info": {
   "codemirror_mode": {
    "name": "ipython",
    "version": 2
   },
   "file_extension": ".py",
   "mimetype": "text/x-python",
   "name": "python",
   "nbconvert_exporter": "python",
   "pygments_lexer": "ipython2",
   "version": "2.7.6"
  }
 },
 "nbformat": 4,
 "nbformat_minor": 5
}
