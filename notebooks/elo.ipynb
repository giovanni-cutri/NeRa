{
 "cells": [
  {
   "cell_type": "code",
   "execution_count": 2,
   "id": "initial_id",
   "metadata": {
    "collapsed": true,
    "ExecuteTime": {
     "end_time": "2024-03-01T16:38:40.403986Z",
     "start_time": "2024-03-01T16:38:36.631378Z"
    }
   },
   "outputs": [
    {
     "name": "stderr",
     "output_type": "stream",
     "text": [
      "/home/kubos/anaconda3/envs/bp/lib/python3.11/site-packages/paramiko/transport.py:219: CryptographyDeprecationWarning: Blowfish has been deprecated\n",
      "  \"class\": algorithms.Blowfish,\n"
     ]
    }
   ],
   "source": [
    "import torch\n",
    "import pandas as pd\n",
    "from datetime import timedelta\n",
    "from datetime import datetime\n",
    "\n",
    "import numpy as np\n",
    "\n",
    "from nera.data import *\n",
    "from nera.models.ratings import EloAnalytical, EloManual, EloNumerical\n",
    "from nera.reference import *\n",
    "from nera.trainer import Trainer\n",
    "from nera.utils import print_rating_diff\n"
   ]
  },
  {
   "cell_type": "code",
   "outputs": [
    {
     "name": "stderr",
     "output_type": "stream",
     "text": [
      "2024-03-01 17:38:40.460 | INFO     | nera.data._data_saving_loading:load_data_csv:70 - 21100 rows loaded from ../resources/other_leagues.csv\n"
     ]
    }
   ],
   "source": [
    "da = DataAcquisition()\n",
    "df = da.get_data(FROM_CSV, fname=\"../resources/other_leagues.csv\")\n",
    "df['DT'] = pd.to_datetime(df['DT'], format=\"%Y-%m-%d %H:%M:%S\")\n",
    "data_transform = DataTransformation(df, timedelta(365))\n",
    "df = df[(df['League'] != 'EuroLeague') & (df['League'] != 'EuroCup')] \n",
    "df = df.reset_index()\n",
    "\n",
    "transform = DataTransformation(df, timedelta(365))\n",
    "dataset = transform.get_dataset(node_f_extract=False, edge_f_one_hot=True)\n",
    "\n",
    "team_count = transform.num_teams"
   ],
   "metadata": {
    "collapsed": false,
    "ExecuteTime": {
     "end_time": "2024-03-01T16:38:40.768258Z",
     "start_time": "2024-03-01T16:38:40.405223Z"
    }
   },
   "id": "3f2344072c85b02a",
   "execution_count": 3
  },
  {
   "cell_type": "markdown",
   "source": [
    "### Manual Elo with NN pass"
   ],
   "metadata": {
    "collapsed": false
   },
   "id": "276b160d472eee9e"
  },
  {
   "cell_type": "code",
   "outputs": [],
   "source": [
    "# dummy dataset\n",
    "\n",
    "delta = timedelta(days=365)\n",
    "delta2 = timedelta(days=366)\n",
    "now = datetime.now()\n",
    "data = pd.DataFrame({'DT': [*(3 * [now]), *(3 * [now - delta2]), *(3 * [now - 2 * delta2]), *(3 * [now - 3 * delta2])], \n",
    "                     'Home': ['A', 'B', 'C', 'A', 'B', 'C', 'A', 'B', 'C', 'A', 'B', 'C'],\n",
    "                     'Away': ['B', 'C', 'A', 'C', 'A', 'B', 'B', 'C', 'A', 'C', 'A', 'B'],\n",
    "                     'Winner': ['home', 'away', 'away', 'home', 'away', 'away', 'home', 'home', 'away', 'home', 'away', 'home'],\n",
    "                     'Home_points': [10, 5, 15, 12, 15, 6, 20, 10, 10, 14, 3, 12],\n",
    "                     'Away_points': [4, 8, 17, 10, 16, 14, 18, 9, 15, 0, 11, 4],\n",
    "                     'League': [*(12 * ['liga'])],\n",
    "                     })\n",
    "\n",
    "transform2 = DataTransformation(data, timedelta(days=365))\n",
    "dummy_dataset = transform2.get_dataset(edge_f_one_hot=True)"
   ],
   "metadata": {
    "collapsed": false,
    "ExecuteTime": {
     "end_time": "2024-03-01T16:38:40.805367Z",
     "start_time": "2024-03-01T16:38:40.769349Z"
    }
   },
   "id": "98df5d4a227fd697",
   "execution_count": 4
  },
  {
   "cell_type": "code",
   "outputs": [
    {
     "name": "stdout",
     "output_type": "stream",
     "text": [
      "Computed elo Dummy:  [1513.46835291  829.57818391  656.95346319]\n"
     ]
    },
    {
     "ename": "ValueError",
     "evalue": "At least one stride in the given numpy array is negative, and tensors with negative strides are not currently supported. (You can probably work around this by making a copy of your array  with array.copy().) ",
     "output_type": "error",
     "traceback": [
      "\u001B[0;31m---------------------------------------------------------------------------\u001B[0m",
      "\u001B[0;31mValueError\u001B[0m                                Traceback (most recent call last)",
      "Cell \u001B[0;32mIn[6], line 6\u001B[0m\n\u001B[1;32m      3\u001B[0m reference_maker \u001B[38;5;241m=\u001B[39m RatingReference(data, transform2\u001B[38;5;241m.\u001B[39mteam_mapping)\n\u001B[1;32m      5\u001B[0m \u001B[38;5;28mprint\u001B[39m(\u001B[38;5;124m'\u001B[39m\u001B[38;5;124mComputed elo Dummy: \u001B[39m\u001B[38;5;124m'\u001B[39m, reference_maker\u001B[38;5;241m.\u001B[39mcompute_reference(\u001B[38;5;124m'\u001B[39m\u001B[38;5;124melo\u001B[39m\u001B[38;5;124m'\u001B[39m)[\u001B[38;5;241m0\u001B[39m])\n\u001B[0;32m----> 6\u001B[0m acc_dummy \u001B[38;5;241m=\u001B[39m \u001B[43mtrainer\u001B[49m\u001B[38;5;241;43m.\u001B[39;49m\u001B[43mtrain\u001B[49m\u001B[43m(\u001B[49m\u001B[43mepochs\u001B[49m\u001B[38;5;241;43m=\u001B[39;49m\u001B[38;5;241;43m1\u001B[39;49m\u001B[43m)\u001B[49m\n\u001B[1;32m      7\u001B[0m \u001B[38;5;28mprint\u001B[39m(elo_man\u001B[38;5;241m.\u001B[39melo)\n\u001B[1;32m      8\u001B[0m \u001B[38;5;28mprint\u001B[39m()\n",
      "File \u001B[0;32m~/Documents/skola/bp/gnn_sport_prediction/nera/trainer.py:82\u001B[0m, in \u001B[0;36mTrainer.train\u001B[0;34m(self, epochs, batch_size, verbose, **kwargs)\u001B[0m\n\u001B[1;32m     80\u001B[0m \u001B[38;5;28;01mdef\u001B[39;00m \u001B[38;5;21mtrain\u001B[39m(\u001B[38;5;28mself\u001B[39m, epochs: \u001B[38;5;28mint\u001B[39m \u001B[38;5;241m=\u001B[39m \u001B[38;5;241m100\u001B[39m, batch_size: \u001B[38;5;28mint\u001B[39m \u001B[38;5;241m=\u001B[39m \u001B[38;5;241m64\u001B[39m, verbose: \u001B[38;5;28mbool\u001B[39m \u001B[38;5;241m=\u001B[39m \u001B[38;5;28;01mFalse\u001B[39;00m, \u001B[38;5;241m*\u001B[39m\u001B[38;5;241m*\u001B[39mkwargs) \u001B[38;5;241m-\u001B[39m\u001B[38;5;241m>\u001B[39m np\u001B[38;5;241m.\u001B[39mndarray:\n\u001B[1;32m     81\u001B[0m     \u001B[38;5;28;01mif\u001B[39;00m \u001B[38;5;28mhasattr\u001B[39m(\u001B[38;5;28mself\u001B[39m\u001B[38;5;241m.\u001B[39mmodel, \u001B[38;5;124m'\u001B[39m\u001B[38;5;124mis_rating\u001B[39m\u001B[38;5;124m'\u001B[39m) \u001B[38;5;129;01mand\u001B[39;00m \u001B[38;5;28mself\u001B[39m\u001B[38;5;241m.\u001B[39mmodel\u001B[38;5;241m.\u001B[39mis_rating:\n\u001B[0;32m---> 82\u001B[0m         \u001B[38;5;28;01mreturn\u001B[39;00m \u001B[38;5;28;43mself\u001B[39;49m\u001B[38;5;241;43m.\u001B[39;49m\u001B[43m_train_rating\u001B[49m\u001B[43m(\u001B[49m\u001B[43mverbose\u001B[49m\u001B[38;5;241;43m=\u001B[39;49m\u001B[43mverbose\u001B[49m\u001B[43m,\u001B[49m\u001B[43m \u001B[49m\u001B[38;5;241;43m*\u001B[39;49m\u001B[38;5;241;43m*\u001B[39;49m\u001B[43mkwargs\u001B[49m\u001B[43m)\u001B[49m\n\u001B[1;32m     84\u001B[0m     training_accuracy \u001B[38;5;241m=\u001B[39m []\n\u001B[1;32m     85\u001B[0m     \u001B[38;5;28mself\u001B[39m\u001B[38;5;241m.\u001B[39mmodel\u001B[38;5;241m.\u001B[39mtrain()\n",
      "File \u001B[0;32m~/Documents/skola/bp/gnn_sport_prediction/nera/trainer.py:123\u001B[0m, in \u001B[0;36mTrainer._train_rating\u001B[0;34m(self, epochs, verbose, clip_grad, **kwargs)\u001B[0m\n\u001B[1;32m    121\u001B[0m \u001B[38;5;28;01mfor\u001B[39;00m epoch \u001B[38;5;129;01min\u001B[39;00m \u001B[38;5;28mrange\u001B[39m(epochs):\n\u001B[1;32m    122\u001B[0m     accuracy, loss_acc, count \u001B[38;5;241m=\u001B[39m \u001B[38;5;241m0\u001B[39m, \u001B[38;5;241m0\u001B[39m, \u001B[38;5;241m0\u001B[39m\n\u001B[0;32m--> 123\u001B[0m \u001B[43m    \u001B[49m\u001B[38;5;28;43;01mfor\u001B[39;49;00m\u001B[43m \u001B[49m\u001B[43mtime\u001B[49m\u001B[43m,\u001B[49m\u001B[43m \u001B[49m\u001B[43msnapshot\u001B[49m\u001B[43m \u001B[49m\u001B[38;5;129;43;01min\u001B[39;49;00m\u001B[43m \u001B[49m\u001B[38;5;28;43menumerate\u001B[39;49m\u001B[43m(\u001B[49m\u001B[38;5;28;43mself\u001B[39;49m\u001B[38;5;241;43m.\u001B[39;49m\u001B[43mdataset\u001B[49m\u001B[43m)\u001B[49m\u001B[43m:\u001B[49m\n\u001B[1;32m    124\u001B[0m \u001B[43m        \u001B[49m\u001B[38;5;66;43;03m# pass through network has to be only one by one in order to compute elo correctly\u001B[39;49;00m\n\u001B[1;32m    125\u001B[0m \u001B[43m        \u001B[49m\u001B[43mmatches\u001B[49m\u001B[43m \u001B[49m\u001B[38;5;241;43m=\u001B[39;49m\u001B[43m \u001B[49m\u001B[43msnapshot\u001B[49m\u001B[38;5;241;43m.\u001B[39;49m\u001B[43medge_index\u001B[49m\n\u001B[1;32m    126\u001B[0m \u001B[43m        \u001B[49m\u001B[43mmatch_points\u001B[49m\u001B[43m \u001B[49m\u001B[38;5;241;43m=\u001B[39;49m\u001B[43m \u001B[49m\u001B[43msnapshot\u001B[49m\u001B[38;5;241;43m.\u001B[39;49m\u001B[43mmatch_points\u001B[49m\n",
      "File \u001B[0;32m~/anaconda3/envs/bp/lib/python3.11/site-packages/torch_geometric_temporal/signal/dynamic_graph_temporal_signal.py:130\u001B[0m, in \u001B[0;36mDynamicGraphTemporalSignal.__next__\u001B[0;34m(self)\u001B[0m\n\u001B[1;32m    128\u001B[0m \u001B[38;5;28;01mdef\u001B[39;00m \u001B[38;5;21m__next__\u001B[39m(\u001B[38;5;28mself\u001B[39m):\n\u001B[1;32m    129\u001B[0m     \u001B[38;5;28;01mif\u001B[39;00m \u001B[38;5;28mself\u001B[39m\u001B[38;5;241m.\u001B[39mt \u001B[38;5;241m<\u001B[39m \u001B[38;5;28mlen\u001B[39m(\u001B[38;5;28mself\u001B[39m\u001B[38;5;241m.\u001B[39mfeatures):\n\u001B[0;32m--> 130\u001B[0m         snapshot \u001B[38;5;241m=\u001B[39m \u001B[38;5;28;43mself\u001B[39;49m\u001B[43m[\u001B[49m\u001B[38;5;28;43mself\u001B[39;49m\u001B[38;5;241;43m.\u001B[39;49m\u001B[43mt\u001B[49m\u001B[43m]\u001B[49m\n\u001B[1;32m    131\u001B[0m         \u001B[38;5;28mself\u001B[39m\u001B[38;5;241m.\u001B[39mt \u001B[38;5;241m=\u001B[39m \u001B[38;5;28mself\u001B[39m\u001B[38;5;241m.\u001B[39mt \u001B[38;5;241m+\u001B[39m \u001B[38;5;241m1\u001B[39m\n\u001B[1;32m    132\u001B[0m         \u001B[38;5;28;01mreturn\u001B[39;00m snapshot\n",
      "File \u001B[0;32m~/anaconda3/envs/bp/lib/python3.11/site-packages/torch_geometric_temporal/signal/dynamic_graph_temporal_signal.py:119\u001B[0m, in \u001B[0;36mDynamicGraphTemporalSignal.__getitem__\u001B[0;34m(self, time_index)\u001B[0m\n\u001B[1;32m    117\u001B[0m \u001B[38;5;28;01melse\u001B[39;00m:\n\u001B[1;32m    118\u001B[0m     x \u001B[38;5;241m=\u001B[39m \u001B[38;5;28mself\u001B[39m\u001B[38;5;241m.\u001B[39m_get_features(time_index)\n\u001B[0;32m--> 119\u001B[0m     edge_index \u001B[38;5;241m=\u001B[39m \u001B[38;5;28;43mself\u001B[39;49m\u001B[38;5;241;43m.\u001B[39;49m\u001B[43m_get_edge_index\u001B[49m\u001B[43m(\u001B[49m\u001B[43mtime_index\u001B[49m\u001B[43m)\u001B[49m\n\u001B[1;32m    120\u001B[0m     edge_weight \u001B[38;5;241m=\u001B[39m \u001B[38;5;28mself\u001B[39m\u001B[38;5;241m.\u001B[39m_get_edge_weight(time_index)\n\u001B[1;32m    121\u001B[0m     y \u001B[38;5;241m=\u001B[39m \u001B[38;5;28mself\u001B[39m\u001B[38;5;241m.\u001B[39m_get_target(time_index)\n",
      "File \u001B[0;32m~/anaconda3/envs/bp/lib/python3.11/site-packages/torch_geometric_temporal/signal/dynamic_graph_temporal_signal.py:71\u001B[0m, in \u001B[0;36mDynamicGraphTemporalSignal._get_edge_index\u001B[0;34m(self, time_index)\u001B[0m\n\u001B[1;32m     69\u001B[0m     \u001B[38;5;28;01mreturn\u001B[39;00m \u001B[38;5;28mself\u001B[39m\u001B[38;5;241m.\u001B[39medge_indices[time_index]\n\u001B[1;32m     70\u001B[0m \u001B[38;5;28;01melse\u001B[39;00m:\n\u001B[0;32m---> 71\u001B[0m     \u001B[38;5;28;01mreturn\u001B[39;00m \u001B[43mtorch\u001B[49m\u001B[38;5;241;43m.\u001B[39;49m\u001B[43mLongTensor\u001B[49m\u001B[43m(\u001B[49m\u001B[38;5;28;43mself\u001B[39;49m\u001B[38;5;241;43m.\u001B[39;49m\u001B[43medge_indices\u001B[49m\u001B[43m[\u001B[49m\u001B[43mtime_index\u001B[49m\u001B[43m]\u001B[49m\u001B[43m)\u001B[49m\n",
      "\u001B[0;31mValueError\u001B[0m: At least one stride in the given numpy array is negative, and tensors with negative strides are not currently supported. (You can probably work around this by making a copy of your array  with array.copy().) "
     ]
    }
   ],
   "source": [
    "elo_man = EloManual(team_count=transform2.num_teams)\n",
    "trainer = Trainer(dummy_dataset, elo_man, train_ratio=1)\n",
    "reference_maker = RatingReference(data, transform2.team_mapping)\n",
    "\n",
    "print('Computed elo Dummy: ', reference_maker.compute_reference('elo')[0])\n",
    "acc_dummy = trainer.train(epochs=1)\n",
    "print(elo_man.elo)\n",
    "print()\n",
    "print('----------------------------------------')\n",
    "print()\n",
    "\n",
    "reference_maker.matches = (df, transform.team_mapping)\n",
    "computed = reference_maker.compute_reference('elo')[0]\n",
    "\n",
    "print()\n",
    "elo = EloManual(team_count=transform.num_teams)\n",
    "trainer.dataset = dataset\n",
    "trainer.model = elo\n",
    "acc_late = trainer.train(epochs=1)\n",
    "\n",
    "err = False\n",
    "for i in range(len(computed)):\n",
    "    cmp = float(computed[transform.team_mapping[transform.inv_team_mapping[i]]])\n",
    "    net = float(elo.elo[transform.team_mapping[transform.inv_team_mapping[i]]])\n",
    "    if cmp - net > 0.1:\n",
    "        print(rf'ERROR on index {i}:: {cmp} / {net}')\n",
    "        err = True\n",
    "    if i < 5:\n",
    "        print(f'{i}:: computed: {cmp:10.3f} || net: {net:10.3f}')\n",
    "if not err:\n",
    "    print(\"...\")\n",
    "    print(\"[SUCCESS]: Computed elo is the same as Elo from NN\")\n",
    "\n"
   ],
   "metadata": {
    "collapsed": false,
    "ExecuteTime": {
     "end_time": "2024-03-01T16:38:47.354242Z",
     "start_time": "2024-03-01T16:38:47.287142Z"
    }
   },
   "id": "cb9e0fcfcaff27c1",
   "execution_count": 6
  },
  {
   "cell_type": "markdown",
   "source": [
    "### Elo with gradient\n",
    "\n",
    "first lets check our analytical backward pass"
   ],
   "metadata": {
    "collapsed": false
   },
   "id": "6abcdc6410c9c184"
  },
  {
   "cell_type": "code",
   "outputs": [
    {
     "name": "stdout",
     "output_type": "stream",
     "text": [
      "True\n"
     ]
    }
   ],
   "source": [
    "from torch.autograd import gradcheck\n",
    "from nera.models.ratings._elo._analytical import elo_function\n",
    "# gradcheck takes a tuple of tensors as input, check if your gradient\n",
    "# evaluated with these tensors are close enough to numerical\n",
    "# approximations and returns True if they all verify this condition.\n",
    "input = (torch.randn(1,dtype=torch.double,requires_grad=True), torch.randn(1,dtype=torch.double,requires_grad=True), torch.randn(1,dtype=torch.double,requires_grad=True), torch.randn(1,dtype=torch.double,requires_grad=True))\n",
    "test = gradcheck(elo_function, input, eps=1e-6, atol=1e-4)\n",
    "print(test)"
   ],
   "metadata": {
    "collapsed": false,
    "ExecuteTime": {
     "end_time": "2024-03-01T14:09:25.308292Z",
     "start_time": "2024-03-01T14:09:25.298397Z"
    }
   },
   "id": "e529d2fd8f249cab",
   "execution_count": 6
  },
  {
   "cell_type": "markdown",
   "source": [
    "Define training function for elo"
   ],
   "metadata": {
    "collapsed": false
   },
   "id": "759625d80778a895"
  },
  {
   "cell_type": "markdown",
   "source": [],
   "metadata": {
    "collapsed": false
   },
   "id": "f3b0055d77e99df4"
  },
  {
   "cell_type": "markdown",
   "source": [
    "Now, let's train elo with analytical backward pass"
   ],
   "metadata": {
    "collapsed": false
   },
   "id": "80d72f7d6893bab"
  },
  {
   "cell_type": "code",
   "outputs": [
    {
     "name": "stderr",
     "output_type": "stream",
     "text": [
      "2024-03-01 15:09:45.848 | INFO     | nera.trainer:_train_rating:166 - [TRN]  Epoch: 0, training loss: 1762432.146, training accuracy: 47.81% \n",
      "ratings (first 5): tensor([ 2378.9668, 15953.9127, -7156.4009, -9066.7111,  3766.2664],\n",
      "       dtype=torch.float64, grad_fn=<SliceBackward0>)\n"
     ]
    },
    {
     "data": {
      "text/plain": "array([47.81268067])"
     },
     "execution_count": 7,
     "metadata": {},
     "output_type": "execute_result"
    }
   ],
   "source": [
    "elo_grad = EloAnalytical(team_count, cd_grad=False, c=torch.tensor(3, dtype=torch.float64), d=torch.tensor(500., dtype=torch.float64))\n",
    "trainer.model = elo_grad\n",
    "trainer.train(verbose=True)"
   ],
   "metadata": {
    "collapsed": false,
    "ExecuteTime": {
     "end_time": "2024-03-01T14:09:45.853018Z",
     "start_time": "2024-03-01T14:09:33.986168Z"
    }
   },
   "id": "c52934dfacec4a01",
   "execution_count": 7
  },
  {
   "cell_type": "markdown",
   "source": [
    "And Elo with autograd (numerical gradient backward pass)"
   ],
   "metadata": {
    "collapsed": false
   },
   "id": "23b728c856e67b28"
  },
  {
   "cell_type": "code",
   "outputs": [
    {
     "name": "stderr",
     "output_type": "stream",
     "text": [
      "2024-03-01 15:09:53.915 | INFO     | nera.trainer:_train_rating:166 - [TRN]  Epoch: 0, training loss: 1762432.061, training accuracy: 47.81% \n",
      "ratings (first 5): tensor([ 2378.9668, 15953.9135, -7156.4447, -9066.7181,  3766.0936],\n",
      "       dtype=torch.float64, grad_fn=<SliceBackward0>)\n"
     ]
    },
    {
     "data": {
      "text/plain": "array([47.81268067])"
     },
     "execution_count": 8,
     "metadata": {},
     "output_type": "execute_result"
    }
   ],
   "source": [
    "elo_auto = EloNumerical(team_count, cd_grad=False, c=torch.tensor(3, dtype=torch.float64), d=torch.tensor(500., dtype=torch.float64))\n",
    "trainer.model = elo_auto\n",
    "trainer.train(verbose=True)"
   ],
   "metadata": {
    "collapsed": false,
    "ExecuteTime": {
     "end_time": "2024-03-01T14:09:53.917679Z",
     "start_time": "2024-03-01T14:09:45.854424Z"
    }
   },
   "id": "15b2e5a7e9c0a7c",
   "execution_count": 8
  },
  {
   "cell_type": "markdown",
   "source": [
    "And finally, compare wheter these two are the same\n",
    "___________________"
   ],
   "metadata": {
    "collapsed": false
   },
   "id": "de6b29122353ee52"
  },
  {
   "cell_type": "code",
   "outputs": [
    {
     "name": "stdout",
     "output_type": "stream",
     "text": [
      "Ratings diff:\n",
      "Rating 0:\n",
      "0:: computed:   2378.967 || net:   2378.967\n",
      "1:: computed:  15953.913 || net:  15953.913\n",
      "[ERROR] in rating 0 on index 2:: -7156.444672822601 / -7156.400875638662\n",
      "[ERROR] in rating 0 on index 3:: -9066.718140522222 / -9066.711086527102\n",
      "[ERROR] in rating 0 on index 4:: 3766.093552898145 / 3766.2664314509893\n",
      "...\n",
      "\n",
      "Total number of errors: 53 out of 146 computed ratings\n",
      "Cumulative sum of errors: 58.48463412058629\n",
      "Average difference: 1.1034836626525715\n",
      "Average difference percentage: 0.036955311810839636%\n",
      "Maximal difference: 24.77435875706351\n",
      "-------------------------\n",
      "\n",
      "Hyperparams diff:\n"
     ]
    }
   ],
   "source": [
    "print_rating_diff(elo_auto, elo_grad, transform)"
   ],
   "metadata": {
    "collapsed": false,
    "ExecuteTime": {
     "end_time": "2024-03-01T14:09:53.922736Z",
     "start_time": "2024-03-01T14:09:53.918408Z"
    }
   },
   "id": "70eed877f706da5c",
   "execution_count": 9
  },
  {
   "cell_type": "markdown",
   "source": [
    "Now let's see what happens, when we let the model learn the c, d metaparameters as well"
   ],
   "metadata": {
    "collapsed": false
   },
   "id": "21a62caaee0df111"
  },
  {
   "cell_type": "code",
   "outputs": [
    {
     "name": "stderr",
     "output_type": "stream",
     "text": [
      "2024-03-01 15:10:04.935 | INFO     | nera.trainer:_train_rating:166 - [TRN]  Epoch: 0, training loss: 1026752.963, training accuracy: 46.98% \n",
      "ratings (first 5): tensor([ 2280.6030,  3506.5187, -1489.0913, -1359.1684,   283.4601],\n",
      "       dtype=torch.float64, grad_fn=<SliceBackward0>)\n"
     ]
    },
    {
     "data": {
      "text/plain": "array([46.97758078])"
     },
     "execution_count": 10,
     "metadata": {},
     "output_type": "execute_result"
    }
   ],
   "source": [
    "elo_auto2 = EloNumerical(team_count, hp_grad=True, c=torch.tensor(5000, dtype=torch.float64), d=torch.tensor(50000, dtype=torch.float64))\n",
    "trainer.model = elo_auto2\n",
    "trainer.train(verbose=True)"
   ],
   "metadata": {
    "collapsed": false,
    "ExecuteTime": {
     "end_time": "2024-03-01T14:10:04.938678Z",
     "start_time": "2024-03-01T14:09:53.924334Z"
    }
   },
   "id": "4a4e0f0f7015bbe7",
   "execution_count": 10
  },
  {
   "cell_type": "code",
   "outputs": [
    {
     "name": "stderr",
     "output_type": "stream",
     "text": [
      "2024-03-01 15:10:15.289 | INFO     | nera.trainer:_train_rating:166 - [TRN]  Epoch: 0, training loss: 1026752.963, training accuracy: 46.98% \n",
      "ratings (first 5): tensor([ 2280.6030,  3506.5187, -1489.0913, -1359.1684,   283.4601],\n",
      "       dtype=torch.float64, grad_fn=<SliceBackward0>)\n"
     ]
    },
    {
     "data": {
      "text/plain": "array([46.97758078])"
     },
     "execution_count": 11,
     "metadata": {},
     "output_type": "execute_result"
    }
   ],
   "source": [
    "elo_grad2 = EloAnalytical(team_count, hp_grad=True, c=torch.tensor(5000., dtype=torch.float64), d=torch.tensor(50000, dtype=torch.float64))\n",
    "trainer.model = elo_grad2\n",
    "trainer.train(verbose=True)"
   ],
   "metadata": {
    "collapsed": false,
    "ExecuteTime": {
     "end_time": "2024-03-01T14:10:15.292122Z",
     "start_time": "2024-03-01T14:10:04.939495Z"
    }
   },
   "id": "8fc57a7f05ebb093",
   "execution_count": 11
  },
  {
   "cell_type": "code",
   "outputs": [
    {
     "name": "stdout",
     "output_type": "stream",
     "text": [
      "Ratings diff:\n",
      "Rating 0:\n",
      "0:: computed:   2280.603 || net:   2280.603\n",
      "1:: computed:   3506.519 || net:   3506.519\n",
      "2:: computed:  -1489.091 || net:  -1489.091\n",
      "3:: computed:  -1359.168 || net:  -1359.168\n",
      "4:: computed:    283.460 || net:    283.460\n",
      "...\n",
      "\n",
      "[SUCCESS]: All  ratings computed analytically and numerically are the SAME\n",
      "-------------------------\n",
      "\n",
      "Hyperparams diff:\n",
      "Numerical: hyperparam[0] = 4984.004 :: Numerical: hyperparam[0] = 4984.004\n",
      "Numerical: hyperparam[1] = 50015.993 :: Numerical: hyperparam[1] = 50015.993\n"
     ]
    }
   ],
   "source": [
    "print_rating_diff(elo_auto2, elo_grad2, transform)"
   ],
   "metadata": {
    "collapsed": false,
    "ExecuteTime": {
     "end_time": "2024-03-01T14:10:15.298574Z",
     "start_time": "2024-03-01T14:10:15.293287Z"
    }
   },
   "id": "f1b45ecef893ee25",
   "execution_count": 12
  }
 ],
 "metadata": {
  "kernelspec": {
   "display_name": "Python 3",
   "language": "python",
   "name": "python3"
  },
  "language_info": {
   "codemirror_mode": {
    "name": "ipython",
    "version": 2
   },
   "file_extension": ".py",
   "mimetype": "text/x-python",
   "name": "python",
   "nbconvert_exporter": "python",
   "pygments_lexer": "ipython2",
   "version": "2.7.6"
  }
 },
 "nbformat": 4,
 "nbformat_minor": 5
}
