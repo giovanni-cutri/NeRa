{
 "cells": [
  {
   "cell_type": "code",
   "execution_count": 1,
   "id": "initial_id",
   "metadata": {
    "collapsed": true,
    "ExecuteTime": {
     "end_time": "2024-02-29T12:37:40.818028Z",
     "start_time": "2024-02-29T12:37:37.268912Z"
    }
   },
   "outputs": [
    {
     "name": "stderr",
     "output_type": "stream",
     "text": [
      "/home/kubos/anaconda3/envs/bp/lib/python3.11/site-packages/paramiko/transport.py:219: CryptographyDeprecationWarning: Blowfish has been deprecated\n",
      "  \"class\": algorithms.Blowfish,\n"
     ]
    }
   ],
   "source": [
    "import torch\n",
    "import pandas as pd\n",
    "from datetime import timedelta\n",
    "from datetime import datetime\n",
    "\n",
    "import numpy as np\n",
    "\n",
    "from nera.data import *\n",
    "from nera.models.ratings import EloGrad, EloManual, EloAutoGrad\n",
    "from nera.reference import *\n"
   ]
  },
  {
   "cell_type": "code",
   "outputs": [
    {
     "name": "stderr",
     "output_type": "stream",
     "text": [
      "2024-02-29 13:37:40.875 | INFO     | nera.data._data_saving_loading:load_data_csv:70 - 21100 rows loaded from ../resources/other_leagues.csv\n"
     ]
    }
   ],
   "source": [
    "da = DataAcquisition()\n",
    "df = da.get_data(FROM_CSV, fname=\"../resources/other_leagues.csv\")\n",
    "df['DT'] = pd.to_datetime(df['DT'], format=\"%Y-%m-%d %H:%M:%S\")\n",
    "data_transform = DataTransformation(df, timedelta(365))\n",
    "df = df[(df['League'] != 'EuroLeague') & (df['League'] != 'EuroCup')] \n",
    "df = df.reset_index()\n",
    "\n",
    "transform = DataTransformation(df, timedelta(365))\n",
    "dataset = transform.get_dataset(node_f_extract=False, edge_f_one_hot=True)\n",
    "\n",
    "team_count = transform.num_teams"
   ],
   "metadata": {
    "collapsed": false,
    "ExecuteTime": {
     "end_time": "2024-02-29T12:37:41.216406Z",
     "start_time": "2024-02-29T12:37:40.820251Z"
    }
   },
   "id": "3f2344072c85b02a",
   "execution_count": 2
  },
  {
   "cell_type": "markdown",
   "source": [
    "### Manual Elo with NN pass"
   ],
   "metadata": {
    "collapsed": false
   },
   "id": "276b160d472eee9e"
  },
  {
   "cell_type": "code",
   "outputs": [],
   "source": [
    "# dummy dataset\n",
    "\n",
    "delta = timedelta(days=365)\n",
    "delta2 = timedelta(days=366)\n",
    "now = datetime.now()\n",
    "data = pd.DataFrame({'DT': [*(3 * [now]), *(3 * [now - delta2]), *(3 * [now - 2 * delta2]), *(3 * [now - 3 * delta2])], \n",
    "                     'Home': ['A', 'B', 'C', 'A', 'B', 'C', 'A', 'B', 'C', 'A', 'B', 'C'],\n",
    "                     'Away': ['B', 'C', 'A', 'C', 'A', 'B', 'B', 'C', 'A', 'C', 'A', 'B'],\n",
    "                     'Winner': ['home', 'away', 'away', 'home', 'away', 'away', 'home', 'home', 'away', 'home', 'away', 'home'],\n",
    "                     'Home_points': [10, 5, 15, 12, 15, 6, 20, 10, 10, 14, 3, 12],\n",
    "                     'Away_points': [4, 8, 17, 10, 16, 14, 18, 9, 15, 0, 11, 4],\n",
    "                     'League': [*(12 * ['liga'])],\n",
    "                     })\n",
    "\n",
    "transform2 = DataTransformation(data, timedelta(days=365))\n",
    "dts = transform2.get_dataset(edge_f_one_hot=True)"
   ],
   "metadata": {
    "collapsed": false,
    "ExecuteTime": {
     "end_time": "2024-02-29T12:37:41.273525Z",
     "start_time": "2024-02-29T12:37:41.220613Z"
    }
   },
   "id": "98df5d4a227fd697",
   "execution_count": 3
  },
  {
   "cell_type": "code",
   "outputs": [],
   "source": [
    "\n",
    "def train_elo_manual(train_dataset, model, epochs: int = 100, verbose: bool = False):\n",
    "    torch.set_printoptions(precision=8) \n",
    "    training_accuracy = []\n",
    "    loss_fn = torch.nn.MSELoss\n",
    "    \n",
    "    E_HS = []\n",
    "    elos = []\n",
    "    pts = []\n",
    "    \n",
    "    for epoch in range(epochs):\n",
    "        model.train()\n",
    "        accuracy, loss, count = 0, 0, 0\n",
    "        iter = 0\n",
    "        for time, snapshot in enumerate(train_dataset):\n",
    "            # pass through network has to be only one by one in order to compute elo correctly\n",
    "            matches = snapshot.edge_index\n",
    "            match_points = snapshot.match_points\n",
    "            for m in range(matches.shape[1]):\n",
    "                match = matches[:, m]\n",
    "                \n",
    "                y_hat = model(match)\n",
    "                y = snapshot.edge_attr[m, :]  # edge weight encodes the match outcome\n",
    "                \n",
    "                E_HS.append(y_hat)\n",
    "                \n",
    "                elos_b4 = (model.rating[model.home], model.rating[model.away])\n",
    "                  \n",
    "                target = torch.argmax(y) / 2.\n",
    "                target = target.detach()\n",
    "                prediction = y_hat\n",
    "                accuracy += 1 if abs(target - prediction) < 0.5 else 0\n",
    "    \n",
    "                loss += torch.mean((prediction-target)**2)\n",
    "                \n",
    "                point_diff = torch.abs(match_points[m, 0] - match_points[m, 1]).detach()\n",
    "                result = [target, point_diff]\n",
    "                \n",
    "                model.backward(result)\n",
    "                \n",
    "                elos.append((elos_b4, (model.rating[model.home], model.rating[model.away])))\n",
    "                pts.append(((match_points[m, 0], match_points[m, 1]), (model.home, model.away)))\n",
    "                \n",
    "                # if verbose:\n",
    "                #    rating = model.rating[:5] if len(model.rating) >= 5 else model.rating\n",
    "                #    print(f\"Neuralnet {iter}, rating: {rating}, E_H = {y_hat}; {target}\")\n",
    "                iter += 1\n",
    "                \n",
    "            count += matches.shape[1]\n",
    "\n",
    "        if verbose:\n",
    "            rating = model.rating[:5] if len(model.rating) >= 5 else model.rating\n",
    "            print(f'[TRN] '\n",
    "                  f' Epoch: {epoch}, training loss: {loss:.3f}, '\n",
    "                        f'training accuracy: {accuracy/count * 100:.2f}% \\n'\n",
    "                        f'ratings (first 5): {rating}')\n",
    "        training_accuracy.append(accuracy/count * 100)\n",
    "    \n",
    "    return np.array(training_accuracy), E_HS, elos, pts\n",
    "\n",
    "    "
   ],
   "metadata": {
    "collapsed": false,
    "ExecuteTime": {
     "end_time": "2024-02-29T12:37:41.282585Z",
     "start_time": "2024-02-29T12:37:41.274562Z"
    }
   },
   "id": "75d9f5a99d991e00",
   "execution_count": 4
  },
  {
   "cell_type": "code",
   "outputs": [
    {
     "name": "stdout",
     "output_type": "stream",
     "text": [
      "Computed elo Dummy:  [1450.41466185  783.32864878  766.25668937]\n",
      "[TRN]  Epoch: 0, training loss: 2.543, training accuracy: 75.00% \n",
      "ratings (first 5): Parameter containing:\n",
      "tensor([1450.41466185,  783.32864878,  766.25668937], dtype=torch.float64,\n",
      "       requires_grad=True)\n",
      "\n",
      "----------------------------------------\n",
      "[TRN]  Epoch: 0, training loss: 6166.810, training accuracy: 53.27% \n",
      "ratings (first 5): tensor([1379.68811002, 2976.96673204,  384.48140654,  571.46967020,\n",
      "        1309.88250176], dtype=torch.float64, grad_fn=<SliceBackward0>)\n",
      "0:: computed:   1379.688 || net:   1379.688\n",
      "1:: computed:   2976.967 || net:   2976.967\n",
      "2:: computed:    384.481 || net:    384.481\n",
      "3:: computed:    571.470 || net:    571.470\n",
      "4:: computed:   1309.883 || net:   1309.883\n",
      "...\n",
      "[SUCCESS]: Computed elo is the same as Elo from NN\n"
     ]
    }
   ],
   "source": [
    "reference_maker = RatingReference(data, transform2.team_mapping)\n",
    "\n",
    "print('Computed elo Dummy: ', reference_maker.compute_reference('elo')[0])\n",
    "eloDummy = EloManual(team_count=transform2.num_teams)\n",
    "acc_dummy = train_elo_manual(dts, eloDummy, 1, True)\n",
    "\n",
    "print()\n",
    "print('----------------------------------------')\n",
    "print()\n",
    "\n",
    "reference_maker.matches = (df, transform.team_mapping)\n",
    "computed, E_HS_comp, elos_comp = reference_maker.compute_reference('elo')\n",
    "\n",
    "print()\n",
    "elo = EloManual(team_count=transform.num_teams)\n",
    "acc_late, E_HS_net, elos_net, pts = train_elo_manual(dataset, elo, 1, verbose=True)\n",
    "\n",
    "err = False\n",
    "for i in range(len(computed)):\n",
    "    cmp = float(computed[transform.team_mapping[transform.inv_team_mapping[i]]])\n",
    "    net = float(elo.rating[transform.team_mapping[transform.inv_team_mapping[i]]])\n",
    "    if cmp - net > 0.1:\n",
    "        print(rf'ERROR on index {i}:: {cmp} / {net}')\n",
    "        err = True\n",
    "    if i < 5:\n",
    "        print(f'{i}:: computed: {cmp:10.3f} || net: {net:10.3f}')\n",
    "if not err:\n",
    "    print(\"...\")\n",
    "    print(\"[SUCCESS]: Computed elo is the same as Elo from NN\")\n",
    "\n",
    "print_diff = False\n",
    "if print_diff: \n",
    "    inv_map = {v: k for k, v in transform.team_mapping.items()}\n",
    "    for i in range(len(E_HS_net)):\n",
    "        eq = E_HS_net[i] == E_HS_comp[i]\n",
    "        \n",
    "        str_i = f'{i}:: net: {E_HS_net[i]:2.2f}, comp: {E_HS_comp[i]:2.2f};;; elo net / comp: {elos_net[i][1][0]:10.2f} / {elos_comp[i][1][0]:10.2f} :: {elos_net[i][1][1]:10.2f} / {elos_comp[i][1][1]:10.2f}'\n",
    "        \n",
    "        print(str_i if eq else '----------> ' + str_i + f''' {df.iloc[i][\"Home\"]}  home_pts: {df.iloc[i][\"Home_points\"]}, {df.iloc[i][\"Away\"]}  away_pts: {df.iloc[i][\"Away_points\"]};;;;;;;;; pts net: {pts[i][0][0]}, {pts[i][0][1]}''')\n",
    "        if not eq:\n",
    "            print(f'elo before: {elos_net[i][0][0]:10.2f} / {elos_comp[i][0][0]:10.2f} :: {elos_net[i][0][1]:10.2f} / {elos_comp[i][0][1]:10.2f}')\n",
    "            print(f'Teams: home {inv_map[int(pts[i][1][0])]} away {inv_map[int(pts[i][1][1])]}')\n",
    "            break \n"
   ],
   "metadata": {
    "collapsed": false,
    "ExecuteTime": {
     "end_time": "2024-02-29T12:37:48.021570Z",
     "start_time": "2024-02-29T12:37:41.285620Z"
    }
   },
   "id": "cb9e0fcfcaff27c1",
   "execution_count": 5
  },
  {
   "cell_type": "markdown",
   "source": [
    "### Elo with gradient\n",
    "\n",
    "first lets check our analytical backward pass"
   ],
   "metadata": {
    "collapsed": false
   },
   "id": "6abcdc6410c9c184"
  },
  {
   "cell_type": "code",
   "outputs": [
    {
     "name": "stdout",
     "output_type": "stream",
     "text": [
      "True\n"
     ]
    }
   ],
   "source": [
    "from torch.autograd import gradcheck\n",
    "from nera.models.ratings._elo._grad import elo_function\n",
    "# gradcheck takes a tuple of tensors as input, check if your gradient\n",
    "# evaluated with these tensors are close enough to numerical\n",
    "# approximations and returns True if they all verify this condition.\n",
    "input = (torch.randn(1,dtype=torch.double,requires_grad=True), torch.randn(1,dtype=torch.double,requires_grad=True), torch.randn(1,dtype=torch.double,requires_grad=True), torch.randn(1,dtype=torch.double,requires_grad=True))\n",
    "test = gradcheck(elo_function, input, eps=1e-6, atol=1e-4)\n",
    "print(test)"
   ],
   "metadata": {
    "collapsed": false,
    "ExecuteTime": {
     "end_time": "2024-02-29T12:37:54.822275Z",
     "start_time": "2024-02-29T12:37:54.811979Z"
    }
   },
   "id": "e529d2fd8f249cab",
   "execution_count": 8
  },
  {
   "cell_type": "markdown",
   "source": [
    "Define training function for elo"
   ],
   "metadata": {
    "collapsed": false
   },
   "id": "759625d80778a895"
  },
  {
   "cell_type": "markdown",
   "source": [],
   "metadata": {
    "collapsed": false
   },
   "id": "f3b0055d77e99df4"
  },
  {
   "cell_type": "code",
   "outputs": [],
   "source": [
    "from nera.models.loss import WeightedMSELoss\n",
    "from torch.optim import Adam\n",
    "\n",
    "def train_elo_grad(train_dataset, model, epochs: int = 1, verbose: bool = False, lr:float = -1, clip_grad: bool = False, debug=False):\n",
    "    torch.set_printoptions(precision=8) \n",
    "    training_accuracy = []\n",
    "    loss_fn = WeightedMSELoss()\n",
    "    \n",
    "    lr = model.k if lr == -1 else lr\n",
    "    \n",
    "    optim = Adam(model.parameters(), lr=lr)\n",
    "    \n",
    "    E_HS = []\n",
    "    elos = []\n",
    "    pts = []\n",
    "    \n",
    "    for epoch in range(epochs):\n",
    "        model.train()\n",
    "        accuracy, loss, count = 0, 0, 0\n",
    "        iter = 0\n",
    "        for time, snapshot in enumerate(train_dataset):\n",
    "            # pass through network has to be only one by one in order to compute elo correctly\n",
    "            matches = snapshot.edge_index\n",
    "            match_points = snapshot.match_points\n",
    "            optim.zero_grad()\n",
    "            for m in range(matches.shape[1]):\n",
    "                last_c, last_d = model.c, model.d\n",
    "                \n",
    "                match = matches[:, m]\n",
    "                \n",
    "                y_hat = model(match)\n",
    "                y = snapshot.edge_attr[m, :]  # edge weight encodes the match outcome\n",
    "                y.requires_grad = True\n",
    "                E_HS.append(y_hat)\n",
    "                \n",
    "                elos_b4 = (model.rating[model.home], model.rating[model.away])\n",
    "                  \n",
    "                target = torch.argmax(y) / 2.\n",
    "                target = target.detach()\n",
    "                prediction = y_hat\n",
    "                accuracy += 1 if abs(target - prediction) <= 0.5 else 0\n",
    "                \n",
    "                point_diff = torch.abs(match_points[m, 0] - match_points[m, 1])\n",
    "                loss = loss_fn(y, y_hat, (point_diff + 1) ** model.gamma)\n",
    "                \n",
    "                loss.backward()\n",
    "                \n",
    "                if clip_grad:\n",
    "                    # Clip gradients to prevent explosion\n",
    "                    # This should be used when training c, d hyper params as well\n",
    "                    torch.nn.utils.clip_grad_norm_(model.parameters(), max_norm=1)  \n",
    "        \n",
    "                optim.step()\n",
    "                \n",
    "                with torch.no_grad():\n",
    "                    model.c.clamp_(min=0)\n",
    "                    if float(model.c) - 1e-6 < 0:\n",
    "                        model.c += 1e-2\n",
    "                 \n",
    "                if debug:\n",
    "                    print(f\"c: {float(model.c)}, d: {float(model.d)}\")\n",
    "                    if torch.isnan(model.c).item() or torch.isnan(model.d).item():\n",
    "                        return 0,0,0,0\n",
    "                \n",
    "                elos.append((elos_b4, (model.rating[model.home], model.rating[model.away])))\n",
    "                pts.append(((match_points[m, 0], match_points[m, 1]), (model.home, model.away)))\n",
    "                \n",
    "                # if verbose:\n",
    "                #    rating = model.rating[:5] if len(model.rating) >= 5 else model.rating\n",
    "                #    print(f\"Neuralnet {iter}, rating: {rating}, E_H = {y_hat}; {target}\")\n",
    "                iter += 1\n",
    "                \n",
    "            count += matches.shape[1]\n",
    "\n",
    "        if verbose:\n",
    "            rating = model.rating[:5] if len(model.rating) >= 5 else model.rating\n",
    "            print(f'[TRN] '\n",
    "                  f' Epoch: {epoch}, training loss: {loss:.3f}, '\n",
    "                        f'training accuracy: {accuracy/count * 100:.2f}% \\n'\n",
    "                        f'ratings (first 5): {rating}')\n",
    "        training_accuracy.append(accuracy/count * 100)\n",
    "    \n",
    "    return np.array(training_accuracy), E_HS, elos, pts\n",
    "\n"
   ],
   "metadata": {
    "collapsed": false,
    "ExecuteTime": {
     "end_time": "2024-02-29T12:37:56.200098Z",
     "start_time": "2024-02-29T12:37:56.182686Z"
    }
   },
   "id": "cb700480d20d1fb7",
   "execution_count": 9
  },
  {
   "cell_type": "markdown",
   "source": [
    "Now, let's train elo with analytical backward pass"
   ],
   "metadata": {
    "collapsed": false
   },
   "id": "80d72f7d6893bab"
  },
  {
   "cell_type": "code",
   "outputs": [
    {
     "name": "stdout",
     "output_type": "stream",
     "text": [
      "[TRN]  Epoch: 0, training loss: 55.045, training accuracy: 47.81% \n",
      "ratings (first 5): tensor([ 2378.96681058, 15953.91269562, -7156.40087564, -9066.71108653,\n",
      "         3766.26643145], dtype=torch.float64, grad_fn=<SliceBackward0>)\n"
     ]
    }
   ],
   "source": [
    "elo_grad = EloGrad(team_count, cd_grad=False, c=torch.tensor(3, dtype=torch.float64), d=torch.tensor(500., dtype=torch.float64))\n",
    "acc_grad, ehs_grad, elos_grad, pts_grad = train_elo_grad(dataset, elo_grad, clip_grad=False, verbose=True, lr=3.)"
   ],
   "metadata": {
    "collapsed": false,
    "ExecuteTime": {
     "end_time": "2024-02-29T12:38:16.836212Z",
     "start_time": "2024-02-29T12:38:02.005186Z"
    }
   },
   "id": "c52934dfacec4a01",
   "execution_count": 10
  },
  {
   "cell_type": "markdown",
   "source": [
    "And Elo with autograd (numerical gradient backward pass)"
   ],
   "metadata": {
    "collapsed": false
   },
   "id": "23b728c856e67b28"
  },
  {
   "cell_type": "code",
   "outputs": [
    {
     "name": "stdout",
     "output_type": "stream",
     "text": [
      "[TRN]  Epoch: 0, training loss: 55.045, training accuracy: 47.81% \n",
      "ratings (first 5): tensor([ 2378.96681058, 15953.91347711, -7156.44467282, -9066.71814052,\n",
      "         3766.09355290], dtype=torch.float64, grad_fn=<SliceBackward0>)\n"
     ]
    }
   ],
   "source": [
    "elo_auto = EloAutoGrad(team_count, cd_grad=False, c=torch.tensor(3, dtype=torch.float64), d=torch.tensor(500., dtype=torch.float64))\n",
    "acc_auto, ehs_auto, elos_auto, pts_auto = train_elo_grad(dataset, elo_auto, clip_grad=False, verbose=True, lr=3.)"
   ],
   "metadata": {
    "collapsed": false,
    "ExecuteTime": {
     "end_time": "2024-02-29T12:38:27.814708Z",
     "start_time": "2024-02-29T12:38:16.837526Z"
    }
   },
   "id": "15b2e5a7e9c0a7c",
   "execution_count": 11
  },
  {
   "cell_type": "markdown",
   "source": [
    "And finally, compare wheter these two are the same\n",
    "___________________"
   ],
   "metadata": {
    "collapsed": false
   },
   "id": "de6b29122353ee52"
  },
  {
   "cell_type": "code",
   "outputs": [],
   "source": [
    "def print_diff(numerical, analytical, eps: float = 1e-2):\n",
    "    err = False\n",
    "    err_sum = 0\n",
    "    err_count = 0\n",
    "    print_count = 0\n",
    "    max_diff = 0\n",
    "    for i in range(len(numerical.rating)):\n",
    "        auto = float(numerical.rating[transform.team_mapping[transform.inv_team_mapping[i]]])\n",
    "        grad = float(analytical.rating[transform.team_mapping[transform.inv_team_mapping[i]]])\n",
    "        diff = abs(auto - grad)\n",
    "        if diff > eps:\n",
    "            err = True\n",
    "            err_sum += diff\n",
    "            err_count += 1\n",
    "            max_diff = max(diff, max_diff)\n",
    "        if print_count < 5:\n",
    "            str_i = rf'[ERROR] on index {i}:: {auto} / {grad}' if err else f'{i}:: computed: {auto:10.3f} || net: {grad:10.3f}'\n",
    "            print(str_i)\n",
    "            print_count += 1\n",
    "    \n",
    "    print(\"...\")\n",
    "    print()\n",
    "    \n",
    "    if not err:\n",
    "        print(\"[SUCCESS]: All elo ratings computed analytically and numerically are the SAME\")\n",
    "    else:\n",
    "        print(f\"Total number of errors: {err_count} out of {len(numerical.rating)} computed ratings\")\n",
    "        print(f\"Cumulative sum of errors: {err_sum}\")\n",
    "        print(f\"Average difference: {err_sum / err_count}\")\n",
    "        print(f\"Maximal difference: {max_diff}\")\n",
    "        \n",
    "    print()\n",
    "        \n",
    "    print(f\"Numerical:  c = {float(numerical.c):8.3f} :: d = {float(numerical.d):8.3f}\")\n",
    "    print(f\"Analytical: c = {float(analytical.c):8.3f} :: d = {float(analytical.d):8.3f}\")"
   ],
   "metadata": {
    "collapsed": false,
    "ExecuteTime": {
     "end_time": "2024-02-29T12:38:27.820829Z",
     "start_time": "2024-02-29T12:38:27.815697Z"
    }
   },
   "id": "87d7424eda9699e4",
   "execution_count": 12
  },
  {
   "cell_type": "code",
   "outputs": [
    {
     "name": "stdout",
     "output_type": "stream",
     "text": [
      "0:: computed:   2378.967 || net:   2378.967\n",
      "1:: computed:  15953.913 || net:  15953.913\n",
      "[ERROR] on index 2:: -7156.444672822601 / -7156.400875638662\n",
      "[ERROR] on index 3:: -9066.718140522222 / -9066.711086527102\n",
      "[ERROR] on index 4:: 3766.093552898145 / 3766.2664314509893\n",
      "...\n",
      "\n",
      "Total number of errors: 53 out of 146 computed ratings\n",
      "Cumulative sum of errors: 58.48463412058629\n",
      "Average difference: 1.1034836626525715\n",
      "Maximal difference: 24.77435875706351\n",
      "\n",
      "Numerical:  c =    3.000 :: d =  500.000\n",
      "Analytical: c =    3.000 :: d =  500.000\n"
     ]
    }
   ],
   "source": [
    "print_diff(numerical=elo_auto, analytical=elo_grad)"
   ],
   "metadata": {
    "collapsed": false,
    "ExecuteTime": {
     "end_time": "2024-02-29T12:38:27.829910Z",
     "start_time": "2024-02-29T12:38:27.822470Z"
    }
   },
   "id": "70eed877f706da5c",
   "execution_count": 13
  },
  {
   "cell_type": "markdown",
   "source": [
    "Now let's see what happens, when we let the model learn the c, d metaparameters as well"
   ],
   "metadata": {
    "collapsed": false
   },
   "id": "21a62caaee0df111"
  },
  {
   "cell_type": "code",
   "outputs": [
    {
     "name": "stdout",
     "output_type": "stream",
     "text": [
      "[TRN]  Epoch: 0, training loss: 40.595, training accuracy: 46.52% \n",
      "ratings (first 5): tensor([-2745.78053601,  7549.90160180,   187.87634065, -4116.20747451,\n",
      "        12916.09422653], dtype=torch.float64, grad_fn=<SliceBackward0>)\n"
     ]
    }
   ],
   "source": [
    "elo_auto2 = EloAutoGrad(team_count, hp_grad=True, c=torch.tensor(5000, dtype=torch.float64), d=torch.tensor(50000, dtype=torch.float64))\n",
    "acc_auto2, ehs_auto2, elos_auto2, pts_auto2 = train_elo_grad(dataset, elo_auto2, clip_grad=True, verbose=True, epochs=1, debug=False, lr=10)"
   ],
   "metadata": {
    "collapsed": false,
    "ExecuteTime": {
     "end_time": "2024-02-29T12:38:42.175470Z",
     "start_time": "2024-02-29T12:38:27.830768Z"
    }
   },
   "id": "4a4e0f0f7015bbe7",
   "execution_count": 14
  },
  {
   "cell_type": "code",
   "outputs": [
    {
     "name": "stdout",
     "output_type": "stream",
     "text": [
      "[TRN]  Epoch: 0, training loss: 40.595, training accuracy: 46.52% \n",
      "ratings (first 5): tensor([-2745.78053601,  7549.90160179,   187.87634065, -4116.20747451,\n",
      "        12916.09422653], dtype=torch.float64, grad_fn=<SliceBackward0>)\n"
     ]
    }
   ],
   "source": [
    "elo_grad2 = EloGrad(team_count, hp_grad=True, c=torch.tensor(5000., dtype=torch.float64), d=torch.tensor(50000, dtype=torch.float64))\n",
    "acc_grad2, ehs_grad2, elos_grad2, pts_grad2 = train_elo_grad(dataset, elo_grad2, lr=10, clip_grad=True, verbose=True)"
   ],
   "metadata": {
    "collapsed": false,
    "ExecuteTime": {
     "end_time": "2024-02-29T12:38:55.758433Z",
     "start_time": "2024-02-29T12:38:42.176507Z"
    }
   },
   "id": "8fc57a7f05ebb093",
   "execution_count": 15
  },
  {
   "cell_type": "code",
   "outputs": [
    {
     "name": "stdout",
     "output_type": "stream",
     "text": [
      "0:: computed:  -2745.781 || net:  -2745.781\n",
      "1:: computed:   7549.902 || net:   7549.902\n",
      "2:: computed:    187.876 || net:    187.876\n",
      "3:: computed:  -4116.207 || net:  -4116.207\n",
      "4:: computed:  12916.094 || net:  12916.094\n",
      "...\n",
      "\n",
      "[SUCCESS]: All elo ratings computed analytically and numerically are the SAME\n",
      "\n",
      "Numerical:  c = 11677.763 :: d = 191906.782\n",
      "Analytical: c = 11677.763 :: d = 191906.782\n"
     ]
    }
   ],
   "source": [
    "print_diff(numerical=elo_auto2, analytical=elo_grad2)"
   ],
   "metadata": {
    "collapsed": false,
    "ExecuteTime": {
     "end_time": "2024-02-29T12:38:55.765983Z",
     "start_time": "2024-02-29T12:38:55.759448Z"
    }
   },
   "id": "f1b45ecef893ee25",
   "execution_count": 16
  }
 ],
 "metadata": {
  "kernelspec": {
   "display_name": "Python 3",
   "language": "python",
   "name": "python3"
  },
  "language_info": {
   "codemirror_mode": {
    "name": "ipython",
    "version": 2
   },
   "file_extension": ".py",
   "mimetype": "text/x-python",
   "name": "python",
   "nbconvert_exporter": "python",
   "pygments_lexer": "ipython2",
   "version": "2.7.6"
  }
 },
 "nbformat": 4,
 "nbformat_minor": 5
}
