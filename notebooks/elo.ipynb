{
 "cells": [
  {
   "cell_type": "code",
   "execution_count": 1,
   "id": "initial_id",
   "metadata": {
    "collapsed": true,
    "ExecuteTime": {
     "end_time": "2024-03-04T14:21:10.499130Z",
     "start_time": "2024-03-04T14:21:07.345579Z"
    }
   },
   "outputs": [
    {
     "name": "stderr",
     "output_type": "stream",
     "text": [
      "/home/kubos/anaconda3/envs/bp/lib/python3.11/site-packages/paramiko/transport.py:219: CryptographyDeprecationWarning: Blowfish has been deprecated\n",
      "  \"class\": algorithms.Blowfish,\n"
     ]
    }
   ],
   "source": [
    "import torch\n",
    "import pandas as pd\n",
    "from datetime import timedelta\n",
    "from datetime import datetime\n",
    "\n",
    "import numpy as np\n",
    "\n",
    "from nera.data import *\n",
    "from nera.models.ratings import EloAnalytical, EloManual, EloNumerical\n",
    "from nera.reference import *\n",
    "from nera.trainer import Trainer\n",
    "from nera.utils import print_rating_diff\n"
   ]
  },
  {
   "cell_type": "code",
   "outputs": [
    {
     "name": "stderr",
     "output_type": "stream",
     "text": [
      "2024-03-04 15:21:10.555 | INFO     | nera.data._data_saving_loading:load_data_csv:70 - 21100 rows loaded from ../resources/other_leagues.csv\n"
     ]
    },
    {
     "name": "stdout",
     "output_type": "stream",
     "text": [
      "21100\n"
     ]
    }
   ],
   "source": [
    "da = DataAcquisition()\n",
    "df = da.get_data(FROM_CSV, fname=\"../resources/other_leagues.csv\")\n",
    "df['DT'] = pd.to_datetime(df['DT'], format=\"%Y-%m-%d %H:%M:%S\")\n",
    "#df = df[(df['League'] != 'EuroLeague') & (df['League'] != 'EuroCup')] \n",
    "df = df.reset_index()\n",
    "df = df.sort_values(by='DT', ascending=False)\n",
    "\n",
    "transform = DataTransformation(df, timedelta(365))\n",
    "dataset = transform.get_dataset(node_f_extract=False, edge_f_one_hot=True)\n",
    "\n",
    "team_count = transform.num_teams\n",
    "\n",
    "print(len(df))"
   ],
   "metadata": {
    "collapsed": false,
    "ExecuteTime": {
     "end_time": "2024-03-04T14:21:10.897461Z",
     "start_time": "2024-03-04T14:21:10.501262Z"
    }
   },
   "id": "3f2344072c85b02a",
   "execution_count": 2
  },
  {
   "cell_type": "markdown",
   "source": [
    "### Manual Elo with NN pass"
   ],
   "metadata": {
    "collapsed": false
   },
   "id": "276b160d472eee9e"
  },
  {
   "cell_type": "code",
   "outputs": [],
   "source": [
    "# dummy dataset\n",
    "\n",
    "delta = timedelta(seconds=1)\n",
    "delta2 = timedelta(days=366)\n",
    "now = datetime.now()\n",
    "data = pd.DataFrame({'DT': [*[now - i * delta2 + j * delta for j in range(3) for i in range(4)]], \n",
    "                     'Home': ['A', 'B', 'C', 'A', 'B', 'C', 'A', 'B', 'C', 'A', 'B', 'C'],\n",
    "                     'Away': ['B', 'C', 'A', 'C', 'A', 'B', 'B', 'C', 'A', 'C', 'A', 'B'],\n",
    "                     'Winner': ['home', 'away', 'away', 'home', 'away', 'away', 'home', 'home', 'away', 'home', 'away', 'home'],\n",
    "                     'Home_points': [10, 5, 15, 12, 15, 6, 20, 10, 10, 14, 3, 12],\n",
    "                     'Away_points': [4, 8, 17, 10, 16, 14, 18, 9, 15, 0, 11, 4],\n",
    "                     'League': [*(12 * ['liga'])],\n",
    "                     })\n",
    "data = data.sort_values(by='DT', ascending=False)\n",
    "transform2 = DataTransformation(data, timedelta(days=365))\n",
    "dummy_dataset = transform2.get_dataset(edge_f_one_hot=True)"
   ],
   "metadata": {
    "collapsed": false,
    "ExecuteTime": {
     "end_time": "2024-03-04T14:21:10.937309Z",
     "start_time": "2024-03-04T14:21:10.898502Z"
    }
   },
   "id": "98df5d4a227fd697",
   "execution_count": 3
  },
  {
   "cell_type": "code",
   "outputs": [
    {
     "name": "stderr",
     "output_type": "stream",
     "text": [
      "2024-03-04 15:21:10.954 | INFO     | nera.trainer:train:171 - [TRN] Epoch: 0, training loss: 174.165, training accuracy: 75.00%\n"
     ]
    },
    {
     "name": "stdout",
     "output_type": "stream",
     "text": [
      "Computed elo Dummy:  [ 658.38739014  880.46270752 1461.15014648]\n",
      "Parameter containing:\n",
      "tensor([ 658.3874,  880.4627, 1461.1500], dtype=torch.float64,\n",
      "       requires_grad=True)\n",
      "\n",
      "----------------------------------------\n"
     ]
    },
    {
     "name": "stderr",
     "output_type": "stream",
     "text": [
      "2024-03-04 15:21:18.114 | INFO     | nera.trainer:train:171 - [TRN] Epoch: 0, training loss: 2293848.884, training accuracy: 59.09%\n"
     ]
    },
    {
     "name": "stdout",
     "output_type": "stream",
     "text": [
      "0:: computed:   7191.367 || net:   7191.367\n",
      "1:: computed:   2895.177 || net:   2895.178\n",
      "2:: computed:   3006.513 || net:   3006.513\n",
      "3:: computed:   4540.632 || net:   4540.633\n",
      "4:: computed:   3065.280 || net:   3065.280\n",
      "...\n",
      "[SUCCESS]: Computed elo is the same as Elo from NN\n"
     ]
    }
   ],
   "source": [
    "elo_man = EloManual(team_count=transform2.num_teams)\n",
    "trainer = Trainer(dummy_dataset, train_ratio=1)\n",
    "trainer.model = elo_man\n",
    "reference_maker = RatingReference(transform2.num_teams)\n",
    "\n",
    "print('Computed elo Dummy: ', reference_maker.compute_reference('elo', dummy_dataset)[0])\n",
    "acc_dummy = trainer.train(epochs=1, val_ratio=0, verbose=True)\n",
    "print(elo_man.elo)\n",
    "print()\n",
    "print('----------------------------------------')\n",
    "print()\n",
    "\n",
    "reference_maker.num_teams = transform.num_teams\n",
    "computed = reference_maker.compute_reference('elo', dataset)[0]\n",
    "\n",
    "print()\n",
    "elo = EloManual(team_count=transform.num_teams)\n",
    "trainer.dataset = dataset\n",
    "trainer.model = elo\n",
    "acc_late = trainer.train(epochs=1, val_ratio=0, verbose=True)\n",
    "\n",
    "err = False\n",
    "for i in range(len(computed)):\n",
    "    cmp = float(computed[i])\n",
    "    net = float(elo.elo[i])\n",
    "    if abs(cmp - net) > 0.1:\n",
    "        print(rf'ERROR on index {i}:: {cmp} / {net}')\n",
    "        err = True\n",
    "    if i < 5:\n",
    "        print(f'{i}:: computed: {cmp:10.3f} || net: {net:10.3f}')\n",
    "if not err:\n",
    "    print(\"...\")\n",
    "    print(\"[SUCCESS]: Computed elo is the same as Elo from NN\")\n",
    "\n"
   ],
   "metadata": {
    "collapsed": false,
    "ExecuteTime": {
     "end_time": "2024-03-04T14:21:18.118320Z",
     "start_time": "2024-03-04T14:21:10.939269Z"
    }
   },
   "id": "cb9e0fcfcaff27c1",
   "execution_count": 4
  },
  {
   "cell_type": "markdown",
   "source": [
    "### Elo with gradient\n",
    "\n",
    "first lets check our analytical backward pass"
   ],
   "metadata": {
    "collapsed": false
   },
   "id": "6abcdc6410c9c184"
  },
  {
   "cell_type": "code",
   "outputs": [
    {
     "name": "stdout",
     "output_type": "stream",
     "text": [
      "True\n"
     ]
    }
   ],
   "source": [
    "from torch.autograd import gradcheck\n",
    "from nera.models.ratings._elo._analytical import elo_function\n",
    "# gradcheck takes a tuple of tensors as input, check if your gradient\n",
    "# evaluated with these tensors are close enough to numerical\n",
    "# approximations and returns True if they all verify this condition.\n",
    "input = (torch.randn(1,dtype=torch.double,requires_grad=True), torch.randn(1,dtype=torch.double,requires_grad=True), torch.randn(1,dtype=torch.double,requires_grad=True), torch.randn(1,dtype=torch.double,requires_grad=True))\n",
    "test = gradcheck(elo_function, input, eps=1e-6, atol=1e-4)\n",
    "print(test)"
   ],
   "metadata": {
    "collapsed": false,
    "ExecuteTime": {
     "end_time": "2024-03-04T14:21:48.587612Z",
     "start_time": "2024-03-04T14:21:48.578791Z"
    }
   },
   "id": "e529d2fd8f249cab",
   "execution_count": 12
  },
  {
   "cell_type": "markdown",
   "source": [
    "Define training function for elo"
   ],
   "metadata": {
    "collapsed": false
   },
   "id": "759625d80778a895"
  },
  {
   "cell_type": "markdown",
   "source": [],
   "metadata": {
    "collapsed": false
   },
   "id": "f3b0055d77e99df4"
  },
  {
   "cell_type": "markdown",
   "source": [
    "Now, let's train elo with analytical backward pass"
   ],
   "metadata": {
    "collapsed": false
   },
   "id": "80d72f7d6893bab"
  },
  {
   "cell_type": "code",
   "outputs": [
    {
     "name": "stderr",
     "output_type": "stream",
     "text": [
      "2024-03-04 15:21:58.570 | INFO     | nera.trainer:train:171 - [TRN] Epoch: 0, training loss: 19778.735, training accuracy: 49.12%\n",
      "2024-03-04 15:21:58.572 | INFO     | nera.trainer:train:174 - [VAL] Epoch: 0, validation loss: 5272.238, validation accuracy: 50.03%\n",
      "2024-03-04 15:21:58.574 | INFO     | nera.trainer:test:267 - [TST] Testing accuracy: 45.83%\n"
     ]
    },
    {
     "data": {
      "text/plain": "0.4583333333333333"
     },
     "execution_count": 13,
     "metadata": {},
     "output_type": "execute_result"
    }
   ],
   "source": [
    "_elo_params = {\n",
    "    'gamma': 0.6,\n",
    "    'c': 3.,\n",
    "    'd': 500.,\n",
    "}\n",
    "trainer.set_lr(1, 'rating')\n",
    "elo_grad = EloAnalytical(team_count, hp_grad=False, **_elo_params)\n",
    "trainer.model = elo_grad\n",
    "trainer.train_ratio = 0.8\n",
    "trainer.train(verbose=True, epochs=1, val_ratio=0.2)\n",
    "trainer.test(verbose=True)"
   ],
   "metadata": {
    "collapsed": false,
    "ExecuteTime": {
     "end_time": "2024-03-04T14:21:58.579231Z",
     "start_time": "2024-03-04T14:21:48.596343Z"
    }
   },
   "id": "c52934dfacec4a01",
   "execution_count": 13
  },
  {
   "cell_type": "markdown",
   "source": [
    "And Elo with autograd (numerical gradient backward pass)"
   ],
   "metadata": {
    "collapsed": false
   },
   "id": "23b728c856e67b28"
  },
  {
   "cell_type": "code",
   "outputs": [
    {
     "name": "stderr",
     "output_type": "stream",
     "text": [
      "2024-03-04 15:22:07.543 | INFO     | nera.trainer:train:171 - [TRN] Epoch: 0, training loss: 19778.735, training accuracy: 49.12%\n",
      "2024-03-04 15:22:07.545 | INFO     | nera.trainer:train:174 - [VAL] Epoch: 0, validation loss: 5272.238, validation accuracy: 50.03%\n",
      "2024-03-04 15:22:07.546 | INFO     | nera.trainer:test:267 - [TST] Testing accuracy: 45.83%\n"
     ]
    },
    {
     "data": {
      "text/plain": "0.4583333333333333"
     },
     "execution_count": 14,
     "metadata": {},
     "output_type": "execute_result"
    }
   ],
   "source": [
    "elo_auto = EloNumerical(team_count, hp_grad=False, **_elo_params)\n",
    "trainer.model = elo_auto\n",
    "trainer.train(verbose=True, epochs=1, val_ratio=0.2)\n",
    "trainer.test(verbose=True)"
   ],
   "metadata": {
    "collapsed": false,
    "ExecuteTime": {
     "end_time": "2024-03-04T14:22:07.550145Z",
     "start_time": "2024-03-04T14:21:58.580541Z"
    }
   },
   "id": "15b2e5a7e9c0a7c",
   "execution_count": 14
  },
  {
   "cell_type": "markdown",
   "source": [
    "And finally, compare wheter these two are the same\n",
    "___________________"
   ],
   "metadata": {
    "collapsed": false
   },
   "id": "de6b29122353ee52"
  },
  {
   "cell_type": "code",
   "outputs": [
    {
     "name": "stdout",
     "output_type": "stream",
     "text": [
      "Ratings diff:\n",
      "Rating 0:\n",
      "0:: computed:    129.308 || net:    129.308\n",
      "1:: computed:    323.576 || net:    323.576\n",
      "2:: computed:   1159.981 || net:   1159.981\n",
      "3:: computed:   1269.019 || net:   1269.019\n",
      "4:: computed:   1721.490 || net:   1721.491\n",
      "...\n",
      "\n",
      "[SUCCESS]: All  ratings computed analytically and numerically are the SAME\n",
      "-------------------------\n",
      "\n",
      "Hyperparams diff:\n"
     ]
    }
   ],
   "source": [
    "print_rating_diff(elo_auto, elo_grad, transform)"
   ],
   "metadata": {
    "collapsed": false,
    "ExecuteTime": {
     "end_time": "2024-03-04T14:22:07.556428Z",
     "start_time": "2024-03-04T14:22:07.551235Z"
    }
   },
   "id": "70eed877f706da5c",
   "execution_count": 15
  },
  {
   "cell_type": "markdown",
   "source": [
    "Now let's see what happens, when we let the model learn the c, d metaparameters as well"
   ],
   "metadata": {
    "collapsed": false
   },
   "id": "21a62caaee0df111"
  },
  {
   "cell_type": "code",
   "outputs": [
    {
     "name": "stderr",
     "output_type": "stream",
     "text": [
      "2024-03-04 15:27:10.482 | INFO     | nera.trainer:train:171 - [TRN] Epoch: 0, training loss: 1245772.886, training accuracy: 48.36%\n",
      "2024-03-04 15:27:10.484 | INFO     | nera.trainer:train:174 - [VAL] Epoch: 0, validation loss: 344329.175, validation accuracy: 47.32%\n",
      "2024-03-04 15:27:10.486 | INFO     | nera.trainer:test:267 - [TST] Testing accuracy: 51.25%\n"
     ]
    },
    {
     "data": {
      "text/plain": "0.5125"
     },
     "execution_count": 34,
     "metadata": {},
     "output_type": "execute_result"
    }
   ],
   "source": [
    "elo_auto2 = EloNumerical(team_count, hp_grad=True, c=torch.tensor(3, dtype=torch.float64), d=torch.tensor(500, dtype=torch.float64))\n",
    "trainer.model = elo_auto2\n",
    "trainer.set_lr(0.00001)\n",
    "trainer.set_lr(1, 'rating')\n",
    "trainer.train(verbose=True, epochs=1, val_ratio=0.2)\n",
    "trainer.test(verbose=True)"
   ],
   "metadata": {
    "collapsed": false,
    "ExecuteTime": {
     "end_time": "2024-03-04T14:27:10.488892Z",
     "start_time": "2024-03-04T14:26:56.765383Z"
    }
   },
   "id": "4a4e0f0f7015bbe7",
   "execution_count": 34
  },
  {
   "cell_type": "code",
   "outputs": [
    {
     "name": "stderr",
     "output_type": "stream",
     "text": [
      "2024-03-04 15:27:22.134 | INFO     | nera.trainer:train:171 - [TRN] Epoch: 0, training loss: 1245772.888, training accuracy: 48.36%\n",
      "2024-03-04 15:27:22.135 | INFO     | nera.trainer:train:174 - [VAL] Epoch: 0, validation loss: 344329.176, validation accuracy: 47.32%\n",
      "2024-03-04 15:27:22.137 | INFO     | nera.trainer:test:267 - [TST] Testing accuracy: 51.25%\n"
     ]
    },
    {
     "data": {
      "text/plain": "0.5125"
     },
     "execution_count": 35,
     "metadata": {},
     "output_type": "execute_result"
    }
   ],
   "source": [
    "elo_grad2 = EloAnalytical(team_count, hp_grad=True, c=torch.tensor(3, dtype=torch.float64), d=torch.tensor(500, dtype=torch.float64))\n",
    "trainer.model = elo_grad2\n",
    "trainer.train(verbose=True, epochs=1, val_ratio=0.2)\n",
    "trainer.test(verbose=True)"
   ],
   "metadata": {
    "collapsed": false,
    "ExecuteTime": {
     "end_time": "2024-03-04T14:27:22.140652Z",
     "start_time": "2024-03-04T14:27:10.490483Z"
    }
   },
   "id": "8fc57a7f05ebb093",
   "execution_count": 35
  },
  {
   "cell_type": "code",
   "outputs": [
    {
     "name": "stdout",
     "output_type": "stream",
     "text": [
      "Ratings diff:\n",
      "Rating 0:\n",
      "0:: computed:    181.344 || net:    181.344\n",
      "1:: computed:   -391.693 || net:   -391.694\n",
      "2:: computed:   1156.948 || net:   1156.948\n",
      "3:: computed:    524.137 || net:    524.137\n",
      "4:: computed:   1458.303 || net:   1458.303\n",
      "...\n",
      "\n",
      "[SUCCESS]: All  ratings computed analytically and numerically are the SAME\n",
      "-------------------------\n",
      "\n",
      "Hyperparams diff:\n",
      "Numerical: hyperparam[0] =    2.851 :: Numerical: hyperparam[0] =    2.851\n",
      "Numerical: hyperparam[1] =  500.148 :: Numerical: hyperparam[1] =  500.148\n"
     ]
    }
   ],
   "source": [
    "print_rating_diff(elo_auto2, elo_grad2, transform)"
   ],
   "metadata": {
    "collapsed": false,
    "ExecuteTime": {
     "end_time": "2024-03-04T14:27:22.149335Z",
     "start_time": "2024-03-04T14:27:22.141669Z"
    }
   },
   "id": "f1b45ecef893ee25",
   "execution_count": 36
  },
  {
   "cell_type": "code",
   "outputs": [
    {
     "name": "stderr",
     "output_type": "stream",
     "text": [
      "2024-03-04 15:27:26.578 | INFO     | nera.trainer:train:171 - [TRN] Epoch: 0, training loss: 1620577.841, training accuracy: 59.20%\n",
      "2024-03-04 15:27:26.579 | INFO     | nera.trainer:train:174 - [VAL] Epoch: 0, validation loss: 424847.971, validation accuracy: 57.11%\n",
      "2024-03-04 15:27:26.581 | INFO     | nera.trainer:test:267 - [TST] Testing accuracy: 56.25%\n"
     ]
    },
    {
     "data": {
      "text/plain": "0.5625"
     },
     "execution_count": 37,
     "metadata": {},
     "output_type": "execute_result"
    }
   ],
   "source": [
    "elo = EloManual(team_count=transform.num_teams)\n",
    "trainer.dataset = dataset\n",
    "trainer.model = elo\n",
    "acc_late = trainer.train(epochs=1, val_ratio=0.2, verbose=True)\n",
    "trainer.test(verbose=True)"
   ],
   "metadata": {
    "collapsed": false,
    "ExecuteTime": {
     "end_time": "2024-03-04T14:27:26.585111Z",
     "start_time": "2024-03-04T14:27:22.151039Z"
    }
   },
   "id": "2e0bb29f5d46f7a4",
   "execution_count": 37
  }
 ],
 "metadata": {
  "kernelspec": {
   "display_name": "Python 3",
   "language": "python",
   "name": "python3"
  },
  "language_info": {
   "codemirror_mode": {
    "name": "ipython",
    "version": 2
   },
   "file_extension": ".py",
   "mimetype": "text/x-python",
   "name": "python",
   "nbconvert_exporter": "python",
   "pygments_lexer": "ipython2",
   "version": "2.7.6"
  }
 },
 "nbformat": 4,
 "nbformat_minor": 5
}
