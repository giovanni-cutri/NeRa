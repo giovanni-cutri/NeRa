{
 "cells": [
  {
   "cell_type": "markdown",
   "source": [
    "# Data\n",
    "------------"
   ],
   "metadata": {
    "collapsed": false
   },
   "id": "4a1e0d14156b8536"
  },
  {
   "cell_type": "code",
   "outputs": [
    {
     "name": "stderr",
     "output_type": "stream",
     "text": [
      "/home/kubos/anaconda3/envs/bp/lib/python3.11/site-packages/paramiko/transport.py:219: CryptographyDeprecationWarning: Blowfish has been deprecated\n",
      "  \"class\": algorithms.Blowfish,\n"
     ]
    }
   ],
   "source": [
    "from nera.data_management.data_acquisition import DataAcquisition\n",
    "from nera.data_management.data_transformation import DataTransformation\n",
    "from nera.data_management import FROM_CSV\n",
    "import pandas as pd\n",
    "from datetime import datetime, timedelta\n",
    "import seaborn as sns"
   ],
   "metadata": {
    "collapsed": false,
    "ExecuteTime": {
     "end_time": "2024-02-26T14:45:42.328170539Z",
     "start_time": "2024-02-26T14:45:39.033222355Z"
    }
   },
   "id": "6d199e2aaad16bac",
   "execution_count": 1
  },
  {
   "cell_type": "markdown",
   "source": [
    "## 1 Data transformation\n",
    "\n",
    "| Element of graph |                                                                   Usage in our case                                                                   | \n",
    "|:-----------------|:-----------------------------------------------------------------------------------------------------------------------------------------------------:| \n",
    "| Nodes            |                                                                         Teams                                                                         | \n",
    "| Nodes Features   | altogether home wins, home losses, away win and away losses, all points scored by team, all points lost to another team until the end of the snapshot | \n",
    "| Edges            |                                                           Matches between individual teams                                                            | \n",
    "| Edge features    |                                           0 - home win, 1 - draw, 2 - away win => match outcome prediction                                            |\n",
    "| Node labels      |                                                               individual teams ranking                                                                |\n",
    "\n",
    "\n",
    "What type of graph do we have? - Number of vertices in our graphs is static - it is the number of all teams that we want to train on. Number of edges changes over time. Edges represent matches. So the graph is dynamic. Some vertices may not be connected in each graph snapshot, because there may be season, in which a team may not have played any match within selected league. Although this will create a redundancy in our feature matrix, it is more straightforward to implement, than reindexing teams in each snapshot in order to incorporate only those vertices with edges. So we are dealing with so called 'Dynamic graph temporal signal'."
   ],
   "metadata": {
    "collapsed": false
   },
   "id": "af279bd521d5cb6f"
  },
  {
   "cell_type": "code",
   "outputs": [
    {
     "name": "stderr",
     "output_type": "stream",
     "text": [
      "2024-02-26 15:45:42.944 | INFO     | nera.data_management._data_saving_loading:load_data_csv:70 - 21100 rows loaded from ../resources/other_leagues.csv\n"
     ]
    },
    {
     "name": "stdout",
     "output_type": "stream",
     "text": [
      "2012-09-25 18:00:00 2024-11-14 20:45:00\n"
     ]
    },
    {
     "data": {
      "text/plain": "<Axes: xlabel='index', ylabel='matches_in_snapshot'>"
     },
     "execution_count": 3,
     "metadata": {},
     "output_type": "execute_result"
    },
    {
     "data": {
      "text/plain": "<Figure size 640x480 with 1 Axes>",
      "image/png": "[encoded data removed]"
     },
     "metadata": {},
     "output_type": "display_data"
    }
   ],
   "source": [
    "da = DataAcquisition()\n",
    "df = da.get_data(FROM_CSV, fname=\"../resources/other_leagues.csv\")\n",
    "\n",
    "# see how many matches occupy each graph snapshot\n",
    "df['DT'] = pd.to_datetime(df['DT'], format=\"%Y-%m-%d %H:%M:%S\")\n",
    "\n",
    "start_date = min(df['DT'])\n",
    "end_date = max(df['DT'])\n",
    "print(start_date, end_date)\n",
    "delta = timedelta(days=365) # 1 season duration is about 6 months, then there are 6 months when no league tournaments are played\n",
    "snapshots = []\n",
    "\n",
    "while start_date <= end_date:\n",
    "    snapshots.append(df[((start_date + delta >= df['DT']) & (start_date <= df['DT']))].shape[0])\n",
    "    start_date += delta\n",
    "    \n",
    "sns.scatterplot(x=\"index\", y=\"matches_in_snapshot\", data=pd.DataFrame(snapshots, columns=[\"matches_in_snapshot\"]).reset_index())\n",
    "\n",
    "    "
   ],
   "metadata": {
    "collapsed": false,
    "ExecuteTime": {
     "end_time": "2024-02-26T14:45:43.236961343Z",
     "start_time": "2024-02-26T14:45:42.882252920Z"
    }
   },
   "id": "dacf4964d7300cb9",
   "execution_count": 3
  },
  {
   "cell_type": "markdown",
   "source": [
    "We can see that in each snapshot (representing 1 year), there are about 1800 matches in selected leagues altogether. That should be enough information for the graph neural network to learn from. But we need to try that first. We can also see some weird behaviour in the last two snapshots. Let's just ignore them for now and get better dataset later."
   ],
   "metadata": {
    "collapsed": false
   },
   "id": "da74a0c0b6a8b0ca"
  },
  {
   "cell_type": "code",
   "outputs": [
    {
     "data": {
      "text/plain": "<Axes: xlabel='index', ylabel='matches_in_snapshot'>"
     },
     "execution_count": 4,
     "metadata": {},
     "output_type": "execute_result"
    },
    {
     "data": {
      "text/plain": "<Figure size 640x480 with 1 Axes>",
      "image/png": "[encoded data removed]"
     },
     "metadata": {},
     "output_type": "display_data"
    }
   ],
   "source": [
    "start_date = min(df['DT'])\n",
    "df = df[(df['DT'] < start_date + 10 * delta)]\n",
    "end_date = max(df['DT'])\n",
    "\n",
    "snapshots = []\n",
    "\n",
    "while start_date <= end_date:\n",
    "    snapshots.append(df[((start_date + delta >= df['DT']) & (start_date <= df['DT']))].shape[0])\n",
    "    start_date += delta\n",
    "    \n",
    "sns.scatterplot(x=\"index\", y=\"matches_in_snapshot\", data=pd.DataFrame(snapshots, columns=[\"matches_in_snapshot\"]).reset_index())"
   ],
   "metadata": {
    "collapsed": false,
    "ExecuteTime": {
     "end_time": "2024-02-26T14:45:45.510963797Z",
     "start_time": "2024-02-26T14:45:45.054984091Z"
    }
   },
   "id": "ea29ec8ad568d2e4",
   "execution_count": 4
  },
  {
   "cell_type": "markdown",
   "source": [
    "\n",
    "Normally methods showcased bellow are called from data_transform.transform() method, but in our case we want to see how they work\n"
   ],
   "metadata": {
    "collapsed": false
   },
   "id": "ff6836df9a470838"
  },
  {
   "cell_type": "code",
   "outputs": [
    {
     "data": {
      "text/plain": "    League                  DT           Home           Away Winner  \\\n329    NBL 2022-05-26 18:00:00          Opava        Nymburk   away   \n330    NBL 2022-05-24 17:00:00        Nymburk          Opava   away   \n331    NBL 2022-05-23 18:00:00           Brno  Usti n. Labem   home   \n332    NBL 2022-05-22 17:00:00          Opava        Nymburk   home   \n333    NBL 2022-05-21 18:00:00  Usti n. Labem           Brno   away   \n334    NBL 2022-05-20 17:00:00        Nymburk          Opava   home   \n335    NBL 2022-05-19 18:00:00           Brno  Usti n. Labem   away   \n336    NBL 2022-05-10 18:00:00          Opava           Brno   home   \n337    NBL 2022-05-09 18:00:00  Usti n. Labem        Nymburk   home   \n338    NBL 2022-05-08 18:00:00  Usti n. Labem        Nymburk   home   \n\n     Home_points  Away_points  \n329           65           87  \n330          110           65  \n331           71           67  \n332           78           76  \n333           77           82  \n334           99           72  \n335           80           84  \n336           83           66  \n337           64          102  \n338           75          100  ",
      "text/html": "<div>\n<style scoped>\n    .dataframe tbody tr th:only-of-type {\n        vertical-align: middle;\n    }\n\n    .dataframe tbody tr th {\n        vertical-align: top;\n    }\n\n    .dataframe thead th {\n        text-align: right;\n    }\n</style>\n<table border=\"1\" class=\"dataframe\">\n  <thead>\n    <tr style=\"text-align: right;\">\n      <th></th>\n      <th>League</th>\n      <th>DT</th>\n      <th>Home</th>\n      <th>Away</th>\n      <th>Winner</th>\n      <th>Home_points</th>\n      <th>Away_points</th>\n    </tr>\n  </thead>\n  <tbody>\n    <tr>\n      <th>329</th>\n      <td>NBL</td>\n      <td>2022-05-26 18:00:00</td>\n      <td>Opava</td>\n      <td>Nymburk</td>\n      <td>away</td>\n      <td>65</td>\n      <td>87</td>\n    </tr>\n    <tr>\n      <th>330</th>\n      <td>NBL</td>\n      <td>2022-05-24 17:00:00</td>\n      <td>Nymburk</td>\n      <td>Opava</td>\n      <td>away</td>\n      <td>110</td>\n      <td>65</td>\n    </tr>\n    <tr>\n      <th>331</th>\n      <td>NBL</td>\n      <td>2022-05-23 18:00:00</td>\n      <td>Brno</td>\n      <td>Usti n. Labem</td>\n      <td>home</td>\n      <td>71</td>\n      <td>67</td>\n    </tr>\n    <tr>\n      <th>332</th>\n      <td>NBL</td>\n      <td>2022-05-22 17:00:00</td>\n      <td>Opava</td>\n      <td>Nymburk</td>\n      <td>home</td>\n      <td>78</td>\n      <td>76</td>\n    </tr>\n    <tr>\n      <th>333</th>\n      <td>NBL</td>\n      <td>2022-05-21 18:00:00</td>\n      <td>Usti n. Labem</td>\n      <td>Brno</td>\n      <td>away</td>\n      <td>77</td>\n      <td>82</td>\n    </tr>\n    <tr>\n      <th>334</th>\n      <td>NBL</td>\n      <td>2022-05-20 17:00:00</td>\n      <td>Nymburk</td>\n      <td>Opava</td>\n      <td>home</td>\n      <td>99</td>\n      <td>72</td>\n    </tr>\n    <tr>\n      <th>335</th>\n      <td>NBL</td>\n      <td>2022-05-19 18:00:00</td>\n      <td>Brno</td>\n      <td>Usti n. Labem</td>\n      <td>away</td>\n      <td>80</td>\n      <td>84</td>\n    </tr>\n    <tr>\n      <th>336</th>\n      <td>NBL</td>\n      <td>2022-05-10 18:00:00</td>\n      <td>Opava</td>\n      <td>Brno</td>\n      <td>home</td>\n      <td>83</td>\n      <td>66</td>\n    </tr>\n    <tr>\n      <th>337</th>\n      <td>NBL</td>\n      <td>2022-05-09 18:00:00</td>\n      <td>Usti n. Labem</td>\n      <td>Nymburk</td>\n      <td>home</td>\n      <td>64</td>\n      <td>102</td>\n    </tr>\n    <tr>\n      <th>338</th>\n      <td>NBL</td>\n      <td>2022-05-08 18:00:00</td>\n      <td>Usti n. Labem</td>\n      <td>Nymburk</td>\n      <td>home</td>\n      <td>75</td>\n      <td>100</td>\n    </tr>\n  </tbody>\n</table>\n</div>"
     },
     "execution_count": 5,
     "metadata": {},
     "output_type": "execute_result"
    }
   ],
   "source": [
    "# constructor of DataTransformation class drops columns that are not used by our models\n",
    "data_transform = DataTransformation(df, timedelta(365))\n",
    "\n",
    "data_transform.df.head(10)"
   ],
   "metadata": {
    "collapsed": false,
    "ExecuteTime": {
     "end_time": "2024-02-26T14:45:49.291066728Z",
     "start_time": "2024-02-26T14:45:49.234037423Z"
    }
   },
   "id": "cf05c0bea69c1cb9",
   "execution_count": 5
  },
  {
   "cell_type": "markdown",
   "source": [
    "### 1.1 map teams to unique ids and match outcomes to integer values\n",
    "\n",
    "| Winner | Integer value in table | \n",
    "|:-------|:----------------------:|\n",
    "| Home   |           2            | \n",
    "| Away   |           0            | \n",
    "| Draw   |           1            | "
   ],
   "metadata": {
    "collapsed": false
   },
   "id": "a70ad762bfef82c3"
  },
  {
   "cell_type": "code",
   "outputs": [
    {
     "name": "stderr",
     "output_type": "stream",
     "text": [
      "2024-02-26 15:45:51.987 | INFO     | nera.data_management.data_transformation:_map_match_outcomes:60 - There are 10987 home wins, 6 draws and 7655 away wins in the dataset\n"
     ]
    },
    {
     "data": {
      "text/plain": "    League                  DT  Home  Away Winner  Home_points  Away_points\n329    NBL 2022-05-26 18:00:00     0     1      0           65           87\n330    NBL 2022-05-24 17:00:00     1     0      0          110           65\n331    NBL 2022-05-23 18:00:00     2     3      2           71           67\n332    NBL 2022-05-22 17:00:00     0     1      2           78           76\n333    NBL 2022-05-21 18:00:00     3     2      0           77           82\n334    NBL 2022-05-20 17:00:00     1     0      2           99           72\n335    NBL 2022-05-19 18:00:00     2     3      0           80           84\n336    NBL 2022-05-10 18:00:00     0     2      2           83           66\n337    NBL 2022-05-09 18:00:00     3     1      2           64          102\n338    NBL 2022-05-08 18:00:00     3     1      2           75          100",
      "text/html": "<div>\n<style scoped>\n    .dataframe tbody tr th:only-of-type {\n        vertical-align: middle;\n    }\n\n    .dataframe tbody tr th {\n        vertical-align: top;\n    }\n\n    .dataframe thead th {\n        text-align: right;\n    }\n</style>\n<table border=\"1\" class=\"dataframe\">\n  <thead>\n    <tr style=\"text-align: right;\">\n      <th></th>\n      <th>League</th>\n      <th>DT</th>\n      <th>Home</th>\n      <th>Away</th>\n      <th>Winner</th>\n      <th>Home_points</th>\n      <th>Away_points</th>\n    </tr>\n  </thead>\n  <tbody>\n    <tr>\n      <th>329</th>\n      <td>NBL</td>\n      <td>2022-05-26 18:00:00</td>\n      <td>0</td>\n      <td>1</td>\n      <td>0</td>\n      <td>65</td>\n      <td>87</td>\n    </tr>\n    <tr>\n      <th>330</th>\n      <td>NBL</td>\n      <td>2022-05-24 17:00:00</td>\n      <td>1</td>\n      <td>0</td>\n      <td>0</td>\n      <td>110</td>\n      <td>65</td>\n    </tr>\n    <tr>\n      <th>331</th>\n      <td>NBL</td>\n      <td>2022-05-23 18:00:00</td>\n      <td>2</td>\n      <td>3</td>\n      <td>2</td>\n      <td>71</td>\n      <td>67</td>\n    </tr>\n    <tr>\n      <th>332</th>\n      <td>NBL</td>\n      <td>2022-05-22 17:00:00</td>\n      <td>0</td>\n      <td>1</td>\n      <td>2</td>\n      <td>78</td>\n      <td>76</td>\n    </tr>\n    <tr>\n      <th>333</th>\n      <td>NBL</td>\n      <td>2022-05-21 18:00:00</td>\n      <td>3</td>\n      <td>2</td>\n      <td>0</td>\n      <td>77</td>\n      <td>82</td>\n    </tr>\n    <tr>\n      <th>334</th>\n      <td>NBL</td>\n      <td>2022-05-20 17:00:00</td>\n      <td>1</td>\n      <td>0</td>\n      <td>2</td>\n      <td>99</td>\n      <td>72</td>\n    </tr>\n    <tr>\n      <th>335</th>\n      <td>NBL</td>\n      <td>2022-05-19 18:00:00</td>\n      <td>2</td>\n      <td>3</td>\n      <td>0</td>\n      <td>80</td>\n      <td>84</td>\n    </tr>\n    <tr>\n      <th>336</th>\n      <td>NBL</td>\n      <td>2022-05-10 18:00:00</td>\n      <td>0</td>\n      <td>2</td>\n      <td>2</td>\n      <td>83</td>\n      <td>66</td>\n    </tr>\n    <tr>\n      <th>337</th>\n      <td>NBL</td>\n      <td>2022-05-09 18:00:00</td>\n      <td>3</td>\n      <td>1</td>\n      <td>2</td>\n      <td>64</td>\n      <td>102</td>\n    </tr>\n    <tr>\n      <th>338</th>\n      <td>NBL</td>\n      <td>2022-05-08 18:00:00</td>\n      <td>3</td>\n      <td>1</td>\n      <td>2</td>\n      <td>75</td>\n      <td>100</td>\n    </tr>\n  </tbody>\n</table>\n</div>"
     },
     "execution_count": 7,
     "metadata": {},
     "output_type": "execute_result"
    }
   ],
   "source": [
    "data_transform._create_teams_mapping()\n",
    "data_transform._map_match_outcomes(verbose=True)\n",
    "data_transform.df.head(10)"
   ],
   "metadata": {
    "collapsed": false,
    "ExecuteTime": {
     "end_time": "2024-02-26T14:45:51.996723075Z",
     "start_time": "2024-02-26T14:45:51.973326621Z"
    }
   },
   "id": "d1cd3c1f27b7626f",
   "execution_count": 7
  },
  {
   "cell_type": "markdown",
   "source": [],
   "metadata": {
    "collapsed": false
   },
   "id": "52a343d8e2353b4d"
  },
  {
   "cell_type": "markdown",
   "source": [
    "### 1.2 Extract node features (Optional, may not be needed)\n",
    "\n",
    "recall that these are:\n",
    "\n",
    "| Feature id     |     0     |     1      |      2      |    3     |     4      |      5      | \n",
    "|:---------------|:---------:|:----------:|:-----------:|:--------:|:----------:|:-----------:|\n",
    "| Nodes Features | home wins | home draws | home losses | away win | away draws | away losses | \n",
    "\n",
    "All of these features are dynamic - they accumulate over time during snapshots. In our models we want to try to predict with and without those features\n",
    "\n",
    "NOTE: The features are normalized between 0 and 1."
   ],
   "metadata": {
    "collapsed": false
   },
   "id": "91d55c67c3791472"
  },
  {
   "cell_type": "code",
   "outputs": [
    {
     "name": "stdout",
     "output_type": "stream",
     "text": [
      "Number of snapshots (league years): 10\n",
      "In each snapshot there are 203 nodes (teams) with 6 features\n"
     ]
    },
    {
     "data": {
      "text/plain": "array([[0.52235105, 0.        , 0.51112335, 0.54582008, 0.31640625,\n        0.42195352],\n       [0.7139069 , 0.        , 0.38525953, 0.44175845, 0.        ,\n        0.47133948],\n       [0.59814493, 0.        , 0.41463418, 0.66773865, 0.        ,\n        0.27241926],\n       [0.56004713, 1.        , 0.40784751, 0.55640596, 0.        ,\n        0.37526511],\n       [0.4117578 , 0.        , 0.16875874, 0.31721538, 0.        ,\n        0.16104285]])"
     },
     "execution_count": 8,
     "metadata": {},
     "output_type": "execute_result"
    }
   ],
   "source": [
    "node_features = data_transform._extract_node_features(discount_factor=0.75, use_draws=True, verbose=False)\n",
    "\n",
    "print(\"Number of snapshots (league years):\", len(node_features))\n",
    "print(f\"In each snapshot there are {node_features[0].shape[0]} nodes (teams) with {node_features[0].shape[1]} features\")\n",
    "node_features[-1][:5]"
   ],
   "metadata": {
    "collapsed": false,
    "ExecuteTime": {
     "end_time": "2024-02-26T14:45:54.433453963Z",
     "start_time": "2024-02-26T14:45:54.314505499Z"
    }
   },
   "id": "a50bb10b0b76806",
   "execution_count": 8
  },
  {
   "cell_type": "markdown",
   "source": [
    "### 1.3 Create Edges and extract their features; Extract labels\n",
    "\n",
    "There is just one edge feature: winner of the mathc (0 - home, 1 - draw, 2 - away). In order to predict outcomes, later, we can encode this in a one-hot representation or normalize it.\n",
    "\n",
    "meaning: \n",
    "\n",
    "|      Edge feature      | home win  |   draw    | away win  | \n",
    "|:----------------------:|:---------:|:---------:|:---------:|\n",
    "|     dataset value      |     2     |     1     |     0     |\n",
    "|    normalized value    |     2     |    0.5    |     0     |\n",
    "| one-hot representation | (0, 0, 1) | (0, 1, 0) | (1, 0, 0) |\n",
    "\n",
    "node labels = ranking of the teams. \n",
    "We will simply compute labels for each time step. For simplicity, team with the most wins has rank 1 in each league in dataset.\n",
    "NOTE labels from step n+1 are targets for step n.\n",
    "We will also normalize those labels "
   ],
   "metadata": {
    "collapsed": false
   },
   "id": "27fdffaae623eaeb"
  },
  {
   "cell_type": "code",
   "outputs": [
    {
     "data": {
      "text/plain": "(array([[  0,   1,   2, ...,  61, 160, 102],\n        [  1,   0,   3, ...,  75, 152,  25]]),\n array([[1., 0., 0.],\n        [1., 0., 0.],\n        [0., 0., 1.],\n        ...,\n        [1., 0., 0.],\n        [0., 0., 1.],\n        [0., 0., 1.]]),\n array([0.        , 0.8168468 , 0.05263158, 0.21052632, 0.10526316,\n        0.15789474, 0.31578947, 0.73684211, 0.42105263, 0.47368421,\n        0.63157895, 0.89473684, 0.36842105, 0.57894737, 0.84210526,\n        0.78947368, 0.94736842, 1.        , 0.68421053, 0.14492985,\n        0.40530563, 0.11538462, 0.91208791, 0.73966714, 0.28777473,\n        0.33276099, 0.10735135, 0.03846154, 0.04464286, 0.12913928,\n        0.76923077, 0.56833791, 0.92307692, 0.73076923, 0.46153846,\n        0.41414835, 0.51614011, 0.84615385, 0.0161953 , 0.5       ,\n        0.34615385, 0.88289835, 0.53846154, 0.42307692, 0.69230769,\n        0.65384615, 0.72608418, 0.50063776, 0.85460892, 0.14285714,\n        0.44802296, 0.21428571, 0.20758929, 0.02933673, 0.32142857,\n        0.82461735, 0.39285714, 0.92736425, 0.03571429, 1.        ,\n        0.96428571, 0.37149235, 0.74356551, 0.72098214, 0.85714286,\n        0.53571429, 0.20376276, 0.89285714, 0.46428571, 0.89360309,\n        0.71428571, 0.5       , 0.78571429, 0.5       , 0.51964286,\n        0.33973214, 0.12321429, 0.28280453, 0.31533801, 0.55      ,\n        0.95      , 0.125     , 0.30089286, 0.71071429, 0.65      ,\n        0.35      , 0.5       , 0.24662787, 0.67321429, 0.66339286,\n        0.59151786, 0.45      , 0.2       , 0.15      , 0.36631274,\n        0.29343629, 0.09556846, 0.05841492, 0.35135135, 0.42253861,\n        0.02051158, 0.64943722, 0.37717181, 0.21621622, 0.18918919,\n        0.16216216, 0.13513514, 0.10810811, 0.53493002, 0.06298263,\n        0.45945946, 0.48648649, 0.        , 0.63178261, 0.56756757,\n        0.02702703, 0.97297297, 0.6402027 , 0.81081081, 0.59459459,\n        0.69305019, 0.94594595, 0.89189189, 0.86486486, 0.91891892,\n        0.64864865, 0.78378378, 1.        , 0.83783784, 0.75675676,\n        0.41071429, 0.21763393, 0.95838648, 0.16581633, 0.13584184,\n        0.14285714, 0.08928571, 0.54512117, 0.03571429, 0.18973214,\n        0.        , 0.4609375 , 0.88998724, 0.52662628, 0.15290179,\n        0.70424107, 0.79464286, 0.39668367, 0.98373724, 0.58179209,\n        0.95376276, 0.35315689, 0.32987883, 0.08896684, 0.47735969,\n        0.07940051, 0.31186224, 0.23899872, 0.25892857, 0.38392857,\n        0.42857143, 0.46428571, 0.48389668, 0.22321429, 0.04464286,\n        0.09821429, 0.16964286, 0.75892857, 0.83035714, 0.9375    ,\n        0.85714286, 0.96428571, 0.99107143, 1.        , 0.97321429,\n        0.83928571, 0.59821429, 0.49107143, 0.90178571, 0.76785714,\n        0.86607143, 0.75      , 0.92857143, 0.57142857, 0.53571429,\n        0.35714286, 0.65880102, 0.80357143, 0.60714286, 0.25      ,\n        0.77678571, 0.67857143, 0.61607143, 0.4375    , 0.79464286,\n        0.27311862, 0.55357143, 0.17857143, 0.52631579, 0.92857143,\n        0.57142857, 0.72972973, 0.67567568]),\n array([[ 65,  87],\n        [110,  65],\n        [ 71,  67],\n        ...,\n        [ 56,  86],\n        [ 97, 106],\n        [ 73,  65]]),\n (1910, 3),\n (2, 1910),\n (203,),\n (1910, 2))"
     },
     "execution_count": 9,
     "metadata": {},
     "output_type": "execute_result"
    }
   ],
   "source": [
    "edges, edge_features, labels, points = data_transform._extract_dynamic_edges_and_labels(one_hot=True)\n",
    "\n",
    "edges[0], edge_features[0], labels[0], points[0],edge_features[0].shape, edges[0].shape, labels[0].shape, points[0].shape"
   ],
   "metadata": {
    "collapsed": false,
    "ExecuteTime": {
     "end_time": "2024-02-26T14:45:56.990421437Z",
     "start_time": "2024-02-26T14:45:56.735122947Z"
    }
   },
   "id": "9c3c8be2307a11ae",
   "execution_count": 9
  },
  {
   "cell_type": "markdown",
   "source": [
    "### 1.5 Creating graph representation for Pytorch geometric temporal\n",
    "\n",
    "now we have everything we need to create our dynamic graph"
   ],
   "metadata": {
    "collapsed": false
   },
   "id": "a08ed03f9481cab9"
  },
  {
   "cell_type": "code",
   "outputs": [
    {
     "name": "stdout",
     "output_type": "stream",
     "text": [
      "Example of graph snapshot 5: \n",
      "      Node feature shape: (203, 6) \n",
      "      Edge index shape: (2, 1805) \n",
      "      Edge feature shape: (1805, 3) \n",
      "      Labels shape: (203,),\n",
      "      Match_points: (1805, 2)\n",
      "      \n"
     ]
    }
   ],
   "source": [
    "i = 5\n",
    "print(f\"\"\"Example of graph snapshot {i}: \n",
    "      Node feature shape: {node_features[i].shape} \n",
    "      Edge index shape: {edges[i].shape} \n",
    "      Edge feature shape: {edge_features[i].shape} \n",
    "      Labels shape: {labels[i].shape},\n",
    "      Match_points: {points[i].shape}\n",
    "      \"\"\")"
   ],
   "metadata": {
    "collapsed": false,
    "ExecuteTime": {
     "end_time": "2024-02-26T14:45:58.977652620Z",
     "start_time": "2024-02-26T14:45:58.952743553Z"
    }
   },
   "id": "4727c8ce01ce2afa",
   "execution_count": 10
  },
  {
   "cell_type": "code",
   "outputs": [
    {
     "name": "stdout",
     "output_type": "stream",
     "text": [
      "10\n"
     ]
    }
   ],
   "source": [
    "# finally we can create our dataset iterator\n",
    "from torch_geometric_temporal import DynamicGraphTemporalSignal\n",
    "\n",
    "dataset = DynamicGraphTemporalSignal(\n",
    "    edges, edge_features, node_features, labels\n",
    ")\n",
    "print(dataset.snapshot_count)"
   ],
   "metadata": {
    "collapsed": false,
    "ExecuteTime": {
     "end_time": "2024-02-26T14:46:00.228977109Z",
     "start_time": "2024-02-26T14:46:00.210906002Z"
    }
   },
   "id": "dce551a173634744",
   "execution_count": 11
  },
  {
   "cell_type": "markdown",
   "source": [
    "### 1.6 All of this is done by get_dataset() method of DataTransformation"
   ],
   "metadata": {
    "collapsed": false
   },
   "id": "c6b42ffb412e7ab"
  },
  {
   "cell_type": "code",
   "outputs": [
    {
     "name": "stdout",
     "output_type": "stream",
     "text": [
      "10\n"
     ]
    }
   ],
   "source": [
    "df = df[(df['League'] != 'EuroLeague') & (df['League'] != 'EuroCup')] \n",
    "df = df.reset_index()\n",
    "\n",
    "transform = DataTransformation(df, timedelta(365))\n",
    "dataset = transform.get_dataset(node_f_extract=False, edge_f_one_hot=True)\n",
    "\n",
    "print(dataset.snapshot_count)"
   ],
   "metadata": {
    "collapsed": false,
    "ExecuteTime": {
     "end_time": "2024-02-26T14:46:02.206963610Z",
     "start_time": "2024-02-26T14:46:01.972218377Z"
    }
   },
   "id": "1ce7fd5337107655",
   "execution_count": 12
  },
  {
   "cell_type": "markdown",
   "source": [
    "# Models\n",
    "---------------------"
   ],
   "metadata": {
    "collapsed": false
   },
   "id": "47344785ddf2f809"
  },
  {
   "cell_type": "markdown",
   "source": [
    "## 2 GCONVCheb\n",
    "\n",
    "Graph Chebychev convolution model\n",
    "\n",
    "First model we plan to test"
   ],
   "metadata": {
    "collapsed": false
   },
   "id": "49550b18775769a"
  },
  {
   "cell_type": "code",
   "outputs": [
    {
     "data": {
      "text/plain": "GCONVCheb(\n  (act_fn): ReLU()\n  (embedding): Embedding(135, 20)\n  (dense_sequence): Sequential(\n    (lin0): Linear(in_features=32, out_features=8, bias=True)\n    (act0): ReLU()\n    (dropout0): Dropout(p=0.1, inplace=False)\n    (lin1): Linear(in_features=8, out_features=8, bias=True)\n    (act1): ReLU()\n    (dropout1): Dropout(p=0.1, inplace=False)\n    (lin2): Linear(in_features=8, out_features=8, bias=True)\n    (act2): ReLU()\n    (dropout2): Dropout(p=0.1, inplace=False)\n    (lin3): Linear(in_features=8, out_features=8, bias=True)\n    (act3): ReLU()\n    (dropout3): Dropout(p=0.1, inplace=False)\n    (lin4): Linear(in_features=8, out_features=8, bias=True)\n    (act4): ReLU()\n    (dropout4): Dropout(p=0.1, inplace=False)\n    (lin5): Linear(in_features=8, out_features=3, bias=True)\n    (act5): ReLU()\n    (dropout5): Dropout(p=0.1, inplace=False)\n  )\n  (out_layer): Softmax(dim=1)\n)"
     },
     "execution_count": 13,
     "metadata": {},
     "output_type": "execute_result"
    }
   ],
   "source": [
    "from nera.models.gnn import GCONVCheb\n",
    "from nera.trainer import Trainer\n",
    "\n",
    "team_count = transform.num_teams\n",
    "\n",
    "# We will use the default implemented setting: \n",
    "#\n",
    "# GCONVLSTM(self, team_count: int,\n",
    "#                 embed_dim: int = 10,\n",
    "#                 dense_dims: tuple[int] = (8, 8, 8, 8, 8),\n",
    "#                 conv_out_dim: int = 16,\n",
    "#                 dropout_rate: float = 0.1,\n",
    "#                 activation: str = 'relu',\n",
    "#                 K: int = 5):\n",
    "model = GCONVCheb(team_count)\n",
    "model"
   ],
   "metadata": {
    "collapsed": false,
    "ExecuteTime": {
     "end_time": "2024-02-26T14:46:04.364931301Z",
     "start_time": "2024-02-26T14:46:04.324371626Z"
    }
   },
   "id": "4b2073546ee4448",
   "execution_count": 13
  },
  {
   "cell_type": "markdown",
   "source": [
    "### 2.1 Training"
   ],
   "metadata": {
    "collapsed": false
   },
   "id": "b499f59c1dcc87d8"
  },
  {
   "cell_type": "code",
   "outputs": [
    {
     "name": "stderr",
     "output_type": "stream",
     "text": [
      "2024-02-26 15:46:06.800 | INFO     | nera.trainer:train:56 - [TRN] Epoch: 0, training loss: 2.238, training accuracy: 4.95% \n",
      "2024-02-26 15:46:06.901 | INFO     | nera.trainer:train:56 - [TRN] Epoch: 1, training loss: 2.237, training accuracy: 4.28% \n",
      "2024-02-26 15:46:06.993 | INFO     | nera.trainer:train:56 - [TRN] Epoch: 2, training loss: 2.234, training accuracy: 4.99% \n",
      "2024-02-26 15:46:07.073 | INFO     | nera.trainer:train:56 - [TRN] Epoch: 3, training loss: 2.233, training accuracy: 4.92% \n",
      "2024-02-26 15:46:07.148 | INFO     | nera.trainer:train:56 - [TRN] Epoch: 4, training loss: 2.231, training accuracy: 3.88% \n",
      "2024-02-26 15:46:07.235 | INFO     | nera.trainer:train:56 - [TRN] Epoch: 5, training loss: 2.228, training accuracy: 4.35% \n",
      "2024-02-26 15:46:07.318 | INFO     | nera.trainer:train:56 - [TRN] Epoch: 6, training loss: 2.227, training accuracy: 4.52% \n",
      "2024-02-26 15:46:07.398 | INFO     | nera.trainer:train:56 - [TRN] Epoch: 7, training loss: 2.225, training accuracy: 6.13% \n",
      "2024-02-26 15:46:07.479 | INFO     | nera.trainer:train:56 - [TRN] Epoch: 8, training loss: 2.223, training accuracy: 4.31% \n",
      "2024-02-26 15:46:07.558 | INFO     | nera.trainer:train:56 - [TRN] Epoch: 9, training loss: 2.221, training accuracy: 4.38% \n",
      "2024-02-26 15:46:07.640 | INFO     | nera.trainer:train:56 - [TRN] Epoch: 10, training loss: 2.220, training accuracy: 14.78% \n",
      "2024-02-26 15:46:07.718 | INFO     | nera.trainer:train:56 - [TRN] Epoch: 11, training loss: 2.219, training accuracy: 28.68% \n",
      "2024-02-26 15:46:07.795 | INFO     | nera.trainer:train:56 - [TRN] Epoch: 12, training loss: 2.217, training accuracy: 33.84% \n",
      "2024-02-26 15:46:07.868 | INFO     | nera.trainer:train:56 - [TRN] Epoch: 13, training loss: 2.216, training accuracy: 35.45% \n",
      "2024-02-26 15:46:07.948 | INFO     | nera.trainer:train:56 - [TRN] Epoch: 14, training loss: 2.214, training accuracy: 36.20% \n",
      "2024-02-26 15:46:08.038 | INFO     | nera.trainer:train:56 - [TRN] Epoch: 15, training loss: 2.211, training accuracy: 36.77% \n",
      "2024-02-26 15:46:08.128 | INFO     | nera.trainer:train:56 - [TRN] Epoch: 16, training loss: 2.209, training accuracy: 36.52% \n",
      "2024-02-26 15:46:08.209 | INFO     | nera.trainer:train:56 - [TRN] Epoch: 17, training loss: 2.207, training accuracy: 36.55% \n",
      "2024-02-26 15:46:08.290 | INFO     | nera.trainer:train:56 - [TRN] Epoch: 18, training loss: 2.206, training accuracy: 37.19% \n",
      "2024-02-26 15:46:08.371 | INFO     | nera.trainer:train:56 - [TRN] Epoch: 19, training loss: 2.203, training accuracy: 37.37% \n",
      "2024-02-26 15:46:08.459 | INFO     | nera.trainer:train:56 - [TRN] Epoch: 20, training loss: 2.203, training accuracy: 36.34% \n",
      "2024-02-26 15:46:08.547 | INFO     | nera.trainer:train:56 - [TRN] Epoch: 21, training loss: 2.201, training accuracy: 37.09% \n",
      "2024-02-26 15:46:08.629 | INFO     | nera.trainer:train:56 - [TRN] Epoch: 22, training loss: 2.198, training accuracy: 37.26% \n",
      "2024-02-26 15:46:08.705 | INFO     | nera.trainer:train:56 - [TRN] Epoch: 23, training loss: 2.195, training accuracy: 37.80% \n",
      "2024-02-26 15:46:08.785 | INFO     | nera.trainer:train:56 - [TRN] Epoch: 24, training loss: 2.193, training accuracy: 40.22% \n",
      "2024-02-26 15:46:08.856 | INFO     | nera.trainer:train:56 - [TRN] Epoch: 25, training loss: 2.191, training accuracy: 39.54% \n",
      "2024-02-26 15:46:08.927 | INFO     | nera.trainer:train:56 - [TRN] Epoch: 26, training loss: 2.189, training accuracy: 39.58% \n",
      "2024-02-26 15:46:09.004 | INFO     | nera.trainer:train:56 - [TRN] Epoch: 27, training loss: 2.185, training accuracy: 40.61% \n",
      "2024-02-26 15:46:09.075 | INFO     | nera.trainer:train:56 - [TRN] Epoch: 28, training loss: 2.181, training accuracy: 42.68% \n",
      "2024-02-26 15:46:09.145 | INFO     | nera.trainer:train:56 - [TRN] Epoch: 29, training loss: 2.178, training accuracy: 43.50% \n",
      "2024-02-26 15:46:09.215 | INFO     | nera.trainer:train:56 - [TRN] Epoch: 30, training loss: 2.175, training accuracy: 44.35% \n",
      "2024-02-26 15:46:09.292 | INFO     | nera.trainer:train:56 - [TRN] Epoch: 31, training loss: 2.171, training accuracy: 45.28% \n",
      "2024-02-26 15:46:09.365 | INFO     | nera.trainer:train:56 - [TRN] Epoch: 32, training loss: 2.167, training accuracy: 46.46% \n",
      "2024-02-26 15:46:09.435 | INFO     | nera.trainer:train:56 - [TRN] Epoch: 33, training loss: 2.164, training accuracy: 49.13% \n",
      "2024-02-26 15:46:09.504 | INFO     | nera.trainer:train:56 - [TRN] Epoch: 34, training loss: 2.159, training accuracy: 48.70% \n",
      "2024-02-26 15:46:09.574 | INFO     | nera.trainer:train:56 - [TRN] Epoch: 35, training loss: 2.155, training accuracy: 50.34% \n",
      "2024-02-26 15:46:09.644 | INFO     | nera.trainer:train:56 - [TRN] Epoch: 36, training loss: 2.149, training accuracy: 50.55% \n",
      "2024-02-26 15:46:09.715 | INFO     | nera.trainer:train:56 - [TRN] Epoch: 37, training loss: 2.146, training accuracy: 51.05% \n",
      "2024-02-26 15:46:09.789 | INFO     | nera.trainer:train:56 - [TRN] Epoch: 38, training loss: 2.144, training accuracy: 51.48% \n",
      "2024-02-26 15:46:09.860 | INFO     | nera.trainer:train:56 - [TRN] Epoch: 39, training loss: 2.136, training accuracy: 51.91% \n",
      "2024-02-26 15:46:09.930 | INFO     | nera.trainer:train:56 - [TRN] Epoch: 40, training loss: 2.130, training accuracy: 52.62% \n",
      "2024-02-26 15:46:09.999 | INFO     | nera.trainer:train:56 - [TRN] Epoch: 41, training loss: 2.126, training accuracy: 52.87% \n",
      "2024-02-26 15:46:10.068 | INFO     | nera.trainer:train:56 - [TRN] Epoch: 42, training loss: 2.117, training accuracy: 53.30% \n",
      "2024-02-26 15:46:10.140 | INFO     | nera.trainer:train:56 - [TRN] Epoch: 43, training loss: 2.115, training accuracy: 53.65% \n",
      "2024-02-26 15:46:10.215 | INFO     | nera.trainer:train:56 - [TRN] Epoch: 44, training loss: 2.108, training accuracy: 54.04% \n",
      "2024-02-26 15:46:10.302 | INFO     | nera.trainer:train:56 - [TRN] Epoch: 45, training loss: 2.105, training accuracy: 53.87% \n",
      "2024-02-26 15:46:10.382 | INFO     | nera.trainer:train:56 - [TRN] Epoch: 46, training loss: 2.099, training accuracy: 53.51% \n",
      "2024-02-26 15:46:10.458 | INFO     | nera.trainer:train:56 - [TRN] Epoch: 47, training loss: 2.092, training accuracy: 54.11% \n",
      "2024-02-26 15:46:10.533 | INFO     | nera.trainer:train:56 - [TRN] Epoch: 48, training loss: 2.088, training accuracy: 54.19% \n",
      "2024-02-26 15:46:10.613 | INFO     | nera.trainer:train:56 - [TRN] Epoch: 49, training loss: 2.089, training accuracy: 52.97% \n",
      "2024-02-26 15:46:10.683 | INFO     | nera.trainer:train:56 - [TRN] Epoch: 50, training loss: 2.078, training accuracy: 53.97% \n",
      "2024-02-26 15:46:10.768 | INFO     | nera.trainer:train:56 - [TRN] Epoch: 51, training loss: 2.077, training accuracy: 52.73% \n",
      "2024-02-26 15:46:10.840 | INFO     | nera.trainer:train:56 - [TRN] Epoch: 52, training loss: 2.072, training accuracy: 54.01% \n",
      "2024-02-26 15:46:10.910 | INFO     | nera.trainer:train:56 - [TRN] Epoch: 53, training loss: 2.067, training accuracy: 53.76% \n",
      "2024-02-26 15:46:10.979 | INFO     | nera.trainer:train:56 - [TRN] Epoch: 54, training loss: 2.057, training accuracy: 54.79% \n",
      "2024-02-26 15:46:11.048 | INFO     | nera.trainer:train:56 - [TRN] Epoch: 55, training loss: 2.055, training accuracy: 53.90% \n",
      "2024-02-26 15:46:11.119 | INFO     | nera.trainer:train:56 - [TRN] Epoch: 56, training loss: 2.055, training accuracy: 52.90% \n",
      "2024-02-26 15:46:11.194 | INFO     | nera.trainer:train:56 - [TRN] Epoch: 57, training loss: 2.049, training accuracy: 53.54% \n",
      "2024-02-26 15:46:11.272 | INFO     | nera.trainer:train:56 - [TRN] Epoch: 58, training loss: 2.042, training accuracy: 53.47% \n",
      "2024-02-26 15:46:11.351 | INFO     | nera.trainer:train:56 - [TRN] Epoch: 59, training loss: 2.038, training accuracy: 53.79% \n",
      "2024-02-26 15:46:11.427 | INFO     | nera.trainer:train:56 - [TRN] Epoch: 60, training loss: 2.031, training accuracy: 53.62% \n",
      "2024-02-26 15:46:11.501 | INFO     | nera.trainer:train:56 - [TRN] Epoch: 61, training loss: 2.026, training accuracy: 53.69% \n",
      "2024-02-26 15:46:11.575 | INFO     | nera.trainer:train:56 - [TRN] Epoch: 62, training loss: 2.014, training accuracy: 54.61% \n",
      "2024-02-26 15:46:11.645 | INFO     | nera.trainer:train:56 - [TRN] Epoch: 63, training loss: 2.013, training accuracy: 54.51% \n",
      "2024-02-26 15:46:11.715 | INFO     | nera.trainer:train:56 - [TRN] Epoch: 64, training loss: 2.004, training accuracy: 54.51% \n",
      "2024-02-26 15:46:11.792 | INFO     | nera.trainer:train:56 - [TRN] Epoch: 65, training loss: 2.002, training accuracy: 55.40% \n",
      "2024-02-26 15:46:11.875 | INFO     | nera.trainer:train:56 - [TRN] Epoch: 66, training loss: 2.008, training accuracy: 53.65% \n",
      "2024-02-26 15:46:11.951 | INFO     | nera.trainer:train:56 - [TRN] Epoch: 67, training loss: 1.995, training accuracy: 54.72% \n",
      "2024-02-26 15:46:12.021 | INFO     | nera.trainer:train:56 - [TRN] Epoch: 68, training loss: 1.997, training accuracy: 54.86% \n",
      "2024-02-26 15:46:12.091 | INFO     | nera.trainer:train:56 - [TRN] Epoch: 69, training loss: 2.002, training accuracy: 53.94% \n",
      "2024-02-26 15:46:12.161 | INFO     | nera.trainer:train:56 - [TRN] Epoch: 70, training loss: 1.987, training accuracy: 54.79% \n",
      "2024-02-26 15:46:12.236 | INFO     | nera.trainer:train:56 - [TRN] Epoch: 71, training loss: 1.994, training accuracy: 53.94% \n",
      "2024-02-26 15:46:12.316 | INFO     | nera.trainer:train:56 - [TRN] Epoch: 72, training loss: 1.990, training accuracy: 53.76% \n",
      "2024-02-26 15:46:12.393 | INFO     | nera.trainer:train:56 - [TRN] Epoch: 73, training loss: 1.989, training accuracy: 53.79% \n",
      "2024-02-26 15:46:12.464 | INFO     | nera.trainer:train:56 - [TRN] Epoch: 74, training loss: 1.988, training accuracy: 54.44% \n",
      "2024-02-26 15:46:12.534 | INFO     | nera.trainer:train:56 - [TRN] Epoch: 75, training loss: 1.973, training accuracy: 54.97% \n",
      "2024-02-26 15:46:12.605 | INFO     | nera.trainer:train:56 - [TRN] Epoch: 76, training loss: 1.985, training accuracy: 54.01% \n",
      "2024-02-26 15:46:12.676 | INFO     | nera.trainer:train:56 - [TRN] Epoch: 77, training loss: 1.984, training accuracy: 54.15% \n",
      "2024-02-26 15:46:12.745 | INFO     | nera.trainer:train:56 - [TRN] Epoch: 78, training loss: 1.987, training accuracy: 53.62% \n",
      "2024-02-26 15:46:12.819 | INFO     | nera.trainer:train:56 - [TRN] Epoch: 79, training loss: 1.975, training accuracy: 54.76% \n",
      "2024-02-26 15:46:12.893 | INFO     | nera.trainer:train:56 - [TRN] Epoch: 80, training loss: 1.975, training accuracy: 54.47% \n",
      "2024-02-26 15:46:12.964 | INFO     | nera.trainer:train:56 - [TRN] Epoch: 81, training loss: 1.980, training accuracy: 54.01% \n",
      "2024-02-26 15:46:13.038 | INFO     | nera.trainer:train:56 - [TRN] Epoch: 82, training loss: 1.971, training accuracy: 54.72% \n",
      "2024-02-26 15:46:13.111 | INFO     | nera.trainer:train:56 - [TRN] Epoch: 83, training loss: 1.979, training accuracy: 54.04% \n",
      "2024-02-26 15:46:13.187 | INFO     | nera.trainer:train:56 - [TRN] Epoch: 84, training loss: 1.979, training accuracy: 54.40% \n",
      "2024-02-26 15:46:13.261 | INFO     | nera.trainer:train:56 - [TRN] Epoch: 85, training loss: 1.977, training accuracy: 54.58% \n",
      "2024-02-26 15:46:13.348 | INFO     | nera.trainer:train:56 - [TRN] Epoch: 86, training loss: 1.968, training accuracy: 55.01% \n",
      "2024-02-26 15:46:13.428 | INFO     | nera.trainer:train:56 - [TRN] Epoch: 87, training loss: 1.951, training accuracy: 55.58% \n",
      "2024-02-26 15:46:13.504 | INFO     | nera.trainer:train:56 - [TRN] Epoch: 88, training loss: 1.973, training accuracy: 54.01% \n",
      "2024-02-26 15:46:13.580 | INFO     | nera.trainer:train:56 - [TRN] Epoch: 89, training loss: 1.967, training accuracy: 54.29% \n",
      "2024-02-26 15:46:13.656 | INFO     | nera.trainer:train:56 - [TRN] Epoch: 90, training loss: 1.977, training accuracy: 53.97% \n",
      "2024-02-26 15:46:13.732 | INFO     | nera.trainer:train:56 - [TRN] Epoch: 91, training loss: 1.973, training accuracy: 54.29% \n",
      "2024-02-26 15:46:13.810 | INFO     | nera.trainer:train:56 - [TRN] Epoch: 92, training loss: 1.961, training accuracy: 54.61% \n",
      "2024-02-26 15:46:13.885 | INFO     | nera.trainer:train:56 - [TRN] Epoch: 93, training loss: 1.960, training accuracy: 53.83% \n",
      "2024-02-26 15:46:13.957 | INFO     | nera.trainer:train:56 - [TRN] Epoch: 94, training loss: 1.966, training accuracy: 54.08% \n",
      "2024-02-26 15:46:14.027 | INFO     | nera.trainer:train:56 - [TRN] Epoch: 95, training loss: 1.971, training accuracy: 53.69% \n",
      "2024-02-26 15:46:14.098 | INFO     | nera.trainer:train:56 - [TRN] Epoch: 96, training loss: 1.969, training accuracy: 52.76% \n",
      "2024-02-26 15:46:14.168 | INFO     | nera.trainer:train:56 - [TRN] Epoch: 97, training loss: 1.977, training accuracy: 52.90% \n",
      "2024-02-26 15:46:14.238 | INFO     | nera.trainer:train:56 - [TRN] Epoch: 98, training loss: 1.962, training accuracy: 54.61% \n",
      "2024-02-26 15:46:14.307 | INFO     | nera.trainer:train:56 - [TRN] Epoch: 99, training loss: 1.966, training accuracy: 53.72% \n"
     ]
    }
   ],
   "source": [
    "trainer = Trainer(dataset, model)\n",
    "training_accuracy = trainer.train(epochs=100, verbose=True)"
   ],
   "metadata": {
    "collapsed": false,
    "ExecuteTime": {
     "end_time": "2024-02-26T14:46:14.314531879Z",
     "start_time": "2024-02-26T14:46:06.673696700Z"
    }
   },
   "id": "d86fc1ad086011d4",
   "execution_count": 14
  },
  {
   "cell_type": "markdown",
   "source": [
    "Let's visualize trainning accuracy over time"
   ],
   "metadata": {
    "collapsed": false
   },
   "id": "be9e7cdda66ec3dc"
  },
  {
   "cell_type": "code",
   "outputs": [
    {
     "data": {
      "text/plain": "<Figure size 640x480 with 1 Axes>",
      "image/png": "[encoded data removed]"
     },
     "metadata": {},
     "output_type": "display_data"
    }
   ],
   "source": [
    "import matplotlib.pyplot as plt\n",
    "ax = sns.lineplot(x=\"index\", y=\"training_accuracy\", data=pd.DataFrame(training_accuracy, columns=[\"training_accuracy\"]).reset_index())\n",
    "ax.set(xlabel=\"Epoch\")\n",
    "plt.show()"
   ],
   "metadata": {
    "collapsed": false,
    "ExecuteTime": {
     "end_time": "2024-02-26T14:46:15.866279277Z",
     "start_time": "2024-02-26T14:46:15.644076886Z"
    }
   },
   "id": "83beef0bc77755e9",
   "execution_count": 15
  },
  {
   "cell_type": "markdown",
   "source": [
    "### 2.2 Testing"
   ],
   "metadata": {
    "collapsed": false
   },
   "id": "6b982d401f47cf95"
  },
  {
   "cell_type": "code",
   "outputs": [
    {
     "name": "stderr",
     "output_type": "stream",
     "text": [
      "2024-02-26 15:46:19.178 | INFO     | nera.trainer:test:75 - [TST] Testing accuracy: 59.48%\n"
     ]
    },
    {
     "data": {
      "text/plain": "0.5947819740923189"
     },
     "execution_count": 16,
     "metadata": {},
     "output_type": "execute_result"
    }
   ],
   "source": [
    "trainer.test(verbose=True)"
   ],
   "metadata": {
    "collapsed": false,
    "ExecuteTime": {
     "end_time": "2024-02-26T14:46:19.183066797Z",
     "start_time": "2024-02-26T14:46:18.963427811Z"
    }
   },
   "id": "687d2eaba703a4a7",
   "execution_count": 16
  }
 ],
 "metadata": {
  "kernelspec": {
   "display_name": "Python 3",
   "language": "python",
   "name": "python3"
  },
  "language_info": {
   "codemirror_mode": {
    "name": "ipython",
    "version": 2
   },
   "file_extension": ".py",
   "mimetype": "text/x-python",
   "name": "python",
   "nbconvert_exporter": "python",
   "pygments_lexer": "ipython2",
   "version": "2.7.6"
  }
 },
 "nbformat": 4,
 "nbformat_minor": 5
}
