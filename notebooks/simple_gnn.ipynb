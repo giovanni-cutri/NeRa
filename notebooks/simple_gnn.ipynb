{
 "cells": [
  {
   "cell_type": "code",
   "execution_count": 5,
   "id": "initial_id",
   "metadata": {
    "collapsed": true,
    "ExecuteTime": {
     "end_time": "2024-02-26T14:50:19.970656845Z",
     "start_time": "2024-02-26T14:50:19.852345818Z"
    }
   },
   "source": [
    "import pandas as pd\n",
    "from datetime import timedelta\n",
    "import seaborn as sns\n",
    "import matplotlib.pyplot as plt\n",
    "\n",
    "from nera.data_management.data_acquisition import DataAcquisition\n",
    "from nera.data_management.data_transformation import DataTransformation\n",
    "from nera.data_management import FROM_CSV\n",
    "from nera.models.gnn import GCONVCheb\n",
    "from nera.trainer import Trainer\n",
    "\n"
   ],
   "outputs": []
  },
  {
   "cell_type": "markdown",
   "source": [
    "### Data preparation"
   ],
   "metadata": {
    "collapsed": false
   },
   "id": "e0c314d5ba3367ad"
  },
  {
   "cell_type": "code",
   "source": [
    "da = DataAcquisition()\n",
    "df = da.get_data(FROM_CSV, fname=\"../resources/other_leagues.csv\")\n",
    "df['DT'] = pd.to_datetime(df['DT'], format=\"%Y-%m-%d %H:%M:%S\")\n",
    "data_transform = DataTransformation(df, timedelta(365))\n",
    "df = df[(df['League'] != 'EuroLeague') & (df['League'] != 'EuroCup')] \n",
    "df = df.reset_index()\n",
    "\n",
    "transform = DataTransformation(df, timedelta(365))\n",
    "dataset = transform.get_dataset(node_f_extract=False, edge_f_one_hot=True)\n",
    "\n",
    "team_count = transform.num_teams\n",
    "\n",
    "# We will use the default implemented setting: \n",
    "#\n",
    "# GCONVLSTM(self, team_count: int,\n",
    "#                 embed_dim: int = 10,\n",
    "#                 dense_dims: tuple[int] = (8, 8, 8, 8, 8),\n",
    "#                 conv_out_dim: int = 16,\n",
    "#                 dropout_rate: float = 0.1,\n",
    "#                 activation: str = 'relu',\n",
    "#                 K: int = 5):\n",
    "model = GCONVCheb(team_count)\n",
    "model"
   ],
   "metadata": {
    "collapsed": false,
    "ExecuteTime": {
     "end_time": "2024-02-26T14:50:24.582971989Z",
     "start_time": "2024-02-26T14:50:21.844862230Z"
    }
   },
   "id": "83bfa1be2b94851e",
   "execution_count": 6,
   "outputs": []
  },
  {
   "cell_type": "markdown",
   "source": [
    "### MODEL \n",
    "--------------------------------\n",
    "training:"
   ],
   "metadata": {
    "collapsed": false
   },
   "id": "1cf7a7f43099f4bc"
  },
  {
   "cell_type": "code",
   "source": [
    "trainer = Trainer(dataset, model)\n",
    "training_accuracy = trainer.train(epochs=100, verbose=True)\n",
    "\n",
    "\n",
    "ax = sns.lineplot(x=\"index\", y=\"training_accuracy\", data=pd.DataFrame(training_accuracy, columns=[\"training_accuracy\"]).reset_index())\n",
    "ax.set(xlabel=\"Epoch\")\n",
    "plt.show()"
   ],
   "metadata": {
    "collapsed": false,
    "ExecuteTime": {
     "end_time": "2024-02-26T14:50:34.656105570Z",
     "start_time": "2024-02-26T14:50:27.862465559Z"
    }
   },
   "id": "d1ccb54eb5a82b42",
   "execution_count": 7,
   "outputs": []
  },
  {
   "cell_type": "markdown",
   "source": [
    "Testing:"
   ],
   "metadata": {
    "collapsed": false
   },
   "id": "40192b60c689c006"
  },
  {
   "cell_type": "code",
   "source": [
    "trainer.test(verbose=True)"
   ],
   "metadata": {
    "collapsed": false,
    "ExecuteTime": {
     "end_time": "2024-02-26T14:50:39.801059342Z",
     "start_time": "2024-02-26T14:50:39.509086648Z"
    }
   },
   "id": "3e0f10e998a22e87",
   "execution_count": 8,
   "outputs": []
  }
 ],
 "metadata": {
  "kernelspec": {
   "display_name": "Python 3",
   "language": "python",
   "name": "python3"
  },
  "language_info": {
   "codemirror_mode": {
    "name": "ipython",
    "version": 2
   },
   "file_extension": ".py",
   "mimetype": "text/x-python",
   "name": "python",
   "nbconvert_exporter": "python",
   "pygments_lexer": "ipython2",
   "version": "2.7.6"
  }
 },
 "nbformat": 4,
 "nbformat_minor": 5
}
