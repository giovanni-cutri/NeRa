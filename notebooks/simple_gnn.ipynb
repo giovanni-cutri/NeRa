{
 "cells": [
  {
   "cell_type": "code",
   "execution_count": 5,
   "id": "initial_id",
   "metadata": {
    "collapsed": true,
    "ExecuteTime": {
     "end_time": "2024-02-26T14:50:19.970656845Z",
     "start_time": "2024-02-26T14:50:19.852345818Z"
    }
   },
   "outputs": [],
   "source": [
    "import pandas as pd\n",
    "from datetime import timedelta\n",
    "import seaborn as sns\n",
    "import matplotlib.pyplot as plt\n",
    "\n",
    "from nera.data_management.data_acquisition import DataAcquisition\n",
    "from nera.data_management.data_transformation import DataTransformation\n",
    "from nera.data_management import FROM_CSV\n",
    "from nera.models.gnn import GCONVCheb\n",
    "from nera.trainer import Trainer\n",
    "\n"
   ]
  },
  {
   "cell_type": "markdown",
   "source": [
    "### Data preparation"
   ],
   "metadata": {
    "collapsed": false
   },
   "id": "e0c314d5ba3367ad"
  },
  {
   "cell_type": "code",
   "outputs": [
    {
     "name": "stderr",
     "output_type": "stream",
     "text": [
      "2024-02-26 15:50:21.957 | INFO     | nera.data_management._data_saving_loading:load_data_csv:70 - 21100 rows loaded from ../resources/other_leagues.csv\n"
     ]
    },
    {
     "data": {
      "text/plain": "GCONVCheb(\n  (act_fn): ReLU()\n  (embedding): Embedding(146, 20)\n  (dense_sequence): Sequential(\n    (lin0): Linear(in_features=32, out_features=8, bias=True)\n    (act0): ReLU()\n    (dropout0): Dropout(p=0.1, inplace=False)\n    (lin1): Linear(in_features=8, out_features=8, bias=True)\n    (act1): ReLU()\n    (dropout1): Dropout(p=0.1, inplace=False)\n    (lin2): Linear(in_features=8, out_features=8, bias=True)\n    (act2): ReLU()\n    (dropout2): Dropout(p=0.1, inplace=False)\n    (lin3): Linear(in_features=8, out_features=8, bias=True)\n    (act3): ReLU()\n    (dropout3): Dropout(p=0.1, inplace=False)\n    (lin4): Linear(in_features=8, out_features=8, bias=True)\n    (act4): ReLU()\n    (dropout4): Dropout(p=0.1, inplace=False)\n    (lin5): Linear(in_features=8, out_features=3, bias=True)\n    (act5): ReLU()\n    (dropout5): Dropout(p=0.1, inplace=False)\n  )\n  (out_layer): Softmax(dim=1)\n)"
     },
     "execution_count": 6,
     "metadata": {},
     "output_type": "execute_result"
    }
   ],
   "source": [
    "da = DataAcquisition()\n",
    "df = da.get_data(FROM_CSV, fname=\"../resources/other_leagues.csv\")\n",
    "df['DT'] = pd.to_datetime(df['DT'], format=\"%Y-%m-%d %H:%M:%S\")\n",
    "data_transform = DataTransformation(df, timedelta(365))\n",
    "df = df[(df['League'] != 'EuroLeague') & (df['League'] != 'EuroCup')] \n",
    "df = df.reset_index()\n",
    "\n",
    "transform = DataTransformation(df, timedelta(365))\n",
    "dataset = transform.get_dataset(node_f_extract=False, edge_f_one_hot=True)\n",
    "\n",
    "team_count = transform.num_teams\n",
    "\n",
    "# We will use the default implemented setting: \n",
    "#\n",
    "# GCONVLSTM(self, team_count: int,\n",
    "#                 embed_dim: int = 10,\n",
    "#                 dense_dims: tuple[int] = (8, 8, 8, 8, 8),\n",
    "#                 conv_out_dim: int = 16,\n",
    "#                 dropout_rate: float = 0.1,\n",
    "#                 activation: str = 'relu',\n",
    "#                 K: int = 5):\n",
    "model = GCONVCheb(team_count)\n",
    "model"
   ],
   "metadata": {
    "collapsed": false,
    "ExecuteTime": {
     "end_time": "2024-02-26T14:50:24.582971989Z",
     "start_time": "2024-02-26T14:50:21.844862230Z"
    }
   },
   "id": "83bfa1be2b94851e",
   "execution_count": 6
  },
  {
   "cell_type": "markdown",
   "source": [
    "### MODEL \n",
    "--------------------------------\n",
    "training:"
   ],
   "metadata": {
    "collapsed": false
   },
   "id": "1cf7a7f43099f4bc"
  },
  {
   "cell_type": "code",
   "outputs": [
    {
     "name": "stderr",
     "output_type": "stream",
     "text": [
      "2024-02-26 15:50:28.013 | INFO     | nera.trainer:train:56 - [TRN] Epoch: 0, training loss: 2.193, training accuracy: 43.85% \n",
      "2024-02-26 15:50:28.084 | INFO     | nera.trainer:train:56 - [TRN] Epoch: 1, training loss: 2.194, training accuracy: 43.85% \n",
      "2024-02-26 15:50:28.160 | INFO     | nera.trainer:train:56 - [TRN] Epoch: 2, training loss: 2.194, training accuracy: 43.85% \n",
      "2024-02-26 15:50:28.237 | INFO     | nera.trainer:train:56 - [TRN] Epoch: 3, training loss: 2.193, training accuracy: 43.85% \n",
      "2024-02-26 15:50:28.303 | INFO     | nera.trainer:train:56 - [TRN] Epoch: 4, training loss: 2.191, training accuracy: 43.85% \n",
      "2024-02-26 15:50:28.370 | INFO     | nera.trainer:train:56 - [TRN] Epoch: 5, training loss: 2.192, training accuracy: 43.85% \n",
      "2024-02-26 15:50:28.440 | INFO     | nera.trainer:train:56 - [TRN] Epoch: 6, training loss: 2.190, training accuracy: 43.85% \n",
      "2024-02-26 15:50:28.509 | INFO     | nera.trainer:train:56 - [TRN] Epoch: 7, training loss: 2.189, training accuracy: 43.85% \n",
      "2024-02-26 15:50:28.575 | INFO     | nera.trainer:train:56 - [TRN] Epoch: 8, training loss: 2.189, training accuracy: 43.85% \n",
      "2024-02-26 15:50:28.646 | INFO     | nera.trainer:train:56 - [TRN] Epoch: 9, training loss: 2.189, training accuracy: 43.85% \n",
      "2024-02-26 15:50:28.717 | INFO     | nera.trainer:train:56 - [TRN] Epoch: 10, training loss: 2.186, training accuracy: 43.85% \n",
      "2024-02-26 15:50:28.782 | INFO     | nera.trainer:train:56 - [TRN] Epoch: 11, training loss: 2.187, training accuracy: 43.85% \n",
      "2024-02-26 15:50:28.845 | INFO     | nera.trainer:train:56 - [TRN] Epoch: 12, training loss: 2.187, training accuracy: 43.85% \n",
      "2024-02-26 15:50:28.918 | INFO     | nera.trainer:train:56 - [TRN] Epoch: 13, training loss: 2.188, training accuracy: 43.85% \n",
      "2024-02-26 15:50:29.002 | INFO     | nera.trainer:train:56 - [TRN] Epoch: 14, training loss: 2.187, training accuracy: 43.85% \n",
      "2024-02-26 15:50:29.077 | INFO     | nera.trainer:train:56 - [TRN] Epoch: 15, training loss: 2.187, training accuracy: 43.85% \n",
      "2024-02-26 15:50:29.145 | INFO     | nera.trainer:train:56 - [TRN] Epoch: 16, training loss: 2.182, training accuracy: 43.85% \n",
      "2024-02-26 15:50:29.209 | INFO     | nera.trainer:train:56 - [TRN] Epoch: 17, training loss: 2.183, training accuracy: 43.85% \n",
      "2024-02-26 15:50:29.271 | INFO     | nera.trainer:train:56 - [TRN] Epoch: 18, training loss: 2.184, training accuracy: 43.85% \n",
      "2024-02-26 15:50:29.339 | INFO     | nera.trainer:train:56 - [TRN] Epoch: 19, training loss: 2.189, training accuracy: 43.85% \n",
      "2024-02-26 15:50:29.405 | INFO     | nera.trainer:train:56 - [TRN] Epoch: 20, training loss: 2.184, training accuracy: 43.85% \n",
      "2024-02-26 15:50:29.472 | INFO     | nera.trainer:train:56 - [TRN] Epoch: 21, training loss: 2.178, training accuracy: 43.85% \n",
      "2024-02-26 15:50:29.542 | INFO     | nera.trainer:train:56 - [TRN] Epoch: 22, training loss: 2.187, training accuracy: 43.85% \n",
      "2024-02-26 15:50:29.609 | INFO     | nera.trainer:train:56 - [TRN] Epoch: 23, training loss: 2.184, training accuracy: 43.85% \n",
      "2024-02-26 15:50:29.677 | INFO     | nera.trainer:train:56 - [TRN] Epoch: 24, training loss: 2.184, training accuracy: 43.85% \n",
      "2024-02-26 15:50:29.739 | INFO     | nera.trainer:train:56 - [TRN] Epoch: 25, training loss: 2.178, training accuracy: 43.85% \n",
      "2024-02-26 15:50:29.803 | INFO     | nera.trainer:train:56 - [TRN] Epoch: 26, training loss: 2.185, training accuracy: 43.85% \n",
      "2024-02-26 15:50:29.869 | INFO     | nera.trainer:train:56 - [TRN] Epoch: 27, training loss: 2.177, training accuracy: 43.85% \n",
      "2024-02-26 15:50:29.935 | INFO     | nera.trainer:train:56 - [TRN] Epoch: 28, training loss: 2.180, training accuracy: 43.85% \n",
      "2024-02-26 15:50:30.001 | INFO     | nera.trainer:train:56 - [TRN] Epoch: 29, training loss: 2.181, training accuracy: 43.85% \n",
      "2024-02-26 15:50:30.066 | INFO     | nera.trainer:train:56 - [TRN] Epoch: 30, training loss: 2.175, training accuracy: 43.85% \n",
      "2024-02-26 15:50:30.137 | INFO     | nera.trainer:train:56 - [TRN] Epoch: 31, training loss: 2.181, training accuracy: 43.85% \n",
      "2024-02-26 15:50:30.202 | INFO     | nera.trainer:train:56 - [TRN] Epoch: 32, training loss: 2.172, training accuracy: 43.85% \n",
      "2024-02-26 15:50:30.270 | INFO     | nera.trainer:train:56 - [TRN] Epoch: 33, training loss: 2.175, training accuracy: 43.85% \n",
      "2024-02-26 15:50:30.335 | INFO     | nera.trainer:train:56 - [TRN] Epoch: 34, training loss: 2.174, training accuracy: 43.85% \n",
      "2024-02-26 15:50:30.403 | INFO     | nera.trainer:train:56 - [TRN] Epoch: 35, training loss: 2.176, training accuracy: 43.85% \n",
      "2024-02-26 15:50:30.469 | INFO     | nera.trainer:train:56 - [TRN] Epoch: 36, training loss: 2.175, training accuracy: 43.85% \n",
      "2024-02-26 15:50:30.535 | INFO     | nera.trainer:train:56 - [TRN] Epoch: 37, training loss: 2.173, training accuracy: 43.85% \n",
      "2024-02-26 15:50:30.603 | INFO     | nera.trainer:train:56 - [TRN] Epoch: 38, training loss: 2.172, training accuracy: 43.85% \n",
      "2024-02-26 15:50:30.667 | INFO     | nera.trainer:train:56 - [TRN] Epoch: 39, training loss: 2.176, training accuracy: 43.85% \n",
      "2024-02-26 15:50:30.726 | INFO     | nera.trainer:train:56 - [TRN] Epoch: 40, training loss: 2.171, training accuracy: 43.58% \n",
      "2024-02-26 15:50:30.786 | INFO     | nera.trainer:train:56 - [TRN] Epoch: 41, training loss: 2.179, training accuracy: 43.85% \n",
      "2024-02-26 15:50:30.847 | INFO     | nera.trainer:train:56 - [TRN] Epoch: 42, training loss: 2.170, training accuracy: 43.85% \n",
      "2024-02-26 15:50:30.908 | INFO     | nera.trainer:train:56 - [TRN] Epoch: 43, training loss: 2.176, training accuracy: 43.85% \n",
      "2024-02-26 15:50:30.976 | INFO     | nera.trainer:train:56 - [TRN] Epoch: 44, training loss: 2.163, training accuracy: 43.58% \n",
      "2024-02-26 15:50:31.040 | INFO     | nera.trainer:train:56 - [TRN] Epoch: 45, training loss: 2.159, training accuracy: 43.85% \n",
      "2024-02-26 15:50:31.103 | INFO     | nera.trainer:train:56 - [TRN] Epoch: 46, training loss: 2.163, training accuracy: 43.30% \n",
      "2024-02-26 15:50:31.164 | INFO     | nera.trainer:train:56 - [TRN] Epoch: 47, training loss: 2.168, training accuracy: 42.74% \n",
      "2024-02-26 15:50:31.225 | INFO     | nera.trainer:train:56 - [TRN] Epoch: 48, training loss: 2.172, training accuracy: 43.85% \n",
      "2024-02-26 15:50:31.285 | INFO     | nera.trainer:train:56 - [TRN] Epoch: 49, training loss: 2.162, training accuracy: 44.13% \n",
      "2024-02-26 15:50:31.346 | INFO     | nera.trainer:train:56 - [TRN] Epoch: 50, training loss: 2.150, training accuracy: 44.13% \n",
      "2024-02-26 15:50:31.408 | INFO     | nera.trainer:train:56 - [TRN] Epoch: 51, training loss: 2.153, training accuracy: 44.13% \n",
      "2024-02-26 15:50:31.472 | INFO     | nera.trainer:train:56 - [TRN] Epoch: 52, training loss: 2.151, training accuracy: 44.13% \n",
      "2024-02-26 15:50:31.537 | INFO     | nera.trainer:train:56 - [TRN] Epoch: 53, training loss: 2.131, training accuracy: 44.13% \n",
      "2024-02-26 15:50:31.605 | INFO     | nera.trainer:train:56 - [TRN] Epoch: 54, training loss: 2.130, training accuracy: 44.41% \n",
      "2024-02-26 15:50:31.672 | INFO     | nera.trainer:train:56 - [TRN] Epoch: 55, training loss: 2.129, training accuracy: 43.85% \n",
      "2024-02-26 15:50:31.736 | INFO     | nera.trainer:train:56 - [TRN] Epoch: 56, training loss: 2.127, training accuracy: 43.58% \n",
      "2024-02-26 15:50:31.797 | INFO     | nera.trainer:train:56 - [TRN] Epoch: 57, training loss: 2.131, training accuracy: 44.13% \n",
      "2024-02-26 15:50:31.859 | INFO     | nera.trainer:train:56 - [TRN] Epoch: 58, training loss: 2.114, training accuracy: 41.62% \n",
      "2024-02-26 15:50:31.920 | INFO     | nera.trainer:train:56 - [TRN] Epoch: 59, training loss: 2.091, training accuracy: 45.81% \n",
      "2024-02-26 15:50:31.981 | INFO     | nera.trainer:train:56 - [TRN] Epoch: 60, training loss: 2.087, training accuracy: 43.02% \n",
      "2024-02-26 15:50:32.046 | INFO     | nera.trainer:train:56 - [TRN] Epoch: 61, training loss: 2.089, training accuracy: 44.13% \n",
      "2024-02-26 15:50:32.107 | INFO     | nera.trainer:train:56 - [TRN] Epoch: 62, training loss: 2.114, training accuracy: 45.25% \n",
      "2024-02-26 15:50:32.167 | INFO     | nera.trainer:train:56 - [TRN] Epoch: 63, training loss: 2.100, training accuracy: 47.21% \n",
      "2024-02-26 15:50:32.228 | INFO     | nera.trainer:train:56 - [TRN] Epoch: 64, training loss: 2.099, training accuracy: 44.13% \n",
      "2024-02-26 15:50:32.289 | INFO     | nera.trainer:train:56 - [TRN] Epoch: 65, training loss: 2.129, training accuracy: 44.69% \n",
      "2024-02-26 15:50:32.354 | INFO     | nera.trainer:train:56 - [TRN] Epoch: 66, training loss: 2.087, training accuracy: 44.13% \n",
      "2024-02-26 15:50:32.416 | INFO     | nera.trainer:train:56 - [TRN] Epoch: 67, training loss: 2.096, training accuracy: 46.37% \n",
      "2024-02-26 15:50:32.479 | INFO     | nera.trainer:train:56 - [TRN] Epoch: 68, training loss: 2.141, training accuracy: 44.97% \n",
      "2024-02-26 15:50:32.549 | INFO     | nera.trainer:train:56 - [TRN] Epoch: 69, training loss: 2.090, training accuracy: 42.18% \n",
      "2024-02-26 15:50:32.610 | INFO     | nera.trainer:train:56 - [TRN] Epoch: 70, training loss: 2.047, training accuracy: 44.41% \n",
      "2024-02-26 15:50:32.679 | INFO     | nera.trainer:train:56 - [TRN] Epoch: 71, training loss: 2.095, training accuracy: 44.69% \n",
      "2024-02-26 15:50:32.738 | INFO     | nera.trainer:train:56 - [TRN] Epoch: 72, training loss: 2.031, training accuracy: 46.37% \n",
      "2024-02-26 15:50:32.797 | INFO     | nera.trainer:train:56 - [TRN] Epoch: 73, training loss: 2.030, training accuracy: 47.49% \n",
      "2024-02-26 15:50:32.859 | INFO     | nera.trainer:train:56 - [TRN] Epoch: 74, training loss: 2.106, training accuracy: 43.58% \n",
      "2024-02-26 15:50:32.921 | INFO     | nera.trainer:train:56 - [TRN] Epoch: 75, training loss: 2.037, training accuracy: 48.04% \n",
      "2024-02-26 15:50:32.987 | INFO     | nera.trainer:train:56 - [TRN] Epoch: 76, training loss: 2.016, training accuracy: 46.37% \n",
      "2024-02-26 15:50:33.055 | INFO     | nera.trainer:train:56 - [TRN] Epoch: 77, training loss: 2.020, training accuracy: 46.93% \n",
      "2024-02-26 15:50:33.119 | INFO     | nera.trainer:train:56 - [TRN] Epoch: 78, training loss: 2.003, training accuracy: 44.41% \n",
      "2024-02-26 15:50:33.186 | INFO     | nera.trainer:train:56 - [TRN] Epoch: 79, training loss: 1.997, training accuracy: 45.53% \n",
      "2024-02-26 15:50:33.248 | INFO     | nera.trainer:train:56 - [TRN] Epoch: 80, training loss: 1.998, training accuracy: 44.97% \n",
      "2024-02-26 15:50:33.308 | INFO     | nera.trainer:train:56 - [TRN] Epoch: 81, training loss: 2.024, training accuracy: 48.04% \n",
      "2024-02-26 15:50:33.370 | INFO     | nera.trainer:train:56 - [TRN] Epoch: 82, training loss: 2.024, training accuracy: 45.81% \n",
      "2024-02-26 15:50:33.434 | INFO     | nera.trainer:train:56 - [TRN] Epoch: 83, training loss: 2.094, training accuracy: 43.02% \n",
      "2024-02-26 15:50:33.498 | INFO     | nera.trainer:train:56 - [TRN] Epoch: 84, training loss: 2.012, training accuracy: 46.93% \n",
      "2024-02-26 15:50:33.567 | INFO     | nera.trainer:train:56 - [TRN] Epoch: 85, training loss: 2.010, training accuracy: 47.49% \n",
      "2024-02-26 15:50:33.633 | INFO     | nera.trainer:train:56 - [TRN] Epoch: 86, training loss: 2.078, training accuracy: 42.74% \n",
      "2024-02-26 15:50:33.693 | INFO     | nera.trainer:train:56 - [TRN] Epoch: 87, training loss: 1.969, training accuracy: 51.40% \n",
      "2024-02-26 15:50:33.756 | INFO     | nera.trainer:train:56 - [TRN] Epoch: 88, training loss: 1.990, training accuracy: 54.47% \n",
      "2024-02-26 15:50:33.816 | INFO     | nera.trainer:train:56 - [TRN] Epoch: 89, training loss: 2.047, training accuracy: 48.88% \n",
      "2024-02-26 15:50:33.886 | INFO     | nera.trainer:train:56 - [TRN] Epoch: 90, training loss: 1.961, training accuracy: 50.84% \n",
      "2024-02-26 15:50:33.950 | INFO     | nera.trainer:train:56 - [TRN] Epoch: 91, training loss: 2.020, training accuracy: 50.00% \n",
      "2024-02-26 15:50:34.015 | INFO     | nera.trainer:train:56 - [TRN] Epoch: 92, training loss: 1.996, training accuracy: 52.79% \n",
      "2024-02-26 15:50:34.078 | INFO     | nera.trainer:train:56 - [TRN] Epoch: 93, training loss: 2.084, training accuracy: 49.72% \n",
      "2024-02-26 15:50:34.150 | INFO     | nera.trainer:train:56 - [TRN] Epoch: 94, training loss: 1.991, training accuracy: 50.00% \n",
      "2024-02-26 15:50:34.214 | INFO     | nera.trainer:train:56 - [TRN] Epoch: 95, training loss: 1.977, training accuracy: 52.23% \n",
      "2024-02-26 15:50:34.277 | INFO     | nera.trainer:train:56 - [TRN] Epoch: 96, training loss: 2.053, training accuracy: 53.35% \n",
      "2024-02-26 15:50:34.339 | INFO     | nera.trainer:train:56 - [TRN] Epoch: 97, training loss: 1.961, training accuracy: 53.63% \n",
      "2024-02-26 15:50:34.402 | INFO     | nera.trainer:train:56 - [TRN] Epoch: 98, training loss: 2.014, training accuracy: 53.63% \n",
      "2024-02-26 15:50:34.470 | INFO     | nera.trainer:train:56 - [TRN] Epoch: 99, training loss: 2.007, training accuracy: 51.40% \n"
     ]
    },
    {
     "data": {
      "text/plain": "<Figure size 640x480 with 1 Axes>",
      "image/png": "[encoded data removed]"
     },
     "metadata": {},
     "output_type": "display_data"
    }
   ],
   "source": [
    "trainer = Trainer(dataset, model)\n",
    "training_accuracy = trainer.train(epochs=100, verbose=True)\n",
    "\n",
    "\n",
    "ax = sns.lineplot(x=\"index\", y=\"training_accuracy\", data=pd.DataFrame(training_accuracy, columns=[\"training_accuracy\"]).reset_index())\n",
    "ax.set(xlabel=\"Epoch\")\n",
    "plt.show()"
   ],
   "metadata": {
    "collapsed": false,
    "ExecuteTime": {
     "end_time": "2024-02-26T14:50:34.656105570Z",
     "start_time": "2024-02-26T14:50:27.862465559Z"
    }
   },
   "id": "d1ccb54eb5a82b42",
   "execution_count": 7
  },
  {
   "cell_type": "markdown",
   "source": [
    "Testing:"
   ],
   "metadata": {
    "collapsed": false
   },
   "id": "40192b60c689c006"
  },
  {
   "cell_type": "code",
   "outputs": [
    {
     "name": "stderr",
     "output_type": "stream",
     "text": [
      "2024-02-26 15:50:39.794 | INFO     | nera.trainer:test:75 - [TST] Testing accuracy: 58.57%\n"
     ]
    },
    {
     "data": {
      "text/plain": "0.5857058320731146"
     },
     "execution_count": 8,
     "metadata": {},
     "output_type": "execute_result"
    }
   ],
   "source": [
    "trainer.test(verbose=True)"
   ],
   "metadata": {
    "collapsed": false,
    "ExecuteTime": {
     "end_time": "2024-02-26T14:50:39.801059342Z",
     "start_time": "2024-02-26T14:50:39.509086648Z"
    }
   },
   "id": "3e0f10e998a22e87",
   "execution_count": 8
  }
 ],
 "metadata": {
  "kernelspec": {
   "display_name": "Python 3",
   "language": "python",
   "name": "python3"
  },
  "language_info": {
   "codemirror_mode": {
    "name": "ipython",
    "version": 2
   },
   "file_extension": ".py",
   "mimetype": "text/x-python",
   "name": "python",
   "nbconvert_exporter": "python",
   "pygments_lexer": "ipython2",
   "version": "2.7.6"
  }
 },
 "nbformat": 4,
 "nbformat_minor": 5
}
